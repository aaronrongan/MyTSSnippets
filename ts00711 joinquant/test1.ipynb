{
 "cells": [
  {
   "cell_type": "code",
   "execution_count": 2,
   "metadata": {},
   "outputs": [
    {
     "ename": "NameError",
     "evalue": "name 'auth' is not defined",
     "output_type": "error",
     "traceback": [
      "\u001b[1;31m---------------------------------------------------------------------------\u001b[0m",
      "\u001b[1;31mNameError\u001b[0m                                 Traceback (most recent call last)",
      "\u001b[1;32m~\\AppData\\Local\\Temp/ipykernel_21572/204314042.py\u001b[0m in \u001b[0;36m<module>\u001b[1;34m\u001b[0m\n\u001b[0;32m      3\u001b[0m \u001b[1;33m\u001b[0m\u001b[0m\n\u001b[0;32m      4\u001b[0m \u001b[1;33m\u001b[0m\u001b[0m\n\u001b[1;32m----> 5\u001b[1;33m \u001b[0mauth\u001b[0m\u001b[1;33m(\u001b[0m\u001b[1;34m'18136078552'\u001b[0m\u001b[1;33m,\u001b[0m\u001b[1;34m'078552'\u001b[0m\u001b[1;33m)\u001b[0m\u001b[1;33m\u001b[0m\u001b[1;33m\u001b[0m\u001b[0m\n\u001b[0m",
      "\u001b[1;31mNameError\u001b[0m: name 'auth' is not defined"
     ]
    }
   ],
   "source": [
    "from jqdatasdk.technical_analysis import *\n",
    "from jqdatasdk import get_factor_values\n",
    "\n",
    "\n",
    "auth('18136078552','078552')\n"
   ]
  },
  {
   "cell_type": "code",
   "execution_count": null,
   "metadata": {},
   "outputs": [],
   "source": [
    "\n",
    "# 定义股票池列表\n",
    "security_list1 = '000001.XSHE'\n",
    "security_list2 = ['000001.XSHE','000002.XSHE','601211.XSHG','603177.XSHG']\n",
    "\n",
    "# 计算并输出 security_list1 的 ACCER 值\n",
    "ACCER1 = ACCER(security_list1, check_date='2017-01-04', N = 8)\n",
    "print ACCER1[security_list1]\n",
    "\n",
    "# 输出 security_list2 的 ACCER 值\n",
    "ACCER2 = ACCER(security_list2, check_date='2017-01-04', N = 8)\n",
    "for stock in security_list2:\n",
    "    print ACCER2[stock]"
   ]
  }
 ],
 "metadata": {
  "interpreter": {
   "hash": "01e9550449672fca47df69fa4b3e677182ddbcb89881b4af5eb1121b6740ba30"
  },
  "kernelspec": {
   "display_name": "Python 3.7.9 64-bit ('joinquant': venv)",
   "language": "python",
   "name": "python3"
  },
  "language_info": {
   "codemirror_mode": {
    "name": "ipython",
    "version": 3
   },
   "file_extension": ".py",
   "mimetype": "text/x-python",
   "name": "python",
   "nbconvert_exporter": "python",
   "pygments_lexer": "ipython3",
   "version": "3.7.9"
  },
  "orig_nbformat": 4
 },
 "nbformat": 4,
 "nbformat_minor": 2
}

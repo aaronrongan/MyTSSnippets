{
 "metadata": {
  "language_info": {
   "codemirror_mode": {
    "name": "ipython",
    "version": 3
   },
   "file_extension": ".py",
   "mimetype": "text/x-python",
   "name": "python",
   "nbconvert_exporter": "python",
   "pygments_lexer": "ipython3",
   "version": "3.7.7-final"
  },
  "orig_nbformat": 2,
  "kernelspec": {
   "name": "python_defaultSpec_1600470898337",
   "display_name": "Python 3.7.7 64-bit"
  }
 },
 "nbformat": 4,
 "nbformat_minor": 2,
 "cells": [
  {
   "source": [
    "https://blog.csdn.net/gavin3318/article/details/78499419 \n",
    "Python 中的串行执行 并发执行 同步异步"
   ],
   "cell_type": "markdown",
   "metadata": {}
  },
  {
   "source": [
    "程序的执行:\n",
    "\n",
    "串行执行:ffd"
   ],
   "cell_type": "markdown",
   "metadata": {}
  },
  {
   "cell_type": "code",
   "execution_count": 17,
   "metadata": {
    "tags": []
   },
   "outputs": [
    {
     "output_type": "stream",
     "name": "stdout",
     "text": "GET: https://www.baidu.com\nhttps://www.baidu.com 2443\nGET: https://www.python.org\nhttps://www.python.org 49122\nGET: https://www.openstack.org\nhttps://www.openstack.org 37707\n1.666886806488037\n"
    }
   ],
   "source": [
    "import requests\n",
    "import time\n",
    "\n",
    "def get_page(url):\n",
    "    print('GET: %s' %url)\n",
    "    response=requests.get(url)\n",
    "    print(url,len(response.text))\n",
    "    return response.text\n",
    "\n",
    "urls=[\n",
    "    'https://www.baidu.com',\n",
    "    'https://www.python.org',\n",
    "    'https://www.openstack.org'\n",
    "]\n",
    "\n",
    "#程序的执行是串行执行\n",
    "start=time.time()\n",
    "for url in urls:\n",
    "   res=get_page(url) #任务的调用方式是同步调用：提交一个任务，然后在原地等待，等待返回结果后再执行下一行代码\n",
    "stop=time.time()\n",
    "print(stop-start) #2.664152145385742"
   ]
  },
  {
   "source": [
    "并发执行(并行执行):"
   ],
   "cell_type": "markdown",
   "metadata": {}
  },
  {
   "cell_type": "code",
   "execution_count": 18,
   "metadata": {
    "tags": []
   },
   "outputs": [
    {
     "output_type": "stream",
     "name": "stdout",
     "text": "GET: https://www.baidu.comGET: https://www.python.org\n\nGET: https://www.openstack.org\nhttps://www.baidu.com 2443\nhttps://www.python.org 49122\nhttps://www.openstack.org 37832\n0.926692008972168\n"
    }
   ],
   "source": [
    "from multiprocessing import Process\n",
    "from threading import Thread\n",
    "import requests\n",
    "import time\n",
    "\n",
    "def get_page(url):\n",
    "    print('GET: %s' %url)\n",
    "    response=requests.get(url)\n",
    "    print(url,len(response.text))\n",
    "    return response.text\n",
    "\n",
    "urls=[\n",
    "    'https://www.baidu.com',\n",
    "    'https://www.python.org',\n",
    "    'https://www.openstack.org'\n",
    "]\n",
    "\n",
    "if __name__ == '__main__':#在python中开启多进程,需要在__main__下执行\n",
    "\n",
    "    #程序的执行是串行执行\n",
    "    start=time.time()\n",
    "    p_l=[]\n",
    "    for url in urls:\n",
    "       p=Thread(target=get_page,args=(url,))#多线程\n",
    "       p_l.append(p)\n",
    "       # p = Process(target=get_page, args=(url,)) #多进程\n",
    "       # p_l.append(p)\n",
    "       p.start()\n",
    "    for p in p_l:\n",
    "        p.join()\n",
    "    stop=time.time()\n",
    "    print(stop-start) #2.664152145385742"
   ]
  },
  {
   "source": [
    "进程池 线程池:"
   ],
   "cell_type": "markdown",
   "metadata": {}
  },
  {
   "cell_type": "code",
   "execution_count": 24,
   "metadata": {
    "tags": []
   },
   "outputs": [
    {
     "output_type": "stream",
     "name": "stderr",
     "text": "Exception ignored in: <function ProcessPoolExecutor._start_queue_management_thread.<locals>.weakref_cb at 0x000001B7CEB6EEE8>\nTraceback (most recent call last):\n  File \"C:\\Users\\Aaron\\AppData\\Local\\Programs\\Python\\Python37\\lib\\concurrent\\futures\\process.py\", line 581, in weakref_cb\n    thread_wakeup.wakeup()\n  File \"C:\\Users\\Aaron\\AppData\\Local\\Programs\\Python\\Python37\\lib\\concurrent\\futures\\process.py\", line 90, in wakeup\n    self._writer.send_bytes(b\"\")\n  File \"C:\\Users\\Aaron\\AppData\\Local\\Programs\\Python\\Python37\\lib\\multiprocessing\\connection.py\", line 183, in send_bytes\n    self._check_closed()\n  File \"C:\\Users\\Aaron\\AppData\\Local\\Programs\\Python\\Python37\\lib\\multiprocessing\\connection.py\", line 136, in _check_closed\n    raise OSError(\"handle is closed\")\nOSError: handle is closed\n"
    },
    {
     "output_type": "error",
     "ename": "BrokenProcessPool",
     "evalue": "A process in the process pool was terminated abruptly while the future was running or pending.",
     "traceback": [
      "\u001b[1;31m---------------------------------------------------------------------------\u001b[0m",
      "\u001b[1;31mBrokenProcessPool\u001b[0m                         Traceback (most recent call last)",
      "\u001b[1;32m<ipython-input-24-405556b785ca>\u001b[0m in \u001b[0;36m<module>\u001b[1;34m\u001b[0m\n\u001b[0;32m     29\u001b[0m     \u001b[0mp\u001b[0m\u001b[1;33m.\u001b[0m\u001b[0mshutdown\u001b[0m\u001b[1;33m(\u001b[0m\u001b[0mwait\u001b[0m\u001b[1;33m=\u001b[0m\u001b[1;32mTrue\u001b[0m\u001b[1;33m)\u001b[0m\u001b[1;33m\u001b[0m\u001b[1;33m\u001b[0m\u001b[0m\n\u001b[0;32m     30\u001b[0m     \u001b[1;32mfor\u001b[0m \u001b[0mf\u001b[0m \u001b[1;32min\u001b[0m \u001b[0ml\u001b[0m\u001b[1;33m:\u001b[0m\u001b[1;33m\u001b[0m\u001b[1;33m\u001b[0m\u001b[0m\n\u001b[1;32m---> 31\u001b[1;33m         \u001b[0mprint\u001b[0m\u001b[1;33m(\u001b[0m\u001b[0mf\u001b[0m\u001b[1;33m.\u001b[0m\u001b[0mresult\u001b[0m\u001b[1;33m(\u001b[0m\u001b[1;33m)\u001b[0m\u001b[1;33m)\u001b[0m\u001b[1;33m\u001b[0m\u001b[1;33m\u001b[0m\u001b[0m\n\u001b[0m\u001b[0;32m     32\u001b[0m     \u001b[0mstop\u001b[0m\u001b[1;33m=\u001b[0m\u001b[0mtime\u001b[0m\u001b[1;33m.\u001b[0m\u001b[0mtime\u001b[0m\u001b[1;33m(\u001b[0m\u001b[1;33m)\u001b[0m\u001b[1;33m\u001b[0m\u001b[1;33m\u001b[0m\u001b[0m\n\u001b[0;32m     33\u001b[0m     \u001b[0mprint\u001b[0m\u001b[1;33m(\u001b[0m\u001b[0mstop\u001b[0m\u001b[1;33m-\u001b[0m\u001b[0mstart\u001b[0m\u001b[1;33m)\u001b[0m \u001b[1;31m#2.664152145385742\u001b[0m\u001b[1;33m\u001b[0m\u001b[1;33m\u001b[0m\u001b[0m\n",
      "\u001b[1;32m~\\AppData\\Local\\Programs\\Python\\Python37\\lib\\concurrent\\futures\\_base.py\u001b[0m in \u001b[0;36mresult\u001b[1;34m(self, timeout)\u001b[0m\n\u001b[0;32m    426\u001b[0m                 \u001b[1;32mraise\u001b[0m \u001b[0mCancelledError\u001b[0m\u001b[1;33m(\u001b[0m\u001b[1;33m)\u001b[0m\u001b[1;33m\u001b[0m\u001b[1;33m\u001b[0m\u001b[0m\n\u001b[0;32m    427\u001b[0m             \u001b[1;32melif\u001b[0m \u001b[0mself\u001b[0m\u001b[1;33m.\u001b[0m\u001b[0m_state\u001b[0m \u001b[1;33m==\u001b[0m \u001b[0mFINISHED\u001b[0m\u001b[1;33m:\u001b[0m\u001b[1;33m\u001b[0m\u001b[1;33m\u001b[0m\u001b[0m\n\u001b[1;32m--> 428\u001b[1;33m                 \u001b[1;32mreturn\u001b[0m \u001b[0mself\u001b[0m\u001b[1;33m.\u001b[0m\u001b[0m__get_result\u001b[0m\u001b[1;33m(\u001b[0m\u001b[1;33m)\u001b[0m\u001b[1;33m\u001b[0m\u001b[1;33m\u001b[0m\u001b[0m\n\u001b[0m\u001b[0;32m    429\u001b[0m \u001b[1;33m\u001b[0m\u001b[0m\n\u001b[0;32m    430\u001b[0m             \u001b[0mself\u001b[0m\u001b[1;33m.\u001b[0m\u001b[0m_condition\u001b[0m\u001b[1;33m.\u001b[0m\u001b[0mwait\u001b[0m\u001b[1;33m(\u001b[0m\u001b[0mtimeout\u001b[0m\u001b[1;33m)\u001b[0m\u001b[1;33m\u001b[0m\u001b[1;33m\u001b[0m\u001b[0m\n",
      "\u001b[1;32m~\\AppData\\Local\\Programs\\Python\\Python37\\lib\\concurrent\\futures\\_base.py\u001b[0m in \u001b[0;36m__get_result\u001b[1;34m(self)\u001b[0m\n\u001b[0;32m    382\u001b[0m     \u001b[1;32mdef\u001b[0m \u001b[0m__get_result\u001b[0m\u001b[1;33m(\u001b[0m\u001b[0mself\u001b[0m\u001b[1;33m)\u001b[0m\u001b[1;33m:\u001b[0m\u001b[1;33m\u001b[0m\u001b[1;33m\u001b[0m\u001b[0m\n\u001b[0;32m    383\u001b[0m         \u001b[1;32mif\u001b[0m \u001b[0mself\u001b[0m\u001b[1;33m.\u001b[0m\u001b[0m_exception\u001b[0m\u001b[1;33m:\u001b[0m\u001b[1;33m\u001b[0m\u001b[1;33m\u001b[0m\u001b[0m\n\u001b[1;32m--> 384\u001b[1;33m             \u001b[1;32mraise\u001b[0m \u001b[0mself\u001b[0m\u001b[1;33m.\u001b[0m\u001b[0m_exception\u001b[0m\u001b[1;33m\u001b[0m\u001b[1;33m\u001b[0m\u001b[0m\n\u001b[0m\u001b[0;32m    385\u001b[0m         \u001b[1;32melse\u001b[0m\u001b[1;33m:\u001b[0m\u001b[1;33m\u001b[0m\u001b[1;33m\u001b[0m\u001b[0m\n\u001b[0;32m    386\u001b[0m             \u001b[1;32mreturn\u001b[0m \u001b[0mself\u001b[0m\u001b[1;33m.\u001b[0m\u001b[0m_result\u001b[0m\u001b[1;33m\u001b[0m\u001b[1;33m\u001b[0m\u001b[0m\n",
      "\u001b[1;31mBrokenProcessPool\u001b[0m: A process in the process pool was terminated abruptly while the future was running or pending."
     ]
    }
   ],
   "source": [
    "from concurrent.futures import ThreadPoolExecutor,ProcessPoolExecutor\n",
    "\n",
    "from multiprocessing import Process\n",
    "from threading import Thread\n",
    "import requests\n",
    "import time\n",
    "\n",
    "def get_page(url):\n",
    "    print('GET: %s' %url)\n",
    "    response=requests.get(url)\n",
    "    return len(response.text)\n",
    "\n",
    "urls=[\n",
    "    'https://www.baidu.com',\n",
    "    'https://www.python.org',\n",
    "    'https://www.openstack.org',\n",
    "    'https://www.guorn.com'\n",
    "]\n",
    "\n",
    "if __name__ == '__main__':\n",
    "    p=ProcessPoolExecutor(1)#默认是你CPU核心数量\n",
    "\n",
    "    #程序的执行是串行执行\n",
    "    start=time.time()\n",
    "    l=[]\n",
    "    for url in urls:\n",
    "        furture=p.submit(get_page,url) #任务的调用方式是异步调用：提交一个任务，不用等待，直接执行下一行代码\n",
    "        l.append(furture)\n",
    "    p.shutdown(wait=True)\n",
    "    for f in l:\n",
    "        print(f.result())\n",
    "    stop=time.time()\n",
    "    print(stop-start) #2.664152145385742"
   ]
  },
  {
   "source": [
    "异步调用时候要结合回调机制来使用.\n"
   ],
   "cell_type": "markdown",
   "metadata": {}
  },
  {
   "cell_type": "code",
   "execution_count": 27,
   "metadata": {
    "tags": []
   },
   "outputs": [
    {
     "output_type": "stream",
     "name": "stderr",
     "text": "Exception ignored in: <function ProcessPoolExecutor._start_queue_management_thread.<locals>.weakref_cb at 0x000001B7CED2C708>\nTraceback (most recent call last):\n  File \"C:\\Users\\Aaron\\AppData\\Local\\Programs\\Python\\Python37\\lib\\concurrent\\futures\\process.py\", line 581, in weakref_cb\n    thread_wakeup.wakeup()\n  File \"C:\\Users\\Aaron\\AppData\\Local\\Programs\\Python\\Python37\\lib\\concurrent\\futures\\process.py\", line 90, in wakeup\n    self._writer.send_bytes(b\"\")\n  File \"C:\\Users\\Aaron\\AppData\\Local\\Programs\\Python\\Python37\\lib\\multiprocessing\\connection.py\", line 183, in send_bytes\n    self._check_closed()\n  File \"C:\\Users\\Aaron\\AppData\\Local\\Programs\\Python\\Python37\\lib\\multiprocessing\\connection.py\", line 136, in _check_closed\n    raise OSError(\"handle is closed\")\nOSError: handle is closed\nexception calling callback for <Future at 0x1b7cf378388 state=finished raised BrokenProcessPool>\nTraceback (most recent call last):\n  File \"C:\\Users\\Aaron\\AppData\\Local\\Programs\\Python\\Python37\\lib\\concurrent\\futures\\_base.py\", line 324, in _invoke_callbacks\n    callback(self)\n  File \"<ipython-input-27-1b7834c79068>\", line 15, in parse_page\n    res=res.result()\n  File \"C:\\Users\\Aaron\\AppData\\Local\\Programs\\Python\\Python37\\lib\\concurrent\\futures\\_base.py\", line 428, in result\n    return self.__get_result()\n  File \"C:\\Users\\Aaron\\AppData\\Local\\Programs\\Python\\Python37\\lib\\concurrent\\futures\\_base.py\", line 384, in __get_result\n    raise self._exception\nconcurrent.futures.process.BrokenProcessPool: A process in the process pool was terminated abruptly while the future was running or pending.\nexception calling callback for <Future at 0x1b7cfd88808 state=finished raised BrokenProcessPool>\nTraceback (most recent call last):\n  File \"C:\\Users\\Aaron\\AppData\\Local\\Programs\\Python\\Python37\\lib\\concurrent\\futures\\_base.py\", line 324, in _invoke_callbacks\n    callback(self)\n  File \"<ipython-input-27-1b7834c79068>\", line 15, in parse_page\n    res=res.result()\n  File \"C:\\Users\\Aaron\\AppData\\Local\\Programs\\Python\\Python37\\lib\\concurrent\\futures\\_base.py\", line 428, in result\n    return self.__get_result()\n  File \"C:\\Users\\Aaron\\AppData\\Local\\Programs\\Python\\Python37\\lib\\concurrent\\futures\\_base.py\", line 384, in __get_result\n    raise self._exception\n  File \"C:\\Users\\Aaron\\AppData\\Local\\Programs\\Python\\Python37\\lib\\concurrent\\futures\\_base.py\", line 324, in _invoke_callbacks\n    callback(self)\n  File \"<ipython-input-27-1b7834c79068>\", line 15, in parse_page\n    res=res.result()\n  File \"C:\\Users\\Aaron\\AppData\\Local\\Programs\\Python\\Python37\\lib\\concurrent\\futures\\_base.py\", line 428, in result\n    return self.__get_result()\n  File \"C:\\Users\\Aaron\\AppData\\Local\\Programs\\Python\\Python37\\lib\\concurrent\\futures\\_base.py\", line 384, in __get_result\n    raise self._exception\nconcurrent.futures.process.BrokenProcessPool: A process in the process pool was terminated abruptly while the future was running or pending.\nexception calling callback for <Future at 0x1b7cfd88048 state=finished raised BrokenProcessPool>\nTraceback (most recent call last):\n  File \"C:\\Users\\Aaron\\AppData\\Local\\Programs\\Python\\Python37\\lib\\concurrent\\futures\\_base.py\", line 324, in _invoke_callbacks\n    callback(self)\n  File \"<ipython-input-27-1b7834c79068>\", line 15, in parse_page\n    res=res.result()\n  File \"C:\\Users\\Aaron\\AppData\\Local\\Programs\\Python\\Python37\\lib\\concurrent\\futures\\_base.py\", line 428, in result\n    return self.__get_result()\n  File \"C:\\Users\\Aaron\\AppData\\Local\\Programs\\Python\\Python37\\lib\\concurrent\\futures\\_base.py\", line 384, in __get_result\n    raise self._exception\n  File \"C:\\Users\\Aaron\\AppData\\Local\\Programs\\Python\\Python37\\lib\\concurrent\\futures\\_base.py\", line 324, in _invoke_callbacks\n    callback(self)\n  File \"<ipython-input-27-1b7834c79068>\", line 15, in parse_page\n    res=res.result()\n  File \"C:\\Users\\Aaron\\AppData\\Local\\Programs\\Python\\Python37\\lib\\concurrent\\futures\\_base.py\", line 428, in result\n    return self.__get_result()\n  File \"C:\\Users\\Aaron\\AppData\\Local\\Programs\\Python\\Python37\\lib\\concurrent\\futures\\_base.py\", line 384, in __get_result\n    raise self._exception\n  File \"C:\\Users\\Aaron\\AppData\\Local\\Programs\\Python\\Python37\\lib\\concurrent\\futures\\_base.py\", line 324, in _invoke_callbacks\n    callback(self)\n  File \"<ipython-input-27-1b7834c79068>\", line 15, in parse_page\n    res=res.result()\n  File \"C:\\Users\\Aaron\\AppData\\Local\\Programs\\Python\\Python37\\lib\\concurrent\\futures\\_base.py\", line 428, in result\n    return self.__get_result()\n  File \"C:\\Users\\Aaron\\AppData\\Local\\Programs\\Python\\Python37\\lib\\concurrent\\futures\\_base.py\", line 384, in __get_result\n    raise self._exception\nconcurrent.futures.process.BrokenProcessPool: A process in the process pool was terminated abruptly while the future was running or pending.\nexception calling callback for <Future at 0x1b7cf388a08 state=finished raised BrokenProcessPool>\nTraceback (most recent call last):\n  File \"C:\\Users\\Aaron\\AppData\\Local\\Programs\\Python\\Python37\\lib\\concurrent\\futures\\_base.py\", line 324, in _invoke_callbacks\n    callback(self)\n  File \"<ipython-input-27-1b7834c79068>\", line 15, in parse_page\n    res=res.result()\n  File \"C:\\Users\\Aaron\\AppData\\Local\\Programs\\Python\\Python37\\lib\\concurrent\\futures\\_base.py\", line 428, in result\n    return self.__get_result()\n  File \"C:\\Users\\Aaron\\AppData\\Local\\Programs\\Python\\Python37\\lib\\concurrent\\futures\\_base.py\", line 384, in __get_result\n    raise self._exception\n  File \"C:\\Users\\Aaron\\AppData\\Local\\Programs\\Python\\Python37\\lib\\concurrent\\futures\\_base.py\", line 324, in _invoke_callbacks\n    callback(self)\n  File \"<ipython-input-27-1b7834c79068>\", line 15, in parse_page\n    res=res.result()\n  File \"C:\\Users\\Aaron\\AppData\\Local\\Programs\\Python\\Python37\\lib\\concurrent\\futures\\_base.py\", line 428, in result\n    return self.__get_result()\n  File \"C:\\Users\\Aaron\\AppData\\Local\\Programs\\Python\\Python37\\lib\\concurrent\\futures\\_base.py\", line 384, in __get_result\n    raise self._exception\n  File \"C:\\Users\\Aaron\\AppData\\Local\\Programs\\Python\\Python37\\lib\\concurrent\\futures\\_base.py\", line 324, in _invoke_callbacks\n    callback(self)\n  File \"<ipython-input-27-1b7834c79068>\", line 15, in parse_page\n    res=res.result()\n  File \"C:\\Users\\Aaron\\AppData\\Local\\Programs\\Python\\Python37\\lib\\concurrent\\futures\\_base.py\", line 428, in result\n    return self.__get_result()\n  File \"C:\\Users\\Aaron\\AppData\\Local\\Programs\\Python\\Python37\\lib\\concurrent\\futures\\_base.py\", line 384, in __get_result\n    raise self._exception\n  File \"C:\\Users\\Aaron\\AppData\\Local\\Programs\\Python\\Python37\\lib\\concurrent\\futures\\_base.py\", line 324, in _invoke_callbacks\n    callback(self)\n  File \"<ipython-input-27-1b7834c79068>\", line 15, in parse_page\n    res=res.result()\n  File \"C:\\Users\\Aaron\\AppData\\Local\\Programs\\Python\\Python37\\lib\\concurrent\\futures\\_base.py\", line 428, in result\n    return self.__get_result()\n  File \"C:\\Users\\Aaron\\AppData\\Local\\Programs\\Python\\Python37\\lib\\concurrent\\futures\\_base.py\", line 384, in __get_result\n    raise self._exception\nconcurrent.futures.process.BrokenProcessPool: A process in the process pool was terminated abruptly while the future was running or pending.\n执行时间： 0.20799803733825684\n主 12800\n"
    }
   ],
   "source": [
    "from concurrent.futures import ThreadPoolExecutor,ProcessPoolExecutor\n",
    "\n",
    "from multiprocessing import Process\n",
    "from threading import Thread\n",
    "import requests\n",
    "import time,os,random\n",
    "\n",
    "def get_page(url):\n",
    "    print('%s GET: %s' %(os.getpid(),url))\n",
    "    response=requests.get(url)\n",
    "    # time.sleep(random.randint(1,3))\n",
    "    return len(response.text)\n",
    "\n",
    "def parse_page(res):\n",
    "    res=res.result()\n",
    "    print('%s parse res: %s' %(os.getpid(),res))\n",
    "\n",
    "urls=[\n",
    "    'https://www.baidu.com',\n",
    "    'https://www.python.org',\n",
    "    'https://www.openstack.org',\n",
    "    'https://www.guorn.com'\n",
    "]\n",
    "\n",
    "if __name__ == '__main__':\n",
    "    p=ProcessPoolExecutor(1)\n",
    "\n",
    "    #程序的执行是串行执行\n",
    "    start=time.time()\n",
    "    for url in urls:\n",
    "        p.submit(get_page,url).add_done_callback(parse_page)\n",
    "        p.submit(get_page,url)\n",
    "    p.shutdown(wait=True)\n",
    "    stop=time.time()\n",
    "    print('执行时间：',stop-start) #2.664152145385742\n",
    "\n",
    "    print('主',os.getpid())"
   ]
  },
  {
   "cell_type": "code",
   "execution_count": 25,
   "metadata": {
    "tags": []
   },
   "outputs": [
    {
     "output_type": "stream",
     "name": "stdout",
     "text": "http://zhushou.360.cn/detail/index/soft_id/3264775 200\nHello world!  thread=<_MainThread(MainThread, started 17972)>\nhttp://zhushou.360.cn/detail/index/soft_id/705490 200\nHello world!  thread=<_MainThread(MainThread, started 17972)>\nhttp://zhushou.360.cn/detail/index/soft_id/3283370 200\nHello world!  thread=<_MainThread(MainThread, started 17972)>\n执行时间： 0.05899238586425781\n"
    }
   ],
   "source": [
    "import aiohttp\n",
    "import threading\n",
    "async def get(url):\n",
    "    async with aiohttp.ClientSession() as session:\n",
    "        async with session.get(url) as resp:\n",
    "            print(url, resp.status)\n",
    "            print('Hello world!  thread=%s' % ( threading.currentThread()))\n",
    "            # print(url, await resp.text())\n",
    "\n",
    "#程序的执行是串行执行\n",
    "start=time.time()\n",
    "loop = asyncio.get_event_loop()     # 得到一个事件循环模型\n",
    "tasks = [                           # 初始化任务列表\n",
    "    get(\"http://zhushou.360.cn/detail/index/soft_id/3283370\"),\n",
    "    get(\"http://zhushou.360.cn/detail/index/soft_id/3264775\"),\n",
    "    get(\"http://zhushou.360.cn/detail/index/soft_id/705490\")\n",
    "]\n",
    "loop.run_until_complete(asyncio.wait(tasks))    # 执行任务\n",
    "\n",
    "stop=time.time()\n",
    "print('执行时间：',stop-start) #2.664152145385742\n",
    "# loop.close()"
   ]
  },
  {
   "cell_type": "code",
   "execution_count": 8,
   "metadata": {
    "tags": []
   },
   "outputs": [
    {
     "output_type": "execute_result",
     "data": {
      "text/plain": "({<Task finished coro=<hello() done, defined at <ipython-input-8-046c8b62146b>:6> exception=NameError(\"name 'threading' is not defined\")>,\n  <Task finished coro=<hello() done, defined at <ipython-input-8-046c8b62146b>:6> exception=NameError(\"name 'threading' is not defined\")>},\n set())"
     },
     "metadata": {},
     "execution_count": 8
    }
   ],
   "source": [
    "# 范例 https://zhuanlan.zhihu.com/p/24118476?utm_source=cn.ticktick.task&utm_medium=social&utm_oi=51474960744448\n",
    "import asyncio\n",
    "import threading\n",
    "import nest_asyncio\n",
    "nest_asyncio.apply()\n",
    "\n",
    "# 异步IO例子：适配Python3.5，使用async和await关键字\n",
    "async def hello(index):       # 通过关键字async定义协程\n",
    "    print('Hello world! index=%s, thread=%s' % (index, threading.currentThread()))\n",
    "    await asyncio.sleep(1)     # 模拟IO任务\n",
    "    print('Hello again! index=%s, thread=%s' % (index, threading.currentThread()))\n",
    "\n",
    "loop = asyncio.get_event_loop()     # 得到一个事件循环模型\n",
    "tasks = [hello(1), hello(2)]        # 初始化任务列表\n",
    "loop.run_until_complete(asyncio.wait(tasks))    # 执行任务\n",
    "# loop.close() "
   ]
  },
  {
   "cell_type": "code",
   "execution_count": 32,
   "metadata": {
    "tags": []
   },
   "outputs": [
    {
     "output_type": "stream",
     "name": "stdout",
     "text": "执行时间： 10.005696058273315\nstart 0th\nstart 1th\nstart 2th\nstart 3th\nstart 4th\nstart 5th\nstart 6th\nstart 7th\nstart 8th\nstart 9th\nfinish 0th\nfinish 2th\nfinish 6th\nfinish 9th\nfinish 8th\nfinish 5th\nfinish 7th\nfinish 4th\nfinish 1th\nfinish 3th\n执行时间： 1.007601261138916\n"
    }
   ],
   "source": [
    "# https://zhuanlan.zhihu.com/p/34324225 python异步asyncio模块的使用\n",
    "\n",
    "# 第一种用法\n",
    "\n",
    "# 顺序执行\n",
    "def myfun_seq(i):\n",
    "    time.sleep(1)\n",
    "\n",
    "start=time.time()\n",
    "# myfun_seq_list = (myfun_seq(i) for i in range(10))\n",
    "for i in range(10):\n",
    "    myfun_seq(i)\n",
    "    print(i)\n",
    "\n",
    "stop=time.time()\n",
    "print('执行时间：',stop-start)\n",
    "\n",
    "\n",
    "import asyncio\n",
    "\n",
    "async def myfun(i):\n",
    "    print('start {}th'.format(i))\n",
    "    await asyncio.sleep(1)\n",
    "    print('finish {}th'.format(i))\n",
    "\n",
    "# 这个例子很好，i可以换成密码\n",
    "start=time.time()\n",
    "loop = asyncio.get_event_loop()\n",
    "myfun_list = (myfun(i) for i in range(10))\n",
    "loop.run_until_complete(asyncio.gather(*myfun_list))\n",
    "stop=time.time()\n",
    "print('执行时间：',stop-start) #2.664152145385742"
   ]
  },
  {
   "cell_type": "code",
   "execution_count": 37,
   "metadata": {
    "tags": []
   },
   "outputs": [
    {
     "output_type": "stream",
     "name": "stdout",
     "text": "start 0th\nstart 1th\nstart 2th\nstart 3th\nstart 4th\nstart 5th\nstart 6th\nstart 7th\nstart 8th\nstart 9th\nfinish 0th\nfinish 2th\nfinish 6th\nfinish 9th\nfinish 8th\nfinish 5th\nfinish 7th\nfinish 4th\nfinish 1th\nfinish 3th\n执行时间： 0.9971179962158203\n"
    }
   ],
   "source": [
    "# 第二种用法\n",
    "import asyncio\n",
    "\n",
    "async def myfun(i):\n",
    "    print('start {}th'.format(i))\n",
    "    await asyncio.sleep(1)\n",
    "    # time.sleep(1) !!!!!!!!!!!!这个函数在这里无法实现异步，只能通过添加线程实现\n",
    "    print('finish {}th'.format(i))\n",
    "start=time.time()\n",
    "loop = asyncio.get_event_loop()\n",
    "myfun_list = [asyncio.ensure_future(myfun(i)) for i in range(10)]\n",
    "loop.run_until_complete(asyncio.wait(myfun_list))\n",
    "stop=time.time()\n",
    "print('执行时间：',stop-start) #2.664152145385742"
   ]
  },
  {
   "cell_type": "code",
   "execution_count": 33,
   "metadata": {},
   "outputs": [
    {
     "output_type": "error",
     "ename": "AttributeError",
     "evalue": "'NoneType' object has no attribute 'find_all'",
     "traceback": [
      "\u001b[1;31m---------------------------------------------------------------------------\u001b[0m",
      "\u001b[1;31mAttributeError\u001b[0m                            Traceback (most recent call last)",
      "\u001b[1;32m<ipython-input-33-0ad03355b9f6>\u001b[0m in \u001b[0;36m<module>\u001b[1;34m\u001b[0m\n\u001b[0;32m     16\u001b[0m \u001b[0mloop\u001b[0m \u001b[1;33m=\u001b[0m \u001b[0masyncio\u001b[0m\u001b[1;33m.\u001b[0m\u001b[0mget_event_loop\u001b[0m\u001b[1;33m(\u001b[0m\u001b[1;33m)\u001b[0m\u001b[1;33m\u001b[0m\u001b[1;33m\u001b[0m\u001b[0m\n\u001b[0;32m     17\u001b[0m \u001b[0mfun_list\u001b[0m \u001b[1;33m=\u001b[0m \u001b[1;33m(\u001b[0m\u001b[0mget_title\u001b[0m\u001b[1;33m(\u001b[0m\u001b[0mi\u001b[0m\u001b[1;33m)\u001b[0m \u001b[1;32mfor\u001b[0m \u001b[0mi\u001b[0m \u001b[1;32min\u001b[0m \u001b[0mrange\u001b[0m\u001b[1;33m(\u001b[0m\u001b[1;36m10\u001b[0m\u001b[1;33m)\u001b[0m\u001b[1;33m)\u001b[0m\u001b[1;33m\u001b[0m\u001b[1;33m\u001b[0m\u001b[0m\n\u001b[1;32m---> 18\u001b[1;33m \u001b[0mloop\u001b[0m\u001b[1;33m.\u001b[0m\u001b[0mrun_until_complete\u001b[0m\u001b[1;33m(\u001b[0m\u001b[0masyncio\u001b[0m\u001b[1;33m.\u001b[0m\u001b[0mgather\u001b[0m\u001b[1;33m(\u001b[0m\u001b[1;33m*\u001b[0m\u001b[0mfun_list\u001b[0m\u001b[1;33m)\u001b[0m\u001b[1;33m)\u001b[0m\u001b[1;33m\u001b[0m\u001b[1;33m\u001b[0m\u001b[0m\n\u001b[0m",
      "\u001b[1;32m~\\AppData\\Local\\Programs\\Python\\Python37\\lib\\site-packages\\nest_asyncio.py\u001b[0m in \u001b[0;36mrun_until_complete\u001b[1;34m(self, future)\u001b[0m\n\u001b[0;32m     93\u001b[0m                 raise RuntimeError(\n\u001b[0;32m     94\u001b[0m                     'Event loop stopped before Future completed.')\n\u001b[1;32m---> 95\u001b[1;33m             \u001b[1;32mreturn\u001b[0m \u001b[0mf\u001b[0m\u001b[1;33m.\u001b[0m\u001b[0mresult\u001b[0m\u001b[1;33m(\u001b[0m\u001b[1;33m)\u001b[0m\u001b[1;33m\u001b[0m\u001b[1;33m\u001b[0m\u001b[0m\n\u001b[0m\u001b[0;32m     96\u001b[0m         \u001b[1;32mfinally\u001b[0m\u001b[1;33m:\u001b[0m\u001b[1;33m\u001b[0m\u001b[1;33m\u001b[0m\u001b[0m\n\u001b[0;32m     97\u001b[0m             \u001b[0mevents\u001b[0m\u001b[1;33m.\u001b[0m\u001b[0m_set_running_loop\u001b[0m\u001b[1;33m(\u001b[0m\u001b[0mold_running_loop\u001b[0m\u001b[1;33m)\u001b[0m\u001b[1;33m\u001b[0m\u001b[1;33m\u001b[0m\u001b[0m\n",
      "\u001b[1;32m~\\AppData\\Local\\Programs\\Python\\Python37\\lib\\asyncio\\tasks.py\u001b[0m in \u001b[0;36m__step\u001b[1;34m(***failed resolving arguments***)\u001b[0m\n\u001b[0;32m    247\u001b[0m                 \u001b[1;31m# We use the `send` method directly, because coroutines\u001b[0m\u001b[1;33m\u001b[0m\u001b[1;33m\u001b[0m\u001b[1;33m\u001b[0m\u001b[0m\n\u001b[0;32m    248\u001b[0m                 \u001b[1;31m# don't have `__iter__` and `__next__` methods.\u001b[0m\u001b[1;33m\u001b[0m\u001b[1;33m\u001b[0m\u001b[1;33m\u001b[0m\u001b[0m\n\u001b[1;32m--> 249\u001b[1;33m                 \u001b[0mresult\u001b[0m \u001b[1;33m=\u001b[0m \u001b[0mcoro\u001b[0m\u001b[1;33m.\u001b[0m\u001b[0msend\u001b[0m\u001b[1;33m(\u001b[0m\u001b[1;32mNone\u001b[0m\u001b[1;33m)\u001b[0m\u001b[1;33m\u001b[0m\u001b[1;33m\u001b[0m\u001b[0m\n\u001b[0m\u001b[0;32m    250\u001b[0m             \u001b[1;32melse\u001b[0m\u001b[1;33m:\u001b[0m\u001b[1;33m\u001b[0m\u001b[1;33m\u001b[0m\u001b[0m\n\u001b[0;32m    251\u001b[0m                 \u001b[0mresult\u001b[0m \u001b[1;33m=\u001b[0m \u001b[0mcoro\u001b[0m\u001b[1;33m.\u001b[0m\u001b[0mthrow\u001b[0m\u001b[1;33m(\u001b[0m\u001b[0mexc\u001b[0m\u001b[1;33m)\u001b[0m\u001b[1;33m\u001b[0m\u001b[1;33m\u001b[0m\u001b[0m\n",
      "\u001b[1;32m<ipython-input-33-0ad03355b9f6>\u001b[0m in \u001b[0;36mget_title\u001b[1;34m(a)\u001b[0m\n\u001b[0;32m      9\u001b[0m     \u001b[0mr\u001b[0m \u001b[1;33m=\u001b[0m \u001b[0mrequests\u001b[0m\u001b[1;33m.\u001b[0m\u001b[0mget\u001b[0m\u001b[1;33m(\u001b[0m\u001b[0murl\u001b[0m\u001b[1;33m)\u001b[0m\u001b[1;33m\u001b[0m\u001b[1;33m\u001b[0m\u001b[0m\n\u001b[0;32m     10\u001b[0m     \u001b[0msoup\u001b[0m \u001b[1;33m=\u001b[0m \u001b[0mBeautifulSoup\u001b[0m\u001b[1;33m(\u001b[0m\u001b[0mr\u001b[0m\u001b[1;33m.\u001b[0m\u001b[0mcontent\u001b[0m\u001b[1;33m,\u001b[0m \u001b[1;34m'html.parser'\u001b[0m\u001b[1;33m)\u001b[0m\u001b[1;33m\u001b[0m\u001b[1;33m\u001b[0m\u001b[0m\n\u001b[1;32m---> 11\u001b[1;33m     \u001b[0mlis\u001b[0m \u001b[1;33m=\u001b[0m \u001b[0msoup\u001b[0m\u001b[1;33m.\u001b[0m\u001b[0mfind\u001b[0m\u001b[1;33m(\u001b[0m\u001b[1;34m'ol'\u001b[0m\u001b[1;33m,\u001b[0m \u001b[0mclass_\u001b[0m\u001b[1;33m=\u001b[0m\u001b[1;34m'grid_view'\u001b[0m\u001b[1;33m)\u001b[0m\u001b[1;33m.\u001b[0m\u001b[0mfind_all\u001b[0m\u001b[1;33m(\u001b[0m\u001b[1;34m'li'\u001b[0m\u001b[1;33m)\u001b[0m\u001b[1;33m\u001b[0m\u001b[1;33m\u001b[0m\u001b[0m\n\u001b[0m\u001b[0;32m     12\u001b[0m     \u001b[1;32mfor\u001b[0m \u001b[0mli\u001b[0m \u001b[1;32min\u001b[0m \u001b[0mlis\u001b[0m\u001b[1;33m:\u001b[0m\u001b[1;33m\u001b[0m\u001b[1;33m\u001b[0m\u001b[0m\n\u001b[0;32m     13\u001b[0m         \u001b[0mtitle\u001b[0m \u001b[1;33m=\u001b[0m \u001b[0mli\u001b[0m\u001b[1;33m.\u001b[0m\u001b[0mfind\u001b[0m\u001b[1;33m(\u001b[0m\u001b[1;34m'span'\u001b[0m\u001b[1;33m,\u001b[0m \u001b[0mclass_\u001b[0m\u001b[1;33m=\u001b[0m\u001b[1;34m\"title\"\u001b[0m\u001b[1;33m)\u001b[0m\u001b[1;33m.\u001b[0m\u001b[0mtext\u001b[0m\u001b[1;33m\u001b[0m\u001b[1;33m\u001b[0m\u001b[0m\n",
      "\u001b[1;31mAttributeError\u001b[0m: 'NoneType' object has no attribute 'find_all'"
     ]
    }
   ],
   "source": [
    "# 一般的函数无法实现异步\n",
    "\n",
    "import asyncio\n",
    "import requests\n",
    "from bs4 import BeautifulSoup\n",
    "\n",
    "async def get_title(a):\n",
    "    url = 'https://movie.douban.com/top250?start={}&filter='.format(a*25)\n",
    "    r = requests.get(url)\n",
    "    soup = BeautifulSoup(r.content, 'html.parser')\n",
    "    lis = soup.find('ol', class_='grid_view').find_all('li')\n",
    "    for li in lis:\n",
    "        title = li.find('span', class_=\"title\").text\n",
    "        print(title)\n",
    "\n",
    "loop = asyncio.get_event_loop()\n",
    "fun_list = (get_title(i) for i in range(10))\n",
    "loop.run_until_complete(asyncio.gather(*fun_list))"
   ]
  },
  {
   "cell_type": "code",
   "execution_count": 35,
   "metadata": {
    "tags": []
   },
   "outputs": [
    {
     "output_type": "stream",
     "name": "stdout",
     "text": "start 0th\nstart 1th\nstart 2th\nstart 3th\nstart 4th\nstart 5th\nstart 6thstart 7th\n\nstart 8th\nstart 9th\nfinish 0th\nfinish 1th\nfinish 2th\nfinish 3th\nfinish 4th\nfinish 5th\nfinish 7thfinish 6th\n\nfinish 9thfinish 8th\n\n执行时间： 1.0554842948913574\n"
    }
   ],
   "source": [
    "# 对于上述函数，asyncio库只能通过添加线程的方式实现异步，下面我们实现time.sleep时的异步\n",
    "\n",
    "import asyncio\n",
    "import time\n",
    "\n",
    "def myfun(i):\n",
    "    print('start {}th'.format(i))\n",
    "    time.sleep(1)\n",
    "    print('finish {}th'.format(i))\n",
    "\n",
    "async def main():\n",
    "    loop = asyncio.get_event_loop()\n",
    "    futures = (\n",
    "        loop.run_in_executor(\n",
    "            None,\n",
    "            myfun, \n",
    "            i)\n",
    "        for i in range(10)\n",
    "        )\n",
    "    for result in await asyncio.gather(*futures):\n",
    "        pass\n",
    "\n",
    "start=time.time()\n",
    "loop = asyncio.get_event_loop()\n",
    "loop.run_until_complete(main())\n",
    "\n",
    "stop=time.time()\n",
    "print('执行时间：',stop-start) #2.664152145385742"
   ]
  },
  {
   "cell_type": "code",
   "execution_count": 40,
   "metadata": {
    "tags": []
   },
   "outputs": [
    {
     "output_type": "stream",
     "name": "stdout",
     "text": "start 0th\nstart 1th\nstart 2thstart 3th\n\nstart 4th\nstart 5th\nstart 6th\nstart 7th\nstart 8th\nstart 9th\nfinish 0th\nfinish 1th\nfinish 3thfinish 2th\n\nfinish 4th\nfinish 5th\nfinish 6th\nfinish 8th\nfinish 7th\nfinish 9th\n执行时间： 1.0462768077850342\n"
    }
   ],
   "source": [
    "# 上面10次循环仍然不是一次性打印出来的，而是像分批次一样打印出来的。这是因为开启的线程不够多，如果想要实现一次打印，可以开启10个线程，代码如下\n",
    "\n",
    "import concurrent.futures as cf # 多加一个模块\n",
    "import asyncio\n",
    "import time\n",
    "\n",
    "def myfun(i):\n",
    "    print('start {}th'.format(i))\n",
    "    time.sleep(1)\n",
    "    print('finish {}th'.format(i))\n",
    "\n",
    "async def main():\n",
    "    with cf.ThreadPoolExecutor(max_workers = 10) as executor: # 设置10个线程\n",
    "        loop = asyncio.get_event_loop()\n",
    "        futures = (\n",
    "            loop.run_in_executor(\n",
    "                executor, # 按照10个线程来执行\n",
    "                myfun, \n",
    "                i)\n",
    "            for i in range(10)\n",
    "            )\n",
    "        for result in await asyncio.gather(*futures):\n",
    "            pass\n",
    "\n",
    "start=time.time()\n",
    "\n",
    "loop = asyncio.get_event_loop()\n",
    "loop.run_until_complete(main())\n",
    "stop=time.time()\n",
    "print('执行时间：',stop-start) #2.664152145385742"
   ]
  },
  {
   "cell_type": "code",
   "execution_count": 45,
   "metadata": {
    "tags": []
   },
   "outputs": [
    {
     "output_type": "stream",
     "name": "stdout",
     "text": "执行时间： 7.96457314491272\n执行时间： 2.283250570297241\n"
    }
   ],
   "source": [
    "# 这种方法用线程实现requests异步爬虫代码如下\n",
    "import concurrent.futures as cf\n",
    "import asyncio\n",
    "import requests\n",
    "from bs4 import BeautifulSoup\n",
    "\n",
    "start=time.time()\n",
    "for i in range(10):\n",
    "    get_title(i)\n",
    "stop=time.time()\n",
    "print('执行时间：',stop-start) # 9.7秒\n",
    "\n",
    "def get_title(i):\n",
    "    url = 'https://movie.douban.com/top250?start={}&filter='.format(i*25)\n",
    "    r = requests.get(url)\n",
    "    soup = BeautifulSoup(r.content, 'html.parser')\n",
    "    # lis = soup.find('ol', class_='grid_view').find_all('li')\n",
    "    # lis = soup.find('ol', class_='grid_view').find_all('li')\n",
    "    # for li in lis:\n",
    "    #     title = li.find('span', class_=\"title\").text\n",
    "    #     print(title)\n",
    "\n",
    "async def main():\n",
    "    with cf.ThreadPoolExecutor(max_workers = 10) as executor:\n",
    "        loop = asyncio.get_event_loop()\n",
    "        futures = (\n",
    "            loop.run_in_executor(\n",
    "                executor,\n",
    "                get_title, \n",
    "                i)\n",
    "            for i in range(10)\n",
    "            )\n",
    "        for result in await asyncio.gather(*futures):\n",
    "            pass\n",
    "\n",
    "start=time.time()\n",
    "loop = asyncio.get_event_loop()\n",
    "loop.run_until_complete(main())\n",
    "stop=time.time()\n",
    "print('执行时间：',stop-start) # 1.2秒"
   ]
  },
  {
   "cell_type": "code",
   "execution_count": 59,
   "metadata": {
    "tags": []
   },
   "outputs": [
    {
     "output_type": "stream",
     "name": "stdout",
     "text": "start 0\nstart 1\nstart 2\nstart 3\nstart 4\nstart 5\nstart 6\nstart 7\nstart 8\nstart 9\n执行时间： 7.918631076812744\n200\nstart 6\n喜宴\n英雄本色\n谍影重重3\n我是山姆\n头号玩家\n岁月神偷\n哈利·波特与密室\n一个叫欧维的男人决定去死\n纵横四海\n三块广告牌\n疯狂原始人\n心迷宫\n达拉斯买家俱乐部\n记忆碎片\n卢旺达饭店\n你的名字。\n花样年华\n萤火虫之墓\n荒蛮故事\n贫民窟的百万富翁\n真爱至上\n爆裂鼓手\n东邪西毒\n黑客帝国3：矩阵革命\n未麻的部屋\n200\nstart 4\n7号房的礼物\n阳光灿烂的日子\n小森林 夏秋篇\n第六感\n红辣椒\n重庆森林\n入殓师\n小森林 冬春篇\n消失的爱人\n爱在黎明破晓前\n一一\n唐伯虎点秋香\n侧耳倾听\n蝙蝠侠：黑暗骑士崛起\n超脱\n倩女幽魂\n玛丽和马克思\n无人知晓\n超能陆战队\n甜蜜蜜\n萤火之森\n告白\n大鱼\n阳光姐妹淘\n驯龙高手\n200\nstart 8\n罗生门\n终结者2：审判日\n初恋这件小事\n2001太空漫游\n可可西里\n魂断蓝桥\n城市之光\n海洋\n牯岭街少年杀人事件\n色，戒\n燃情岁月\n哈利·波特与火焰杯\n穿越时空的少女\n新龙门客栈\n源代码\n青蛇\n无耻混蛋\n九品芝麻官\n遗愿清单\n阿飞正传\n完美陌生人\n大佛普拉斯\n血钻\n谍影重重2\n地球上的星星\n200\nstart 2\n大闹天宫\n狮子王\n死亡诗社\n指环王2：双塔奇兵\n猫鼠游戏\n窃听风暴\n钢琴家\n指环王1：魔戒再现\n黑客帝国\n美丽心灵\n饮食男女\n两杆大烟枪\n飞越疯人院\n让子弹飞\n本杰明·巴顿奇事\n绿皮书\n看不见的客人\n西西里的美丽传说\n拯救大兵瑞恩\n海蒂和爷爷\n小鞋子\n穿条纹睡衣的男孩\n情书\n海豚湾\n音乐之声\n200\nstart 9\n香水\n疯狂的麦克斯4：狂暴之路\n步履不停\n战争之王\n彗星来的那一夜\n谍影重重\n波西米亚狂想曲\n猜火车\n朗读者\n浪潮\n东京物语\n再次出发之纽约遇见你\n小萝莉的猴神大叔\n驴得水\n聚焦\n追随\n千钧一发\n我爱你\n一次别离\n黑鹰坠落\n黑客帝国2：重装上阵\n发条橙\n网络谜踪\n四个春天\nE.T. 外星人\n200\nstart 0\n肖申克的救赎\n霸王别姬\n阿甘正传\n这个杀手不太冷\n泰坦尼克号\n美丽人生\n千与千寻\n辛德勒的名单\n盗梦空间\n忠犬八公的故事\n海上钢琴师\n星际穿越\n楚门的世界\n三傻大闹宝莱坞\n机器人总动员\n放牛班的春天\n大话西游之大圣娶亲\n熔炉\n疯狂动物城\n无间道\n龙猫\n教父\n当幸福来敲门\n怦然心动\n触不可及\n200\nstart 7\n模仿游戏\n忠犬八公物语\n黑天鹅\n头脑特工队\n新世界\n海街日记\n你看起来好像很好吃\n无敌破坏王\n雨人\n冰川时代\n惊魂记\n恋恋笔记本\n小偷家族\n二十二\n恐怖游轮\n绿里奇迹\n奇迹男孩\n房间\n海边的曼彻斯特\n疯狂的石头\n魔女宅急便\n雨中曲\n虎口脱险\n爱在午夜降临前\n人工智能\n200\nstart 1\n控方证人\n蝙蝠侠：黑暗骑士\n活着\n末代皇帝\n寻梦环游记\n乱世佳人\n何以为家\n指环王3：王者无敌\n摔跤吧！爸爸\n飞屋环游记\n少年派的奇幻漂流\n十二怒汉\n素媛\n哈利·波特与魔法石\n鬼子来了\n哈尔的移动城堡\n天空之城\n大话西游之月光宝盒\n天堂电影院\n罗马假日\n闻香识女人\n我不是药神\n辩护人\n搏击俱乐部\n教父2\n200\nstart 3\n美国往事\n致命魔术\n低俗小说\n沉默的羔羊\n七宗罪\n蝴蝶效应\n禁闭岛\n心灵捕手\n春光乍泄\n布达佩斯大饭店\n被嫌弃的松子的一生\n摩登时代\n阿凡达\n剪刀手爱德华\n勇敢的心\n喜剧之王\n哈利·波特与死亡圣器(下)\n致命ID\n加勒比海盗\n天使爱美丽\n杀人回忆\n断背山\n狩猎\n请以你的名字呼唤我\n幽灵公主\n200\nstart 5\n借东西的小人阿莉埃蒂\n菊次郎的夏天\n射雕英雄传之东成西就\n幸福终点站\n爱在日落黄昏时\n恐怖直播\n完美的世界\n功夫\n人生果实\n神偷奶爸\n怪兽电力公司\n玩具总动员3\n天书奇谭\n傲慢与偏见\n血战钢锯岭\n哈利·波特与阿兹卡班的囚徒\n教父3\n时空恋旅人\n风之谷\n釜山行\n电锯惊魂\n哪吒闹海\n被解救的姜戈\n上帝之城\n七武士\n执行时间： 0.8771748542785645\n"
    }
   ],
   "source": [
    "# 单个线程的的异步爬虫，运用aiohttp\n",
    "import asyncio\n",
    "import aiohttp\n",
    "from bs4 import BeautifulSoup\n",
    "import requests\n",
    "\n",
    "\n",
    "def get_title_sync(i):\n",
    "    url = 'https://movie.douban.com/top250?start={}&filter='.format(i*25)\n",
    "    resp=requests.get(url)\n",
    "    # print(resp.status)\n",
    "    # text =  resp.text()\n",
    "    print('start', i)\n",
    "\n",
    "    # soup = BeautifulSoup(resp, 'html.parser')\n",
    "    # lis = soup.find('ol', class_='grid_view').find_all('li')\n",
    "    # for li in lis:\n",
    "    #     title = li.find('span', class_=\"title\").text\n",
    "    #     print(title)\n",
    "\n",
    "start=time.time()\n",
    "for i in range(10):\n",
    "    get_title_sync(i)\n",
    "stop=time.time()\n",
    "print('执行时间：',stop-start) # 8秒\n",
    "\n",
    "\n",
    "async def get_title(i):\n",
    "    url = 'https://movie.douban.com/top250?start={}&filter='.format(i*25)\n",
    "    async with aiohttp.ClientSession() as session:\n",
    "        async with session.get(url) as resp:\n",
    "            print(resp.status)\n",
    "            text = await resp.text()\n",
    "            print('start', i)\n",
    "    soup = BeautifulSoup(text, 'html.parser')\n",
    "    lis = soup.find('ol', class_='grid_view').find_all('li')\n",
    "    for li in lis:\n",
    "        title = li.find('span', class_=\"title\").text\n",
    "        print(title)\n",
    "\n",
    "start=time.time()\n",
    "loop = asyncio.get_event_loop()\n",
    "fun_list = (get_title(i) for i in range(10))\n",
    "loop.run_until_complete(asyncio.gather(*fun_list))\n",
    "stop=time.time()\n",
    "print('执行时间：',stop-start) # 0.8秒"
   ]
  }
 ]
}
{
 "cells": [
  {
   "cell_type": "markdown",
   "metadata": {},
   "source": [
    "# 参考  \n",
    "https://github.com/ypwhs/captcha_break/cnn_2019.ipynb\n",
    "tensorflow 库版本1.15，更好\n",
    "\n",
    "# 导入必要的库\n",
    "\n",
    "我们需要导入一个叫 [captcha](https://github.com/lepture/captcha/) 的库来生成验证码。\n",
    "\n",
    "我们生成验证码的字符由数字和大写字母组成。\n",
    "\n",
    "```sh\n",
    "pip install captcha numpy matplotlib tensorflow-gpu\n",
    "```"
   ]
  },
  {
   "cell_type": "code",
   "execution_count": 1,
   "metadata": {
    "ExecuteTime": {
     "end_time": "2019-06-16T06:50:53.934028Z",
     "start_time": "2019-06-16T06:50:53.690430Z"
    },
    "tags": []
   },
   "outputs": [
    {
     "output_type": "stream",
     "name": "stdout",
     "text": "ABCDEFGHIJKLMNOPQRSTUVWXYZabcdefghijklmnopqrstuvwxyz\n"
    }
   ],
   "source": [
    "from captcha.image import ImageCaptcha\n",
    "import matplotlib.pyplot as plt\n",
    "import numpy as np\n",
    "import random\n",
    "\n",
    "%matplotlib inline\n",
    "%config InlineBackend.figure_format = 'retina'\n",
    "\n",
    "import string\n",
    "# characters = string.digits + string.ascii_uppercase\n",
    "characters = string.ascii_uppercase+ string.ascii_lowercase\n",
    "print(characters)\n",
    "\n",
    "width, height, n_len, n_class = 128, 64, 4, len(characters)"
   ]
  },
  {
   "cell_type": "markdown",
   "metadata": {
    "ExecuteTime": {
     "end_time": "2019-06-15T16:05:54.140766Z",
     "start_time": "2019-06-15T16:05:54.137935Z"
    }
   },
   "source": [
    "# 防止 tensorflow 占用所有显存"
   ]
  },
  {
   "cell_type": "code",
   "execution_count": 2,
   "metadata": {
    "ExecuteTime": {
     "end_time": "2019-06-16T06:50:55.074201Z",
     "start_time": "2019-06-16T06:50:53.935176Z"
    }
   },
   "outputs": [],
   "source": [
    "import tensorflow as tf\n",
    "import tensorflow.keras.backend as K\n",
    "\n",
    "config = tf.ConfigProto()\n",
    "\n",
    "##########这里的版本可能有问题，提示错误module 'tensorflow' has no attribute 'ConfigProto'：\n",
    "# 如果使用2.1或2.2有问题，用tensorflow\n",
    "\n",
    "config.gpu_options.allow_growth=True\n",
    "sess = tf.Session(config=config)\n",
    "K.set_session(sess)"
   ]
  },
  {
   "cell_type": "code",
   "execution_count": 3,
   "metadata": {
    "tags": []
   },
   "outputs": [
    {
     "output_type": "error",
     "ename": "AttributeError",
     "evalue": "module 'tensorflow' has no attribute 'session'",
     "traceback": [
      "\u001b[1;31m---------------------------------------------------------------------------\u001b[0m",
      "\u001b[1;31mAttributeError\u001b[0m                            Traceback (most recent call last)",
      "\u001b[1;32m<ipython-input-3-2a745a5f97fb>\u001b[0m in \u001b[0;36m<module>\u001b[1;34m\u001b[0m\n\u001b[0;32m      1\u001b[0m \u001b[0mConfig\u001b[0m\u001b[1;33m=\u001b[0m\u001b[0mtf\u001b[0m\u001b[1;33m.\u001b[0m\u001b[0mConfigProto\u001b[0m\u001b[1;33m(\u001b[0m\u001b[0mallow_soft_placement\u001b[0m\u001b[1;33m=\u001b[0m\u001b[1;32mTrue\u001b[0m\u001b[1;33m)\u001b[0m  \u001b[1;31m##:如果你指定的设备不存在,允许TF自动分配设备\u001b[0m\u001b[1;33m\u001b[0m\u001b[1;33m\u001b[0m\u001b[0m\n\u001b[0;32m      2\u001b[0m \u001b[0mConfig\u001b[0m\u001b[1;33m.\u001b[0m\u001b[0mgpu_options\u001b[0m\u001b[1;33m.\u001b[0m\u001b[0mallow_growth\u001b[0m\u001b[1;33m=\u001b[0m\u001b[1;32mTrue\u001b[0m  \u001b[1;31m##动态分配内存\u001b[0m\u001b[1;33m\u001b[0m\u001b[1;33m\u001b[0m\u001b[0m\n\u001b[1;32m----> 3\u001b[1;33m \u001b[0msess\u001b[0m\u001b[1;33m=\u001b[0m\u001b[0mtf\u001b[0m\u001b[1;33m.\u001b[0m\u001b[0msession\u001b[0m\u001b[1;33m(\u001b[0m\u001b[0mconfig\u001b[0m\u001b[1;33m=\u001b[0m\u001b[0mconfig\u001b[0m\u001b[1;33m)\u001b[0m\u001b[1;33m\u001b[0m\u001b[1;33m\u001b[0m\u001b[0m\n\u001b[0m",
      "\u001b[1;32m~\\AppData\\Local\\Programs\\Python\\Python37\\lib\\site-packages\\tensorflow_core\\python\\util\\module_wrapper.py\u001b[0m in \u001b[0;36m__getattr__\u001b[1;34m(self, name)\u001b[0m\n\u001b[0;32m    191\u001b[0m   \u001b[1;32mdef\u001b[0m \u001b[0m__getattr__\u001b[0m\u001b[1;33m(\u001b[0m\u001b[0mself\u001b[0m\u001b[1;33m,\u001b[0m \u001b[0mname\u001b[0m\u001b[1;33m)\u001b[0m\u001b[1;33m:\u001b[0m\u001b[1;33m\u001b[0m\u001b[1;33m\u001b[0m\u001b[0m\n\u001b[0;32m    192\u001b[0m     \u001b[1;32mtry\u001b[0m\u001b[1;33m:\u001b[0m\u001b[1;33m\u001b[0m\u001b[1;33m\u001b[0m\u001b[0m\n\u001b[1;32m--> 193\u001b[1;33m       \u001b[0mattr\u001b[0m \u001b[1;33m=\u001b[0m \u001b[0mgetattr\u001b[0m\u001b[1;33m(\u001b[0m\u001b[0mself\u001b[0m\u001b[1;33m.\u001b[0m\u001b[0m_tfmw_wrapped_module\u001b[0m\u001b[1;33m,\u001b[0m \u001b[0mname\u001b[0m\u001b[1;33m)\u001b[0m\u001b[1;33m\u001b[0m\u001b[1;33m\u001b[0m\u001b[0m\n\u001b[0m\u001b[0;32m    194\u001b[0m     \u001b[1;32mexcept\u001b[0m \u001b[0mAttributeError\u001b[0m\u001b[1;33m:\u001b[0m\u001b[1;33m\u001b[0m\u001b[1;33m\u001b[0m\u001b[0m\n\u001b[0;32m    195\u001b[0m       \u001b[1;32mif\u001b[0m \u001b[1;32mnot\u001b[0m \u001b[0mself\u001b[0m\u001b[1;33m.\u001b[0m\u001b[0m_tfmw_public_apis\u001b[0m\u001b[1;33m:\u001b[0m\u001b[1;33m\u001b[0m\u001b[1;33m\u001b[0m\u001b[0m\n",
      "\u001b[1;31mAttributeError\u001b[0m: module 'tensorflow' has no attribute 'session'"
     ]
    }
   ],
   "source": [
    "Config=tf.ConfigProto(allow_soft_placement=True)  ##:如果你指定的设备不存在,允许TF自动分配设备\n",
    "Config.gpu_options.allow_growth=True  ##动态分配内存\n",
    "sess=tf.session(config=config)"
   ]
  },
  {
   "cell_type": "markdown",
   "metadata": {},
   "source": [
    "# 定义数据生成器"
   ]
  },
  {
   "cell_type": "code",
   "execution_count": 4,
   "metadata": {
    "ExecuteTime": {
     "end_time": "2019-06-16T06:50:55.086492Z",
     "start_time": "2019-06-16T06:50:55.077459Z"
    },
    "code_folding": []
   },
   "outputs": [],
   "source": [
    "from tensorflow.keras.utils import Sequence\n",
    "\n",
    "class CaptchaSequence(Sequence):\n",
    "    def __init__(self, characters, batch_size, steps, n_len=4, width=128, height=64):\n",
    "        self.characters = characters\n",
    "        self.batch_size = batch_size\n",
    "        self.steps = steps\n",
    "        self.n_len = n_len\n",
    "        self.width = width\n",
    "        self.height = height\n",
    "        self.n_class = len(characters)\n",
    "        self.generator = ImageCaptcha(width=width, height=height)\n",
    "    \n",
    "    def __len__(self):\n",
    "        return self.steps\n",
    "\n",
    "    def __getitem__(self, idx):\n",
    "        X = np.zeros((self.batch_size, self.height, self.width, 3), dtype=np.float32)\n",
    "        y = [np.zeros((self.batch_size, self.n_class), dtype=np.uint8) for i in range(self.n_len)]\n",
    "        for i in range(self.batch_size):\n",
    "            random_str = ''.join([random.choice(self.characters) for j in range(self.n_len)])\n",
    "            X[i] = np.array(self.generator.generate_image(random_str)) / 255.0\n",
    "            for j, ch in enumerate(random_str):\n",
    "                y[j][i, :] = 0\n",
    "                y[j][i, self.characters.find(ch)] = 1\n",
    "        return X, y"
   ]
  },
  {
   "cell_type": "markdown",
   "metadata": {},
   "source": [
    "# 测试生成器"
   ]
  },
  {
   "cell_type": "code",
   "execution_count": 5,
   "metadata": {
    "ExecuteTime": {
     "end_time": "2019-06-16T06:50:55.270137Z",
     "start_time": "2019-06-16T06:50:55.087727Z"
    }
   },
   "outputs": [
    {
     "output_type": "execute_result",
     "data": {
      "text/plain": "Text(0.5, 1.0, 'umOP')"
     },
     "metadata": {},
     "execution_count": 5
    },
    {
     "output_type": "display_data",
     "data": {
      "text/plain": "<Figure size 432x288 with 1 Axes>",
      "image/png": "[encoded data removed]"
     },
     "metadata": {
      "image/png": {
       "width": 368,
       "height": 213
      },
      "needs_background": "light"
     }
    }
   ],
   "source": [
    "def decode(y):\n",
    "    y = np.argmax(np.array(y), axis=2)[:,0]\n",
    "    return ''.join([characters[x] for x in y])\n",
    "\n",
    "data = CaptchaSequence(characters, batch_size=1, steps=1)\n",
    "X, y = data[0]\n",
    "plt.imshow(X[0])\n",
    "plt.title(decode(y))"
   ]
  },
  {
   "cell_type": "markdown",
   "metadata": {},
   "source": [
    "# 定义网络结构"
   ]
  },
  {
   "cell_type": "code",
   "execution_count": 6,
   "metadata": {
    "ExecuteTime": {
     "end_time": "2019-06-16T06:50:55.858663Z",
     "start_time": "2019-06-16T06:50:55.271265Z"
    },
    "tags": []
   },
   "outputs": [
    {
     "output_type": "stream",
     "name": "stdout",
     "text": "WARNING:tensorflow:From C:\\Users\\Aaron\\AppData\\Local\\Programs\\Python\\Python37\\lib\\site-packages\\tensorflow_core\\python\\ops\\resource_variable_ops.py:1630: calling BaseResourceVariable.__init__ (from tensorflow.python.ops.resource_variable_ops) with constraint is deprecated and will be removed in a future version.\nInstructions for updating:\nIf using Keras pass *_constraint arguments to layers.\n"
    }
   ],
   "source": [
    "from tensorflow.keras.models import *\n",
    "from tensorflow.keras.layers import *\n",
    "\n",
    "input_tensor = Input((height, width, 3))\n",
    "x = input_tensor\n",
    "for i, n_cnn in enumerate([2, 2, 2, 2, 2]):\n",
    "    for j in range(n_cnn):\n",
    "        x = Conv2D(32*2**min(i, 3), kernel_size=3, padding='same', kernel_initializer='he_uniform')(x)\n",
    "        x = BatchNormalization()(x)\n",
    "        x = Activation('relu')(x)\n",
    "    x = MaxPooling2D(2)(x)\n",
    "\n",
    "x = Flatten()(x)\n",
    "x = [Dense(n_class, activation='softmax', name='c%d'%(i+1))(x) for i in range(n_len)]\n",
    "model = Model(inputs=input_tensor, outputs=x)"
   ]
  },
  {
   "cell_type": "markdown",
   "metadata": {},
   "source": [
    "# 网络结构可视化\n",
    "\n",
    "可视化需要安装下面的包：\n",
    "\n",
    "```sh\n",
    "pip install pydot\n",
    "sudo apt install graphviz\n",
    "```"
   ]
  },
  {
   "cell_type": "code",
   "execution_count": null,
   "metadata": {
    "ExecuteTime": {
     "end_time": "2019-06-16T06:50:56.142853Z",
     "start_time": "2019-06-16T06:50:55.860085Z"
    },
    "scrolled": false
   },
   "outputs": [],
   "source": [
    "from tensorflow.keras.utils import plot_model\n",
    "from IPython.display import Image\n",
    "\n",
    "import os\n",
    "os.environ['PATH']+=os.pathsep+\"C:\\\\LocalTempFiles\\\\Graphviz\\\\bin\"\n",
    "\n",
    "plot_model(model, to_file='cnn.png', show_shapes=True)\n",
    "Image('cnn.png')"
   ]
  },
  {
   "cell_type": "code",
   "execution_count": 8,
   "metadata": {
    "ExecuteTime": {
     "end_time": "2019-06-16T06:50:56.164154Z",
     "start_time": "2019-06-16T06:50:56.145970Z"
    },
    "tags": []
   },
   "outputs": [
    {
     "output_type": "stream",
     "name": "stdout",
     "text": "Model: \"model\"\n__________________________________________________________________________________________________\nLayer (type)                    Output Shape         Param #     Connected to                     \n==================================================================================================\ninput_1 (InputLayer)            [(None, 64, 128, 3)] 0                                            \n__________________________________________________________________________________________________\nconv2d (Conv2D)                 (None, 64, 128, 32)  896         input_1[0][0]                    \n__________________________________________________________________________________________________\nbatch_normalization (BatchNorma (None, 64, 128, 32)  128         conv2d[0][0]                     \n__________________________________________________________________________________________________\nactivation (Activation)         (None, 64, 128, 32)  0           batch_normalization[0][0]        \n__________________________________________________________________________________________________\nconv2d_1 (Conv2D)               (None, 64, 128, 32)  9248        activation[0][0]                 \n__________________________________________________________________________________________________\nbatch_normalization_1 (BatchNor (None, 64, 128, 32)  128         conv2d_1[0][0]                   \n__________________________________________________________________________________________________\nactivation_1 (Activation)       (None, 64, 128, 32)  0           batch_normalization_1[0][0]      \n__________________________________________________________________________________________________\nmax_pooling2d (MaxPooling2D)    (None, 32, 64, 32)   0           activation_1[0][0]               \n__________________________________________________________________________________________________\nconv2d_2 (Conv2D)               (None, 32, 64, 64)   18496       max_pooling2d[0][0]              \n__________________________________________________________________________________________________\nbatch_normalization_2 (BatchNor (None, 32, 64, 64)   256         conv2d_2[0][0]                   \n__________________________________________________________________________________________________\nactivation_2 (Activation)       (None, 32, 64, 64)   0           batch_normalization_2[0][0]      \n__________________________________________________________________________________________________\nconv2d_3 (Conv2D)               (None, 32, 64, 64)   36928       activation_2[0][0]               \n__________________________________________________________________________________________________\nbatch_normalization_3 (BatchNor (None, 32, 64, 64)   256         conv2d_3[0][0]                   \n__________________________________________________________________________________________________\nactivation_3 (Activation)       (None, 32, 64, 64)   0           batch_normalization_3[0][0]      \n__________________________________________________________________________________________________\nmax_pooling2d_1 (MaxPooling2D)  (None, 16, 32, 64)   0           activation_3[0][0]               \n__________________________________________________________________________________________________\nconv2d_4 (Conv2D)               (None, 16, 32, 128)  73856       max_pooling2d_1[0][0]            \n__________________________________________________________________________________________________\nbatch_normalization_4 (BatchNor (None, 16, 32, 128)  512         conv2d_4[0][0]                   \n__________________________________________________________________________________________________\nactivation_4 (Activation)       (None, 16, 32, 128)  0           batch_normalization_4[0][0]      \n__________________________________________________________________________________________________\nconv2d_5 (Conv2D)               (None, 16, 32, 128)  147584      activation_4[0][0]               \n__________________________________________________________________________________________________\nbatch_normalization_5 (BatchNor (None, 16, 32, 128)  512         conv2d_5[0][0]                   \n__________________________________________________________________________________________________\nactivation_5 (Activation)       (None, 16, 32, 128)  0           batch_normalization_5[0][0]      \n__________________________________________________________________________________________________\nmax_pooling2d_2 (MaxPooling2D)  (None, 8, 16, 128)   0           activation_5[0][0]               \n__________________________________________________________________________________________________\nconv2d_6 (Conv2D)               (None, 8, 16, 256)   295168      max_pooling2d_2[0][0]            \n__________________________________________________________________________________________________\nbatch_normalization_6 (BatchNor (None, 8, 16, 256)   1024        conv2d_6[0][0]                   \n__________________________________________________________________________________________________\nactivation_6 (Activation)       (None, 8, 16, 256)   0           batch_normalization_6[0][0]      \n__________________________________________________________________________________________________\nconv2d_7 (Conv2D)               (None, 8, 16, 256)   590080      activation_6[0][0]               \n__________________________________________________________________________________________________\nbatch_normalization_7 (BatchNor (None, 8, 16, 256)   1024        conv2d_7[0][0]                   \n__________________________________________________________________________________________________\nactivation_7 (Activation)       (None, 8, 16, 256)   0           batch_normalization_7[0][0]      \n__________________________________________________________________________________________________\nmax_pooling2d_3 (MaxPooling2D)  (None, 4, 8, 256)    0           activation_7[0][0]               \n__________________________________________________________________________________________________\nconv2d_8 (Conv2D)               (None, 4, 8, 256)    590080      max_pooling2d_3[0][0]            \n__________________________________________________________________________________________________\nbatch_normalization_8 (BatchNor (None, 4, 8, 256)    1024        conv2d_8[0][0]                   \n__________________________________________________________________________________________________\nactivation_8 (Activation)       (None, 4, 8, 256)    0           batch_normalization_8[0][0]      \n__________________________________________________________________________________________________\nconv2d_9 (Conv2D)               (None, 4, 8, 256)    590080      activation_8[0][0]               \n__________________________________________________________________________________________________\nbatch_normalization_9 (BatchNor (None, 4, 8, 256)    1024        conv2d_9[0][0]                   \n__________________________________________________________________________________________________\nactivation_9 (Activation)       (None, 4, 8, 256)    0           batch_normalization_9[0][0]      \n__________________________________________________________________________________________________\nmax_pooling2d_4 (MaxPooling2D)  (None, 2, 4, 256)    0           activation_9[0][0]               \n__________________________________________________________________________________________________\nflatten (Flatten)               (None, 2048)         0           max_pooling2d_4[0][0]            \n__________________________________________________________________________________________________\nc1 (Dense)                      (None, 52)           106548      flatten[0][0]                    \n__________________________________________________________________________________________________\nc2 (Dense)                      (None, 52)           106548      flatten[0][0]                    \n__________________________________________________________________________________________________\nc3 (Dense)                      (None, 52)           106548      flatten[0][0]                    \n__________________________________________________________________________________________________\nc4 (Dense)                      (None, 52)           106548      flatten[0][0]                    \n==================================================================================================\nTotal params: 2,784,496\nTrainable params: 2,781,552\nNon-trainable params: 2,944\n__________________________________________________________________________________________________\n"
    }
   ],
   "source": [
    "model.summary()"
   ]
  },
  {
   "cell_type": "markdown",
   "metadata": {},
   "source": [
    "# 训练模型"
   ]
  },
  {
   "cell_type": "code",
   "execution_count": 1,
   "metadata": {
    "tags": []
   },
   "outputs": [
    {
     "output_type": "stream",
     "name": "stdout",
     "text": "Device mapping:\n\n[[22. 28.]\n [49. 64.]]\n"
    }
   ],
   "source": [
    "# 查看GPU是否在用\n",
    "import tensorflow as tf\n",
    "# Creates a graph.\n",
    "a = tf.constant([1.0, 2.0, 3.0, 4.0, 5.0, 6.0], shape=[2, 3], name='a')\n",
    "b = tf.constant([1.0, 2.0, 3.0, 4.0, 5.0, 6.0], shape=[3, 2], name='b')\n",
    "c = tf.matmul(a, b)\n",
    "# Creates a session with log_device_placement set to True.\n",
    "sess = tf.Session(config=tf.ConfigProto(log_device_placement=True))\n",
    "# Runs the op.\n",
    "print(sess.run(c))\n",
    "\n",
    "# 作者：猪了个去\n",
    "# 链接：https://www.zhihu.com/question/263850405/answer/274242064\n",
    "# 来源：知乎\n",
    "# 著作权归作者所有。商业转载请联系作者获得授权，非商业转载请注明出处。"
   ]
  },
  {
   "cell_type": "code",
   "execution_count": 7,
   "metadata": {
    "ExecuteTime": {
     "end_time": "2019-06-16T07:23:32.907096Z",
     "start_time": "2019-06-16T06:50:56.167239Z"
    },
    "scrolled": false,
    "tags": []
   },
   "outputs": [
    {
     "output_type": "stream",
     "name": "stdout",
     "text": "Epoch 1/100\n 999/1000 [============================>.] - ETA: 9s - loss: 6.9526 - c1_loss: 1.6701 - c2_loss: 1.8229 - c3_loss: 1.8173 - c4_loss: 1.6424 - c1_acc: 0.5717 - c2_acc: 0.5327 - c3_acc: 0.5334 - c4_acc: 0.5795Epoch 1/100\n1000/1000 [==============================] - 9552s 10s/step - loss: 6.9461 - c1_loss: 1.6685 - c2_loss: 1.8212 - c3_loss: 1.8156 - c4_loss: 1.6408 - c1_acc: 0.5721 - c2_acc: 0.5331 - c3_acc: 0.5338 - c4_acc: 0.5800 - val_loss: 0.6979 - val_c1_loss: 0.1173 - val_c2_loss: 0.2454 - val_c3_loss: 0.2357 - val_c4_loss: 0.0995 - val_c1_acc: 0.9590 - val_c2_acc: 0.9226 - val_c3_acc: 0.9255 - val_c4_acc: 0.9663\nEpoch 2/100\n 999/1000 [============================>.] - ETA: 9s - loss: 0.3825 - c1_loss: 0.0762 - c2_loss: 0.1160 - c3_loss: 0.1156 - c4_loss: 0.0748 - c1_acc: 0.9741 - c2_acc: 0.9611 - c3_acc: 0.9609 - c4_acc: 0.9740Epoch 1/100\n1000/1000 [==============================] - 9214s 9s/step - loss: 0.3825 - c1_loss: 0.0761 - c2_loss: 0.1160 - c3_loss: 0.1156 - c4_loss: 0.0748 - c1_acc: 0.9741 - c2_acc: 0.9610 - c3_acc: 0.9609 - c4_acc: 0.9740 - val_loss: 0.6026 - val_c1_loss: 0.1373 - val_c2_loss: 0.1617 - val_c3_loss: 0.1695 - val_c4_loss: 0.1340 - val_c1_acc: 0.9613 - val_c2_acc: 0.9488 - val_c3_acc: 0.9482 - val_c4_acc: 0.9588\nEpoch 3/100\n 294/1000 [=======>......................] - ETA: 1:42:49 - loss: 0.2766 - c1_loss: 0.0601 - c2_loss: 0.0787 - c3_loss: 0.0838 - c4_loss: 0.0539 - c1_acc: 0.9790 - c2_acc: 0.9722 - c3_acc: 0.9713 - c4_acc: 0.9816"
    }
   ],
   "source": [
    "from tensorflow.keras.callbacks import EarlyStopping, CSVLogger, ModelCheckpoint\n",
    "from tensorflow.keras.optimizers import *\n",
    "\n",
    "# train_data = CaptchaSequence(characters, batch_size=128, steps=1000)\n",
    "# valid_data = CaptchaSequence(characters, batch_size=128, steps=100)\n",
    "\n",
    "train_data = CaptchaSequence(characters, batch_size=128, steps=1000)\n",
    "valid_data = CaptchaSequence(characters, batch_size=128, steps=100)\n",
    "\n",
    "callbacks = [EarlyStopping(patience=3), CSVLogger('cnn.csv'), ModelCheckpoint('cnn_best.h5', save_best_only=True)]\n",
    "\n",
    "model.compile(loss='categorical_crossentropy',\n",
    "              optimizer=Adam(1e-3, amsgrad=True), \n",
    "              metrics=['accuracy'])\n",
    "\n",
    "# 原来的代码，model.fit_generator改为model.fit()，epochs 1000改为1，use_multiprocessing true改为false, 否则会报错\n",
    "# model.fit_generator(train_data, epochs=100, validation_data=valid_data, workers=4, use_multiprocessing=True,\n",
    "#                     callbacks=callbacks) \n",
    "\n",
    "# use_multiprocessing=False，1000轮经过近3小时\n",
    "# model.fit(train_data, epochs=1, validation_data=valid_data, workers=4, use_multiprocessing=True,\n",
    "#                     callbacks=callbacks)\n",
    "\n",
    "\n",
    "model.fit_generator(train_data, epochs=100, validation_data=valid_data, workers=2, use_multiprocessing=False,\n",
    "                    callbacks=callbacks) \n"
   ]
  },
  {
   "cell_type": "markdown",
   "metadata": {},
   "source": [
    "### 载入最好的模型继续训练一会"
   ]
  },
  {
   "cell_type": "code",
   "execution_count": null,
   "metadata": {
    "ExecuteTime": {
     "end_time": "2019-06-16T07:50:24.448235Z",
     "start_time": "2019-06-16T07:23:32.909470Z"
    },
    "tags": []
   },
   "outputs": [],
   "source": [
    "model.load_weights('cnn_best.h5')\n",
    "\n",
    "callbacks = [EarlyStopping(patience=3), CSVLogger('cnn.csv', append=True), \n",
    "             ModelCheckpoint('cnn_best.h5', save_best_only=True)]\n",
    "\n",
    "\n",
    "model.compile(loss='categorical_crossentropy',\n",
    "              optimizer=Adam(1e-4, amsgrad=True), \n",
    "              metrics=['accuracy'])\n",
    "\n",
    "# Incompatible shapes 实把这个metrics=['accuracy'] 去掉就可以了， 这其实是2.2.4版本的bug，可以选择降级\n",
    "# model.compile(loss='categorical_crossentropy',\n",
    "#               optimizer=Adam(1e-4, amsgrad=True))\n",
    "\n",
    "# model.fit_generator(train_data, epochs=100, validation_data=valid_data, workers=4, use_multiprocessing=True,\n",
    "#                     callbacks=callbacks)\n",
    "\n",
    "model.fit(train_data, epochs=1, validation_data=valid_data, workers=4, use_multiprocessing=True,\n",
    "                    callbacks=callbacks)"
   ]
  },
  {
   "cell_type": "code",
   "execution_count": null,
   "metadata": {
    "ExecuteTime": {
     "end_time": "2019-06-16T07:50:24.503998Z",
     "start_time": "2019-06-16T07:50:24.450513Z"
    }
   },
   "outputs": [],
   "source": [
    "model.load_weights('cnn_best.h5')"
   ]
  },
  {
   "cell_type": "markdown",
   "metadata": {},
   "source": [
    "# 测试模型"
   ]
  },
  {
   "cell_type": "code",
   "execution_count": null,
   "metadata": {
    "ExecuteTime": {
     "end_time": "2019-06-16T07:50:25.239664Z",
     "start_time": "2019-06-16T07:50:24.505655Z"
    }
   },
   "outputs": [],
   "source": [
    "X, y = data[0]\n",
    "y_pred = model.predict(X)\n",
    "plt.title('real: %s\\npred:%s'%(decode(y), decode(y_pred)))\n",
    "plt.imshow(X[0], cmap='gray')\n",
    "plt.axis('off')"
   ]
  },
  {
   "cell_type": "markdown",
   "metadata": {},
   "source": [
    "# 计算模型总体准确率"
   ]
  },
  {
   "cell_type": "code",
   "execution_count": null,
   "metadata": {
    "ExecuteTime": {
     "end_time": "2019-06-16T07:51:08.652629Z",
     "start_time": "2019-06-16T07:50:25.241494Z"
    }
   },
   "outputs": [],
   "source": [
    "from tqdm import tqdm\n",
    "def evaluate(model, batch_num=100):\n",
    "    batch_acc = 0\n",
    "    with tqdm(CaptchaSequence(characters, batch_size=128, steps=100)) as pbar:\n",
    "        for X, y in pbar:\n",
    "            y_pred = model.predict(X)\n",
    "            y_pred = np.argmax(y_pred, axis=-1).T\n",
    "            y_true = np.argmax(y, axis=-1).T\n",
    "\n",
    "            batch_acc += (y_true == y_pred).all(axis=-1).mean()\n",
    "    return batch_acc / batch_num\n",
    "\n",
    "evaluate(model)"
   ]
  },
  {
   "cell_type": "markdown",
   "metadata": {},
   "source": [
    "# 保存模型"
   ]
  },
  {
   "cell_type": "code",
   "execution_count": null,
   "metadata": {
    "ExecuteTime": {
     "end_time": "2019-06-16T07:51:08.720802Z",
     "start_time": "2019-06-16T07:51:08.654545Z"
    }
   },
   "outputs": [],
   "source": [
    "model.save('cnn.h5', include_optimizer=False)"
   ]
  },
  {
   "cell_type": "markdown",
   "metadata": {},
   "source": [
    "# 可视化训练曲线\n",
    "\n",
    "```sh\n",
    "pip install pandas\n",
    "```"
   ]
  },
  {
   "cell_type": "code",
   "execution_count": null,
   "metadata": {
    "ExecuteTime": {
     "end_time": "2019-06-16T07:51:08.886141Z",
     "start_time": "2019-06-16T07:51:08.722437Z"
    }
   },
   "outputs": [],
   "source": [
    "import pandas as pd\n",
    "\n",
    "df = pd.read_csv('cnn.csv')\n",
    "df[['loss', 'val_loss']].plot()"
   ]
  },
  {
   "cell_type": "code",
   "execution_count": null,
   "metadata": {
    "ExecuteTime": {
     "end_time": "2019-06-16T07:51:09.242749Z",
     "start_time": "2019-06-16T07:51:08.887386Z"
    }
   },
   "outputs": [],
   "source": [
    "df[['loss', 'val_loss']].plot(logy=True)"
   ]
  },
  {
   "cell_type": "code",
   "execution_count": null,
   "metadata": {},
   "outputs": [],
   "source": []
  }
 ],
 "metadata": {
  "kernelspec": {
   "display_name": "Python 3",
   "language": "python",
   "name": "python3"
  },
  "language_info": {
   "codemirror_mode": {
    "name": "ipython",
    "version": 3
   },
   "file_extension": ".py",
   "mimetype": "text/x-python",
   "name": "python",
   "nbconvert_exporter": "python",
   "pygments_lexer": "ipython3",
   "version": "3.7.7-final"
  }
 },
 "nbformat": 4,
 "nbformat_minor": 2
}
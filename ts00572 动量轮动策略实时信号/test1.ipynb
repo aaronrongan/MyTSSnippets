{
 "metadata": {
  "language_info": {
   "codemirror_mode": {
    "name": "ipython",
    "version": 3
   },
   "file_extension": ".py",
   "mimetype": "text/x-python",
   "name": "python",
   "nbconvert_exporter": "python",
   "pygments_lexer": "ipython3",
   "version": "3.7.7-final"
  },
  "orig_nbformat": 2,
  "kernelspec": {
   "name": "python_defaultSpec_1597032254187",
   "display_name": "Python 3.7.7 64-bit"
  }
 },
 "nbformat": 4,
 "nbformat_minor": 2,
 "cells": [
  {
   "cell_type": "code",
   "execution_count": null,
   "metadata": {
    "tags": []
   },
   "outputs": [],
   "source": [
    "# 父类、子类的函数调用。super实现\n",
    "class ETFStrategy():\n",
    "    def __init__(self):\n",
    "        self.a='a'\n",
    "\n",
    "    def GetBestIndex(self):\n",
    "        print(self.ETFList)\n",
    "\n",
    "class ETFStrategy010(ETFStrategy):\n",
    "    def __init__(self):\n",
    "        #默认值\n",
    "        super(ETFStrategy010, self).__init__()\n",
    "        self.ETFList = 'hello'\n",
    "\n",
    "    def test(self):\n",
    "        print(self.a)\n",
    "\n",
    "st1=ETFStrategy010()\n",
    "    \n",
    "st1.test()\n",
    "\n",
    "# 模拟账户类，本金投入后，当前持有的股票池(名称和股份)、现金，以及推导出的总资产，\n",
    "# 可以保存有操作记录\n",
    "class Account():\n",
    "    # 本金\n",
    "    # 操作记录\n",
    "    # 当前资金\n",
    "    # 当前股份及金额 portfolio.positions.\n",
    "    \n",
    "    def __init__():\n",
    "        pass\n",
    "\n",
    "# 简单账户类，只是用来计算指数或ETF的每次进出理论值，比如买入时1元，卖出时1.1元，总资产就增值10%，\n",
    "class AccountSimple(Account):\n",
    "    pass\n",
    "\n",
    "class BackTest():\n",
    "    #   开始时间\n",
    "    #   结束时间\n",
    "    #   策略参数设置\n",
    "    #   佣金率\n",
    "    #   业绩表现\n",
    "    #   操作记录"
   ]
  },
  {
   "cell_type": "code",
   "execution_count": null,
   "metadata": {
    "tags": []
   },
   "outputs": [],
   "source": [
    "# 类的静态方法\n",
    "from jqdatasdk import *\n",
    "class JQDataInterface():\n",
    "    def __init__(self):\n",
    "        auth('13651829783','aaronjoinquant')\n",
    "\n",
    "    @staticmethod\n",
    "    def GetCount():\n",
    "        JQDataInterface()\n",
    "        count=get_query_count()\n",
    "        return count\n",
    "\n",
    "\n",
    "print(JQDataInterface.GetCount())"
   ]
  },
  {
   "cell_type": "code",
   "execution_count": null,
   "metadata": {
    "tags": []
   },
   "outputs": [],
   "source": [
    "# 多个返回值处理\n",
    "def func1():\n",
    "    return 'BUY', '000300'\n",
    "\n",
    "Signal,Index=func1()\n",
    "print(Index)"
   ]
  },
  {
   "cell_type": "code",
   "execution_count": null,
   "metadata": {
    "tags": []
   },
   "outputs": [],
   "source": [
    "# file_path  = os.path.abspath(__file__)\n",
    "pwd = os.getcwd()\n",
    "print(pwd)\n",
    "\n",
    "with open(pwd +'/Data/' + 'StrategyPosition_020.csv' ) as file_obj:\n",
    "    lines = file_obj.readlines()\n",
    "\n",
    "print(lines)\n",
    "if lines=='':\n",
    "    lines[0].split(',')[1]\n",
    "else:\n",
    "    print('EMPTY')"
   ]
  },
  {
   "cell_type": "code",
   "execution_count": null,
   "metadata": {
    "tags": []
   },
   "outputs": [],
   "source": [
    "#  文件的打开写入\n",
    "pwd = os.getcwd()\n",
    "print(pwd)\n",
    "\n",
    "with open(pwd +'/Data/' + 'StrategyLogger_010.csv','a' ) as file_obj:\n",
    "    file_obj.writelines('2020-07-15' + ','+'15:00:00'+',' + 'SELL'+','+ '003000' + ',' + '1000')\n",
    "    file_obj.writelines('\\n')\n",
    "    file_obj.writelines('2020-07-16' + ','+'15:00:00'+',' + 'BUY'+','+ '003000' + ',' + '1000')"
   ]
  },
  {
   "cell_type": "code",
   "execution_count": null,
   "metadata": {
    "tags": []
   },
   "outputs": [],
   "source": [
    "#  文件的打开读取\n",
    " pwd = os.getcwd()\n",
    "\n",
    " try:\n",
    "     with open(pwd +'/Data_RealTime/StrategyPosition_010.csv' ) as file_obj:\n",
    "         lines = file_obj.readlines()\n",
    "\n",
    "except:\n",
    "    print('文件读取错误:'+ self.PositionFileSavePath)\n",
    "    exit()\n",
    "\n",
    "    # finally:\n",
    "    #     file_obj.close()\n",
    "print(lines)\n",
    "if lines!=[]:\n",
    "    index=lines[0].split(',')[0]\n",
    "    shares=lines[0].split(',')[1]\n",
    "\n",
    "    print( index,shares)\n",
    "else:\n",
    "    print('EMPTY')"
   ]
  },
  {
   "cell_type": "code",
   "execution_count": null,
   "metadata": {
    "tags": []
   },
   "outputs": [],
   "source": [
    "# 日期的循环生成\n",
    "import  datetime\n",
    "\n",
    "begin = datetime.date(2019, 1, 21)\n",
    "end = datetime.date(2019, 4, 7)\n",
    "for i in range((end - begin).days + 1):\n",
    "    day = begin + datetime.timedelta(days=i)\n",
    "    print(str(day))"
   ]
  },
  {
   "cell_type": "code",
   "execution_count": null,
   "metadata": {
    "tags": []
   },
   "outputs": [],
   "source": [
    "# 根据名称动态生成类\n",
    "\n",
    "class c1():\n",
    "    def __init__(self):\n",
    "        print('c1')\n",
    "\n",
    "class c2():\n",
    "    def __init__(self):\n",
    "        print('c2')\n",
    "\n",
    "class c3():\n",
    "    def __init__(self):\n",
    "        print('c13')\n",
    "\n",
    "# import module\n",
    "# dynclass= getattr(module, 'c1')\n",
    "# instance = dynclass()\n",
    "\n",
    "dynclass=globals()['c1']\n",
    "instance = dynclass()"
   ]
  },
  {
   "cell_type": "code",
   "execution_count": null,
   "metadata": {
    "tags": []
   },
   "outputs": [],
   "source": [
    "# 私有方法\n",
    "class C1():\n",
    "    def __init__(self):\n",
    "        pass\n",
    "\n",
    "    def __PrivateFunc(self):\n",
    "        print('privatefunc')\n",
    "\n",
    "c1=C1()\n",
    "c1.__PrivateFunc()"
   ]
  },
  {
   "cell_type": "code",
   "execution_count": null,
   "metadata": {
    "tags": []
   },
   "outputs": [],
   "source": [
    "# 日期的连续生成\n",
    "import datetime\n",
    "a = datetime.date(2019,4,29)\n",
    "b = datetime.date(2019,5,3)\n",
    "print(a.toordinal())\n",
    "print(b.toordinal())\n",
    "for i in range(a.toordinal(), b.toordinal()):\n",
    "    print(datetime.date.fromordinal(i))\n",
    "\n",
    "\n",
    "a = datetime.datetime.strptime('2019-04-29' ,'%Y-%m-%d')\n",
    "b = datetime.datetime.strptime('2019-05-03' ,'%Y-%m-%d')\n",
    "for i in range(a.toordinal(), b.toordinal()):\n",
    "    print(datetime.date.fromordinal(i))"
   ]
  },
  {
   "cell_type": "code",
   "execution_count": null,
   "metadata": {
    "tags": []
   },
   "outputs": [],
   "source": [
    "strings='010;020;030'\n",
    "strings=strings.split(';')\n",
    "print(strings)\n",
    "\n",
    "string='010'\n",
    "string=string.split(';')\n",
    "print(string)"
   ]
  },
  {
   "cell_type": "code",
   "execution_count": null,
   "metadata": {},
   "outputs": [],
   "source": [
    "import time\n",
    "theDateTime=time.strftime(\"%Y%m%d_%H:%M:%S\", time.localtime()) \n",
    "theDateTime[2:]"
   ]
  },
  {
   "cell_type": "code",
   "execution_count": null,
   "metadata": {},
   "outputs": [],
   "source": [
    "Path20 = os.path.join('c:\\\\','windows','system32')\n",
    "Path20\n",
    "\n",
    "path=os.path.join(Path20,'1.txt')\n",
    "path"
   ]
  },
  {
   "cell_type": "code",
   "execution_count": null,
   "metadata": {
    "tags": []
   },
   "outputs": [],
   "source": [
    "# 引用其它文件中的类\n",
    "from ts00571 import *\n",
    "\n",
    "JQDataInterface()\n",
    "df=JQDataInterface.GetDayPriceBar('000300.XSHG',3,'2020-07-16',True)\n",
    "df\n",
    "\n"
   ]
  },
  {
   "cell_type": "code",
   "execution_count": null,
   "metadata": {
    "tags": [
     "outputPrepend"
    ]
   },
   "outputs": [],
   "source": [
    "# 引用其它文件中的类\n",
    "\n",
    "import sys \n",
    "sys.path.append('C:\\\\Users\\\\Aaron\\\\Documents\\\\MyMobileBooks_800_Reading\\\\MyTSSnippets\\\\WeChatAPIWrapper')\n",
    "\n",
    "from WeChatAPIWrapper import WeChatAPIWrapper\n",
    "\n",
    "wechat=WeChatAPIWrapper()\n",
    "\n",
    "wechat.Start()\n",
    "\n",
    "wechat.SendMessage('Excellent2')"
   ]
  },
  {
   "cell_type": "code",
   "execution_count": null,
   "metadata": {
    "tags": []
   },
   "outputs": [],
   "source": [
    "import os\n",
    "\n",
    "print(os.sys.path)\n",
    "# print(os.path)"
   ]
  },
  {
   "cell_type": "code",
   "execution_count": null,
   "metadata": {
    "tags": []
   },
   "outputs": [],
   "source": [
    "# 类和子类的运用\n",
    "\n",
    "import os, sys\n",
    "import sys\n",
    "sys.path.append('C:\\\\Users\\\\Aaron\\\\Documents\\\\MyMobileBooks_800_Reading\\\\MyTSSnippets\\\\CommonModules')\n",
    "\n",
    "import pandas as pd\n",
    "\n",
    "from datetime import *\n",
    "import time\n",
    "\n",
    "import csv\n",
    "# import CommonModules.DataFeeder\n",
    "# import CommonModules.JQDataFeeder\n",
    "from DataFeeder import *\n",
    "from JQDataFeeder import *\n",
    "\n",
    "\n",
    "\n",
    "class Performance:\n",
    "    def __init__(self):\n",
    "        self.theBenchmark=self.Benchmark()\n",
    "        self.theTarget=self.Target()\n",
    "        pass\n",
    "\n",
    "        # 仅作为属性用，不用再加入方法\n",
    "    class Benchmark:\n",
    "        def __init__(self):\n",
    "            self.IndexID=''      #Index号\n",
    "            self.ProfitPct=1 # 参考指数收益\n",
    "            self.MaxDrawdown=0 # 最大回测率\n",
    "            print('sub_class')\n",
    "        \n",
    "        def DoSomething(self):\n",
    "        #     print('Benchmark do something')\n",
    "        #     print(self.ID)\n",
    "            pass\n",
    "\n",
    "        def SetBenchmark(self,index):\n",
    "            self.IndexID=index\n",
    "        # 获取该\n",
    "        def GetPerformance(self,startdate,enddate):\n",
    "\n",
    "\n",
    "            startprice=JQDataInterface.GetTheDateTimePrice(self.IndexID,startdate,' 15:00:00')\n",
    "            endprice=JQDataInterface.GetTheDateTimePrice(self.IndexID,enddate,' 15:00:00')\n",
    "\n",
    "            # startprice=JQDataInterface.GetTheDateTimePrice('000300.XSHG','2020-06-01')\n",
    "\n",
    "\n",
    "            self.ProfitPct=endprice/startprice\n",
    "            return self.ProfitPct\n",
    "        \n",
    "\n",
    "    class Target:\n",
    "        def __init__(self):\n",
    "            self.ID=''      #Index号\n",
    "            self.ProfitPct=1 # 参考指数收益\n",
    "            self.MaxDrawdown=0 # 最大回测率\n",
    "\n",
    "\n",
    "# 回测结果，简单型，分析回测，对指数进行分析，不用考虑仓位\n",
    "class Performance_Simple(Performance):\n",
    "    def __init__(self):\n",
    "        super().__init__()\n",
    "        self.dfLogger=pd.DataFrame()\n",
    "        self.LoggerPathName='C:\\\\Users\\\\Aaron\\\\Documents\\\\MyMobileBooks_800_Reading\\\\MyTSSnippets\\\\ts00571 动量轮动策略实时信号\\\\Data_BackTest\\\\StrategyLogger_030_200721_214508.csv'\n",
    "\n",
    "\n",
    "    # 通过日志文件来计算Performance\n",
    "    def GetPerformance_Async(self):\n",
    "        # print('sub_class')\n",
    "        PreviousRowSignal=self.dfLogger.iloc[0]['Signal']\n",
    "        PreviousRowPrice=self.dfLogger.iloc[0]['Price']\n",
    "        print('PreviousRowSignal:' + PreviousRowSignal)\n",
    "        # 第一行信号应该为\"BUY\"\n",
    "\n",
    "        for index,row in self.dfLogger.iterrows():\n",
    "            # print(row['Signal'])\n",
    "            if row['Signal']=='SELL':\n",
    "\n",
    "                # print('此次交易涨幅变动：' + str((float(row['Price']))/float(PreviousRowPrice)))\n",
    "\n",
    "                self.theTarget.ProfitPct=self.theTarget.ProfitPct*(float(row['Price']))/float(PreviousRowPrice)\n",
    "\n",
    "                print('self.Target.ProfitPct:' + str(self.theTarget.ProfitPct))\n",
    "            elif row['Signal']=='BUY':\n",
    "                PreviousRowPrice=float(row['Price'])\n",
    "            # if row['Signal']<>LastRowSignal:\n",
    "                # print('same')\n",
    "            # print(item['date'])\n",
    "        # self.Benchmark.ProfitPct\n",
    "\n",
    "\n",
    "    \n",
    "    def ReadLoggerFile(self):\n",
    "        print(self.dfLogger)\n",
    "        tmp_lst=[]\n",
    "        with open(self.LoggerPathName) as file_obj:\n",
    "            \n",
    "            reader = csv.reader(file_obj)\n",
    "\n",
    "            for row in reader:\n",
    "                tmp_lst.append(row)\n",
    "        \n",
    "        self.dfLogger= pd.DataFrame(tmp_lst[2:], columns=tmp_lst[1]) \n",
    "\n",
    "        print(self.dfLogger)\n",
    "\n",
    "# bench=Performance_Simple.Benchmark()\n",
    "# bench.ID='000300.XSHG'\n",
    "# ?bench.DoSomething()\n",
    "\n",
    "# perf=Performance_Simple()\n",
    "# perf.ReadLoggerFile()\n",
    "# perf.GetPerformance_Async()\n",
    "\n",
    "JQDataInterface()\n",
    "perf=Performance_Simple()\n",
    "perf.theBenchmark.SetBenchmark('000300.XSHG')\n",
    "perf.theBenchmark.GetPerformance('2020-06-01','2020-07-23')"
   ]
  },
  {
   "cell_type": "code",
   "execution_count": null,
   "metadata": {
    "tags": []
   },
   "outputs": [],
   "source": [
    "# 嵌套类的使用\n",
    "import os, sys\n",
    "\n",
    "class parent:\n",
    "    def __init__(self):\n",
    "        self.name = 'parent'\n",
    "\n",
    "    def getName(self):\n",
    "        print(self.name)\n",
    "\n",
    "    class child:\n",
    "        def __init__(self):\n",
    "            self.name = 'child'\n",
    "\n",
    "        def getName(self):\n",
    "            print(self.name)\n",
    "    \n",
    "    class theproperty:\n",
    "        def __init__(self):\n",
    "            self.name = 'theproperty'\n",
    "        \n",
    "        def add(self):\n",
    "            pass\n",
    "\n",
    "class child2(parent):\n",
    "    def __init__(self):\n",
    "        pass\n",
    "\n",
    "    def Do(self):\n",
    "        # print('child2 Do')\n",
    "        print(self.theproperty().name)\n",
    "\n",
    "\n",
    "if __name__ == '__main__':\n",
    "    # child =  parent.child()\n",
    "    # child.getName()\n",
    "\n",
    "    child2=child2()\n",
    "    child2.Do()"
   ]
  },
  {
   "cell_type": "code",
   "execution_count": null,
   "metadata": {
    "tags": []
   },
   "outputs": [],
   "source": [
    "# 父类、抽象类\n",
    "# 在父类中通过字符串创建子类，使用__class__？\n",
    "\n",
    "class DataFeeder():\n",
    "    def __init__(self,FeederID):\n",
    "        self.theFeederID = FeederID\n",
    "        # print(self.__class__(self.theFeederID))\n",
    "\n",
    "    def Doit(self):\n",
    "        print('DataFeeder')\n",
    "        \n",
    "\n",
    "class JQDataFeeder(DataFeeder):\n",
    "    def __init__(self):\n",
    "        # super.__init__(self)\n",
    "        pass\n",
    "\n",
    "    def Doit(self,msg):\n",
    "        # super.__init__(self)\n",
    "        print('JQDataFeeder')\n",
    "        # print(self.__class__(self.theFeederID))\n",
    "        pass\n",
    "\n",
    "feeder=DataFeeder('JQDataFeeder')\n",
    "feeder.Doit()\n",
    "\n",
    "g_datafeeder=JQDataFeeder()\n",
    "g_datafeeder.Doit('Hello')\n"
   ]
  },
  {
   "cell_type": "code",
   "execution_count": null,
   "metadata": {
    "tags": []
   },
   "outputs": [],
   "source": [
    "# 在父类中通过字符串创建子类，使用.__class__\n",
    "\n",
    "class People(object):\n",
    "  def __init__(self, name, age):\n",
    "    self.name = name\n",
    "    self.age = age\n",
    "\n",
    "class worker(People):\n",
    "    def __init__(self,name,age,salary):\n",
    "        super(worker,self).__init__(name,age)\n",
    "        self.salary = salary\n",
    "\n",
    "tom = People(\"Tom\", 22)\n",
    "tom.salary=10\n",
    "print(type(tom).__name__)\n",
    "print(tom.salary)\n",
    "\n",
    "#not a safe way, but no new object\n",
    "tom.__class__=worker\n",
    "print(type(tom).__name__)\n",
    "\n",
    "tom.salary = 250\n",
    "print(tom.salary)\n",
    "\n",
    "#safe way, but create a new object\n",
    "workerTom = worker(\"Tom\", 22, 200)\n",
    "tom.__dict__ = workerTom.__dict__\n",
    "print(type(tom).__name__)\n",
    "print(tom.salary)"
   ]
  },
  {
   "cell_type": "code",
   "execution_count": null,
   "metadata": {
    "tags": []
   },
   "outputs": [],
   "source": [
    "# Benchmark类测试\n",
    "import sys\n",
    "sys.path.append('C:\\\\Users\\\\Aaron\\\\Documents\\\\MyMobileBooks_800_Reading\\\\MyTSSnippets\\\\CommonModules')\n",
    "from dataclasses import dataclass\n",
    "from DataFeeder import *\n",
    "\n",
    "# 仅作为属性用，不用再加入方法\n",
    "@dataclass\n",
    "class Benchmark:\n",
    "    # def __init__(self):\n",
    "    #     self.ID=''      #Index号\n",
    "    #     self.ProfitPct=1 # 参考指数收益\n",
    "    #     self.MaxDrawdown=0 # 最大回测率\n",
    "    #     print('sub_class')\n",
    "    IndexID: str =''\n",
    "    ProfitPct: float = 1\n",
    "    MaxDrawdown: float =0\n",
    "\n",
    "    # def SetBenchmark(self):\n",
    "    #     self.IndexID=IndexID\n",
    "\n",
    "    # 获取该BenchMark的收益值\n",
    "    # @staticmethod\n",
    "    def GetPerformance(self,Index,startdate,enddate):\n",
    "        startprice=jqdata.GetTheDateTimePrice(Index,startdate,' 15:00:00')\n",
    "        endprice=jqdata.GetTheDateTimePrice(Index,enddate,' 15:00:00')\n",
    "\n",
    "        self.ProfitPct=endprice/startprice\n",
    "        return self.ProfitPct\n",
    "\n",
    "jqdata=JQDataFeeder()\n",
    "print(round(Benchmark().GetPerformance('000001.XSHG','2020-01-01','2020-07-31'),3))\n",
    "print(round(Benchmark().GetPerformance('000300.XSHG','2020-01-01','2020-07-31'),3))"
   ]
  },
  {
   "cell_type": "code",
   "execution_count": null,
   "metadata": {
    "tags": []
   },
   "outputs": [],
   "source": [
    "sys.path.append('C:\\\\Users\\\\Aaron\\\\Documents\\\\MyMobileBooks_800_Reading\\\\MyTSSnippets\\\\CommonModules')\n",
    "from DataFeeder import JQDataFeeder\n",
    "JQDataFeeder().GetCount()"
   ]
  },
  {
   "cell_type": "code",
   "execution_count": null,
   "metadata": {},
   "outputs": [],
   "source": [
    "list1=[1,2,3,4,5]\n",
    "list1[-1]"
   ]
  },
  {
   "cell_type": "code",
   "execution_count": null,
   "metadata": {
    "tags": []
   },
   "outputs": [],
   "source": [
    "# glob\n",
    "import glob\n",
    "# pwd = os.getcwd()\n",
    "# print(pwd)\n",
    "PositionFileSavePath='c:/Users/Aaron/Documents/MyMobileBooks_800_Reading/MyTSSnippets/ts00571 动量轮动策略实时信号/Data_BackTest/'\n",
    "\n",
    "os.chdir(PositionFileSavePath)\n",
    "\n",
    "for file in glob.glob('*Position*'):\n",
    "    print(file)\n",
    "    # 打开然后清空一个文件\n",
    "    open(file, 'w').close()"
   ]
  },
  {
   "cell_type": "code",
   "execution_count": null,
   "metadata": {
    "tags": []
   },
   "outputs": [],
   "source": [
    "sys.path.append('C:\\\\Users\\\\Aaron\\\\Documents\\\\MyMobileBooks_800_Reading\\\\MyTSSnippets\\\\CommonModules')\n",
    "\n",
    "from DataFeeder import LocalDataFeeder\n",
    "\n",
    "datafeeder=LocalDataFeeder()\n",
    "print(datafeeder.GetMinutePriceBarbySE('000300.XSHG','2020-07-01','2020-07-24'))\n"
   ]
  },
  {
   "cell_type": "code",
   "execution_count": null,
   "metadata": {
    "tags": []
   },
   "outputs": [],
   "source": [
    "import datetime\n",
    "print(datetime.datetime.strptime('2020-07-19','%Y-%m-%d'))"
   ]
  },
  {
   "cell_type": "code",
   "execution_count": null,
   "metadata": {
    "tags": []
   },
   "outputs": [],
   "source": [
    "# 追加读写CSV\n",
    "import csv\n",
    "import pandas as pd\n",
    "\n",
    "tmp_lst=[]\n",
    "\n",
    "filepathname='C:/Users/Aaron/Documents/MyMobileBooks_800_Reading/MyTSSnippets/ts00571 动量轮动策略实时信号/Data_BackTest/StrategyLogger_010_200731_093701.csv'\n",
    "\n",
    "with open(filepathname) as file_obj:\n",
    "    \n",
    "    line_count=0\n",
    "\n",
    "    reader = csv.reader(file_obj, delimiter=',')\n",
    "    # 含有表头的那行增加2列, theP&L, CumP&L\n",
    "\n",
    "    for row in reader:\n",
    "        # 读取Logger    \n",
    "        tmp_lst.append(row)\n",
    "\n",
    "        # 更新Logger\n",
    "        if line_count==0:\n",
    "            line_count=line_count+1\n",
    "        elif line_count==1:\n",
    "            \n",
    "            line_count=line_count+1\n",
    "        # else:\n",
    "\n",
    "    data = pd.read_csv(filepathname, header=1,delimiter=',')\n",
    "    print(data)\n",
    "    print(data.columns)\n",
    "    data['theP&L']='1'\n",
    "    data['CumP&L']='2'\n",
    "    # data.to_csv(filepathname,mode = 'a',index =False)\n",
    "    # data_c2=\n",
    "\n",
    "print(tmp_lst[1])\n",
    "print(data)"
   ]
  },
  {
   "cell_type": "code",
   "execution_count": null,
   "metadata": {
    "tags": []
   },
   "outputs": [],
   "source": [
    "# 2组参数的组合,\n",
    "\n",
    "from functools import reduce\n",
    "\n",
    "t=['10:00','11:00','12:00']\n",
    "# x=['2','3','4','5']\n",
    "# y=['6','7','8','9']\n",
    "x1=[2,3,4,5]\n",
    "y1=[6,7,8,9]\n",
    "\n",
    "lists1=[x1,y1]\n",
    "\n",
    "GetCombination = lambda x, code=',': reduce(lambda x, y: [str(i)+code+str(j) for i in x for j in y], x)\n",
    "\n",
    "GetCombination(lists1,',')\n"
   ]
  },
  {
   "cell_type": "code",
   "execution_count": null,
   "metadata": {
    "tags": []
   },
   "outputs": [],
   "source": [
    "list1=[]\n",
    "for i in range(3, 30, 1):\n",
    "    list1.append(i)\n",
    "\n",
    "print(list1)"
   ]
  },
  {
   "cell_type": "code",
   "execution_count": null,
   "metadata": {},
   "outputs": [],
   "source": [
    "theDate='2020-07-30 15:00:00'\n",
    "theDate[:10]"
   ]
  },
  {
   "cell_type": "code",
   "execution_count": null,
   "metadata": {
    "tags": []
   },
   "outputs": [],
   "source": [
    "# 获取财务预报，建立高成长策略\n",
    "# 测试 002847 盐津铺子 、603606 东方电缆、603713 密尔克卫\n",
    "\n",
    "# 果仁策略：\n",
    "# # 筛选条件：\n",
    "# 每股经营性现金流大于0\n",
    "# 预期营收增长率大于20%\n",
    "# 扣非净资产收益率大于12%\n",
    "# 营业收入(单季同比增长)大于20%\n",
    "# 总资产周转率大于1\n",
    "# 上市天数大于150\n",
    "# 排名条件：\n",
    "# 营业收入(单季同比增长)从大到小全部1\n",
    "# 交易模型：\n",
    "# 模型：I\n",
    "# 调仓周期：1\n",
    "# 调仓价格：09:35\n",
    "# 空闲资金配置：银华日利（货币基金）\n",
    "# 实时选股：未勾选\n",
    "# 最大持仓股票数：9\n",
    "# 备选买入股票数：5\n",
    "# 个股最大买入仓位：100%\n",
    "# 个股仓位权重：平权\n",
    "\n",
    "from jqdatasdk import *\n",
    "from jqdatasdk import finance\n",
    "auth('13651829783','aaronjoinquant')\n",
    "\n",
    "code1='603606.XSHG'\n",
    "reporttypeid='304002'\n",
    "\n",
    "q=query(finance.STK_FIN_FORCAST).filter(finance.STK_FIN_FORCAST.code==code1,finance.STK_FIN_FORCAST.report_type_id==reporttypeid,\n",
    "            finance.STK_FIN_FORCAST.pub_date>='2020-01-30').limit(5)\n",
    "\n",
    "# finance.STK_FIN_FORCAST.pub_date>='2020-01-30'\n",
    "# finance.run_query(query(finance.STK_FIN_FORCAST).filter(finance.STK_FIN_FORCAST.code==code).limit(n))\n",
    "finance.run_query(q)\n"
   ]
  },
  {
   "cell_type": "code",
   "execution_count": null,
   "metadata": {},
   "outputs": [],
   "source": [
    "# 获取所有代码\n",
    "\n",
    "from jqdatasdk import *\n",
    "from jqdatasdk import finance\n",
    "auth('13651829783','aaronjoinquant')\n",
    "\n",
    " #将所有股票列表转换成数组\n",
    "# stocks = list(get_all_securities(['stock']).index)\n",
    "\n",
    "# #获得所有指数列表\n",
    "# get_all_securities(['index'])\n",
    "\n",
    "# #获得所有基金列表\n",
    "# df = get_all_securities(['fund'])\n",
    "\n",
    "# #获取所有期货列表\n",
    "# get_all_securities(['futures'])\n",
    "\n",
    "# #获得etf基金列表\n",
    "# df = get_all_securities(['etf'])\n",
    "# #获得lof基金列表\n",
    "# df = get_all_securities(['lof'])\n",
    "# #获得分级A基金列表\n",
    "# df = get_all_securities(['fja'])\n",
    "# #获得分级B基金列表\n",
    "# df = get_all_securities(['fjb'])\n",
    "\n",
    "# #获得2015年10月10日还在上市的所有股票列表\n",
    "# get_all_securities(date='2015-10-10')\n",
    "# #获得2015年10月10日还在上市的 etf 和 lof 基金列表\n",
    "# get_all_securities(['etf', 'lof'], '2015-10-10')\n",
    "\n",
    "df=get_all_securities(types='stock', date=None)\n",
    "\n",
    "print(df.index)\n",
    "# dfnew=df.copy()\n",
    "# df.columns = ['A','B']\n",
    "# df.index=['index']\n",
    "# df.reset_index(level=None,drop=True)\n",
    "dfnew.reset_index(drop=True,inplace=True)\n",
    "# df.columns=['index','display_name','name','start_date','end_date','type']\n",
    "print(dfnew)\n",
    "\n",
    "dfnew.to_csv('c://1.csv',mode='a',sep=',',  header=True, index=False)\n"
   ]
  },
  {
   "cell_type": "code",
   "execution_count": null,
   "metadata": {
    "tags": []
   },
   "outputs": [],
   "source": []
  },
  {
   "cell_type": "code",
   "execution_count": null,
   "metadata": {
    "tags": []
   },
   "outputs": [],
   "source": [
    "# DataFrame的显示，比如DailyLogger,X轴、Y轴设置\n",
    "# 和Benchmark的同时显示\n",
    "import config\n",
    "import numpy as np\n",
    "\n",
    "import pandas as pd\n",
    "\n",
    "import matplotlib.pyplot as plt\n",
    "from Benchmark import *\n",
    "\n",
    "df =pd.read_csv(\"C:/Users/aaron/Documents/MyMobileBooks_800_Reading/MyTSSnippets/ts00571 动量轮动策略实时信号/Data_BackTest/StrategyDailyLogger_010_200809_095447.csv\")\n",
    "\n",
    "# print(df)\n",
    "df.plot()\n",
    "plt.show()\n",
    "\n",
    "dfBM=Benchmark().GetBenchmarkDaily('000300.XSHG','2020-07-01','2020-07-31')['close']\n",
    "dfBM.plot()\n",
    "plt.show()"
   ]
  },
  {
   "cell_type": "code",
   "execution_count": null,
   "metadata": {
    "tags": []
   },
   "outputs": [],
   "source": [
    "import datetime\n",
    "import time\n",
    "thedate=datetime.datetime.today().strftime('%Y-%m-%d')\n",
    "thetime=time.strftime(\"%H:%M:%S\", time.localtime()) \n",
    "\n",
    "print(thedate)\n",
    "print(thetime)"
   ]
  },
  {
   "cell_type": "code",
   "execution_count": 21,
   "metadata": {
    "tags": []
   },
   "outputs": [
    {
     "output_type": "stream",
     "name": "stdout",
     "text": "-0.10616212939736773\n            MarketValue\nDate                   \n2020-07-30     1.420300\n2020-07-31     1.447098\n<class 'ffn.core.PerformanceStats'>\n  Year    Jan    Feb    Mar    Apr    May    Jun    Jul    Aug    Sep    Oct    Nov    Dec    YTD\n------  -----  -----  -----  -----  -----  -----  -----  -----  -----  -----  -----  -----  -----\n  2020   4.28  14.51  -4.71   1.51   0.45  15.52   7.92      0      0      0      0      0  44.66\nNone\n3.025241909639353\n"
    }
   ],
   "source": [
    "# FFN的使用\n",
    "# FFN函数测试\n",
    "# 参考-http://pmorissette.github.io/ffn/quick.html\n",
    "\n",
    "import ffn\n",
    "from empyrical import max_drawdown \n",
    "import config\n",
    "import numpy as np\n",
    "\n",
    "import pandas as pd\n",
    "\n",
    "import matplotlib.pyplot as plt\n",
    "from Benchmark import *\n",
    "\n",
    "df =pd.read_csv(\"C:/Users/aaron/Documents/MyMobileBooks_800_Reading/MyTSSnippets/ts00571 动量轮动策略实时信号/Data_BackTest/StrategyDailyLogger_010_200810_081610.csv\")\n",
    "\n",
    "# print(df['MarketValue'].tail(2))\n",
    "# print(df['MarketValue'][-1:])\n",
    "# print(df.tail(2))\n",
    "# print(df['MarketValue'])\n",
    "r = ffn.to_returns(df['MarketValue'])\n",
    "# print(r)\n",
    "ffn.calc_max_drawdown(df['MarketValue'])\n",
    "\n",
    "print(max_drawdown(r))\n",
    "\n",
    "# perf = df.calc_stats()\n",
    "dfnew=df.loc[:,['Date','MarketValue']]\n",
    "dfnew['Date'] = pd.to_datetime(df['Date'])\n",
    "dfnew.set_index('Date',inplace=True)\n",
    "print(dfnew.tail(2))\n",
    "# ffn.core.PerformanceStats._calculate(dfnew)\n",
    "# stats=dfnew.calc_stats()\n",
    "# stats.display()\n",
    "\n",
    "# !!!!!!!!!!!!!!!! .calc_stats()\n",
    "perf=dfnew['MarketValue'].calc_stats()\n",
    "\n",
    "print(type(perf))\n",
    "print(perf.display_monthly_returns())\n",
    "print(perf.daily_sharpe)\n"
   ]
  },
  {
   "cell_type": "code",
   "execution_count": 1,
   "metadata": {
    "tags": []
   },
   "outputs": [
    {
     "output_type": "stream",
     "name": "stdout",
     "text": "aapl        msft\nDate                              \n2020-08-06  454.790009  216.350006\n2020-08-07  444.450012  212.479996\n"
    }
   ],
   "source": [
    "# FFN函数测试\n",
    "# 参考-http://pmorissette.github.io/ffn/quick.html\n",
    "from matplotlib import pyplot as plt\n",
    "%matplotlib inline\n",
    "import ffn\n",
    "\n",
    "prices = ffn.get('aapl,msft', start='2018-01-01')\n",
    "print(prices.tail(2))\n",
    "\n",
    "\n",
    "# ax = prices.rebase().plot()\n",
    "# returns = prices.to_returns().dropna()\n",
    "# # ax = returns.hist(figsize(10, 5))\n",
    "# returns.plot()\n",
    "\n",
    "# stats = prices.calc_stats()\n",
    "# stats.display()\n"
   ]
  },
  {
   "cell_type": "code",
   "execution_count": 14,
   "metadata": {
    "tags": []
   },
   "outputs": [
    {
     "output_type": "stream",
     "name": "stdout",
     "text": "<class 'pandas.core.frame.DataFrame'>\n                aapl      msft\nDate                          \n2018-01-03 -0.000174  0.004643\n2018-01-04  0.004634  0.008763\n2018-01-05  0.011321  0.012322\n2018-01-08 -0.003721  0.001020\n2018-01-09 -0.000115 -0.000680\n  Year    Jan    Feb    Mar    Apr    May    Jun    Jul    Aug    Sep    Oct    Nov    Dec    YTD\n------  -----  -----  -----  -----  -----  -----  -----  -----  -----  -----  -----  -----  -----\n  2018  10.54  -0.84  -2.67   2.47   6.15  -0.23   7.58   6.3    1.82  -6.61   4.27  -8.4   20.22\n  2019   2.82   7.74   5.28  10.73  -4.95   8.31   1.72   1.5    0.85   3.12   5.95   4.17  57.56\n  2020   7.95  -4.57  -2.65  13.63   2.54  11.06   0.74   3.64   0      0      0      0     35.48\n<class 'ffn.core.PerformanceStats'>\n"
    },
    {
     "output_type": "display_data",
     "data": {
      "text/plain": "<Figure size 1080x360 with 1 Axes>",
      "image/svg+xml": "<?xml version=\"1.0\" encoding=\"utf-8\" standalone=\"no\"?>\r\n<!DOCTYPE svg PUBLIC \"-//W3C//DTD SVG 1.1//EN\"\r\n  \"http://www.w3.org/Graphics/SVG/1.1/DTD/svg11.dtd\">\r\n<!-- Created with matplotlib (https://matplotlib.org/) -->\r\n<svg height=\"324.269158pt\" version=\"1.1\" viewBox=\"0 0 877.4875 324.269158\" width=\"877.4875pt\" xmlns=\"http://www.w3.org/2000/svg\" xmlns:xlink=\"http://www.w3.org/1999/xlink\">\r\n <defs>\r\n  <style type=\"text/css\">\r\n*{stroke-linecap:butt;stroke-linejoin:round;}\r\n  </style>\r\n </defs>\r\n <g id=\"figure_1\">\r\n  <g id=\"patch_1\">\r\n   <path d=\"M 0 324.269158 \r\nL 877.4875 324.269158 \r\nL 877.4875 0 \r\nL 0 0 \r\nz\r\n\" style=\"fill:none;\"/>\r\n  </g>\r\n  <g id=\"axes_1\">\r\n   <g id=\"patch_2\">\r\n    <path d=\"M 33.2875 267.118125 \r\nL 870.2875 267.118125 \r\nL 870.2875 22.318125 \r\nL 33.2875 22.318125 \r\nz\r\n\" style=\"fill:#ffffff;\"/>\r\n   </g>\r\n   <g id=\"matplotlib.axis_1\">\r\n    <g id=\"xtick_1\">\r\n     <g id=\"line2d_1\">\r\n      <defs>\r\n       <path d=\"M 0 0 \r\nL 0 3.5 \r\n\" id=\"mcc55d1a252\" style=\"stroke:#000000;stroke-width:0.8;\"/>\r\n      </defs>\r\n      <g>\r\n       <use style=\"stroke:#000000;stroke-width:0.8;\" x=\"111.866614\" xlink:href=\"#mcc55d1a252\" y=\"267.118125\"/>\r\n      </g>\r\n     </g>\r\n     <g id=\"text_1\">\r\n      <!-- 2018-04 -->\r\n      <defs>\r\n       <path d=\"M 19.1875 8.296875 \r\nL 53.609375 8.296875 \r\nL 53.609375 0 \r\nL 7.328125 0 \r\nL 7.328125 8.296875 \r\nQ 12.9375 14.109375 22.625 23.890625 \r\nQ 32.328125 33.6875 34.8125 36.53125 \r\nQ 39.546875 41.84375 41.421875 45.53125 \r\nQ 43.3125 49.21875 43.3125 52.78125 \r\nQ 43.3125 58.59375 39.234375 62.25 \r\nQ 35.15625 65.921875 28.609375 65.921875 \r\nQ 23.96875 65.921875 18.8125 64.3125 \r\nQ 13.671875 62.703125 7.8125 59.421875 \r\nL 7.8125 69.390625 \r\nQ 13.765625 71.78125 18.9375 73 \r\nQ 24.125 74.21875 28.421875 74.21875 \r\nQ 39.75 74.21875 46.484375 68.546875 \r\nQ 53.21875 62.890625 53.21875 53.421875 \r\nQ 53.21875 48.921875 51.53125 44.890625 \r\nQ 49.859375 40.875 45.40625 35.40625 \r\nQ 44.1875 33.984375 37.640625 27.21875 \r\nQ 31.109375 20.453125 19.1875 8.296875 \r\nz\r\n\" id=\"DejaVuSans-50\"/>\r\n       <path d=\"M 31.78125 66.40625 \r\nQ 24.171875 66.40625 20.328125 58.90625 \r\nQ 16.5 51.421875 16.5 36.375 \r\nQ 16.5 21.390625 20.328125 13.890625 \r\nQ 24.171875 6.390625 31.78125 6.390625 \r\nQ 39.453125 6.390625 43.28125 13.890625 \r\nQ 47.125 21.390625 47.125 36.375 \r\nQ 47.125 51.421875 43.28125 58.90625 \r\nQ 39.453125 66.40625 31.78125 66.40625 \r\nz\r\nM 31.78125 74.21875 \r\nQ 44.046875 74.21875 50.515625 64.515625 \r\nQ 56.984375 54.828125 56.984375 36.375 \r\nQ 56.984375 17.96875 50.515625 8.265625 \r\nQ 44.046875 -1.421875 31.78125 -1.421875 \r\nQ 19.53125 -1.421875 13.0625 8.265625 \r\nQ 6.59375 17.96875 6.59375 36.375 \r\nQ 6.59375 54.828125 13.0625 64.515625 \r\nQ 19.53125 74.21875 31.78125 74.21875 \r\nz\r\n\" id=\"DejaVuSans-48\"/>\r\n       <path d=\"M 12.40625 8.296875 \r\nL 28.515625 8.296875 \r\nL 28.515625 63.921875 \r\nL 10.984375 60.40625 \r\nL 10.984375 69.390625 \r\nL 28.421875 72.90625 \r\nL 38.28125 72.90625 \r\nL 38.28125 8.296875 \r\nL 54.390625 8.296875 \r\nL 54.390625 0 \r\nL 12.40625 0 \r\nz\r\n\" id=\"DejaVuSans-49\"/>\r\n       <path d=\"M 31.78125 34.625 \r\nQ 24.75 34.625 20.71875 30.859375 \r\nQ 16.703125 27.09375 16.703125 20.515625 \r\nQ 16.703125 13.921875 20.71875 10.15625 \r\nQ 24.75 6.390625 31.78125 6.390625 \r\nQ 38.8125 6.390625 42.859375 10.171875 \r\nQ 46.921875 13.96875 46.921875 20.515625 \r\nQ 46.921875 27.09375 42.890625 30.859375 \r\nQ 38.875 34.625 31.78125 34.625 \r\nz\r\nM 21.921875 38.8125 \r\nQ 15.578125 40.375 12.03125 44.71875 \r\nQ 8.5 49.078125 8.5 55.328125 \r\nQ 8.5 64.0625 14.71875 69.140625 \r\nQ 20.953125 74.21875 31.78125 74.21875 \r\nQ 42.671875 74.21875 48.875 69.140625 \r\nQ 55.078125 64.0625 55.078125 55.328125 \r\nQ 55.078125 49.078125 51.53125 44.71875 \r\nQ 48 40.375 41.703125 38.8125 \r\nQ 48.828125 37.15625 52.796875 32.3125 \r\nQ 56.78125 27.484375 56.78125 20.515625 \r\nQ 56.78125 9.90625 50.3125 4.234375 \r\nQ 43.84375 -1.421875 31.78125 -1.421875 \r\nQ 19.734375 -1.421875 13.25 4.234375 \r\nQ 6.78125 9.90625 6.78125 20.515625 \r\nQ 6.78125 27.484375 10.78125 32.3125 \r\nQ 14.796875 37.15625 21.921875 38.8125 \r\nz\r\nM 18.3125 54.390625 \r\nQ 18.3125 48.734375 21.84375 45.5625 \r\nQ 25.390625 42.390625 31.78125 42.390625 \r\nQ 38.140625 42.390625 41.71875 45.5625 \r\nQ 45.3125 48.734375 45.3125 54.390625 \r\nQ 45.3125 60.0625 41.71875 63.234375 \r\nQ 38.140625 66.40625 31.78125 66.40625 \r\nQ 25.390625 66.40625 21.84375 63.234375 \r\nQ 18.3125 60.0625 18.3125 54.390625 \r\nz\r\n\" id=\"DejaVuSans-56\"/>\r\n       <path d=\"M 4.890625 31.390625 \r\nL 31.203125 31.390625 \r\nL 31.203125 23.390625 \r\nL 4.890625 23.390625 \r\nz\r\n\" id=\"DejaVuSans-45\"/>\r\n       <path d=\"M 37.796875 64.3125 \r\nL 12.890625 25.390625 \r\nL 37.796875 25.390625 \r\nz\r\nM 35.203125 72.90625 \r\nL 47.609375 72.90625 \r\nL 47.609375 25.390625 \r\nL 58.015625 25.390625 \r\nL 58.015625 17.1875 \r\nL 47.609375 17.1875 \r\nL 47.609375 0 \r\nL 37.796875 0 \r\nL 37.796875 17.1875 \r\nL 4.890625 17.1875 \r\nL 4.890625 26.703125 \r\nz\r\n\" id=\"DejaVuSans-52\"/>\r\n      </defs>\r\n      <g transform=\"translate(74.641793 301.589971)rotate(-30)scale(0.1 -0.1)\">\r\n       <use xlink:href=\"#DejaVuSans-50\"/>\r\n       <use x=\"63.623047\" xlink:href=\"#DejaVuSans-48\"/>\r\n       <use x=\"127.246094\" xlink:href=\"#DejaVuSans-49\"/>\r\n       <use x=\"190.869141\" xlink:href=\"#DejaVuSans-56\"/>\r\n       <use x=\"254.492188\" xlink:href=\"#DejaVuSans-45\"/>\r\n       <use x=\"290.576172\" xlink:href=\"#DejaVuSans-48\"/>\r\n       <use x=\"354.199219\" xlink:href=\"#DejaVuSans-52\"/>\r\n      </g>\r\n     </g>\r\n    </g>\r\n    <g id=\"xtick_2\">\r\n     <g id=\"line2d_2\">\r\n      <g>\r\n       <use style=\"stroke:#000000;stroke-width:0.8;\" x=\"192.211551\" xlink:href=\"#mcc55d1a252\" y=\"267.118125\"/>\r\n      </g>\r\n     </g>\r\n     <g id=\"text_2\">\r\n      <!-- 2018-07 -->\r\n      <defs>\r\n       <path d=\"M 8.203125 72.90625 \r\nL 55.078125 72.90625 \r\nL 55.078125 68.703125 \r\nL 28.609375 0 \r\nL 18.3125 0 \r\nL 43.21875 64.59375 \r\nL 8.203125 64.59375 \r\nz\r\n\" id=\"DejaVuSans-55\"/>\r\n      </defs>\r\n      <g transform=\"translate(154.98673 301.589971)rotate(-30)scale(0.1 -0.1)\">\r\n       <use xlink:href=\"#DejaVuSans-50\"/>\r\n       <use x=\"63.623047\" xlink:href=\"#DejaVuSans-48\"/>\r\n       <use x=\"127.246094\" xlink:href=\"#DejaVuSans-49\"/>\r\n       <use x=\"190.869141\" xlink:href=\"#DejaVuSans-56\"/>\r\n       <use x=\"254.492188\" xlink:href=\"#DejaVuSans-45\"/>\r\n       <use x=\"290.576172\" xlink:href=\"#DejaVuSans-48\"/>\r\n       <use x=\"354.199219\" xlink:href=\"#DejaVuSans-55\"/>\r\n      </g>\r\n     </g>\r\n    </g>\r\n    <g id=\"xtick_3\">\r\n     <g id=\"line2d_3\">\r\n      <g>\r\n       <use style=\"stroke:#000000;stroke-width:0.8;\" x=\"273.439399\" xlink:href=\"#mcc55d1a252\" y=\"267.118125\"/>\r\n      </g>\r\n     </g>\r\n     <g id=\"text_3\">\r\n      <!-- 2018-10 -->\r\n      <g transform=\"translate(236.214578 301.589971)rotate(-30)scale(0.1 -0.1)\">\r\n       <use xlink:href=\"#DejaVuSans-50\"/>\r\n       <use x=\"63.623047\" xlink:href=\"#DejaVuSans-48\"/>\r\n       <use x=\"127.246094\" xlink:href=\"#DejaVuSans-49\"/>\r\n       <use x=\"190.869141\" xlink:href=\"#DejaVuSans-56\"/>\r\n       <use x=\"254.492188\" xlink:href=\"#DejaVuSans-45\"/>\r\n       <use x=\"290.576172\" xlink:href=\"#DejaVuSans-49\"/>\r\n       <use x=\"354.199219\" xlink:href=\"#DejaVuSans-48\"/>\r\n      </g>\r\n     </g>\r\n    </g>\r\n    <g id=\"xtick_4\">\r\n     <g id=\"line2d_4\">\r\n      <g>\r\n       <use style=\"stroke:#000000;stroke-width:0.8;\" x=\"354.667247\" xlink:href=\"#mcc55d1a252\" y=\"267.118125\"/>\r\n      </g>\r\n     </g>\r\n     <g id=\"text_4\">\r\n      <!-- 2019-01 -->\r\n      <defs>\r\n       <path d=\"M 10.984375 1.515625 \r\nL 10.984375 10.5 \r\nQ 14.703125 8.734375 18.5 7.8125 \r\nQ 22.3125 6.890625 25.984375 6.890625 \r\nQ 35.75 6.890625 40.890625 13.453125 \r\nQ 46.046875 20.015625 46.78125 33.40625 \r\nQ 43.953125 29.203125 39.59375 26.953125 \r\nQ 35.25 24.703125 29.984375 24.703125 \r\nQ 19.046875 24.703125 12.671875 31.3125 \r\nQ 6.296875 37.9375 6.296875 49.421875 \r\nQ 6.296875 60.640625 12.9375 67.421875 \r\nQ 19.578125 74.21875 30.609375 74.21875 \r\nQ 43.265625 74.21875 49.921875 64.515625 \r\nQ 56.59375 54.828125 56.59375 36.375 \r\nQ 56.59375 19.140625 48.40625 8.859375 \r\nQ 40.234375 -1.421875 26.421875 -1.421875 \r\nQ 22.703125 -1.421875 18.890625 -0.6875 \r\nQ 15.09375 0.046875 10.984375 1.515625 \r\nz\r\nM 30.609375 32.421875 \r\nQ 37.25 32.421875 41.125 36.953125 \r\nQ 45.015625 41.5 45.015625 49.421875 \r\nQ 45.015625 57.28125 41.125 61.84375 \r\nQ 37.25 66.40625 30.609375 66.40625 \r\nQ 23.96875 66.40625 20.09375 61.84375 \r\nQ 16.21875 57.28125 16.21875 49.421875 \r\nQ 16.21875 41.5 20.09375 36.953125 \r\nQ 23.96875 32.421875 30.609375 32.421875 \r\nz\r\n\" id=\"DejaVuSans-57\"/>\r\n      </defs>\r\n      <g transform=\"translate(317.442426 301.589971)rotate(-30)scale(0.1 -0.1)\">\r\n       <use xlink:href=\"#DejaVuSans-50\"/>\r\n       <use x=\"63.623047\" xlink:href=\"#DejaVuSans-48\"/>\r\n       <use x=\"127.246094\" xlink:href=\"#DejaVuSans-49\"/>\r\n       <use x=\"190.869141\" xlink:href=\"#DejaVuSans-57\"/>\r\n       <use x=\"254.492188\" xlink:href=\"#DejaVuSans-45\"/>\r\n       <use x=\"290.576172\" xlink:href=\"#DejaVuSans-48\"/>\r\n       <use x=\"354.199219\" xlink:href=\"#DejaVuSans-49\"/>\r\n      </g>\r\n     </g>\r\n    </g>\r\n    <g id=\"xtick_5\">\r\n     <g id=\"line2d_5\">\r\n      <g>\r\n       <use style=\"stroke:#000000;stroke-width:0.8;\" x=\"434.129272\" xlink:href=\"#mcc55d1a252\" y=\"267.118125\"/>\r\n      </g>\r\n     </g>\r\n     <g id=\"text_5\">\r\n      <!-- 2019-04 -->\r\n      <g transform=\"translate(396.904451 301.589971)rotate(-30)scale(0.1 -0.1)\">\r\n       <use xlink:href=\"#DejaVuSans-50\"/>\r\n       <use x=\"63.623047\" xlink:href=\"#DejaVuSans-48\"/>\r\n       <use x=\"127.246094\" xlink:href=\"#DejaVuSans-49\"/>\r\n       <use x=\"190.869141\" xlink:href=\"#DejaVuSans-57\"/>\r\n       <use x=\"254.492188\" xlink:href=\"#DejaVuSans-45\"/>\r\n       <use x=\"290.576172\" xlink:href=\"#DejaVuSans-48\"/>\r\n       <use x=\"354.199219\" xlink:href=\"#DejaVuSans-52\"/>\r\n      </g>\r\n     </g>\r\n    </g>\r\n    <g id=\"xtick_6\">\r\n     <g id=\"line2d_6\">\r\n      <g>\r\n       <use style=\"stroke:#000000;stroke-width:0.8;\" x=\"514.474209\" xlink:href=\"#mcc55d1a252\" y=\"267.118125\"/>\r\n      </g>\r\n     </g>\r\n     <g id=\"text_6\">\r\n      <!-- 2019-07 -->\r\n      <g transform=\"translate(477.249388 301.589971)rotate(-30)scale(0.1 -0.1)\">\r\n       <use xlink:href=\"#DejaVuSans-50\"/>\r\n       <use x=\"63.623047\" xlink:href=\"#DejaVuSans-48\"/>\r\n       <use x=\"127.246094\" xlink:href=\"#DejaVuSans-49\"/>\r\n       <use x=\"190.869141\" xlink:href=\"#DejaVuSans-57\"/>\r\n       <use x=\"254.492188\" xlink:href=\"#DejaVuSans-45\"/>\r\n       <use x=\"290.576172\" xlink:href=\"#DejaVuSans-48\"/>\r\n       <use x=\"354.199219\" xlink:href=\"#DejaVuSans-55\"/>\r\n      </g>\r\n     </g>\r\n    </g>\r\n    <g id=\"xtick_7\">\r\n     <g id=\"line2d_7\">\r\n      <g>\r\n       <use style=\"stroke:#000000;stroke-width:0.8;\" x=\"595.702057\" xlink:href=\"#mcc55d1a252\" y=\"267.118125\"/>\r\n      </g>\r\n     </g>\r\n     <g id=\"text_7\">\r\n      <!-- 2019-10 -->\r\n      <g transform=\"translate(558.477236 301.589971)rotate(-30)scale(0.1 -0.1)\">\r\n       <use xlink:href=\"#DejaVuSans-50\"/>\r\n       <use x=\"63.623047\" xlink:href=\"#DejaVuSans-48\"/>\r\n       <use x=\"127.246094\" xlink:href=\"#DejaVuSans-49\"/>\r\n       <use x=\"190.869141\" xlink:href=\"#DejaVuSans-57\"/>\r\n       <use x=\"254.492188\" xlink:href=\"#DejaVuSans-45\"/>\r\n       <use x=\"290.576172\" xlink:href=\"#DejaVuSans-49\"/>\r\n       <use x=\"354.199219\" xlink:href=\"#DejaVuSans-48\"/>\r\n      </g>\r\n     </g>\r\n    </g>\r\n    <g id=\"xtick_8\">\r\n     <g id=\"line2d_8\">\r\n      <g>\r\n       <use style=\"stroke:#000000;stroke-width:0.8;\" x=\"676.929905\" xlink:href=\"#mcc55d1a252\" y=\"267.118125\"/>\r\n      </g>\r\n     </g>\r\n     <g id=\"text_8\">\r\n      <!-- 2020-01 -->\r\n      <g transform=\"translate(639.705084 301.589971)rotate(-30)scale(0.1 -0.1)\">\r\n       <use xlink:href=\"#DejaVuSans-50\"/>\r\n       <use x=\"63.623047\" xlink:href=\"#DejaVuSans-48\"/>\r\n       <use x=\"127.246094\" xlink:href=\"#DejaVuSans-50\"/>\r\n       <use x=\"190.869141\" xlink:href=\"#DejaVuSans-48\"/>\r\n       <use x=\"254.492188\" xlink:href=\"#DejaVuSans-45\"/>\r\n       <use x=\"290.576172\" xlink:href=\"#DejaVuSans-48\"/>\r\n       <use x=\"354.199219\" xlink:href=\"#DejaVuSans-49\"/>\r\n      </g>\r\n     </g>\r\n    </g>\r\n    <g id=\"xtick_9\">\r\n     <g id=\"line2d_9\">\r\n      <g>\r\n       <use style=\"stroke:#000000;stroke-width:0.8;\" x=\"757.274842\" xlink:href=\"#mcc55d1a252\" y=\"267.118125\"/>\r\n      </g>\r\n     </g>\r\n     <g id=\"text_9\">\r\n      <!-- 2020-04 -->\r\n      <g transform=\"translate(720.050021 301.589971)rotate(-30)scale(0.1 -0.1)\">\r\n       <use xlink:href=\"#DejaVuSans-50\"/>\r\n       <use x=\"63.623047\" xlink:href=\"#DejaVuSans-48\"/>\r\n       <use x=\"127.246094\" xlink:href=\"#DejaVuSans-50\"/>\r\n       <use x=\"190.869141\" xlink:href=\"#DejaVuSans-48\"/>\r\n       <use x=\"254.492188\" xlink:href=\"#DejaVuSans-45\"/>\r\n       <use x=\"290.576172\" xlink:href=\"#DejaVuSans-48\"/>\r\n       <use x=\"354.199219\" xlink:href=\"#DejaVuSans-52\"/>\r\n      </g>\r\n     </g>\r\n    </g>\r\n    <g id=\"xtick_10\">\r\n     <g id=\"line2d_10\">\r\n      <g>\r\n       <use style=\"stroke:#000000;stroke-width:0.8;\" x=\"837.619778\" xlink:href=\"#mcc55d1a252\" y=\"267.118125\"/>\r\n      </g>\r\n     </g>\r\n     <g id=\"text_10\">\r\n      <!-- 2020-07 -->\r\n      <g transform=\"translate(800.394958 301.589971)rotate(-30)scale(0.1 -0.1)\">\r\n       <use xlink:href=\"#DejaVuSans-50\"/>\r\n       <use x=\"63.623047\" xlink:href=\"#DejaVuSans-48\"/>\r\n       <use x=\"127.246094\" xlink:href=\"#DejaVuSans-50\"/>\r\n       <use x=\"190.869141\" xlink:href=\"#DejaVuSans-48\"/>\r\n       <use x=\"254.492188\" xlink:href=\"#DejaVuSans-45\"/>\r\n       <use x=\"290.576172\" xlink:href=\"#DejaVuSans-48\"/>\r\n       <use x=\"354.199219\" xlink:href=\"#DejaVuSans-55\"/>\r\n      </g>\r\n     </g>\r\n    </g>\r\n    <g id=\"text_11\">\r\n     <!-- Date -->\r\n     <defs>\r\n      <path d=\"M 19.671875 64.796875 \r\nL 19.671875 8.109375 \r\nL 31.59375 8.109375 \r\nQ 46.6875 8.109375 53.6875 14.9375 \r\nQ 60.6875 21.78125 60.6875 36.53125 \r\nQ 60.6875 51.171875 53.6875 57.984375 \r\nQ 46.6875 64.796875 31.59375 64.796875 \r\nz\r\nM 9.8125 72.90625 \r\nL 30.078125 72.90625 \r\nQ 51.265625 72.90625 61.171875 64.09375 \r\nQ 71.09375 55.28125 71.09375 36.53125 \r\nQ 71.09375 17.671875 61.125 8.828125 \r\nQ 51.171875 0 30.078125 0 \r\nL 9.8125 0 \r\nz\r\n\" id=\"DejaVuSans-68\"/>\r\n      <path d=\"M 34.28125 27.484375 \r\nQ 23.390625 27.484375 19.1875 25 \r\nQ 14.984375 22.515625 14.984375 16.5 \r\nQ 14.984375 11.71875 18.140625 8.90625 \r\nQ 21.296875 6.109375 26.703125 6.109375 \r\nQ 34.1875 6.109375 38.703125 11.40625 \r\nQ 43.21875 16.703125 43.21875 25.484375 \r\nL 43.21875 27.484375 \r\nz\r\nM 52.203125 31.203125 \r\nL 52.203125 0 \r\nL 43.21875 0 \r\nL 43.21875 8.296875 \r\nQ 40.140625 3.328125 35.546875 0.953125 \r\nQ 30.953125 -1.421875 24.3125 -1.421875 \r\nQ 15.921875 -1.421875 10.953125 3.296875 \r\nQ 6 8.015625 6 15.921875 \r\nQ 6 25.140625 12.171875 29.828125 \r\nQ 18.359375 34.515625 30.609375 34.515625 \r\nL 43.21875 34.515625 \r\nL 43.21875 35.40625 \r\nQ 43.21875 41.609375 39.140625 45 \r\nQ 35.0625 48.390625 27.6875 48.390625 \r\nQ 23 48.390625 18.546875 47.265625 \r\nQ 14.109375 46.140625 10.015625 43.890625 \r\nL 10.015625 52.203125 \r\nQ 14.9375 54.109375 19.578125 55.046875 \r\nQ 24.21875 56 28.609375 56 \r\nQ 40.484375 56 46.34375 49.84375 \r\nQ 52.203125 43.703125 52.203125 31.203125 \r\nz\r\n\" id=\"DejaVuSans-97\"/>\r\n      <path d=\"M 18.3125 70.21875 \r\nL 18.3125 54.6875 \r\nL 36.8125 54.6875 \r\nL 36.8125 47.703125 \r\nL 18.3125 47.703125 \r\nL 18.3125 18.015625 \r\nQ 18.3125 11.328125 20.140625 9.421875 \r\nQ 21.96875 7.515625 27.59375 7.515625 \r\nL 36.8125 7.515625 \r\nL 36.8125 0 \r\nL 27.59375 0 \r\nQ 17.1875 0 13.234375 3.875 \r\nQ 9.28125 7.765625 9.28125 18.015625 \r\nL 9.28125 47.703125 \r\nL 2.6875 47.703125 \r\nL 2.6875 54.6875 \r\nL 9.28125 54.6875 \r\nL 9.28125 70.21875 \r\nz\r\n\" id=\"DejaVuSans-116\"/>\r\n      <path d=\"M 56.203125 29.59375 \r\nL 56.203125 25.203125 \r\nL 14.890625 25.203125 \r\nQ 15.484375 15.921875 20.484375 11.0625 \r\nQ 25.484375 6.203125 34.421875 6.203125 \r\nQ 39.59375 6.203125 44.453125 7.46875 \r\nQ 49.3125 8.734375 54.109375 11.28125 \r\nL 54.109375 2.78125 \r\nQ 49.265625 0.734375 44.1875 -0.34375 \r\nQ 39.109375 -1.421875 33.890625 -1.421875 \r\nQ 20.796875 -1.421875 13.15625 6.1875 \r\nQ 5.515625 13.8125 5.515625 26.8125 \r\nQ 5.515625 40.234375 12.765625 48.109375 \r\nQ 20.015625 56 32.328125 56 \r\nQ 43.359375 56 49.78125 48.890625 \r\nQ 56.203125 41.796875 56.203125 29.59375 \r\nz\r\nM 47.21875 32.234375 \r\nQ 47.125 39.59375 43.09375 43.984375 \r\nQ 39.0625 48.390625 32.421875 48.390625 \r\nQ 24.90625 48.390625 20.390625 44.140625 \r\nQ 15.875 39.890625 15.1875 32.171875 \r\nz\r\n\" id=\"DejaVuSans-101\"/>\r\n     </defs>\r\n     <g transform=\"translate(439.836719 314.989471)scale(0.1 -0.1)\">\r\n      <use xlink:href=\"#DejaVuSans-68\"/>\r\n      <use x=\"77.001953\" xlink:href=\"#DejaVuSans-97\"/>\r\n      <use x=\"138.28125\" xlink:href=\"#DejaVuSans-116\"/>\r\n      <use x=\"177.490234\" xlink:href=\"#DejaVuSans-101\"/>\r\n     </g>\r\n    </g>\r\n   </g>\r\n   <g id=\"matplotlib.axis_2\">\r\n    <g id=\"ytick_1\">\r\n     <g id=\"line2d_11\">\r\n      <defs>\r\n       <path d=\"M 0 0 \r\nL -3.5 0 \r\n\" id=\"m44251d8160\" style=\"stroke:#000000;stroke-width:0.8;\"/>\r\n      </defs>\r\n      <g>\r\n       <use style=\"stroke:#000000;stroke-width:0.8;\" x=\"33.2875\" xlink:href=\"#m44251d8160\" y=\"266.273134\"/>\r\n      </g>\r\n     </g>\r\n     <g id=\"text_12\">\r\n      <!-- 75 -->\r\n      <defs>\r\n       <path d=\"M 10.796875 72.90625 \r\nL 49.515625 72.90625 \r\nL 49.515625 64.59375 \r\nL 19.828125 64.59375 \r\nL 19.828125 46.734375 \r\nQ 21.96875 47.46875 24.109375 47.828125 \r\nQ 26.265625 48.1875 28.421875 48.1875 \r\nQ 40.625 48.1875 47.75 41.5 \r\nQ 54.890625 34.8125 54.890625 23.390625 \r\nQ 54.890625 11.625 47.5625 5.09375 \r\nQ 40.234375 -1.421875 26.90625 -1.421875 \r\nQ 22.3125 -1.421875 17.546875 -0.640625 \r\nQ 12.796875 0.140625 7.71875 1.703125 \r\nL 7.71875 11.625 \r\nQ 12.109375 9.234375 16.796875 8.0625 \r\nQ 21.484375 6.890625 26.703125 6.890625 \r\nQ 35.15625 6.890625 40.078125 11.328125 \r\nQ 45.015625 15.765625 45.015625 23.390625 \r\nQ 45.015625 31 40.078125 35.4375 \r\nQ 35.15625 39.890625 26.703125 39.890625 \r\nQ 22.75 39.890625 18.8125 39.015625 \r\nQ 14.890625 38.140625 10.796875 36.28125 \r\nz\r\n\" id=\"DejaVuSans-53\"/>\r\n      </defs>\r\n      <g transform=\"translate(13.5625 270.072353)scale(0.1 -0.1)\">\r\n       <use xlink:href=\"#DejaVuSans-55\"/>\r\n       <use x=\"63.623047\" xlink:href=\"#DejaVuSans-53\"/>\r\n      </g>\r\n     </g>\r\n    </g>\r\n    <g id=\"ytick_2\">\r\n     <g id=\"line2d_12\">\r\n      <g>\r\n       <use style=\"stroke:#000000;stroke-width:0.8;\" x=\"33.2875\" xlink:href=\"#m44251d8160\" y=\"237.005808\"/>\r\n      </g>\r\n     </g>\r\n     <g id=\"text_13\">\r\n      <!-- 100 -->\r\n      <g transform=\"translate(7.2 240.805027)scale(0.1 -0.1)\">\r\n       <use xlink:href=\"#DejaVuSans-49\"/>\r\n       <use x=\"63.623047\" xlink:href=\"#DejaVuSans-48\"/>\r\n       <use x=\"127.246094\" xlink:href=\"#DejaVuSans-48\"/>\r\n      </g>\r\n     </g>\r\n    </g>\r\n    <g id=\"ytick_3\">\r\n     <g id=\"line2d_13\">\r\n      <g>\r\n       <use style=\"stroke:#000000;stroke-width:0.8;\" x=\"33.2875\" xlink:href=\"#m44251d8160\" y=\"207.738482\"/>\r\n      </g>\r\n     </g>\r\n     <g id=\"text_14\">\r\n      <!-- 125 -->\r\n      <g transform=\"translate(7.2 211.537701)scale(0.1 -0.1)\">\r\n       <use xlink:href=\"#DejaVuSans-49\"/>\r\n       <use x=\"63.623047\" xlink:href=\"#DejaVuSans-50\"/>\r\n       <use x=\"127.246094\" xlink:href=\"#DejaVuSans-53\"/>\r\n      </g>\r\n     </g>\r\n    </g>\r\n    <g id=\"ytick_4\">\r\n     <g id=\"line2d_14\">\r\n      <g>\r\n       <use style=\"stroke:#000000;stroke-width:0.8;\" x=\"33.2875\" xlink:href=\"#m44251d8160\" y=\"178.471156\"/>\r\n      </g>\r\n     </g>\r\n     <g id=\"text_15\">\r\n      <!-- 150 -->\r\n      <g transform=\"translate(7.2 182.270375)scale(0.1 -0.1)\">\r\n       <use xlink:href=\"#DejaVuSans-49\"/>\r\n       <use x=\"63.623047\" xlink:href=\"#DejaVuSans-53\"/>\r\n       <use x=\"127.246094\" xlink:href=\"#DejaVuSans-48\"/>\r\n      </g>\r\n     </g>\r\n    </g>\r\n    <g id=\"ytick_5\">\r\n     <g id=\"line2d_15\">\r\n      <g>\r\n       <use style=\"stroke:#000000;stroke-width:0.8;\" x=\"33.2875\" xlink:href=\"#m44251d8160\" y=\"149.20383\"/>\r\n      </g>\r\n     </g>\r\n     <g id=\"text_16\">\r\n      <!-- 175 -->\r\n      <g transform=\"translate(7.2 153.003049)scale(0.1 -0.1)\">\r\n       <use xlink:href=\"#DejaVuSans-49\"/>\r\n       <use x=\"63.623047\" xlink:href=\"#DejaVuSans-55\"/>\r\n       <use x=\"127.246094\" xlink:href=\"#DejaVuSans-53\"/>\r\n      </g>\r\n     </g>\r\n    </g>\r\n    <g id=\"ytick_6\">\r\n     <g id=\"line2d_16\">\r\n      <g>\r\n       <use style=\"stroke:#000000;stroke-width:0.8;\" x=\"33.2875\" xlink:href=\"#m44251d8160\" y=\"119.936505\"/>\r\n      </g>\r\n     </g>\r\n     <g id=\"text_17\">\r\n      <!-- 200 -->\r\n      <g transform=\"translate(7.2 123.735723)scale(0.1 -0.1)\">\r\n       <use xlink:href=\"#DejaVuSans-50\"/>\r\n       <use x=\"63.623047\" xlink:href=\"#DejaVuSans-48\"/>\r\n       <use x=\"127.246094\" xlink:href=\"#DejaVuSans-48\"/>\r\n      </g>\r\n     </g>\r\n    </g>\r\n    <g id=\"ytick_7\">\r\n     <g id=\"line2d_17\">\r\n      <g>\r\n       <use style=\"stroke:#000000;stroke-width:0.8;\" x=\"33.2875\" xlink:href=\"#m44251d8160\" y=\"90.669179\"/>\r\n      </g>\r\n     </g>\r\n     <g id=\"text_18\">\r\n      <!-- 225 -->\r\n      <g transform=\"translate(7.2 94.468398)scale(0.1 -0.1)\">\r\n       <use xlink:href=\"#DejaVuSans-50\"/>\r\n       <use x=\"63.623047\" xlink:href=\"#DejaVuSans-50\"/>\r\n       <use x=\"127.246094\" xlink:href=\"#DejaVuSans-53\"/>\r\n      </g>\r\n     </g>\r\n    </g>\r\n    <g id=\"ytick_8\">\r\n     <g id=\"line2d_18\">\r\n      <g>\r\n       <use style=\"stroke:#000000;stroke-width:0.8;\" x=\"33.2875\" xlink:href=\"#m44251d8160\" y=\"61.401853\"/>\r\n      </g>\r\n     </g>\r\n     <g id=\"text_19\">\r\n      <!-- 250 -->\r\n      <g transform=\"translate(7.2 65.201072)scale(0.1 -0.1)\">\r\n       <use xlink:href=\"#DejaVuSans-50\"/>\r\n       <use x=\"63.623047\" xlink:href=\"#DejaVuSans-53\"/>\r\n       <use x=\"127.246094\" xlink:href=\"#DejaVuSans-48\"/>\r\n      </g>\r\n     </g>\r\n    </g>\r\n    <g id=\"ytick_9\">\r\n     <g id=\"line2d_19\">\r\n      <g>\r\n       <use style=\"stroke:#000000;stroke-width:0.8;\" x=\"33.2875\" xlink:href=\"#m44251d8160\" y=\"32.134527\"/>\r\n      </g>\r\n     </g>\r\n     <g id=\"text_20\">\r\n      <!-- 275 -->\r\n      <g transform=\"translate(7.2 35.933746)scale(0.1 -0.1)\">\r\n       <use xlink:href=\"#DejaVuSans-50\"/>\r\n       <use x=\"63.623047\" xlink:href=\"#DejaVuSans-55\"/>\r\n       <use x=\"127.246094\" xlink:href=\"#DejaVuSans-53\"/>\r\n      </g>\r\n     </g>\r\n    </g>\r\n   </g>\r\n   <g id=\"line2d_20\">\r\n    <path clip-path=\"url(#p0f536d00bb)\" d=\"M 33.2875 237.005808 \r\nL 34.170411 237.026215 \r\nL 35.053323 236.482529 \r\nL 35.936234 235.14371 \r\nL 38.584968 235.585436 \r\nL 40.350791 235.626207 \r\nL 41.233703 234.953399 \r\nL 42.116614 233.723296 \r\nL 45.648259 234.334948 \r\nL 46.531171 232.357282 \r\nL 47.414082 232.248555 \r\nL 48.296994 232.792231 \r\nL 50.945728 233.784452 \r\nL 51.828639 233.7573 \r\nL 53.594462 237.787365 \r\nL 54.477373 237.515532 \r\nL 58.009019 240.600934 \r\nL 59.774842 240.05045 \r\nL 60.657753 244.997992 \r\nL 63.306487 247.723253 \r\nL 64.189399 243.278615 \r\nL 65.07231 245.650448 \r\nL 65.955222 248.633901 \r\nL 66.838133 247.344212 \r\nL 69.486867 243.04523 \r\nL 70.369778 241.932944 \r\nL 71.25269 239.865345 \r\nL 72.135601 236.030368 \r\nL 73.018513 236.412508 \r\nL 76.550158 236.808278 \r\nL 77.43307 237.34054 \r\nL 78.315981 236.364734 \r\nL 79.198892 234.317607 \r\nL 81.847627 231.949765 \r\nL 82.730538 232.345513 \r\nL 83.613449 232.529757 \r\nL 84.496361 234.658814 \r\nL 85.379272 233.833109 \r\nL 88.028006 233.416846 \r\nL 88.910918 233.519214 \r\nL 89.793829 234.63831 \r\nL 90.676741 233.33497 \r\nL 91.559652 231.260551 \r\nL 94.208386 230.073209 \r\nL 95.974209 232.311412 \r\nL 96.85712 232.16811 \r\nL 97.740032 232.597992 \r\nL 100.388766 234.454066 \r\nL 101.271677 234.495009 \r\nL 102.154589 237.204059 \r\nL 103.0375 238.855416 \r\nL 103.920411 241.523533 \r\nL 106.569146 236.180479 \r\nL 107.452057 239.203444 \r\nL 108.334968 240.472661 \r\nL 109.21788 239.585563 \r\nL 112.749525 240.336181 \r\nL 113.632437 239.16931 \r\nL 114.515348 236.972051 \r\nL 115.398259 236.160029 \r\nL 116.281171 239.17612 \r\nL 118.929905 238.036574 \r\nL 119.812816 235.852944 \r\nL 120.695728 236.405677 \r\nL 121.578639 235.245616 \r\nL 122.461551 234.843048 \r\nL 125.110285 234.099218 \r\nL 125.993196 232.447882 \r\nL 126.876108 232.720833 \r\nL 127.759019 236.160029 \r\nL 128.64193 240.991272 \r\nL 131.290665 241.318796 \r\nL 132.173576 242.888267 \r\nL 133.939399 242.014841 \r\nL 134.82231 243.31135 \r\nL 137.471044 241.305166 \r\nL 138.353956 238.684845 \r\nL 139.236867 233.587449 \r\nL 140.119778 233.369104 \r\nL 141.00269 228.633388 \r\nL 143.651424 227.725828 \r\nL 144.534335 227.1185 \r\nL 145.417247 226.224581 \r\nL 146.300158 224.395821 \r\nL 147.18307 224.889022 \r\nL 149.831804 225.190427 \r\nL 150.714715 226.361772 \r\nL 151.597627 225.16989 \r\nL 152.480538 225.985032 \r\nL 153.363449 226.450844 \r\nL 156.012184 225.54663 \r\nL 156.895095 225.868593 \r\nL 157.778006 225.046555 \r\nL 158.660918 225.190427 \r\nL 159.543829 224.895864 \r\nL 163.075475 225.361665 \r\nL 163.958386 225.63567 \r\nL 164.841297 226.067252 \r\nL 165.724209 223.75877 \r\nL 168.372943 222.66958 \r\nL 169.255854 221.655779 \r\nL 170.138766 221.196819 \r\nL 171.021677 221.553012 \r\nL 171.904589 222.758631 \r\nL 174.553323 223.080593 \r\nL 175.436234 222.361334 \r\nL 176.319146 223.44365 \r\nL 177.202057 223.375135 \r\nL 178.084968 224.717751 \r\nL 180.733703 224.786277 \r\nL 181.616614 226.875541 \r\nL 182.499525 226.320689 \r\nL 183.382437 227.033096 \r\nL 184.265348 227.403026 \r\nL 186.914082 229.28679 \r\nL 187.796994 227.738672 \r\nL 188.679905 227.923627 \r\nL 189.562816 227.005686 \r\nL 190.445728 227.272871 \r\nL 193.094462 225.854887 \r\nL 193.977373 228.088013 \r\nL 195.743196 227.074211 \r\nL 196.626108 225.31374 \r\nL 199.274842 223.525848 \r\nL 200.157753 223.683371 \r\nL 201.040665 225.375381 \r\nL 201.923576 223.217591 \r\nL 202.806487 223.0121 \r\nL 205.455222 223.299778 \r\nL 206.338133 222.929891 \r\nL 207.221044 223.649162 \r\nL 208.103956 222.635328 \r\nL 208.986867 222.936711 \r\nL 211.635601 222.820304 \r\nL 212.518513 221.868111 \r\nL 213.401424 220.621399 \r\nL 214.284335 221.039254 \r\nL 215.167247 223.251843 \r\nL 217.815981 223.984808 \r\nL 218.698892 223.724507 \r\nL 219.581804 216.045529 \r\nL 220.464715 212.010828 \r\nL 221.347627 211.599825 \r\nL 223.996361 210.860008 \r\nL 224.879272 212.202635 \r\nL 225.762184 212.10671 \r\nL 226.645095 210.990153 \r\nL 227.528006 211.416366 \r\nL 230.176741 210.495241 \r\nL 231.059652 209.89027 \r\nL 231.942563 209.553462 \r\nL 232.825475 207.436217 \r\nL 233.708386 204.507864 \r\nL 236.35712 205.965166 \r\nL 237.240032 206.253888 \r\nL 238.122943 206.247003 \r\nL 239.005854 205.944533 \r\nL 239.888766 205.483971 \r\nL 242.5375 204.260398 \r\nL 243.420411 203.05054 \r\nL 244.303323 200.795814 \r\nL 245.186234 199.38663 \r\nL 246.069146 197.599362 \r\nL 249.600791 197.097544 \r\nL 250.483703 198.12177 \r\nL 251.366614 200.713325 \r\nL 252.249525 201.950668 \r\nL 254.898259 203.992298 \r\nL 255.781171 200.197749 \r\nL 256.664082 202.108772 \r\nL 257.546994 198.437998 \r\nL 258.429905 200.204644 \r\nL 261.078639 204.301621 \r\nL 261.961551 204.054154 \r\nL 262.844462 203.964813 \r\nL 263.727373 202.823675 \r\nL 264.610285 204.45285 \r\nL 267.259019 202.301256 \r\nL 268.14193 201.338876 \r\nL 269.024842 202.555607 \r\nL 269.907753 199.441623 \r\nL 270.790665 198.898561 \r\nL 273.439399 197.853702 \r\nL 274.32231 196.465119 \r\nL 275.205222 194.547244 \r\nL 276.971044 199.895322 \r\nL 279.619778 200.252741 \r\nL 280.50269 198.12177 \r\nL 281.385601 205.346511 \r\nL 282.268513 206.659447 \r\nL 283.151424 201.393869 \r\nL 285.800158 204.659094 \r\nL 286.68307 201.366383 \r\nL 287.565981 202.026283 \r\nL 288.448892 205.580229 \r\nL 289.331804 203.31864 \r\nL 291.980538 202.397504 \r\nL 292.863449 200.967676 \r\nL 293.746361 206.219507 \r\nL 294.629272 202.981789 \r\nL 295.512184 205.387734 \r\nL 298.160918 208.178638 \r\nL 299.043829 207.449976 \r\nL 299.926741 203.627962 \r\nL 300.809652 201.318265 \r\nL 301.692563 211.450726 \r\nL 304.341297 215.499595 \r\nL 305.224209 214.001016 \r\nL 306.10712 209.75282 \r\nL 306.990032 210.256381 \r\nL 307.872943 213.029427 \r\nL 310.521677 220.13448 \r\nL 311.404589 221.472707 \r\nL 312.2875 225.218375 \r\nL 313.170411 222.038349 \r\nL 314.053323 220.575948 \r\nL 316.702057 225.866796 \r\nL 317.584968 231.992322 \r\nL 318.46788 232.130287 \r\nL 320.233703 235.227544 \r\nL 322.882437 233.620281 \r\nL 323.765348 233.8824 \r\nL 324.648259 229.26066 \r\nL 325.531171 230.219522 \r\nL 326.414082 230.88862 \r\nL 329.062816 226.584206 \r\nL 329.945728 232.192369 \r\nL 331.711551 233.551293 \r\nL 332.594462 237.848812 \r\nL 335.243196 237.083122 \r\nL 336.126108 237.752241 \r\nL 337.009019 237.428041 \r\nL 337.89193 236.151885 \r\nL 338.774842 239.925157 \r\nL 341.423576 240.987453 \r\nL 342.306487 239.518145 \r\nL 343.189399 243.091391 \r\nL 344.07231 245.89203 \r\nL 344.955222 250.099873 \r\nL 347.603956 252.790119 \r\nL 349.369778 245.657483 \r\nL 350.25269 246.361091 \r\nL 351.135601 246.305905 \r\nL 353.784335 245.264284 \r\nL 355.550158 245.140121 \r\nL 356.43307 255.990852 \r\nL 357.315981 251.803706 \r\nL 359.964715 252.031325 \r\nL 361.730538 248.320157 \r\nL 362.613449 247.982134 \r\nL 363.496361 249.023765 \r\nL 366.145095 250.603423 \r\nL 367.028006 248.485694 \r\nL 367.910918 247.195747 \r\nL 369.676741 245.898915 \r\nL 373.208386 248.327053 \r\nL 374.091297 247.899365 \r\nL 374.974209 248.740949 \r\nL 375.85712 245.250482 \r\nL 378.505854 246.257614 \r\nL 379.388766 247.375118 \r\nL 380.271677 240.083798 \r\nL 381.154589 239.262944 \r\nL 382.0375 239.207747 \r\nL 384.686234 235.944942 \r\nL 385.569146 233.923795 \r\nL 386.452057 233.8824 \r\nL 387.334968 236.158781 \r\nL 388.21788 236.020213 \r\nL 390.866614 236.699154 \r\nL 391.749525 235.687697 \r\nL 392.632437 236.179575 \r\nL 393.515348 235.750037 \r\nL 394.398259 236.013296 \r\nL 397.929905 235.659997 \r\nL 398.812816 234.897944 \r\nL 399.695728 235.569924 \r\nL 400.578639 234.246747 \r\nL 403.227373 233.373858 \r\nL 404.110285 233.30458 \r\nL 404.993196 232.930476 \r\nL 405.876108 234.122045 \r\nL 406.759019 232.861219 \r\nL 409.407753 232.251557 \r\nL 410.290665 232.473259 \r\nL 411.173576 233.17294 \r\nL 412.056487 234.572334 \r\nL 412.939399 234.288303 \r\nL 416.471044 228.746148 \r\nL 417.353956 228.191941 \r\nL 418.236867 226.792547 \r\nL 419.119778 225.136832 \r\nL 421.768513 223.820551 \r\nL 422.651424 224.85278 \r\nL 423.534335 223.723561 \r\nL 424.417247 218.922686 \r\nL 425.300158 221.721465 \r\nL 427.948892 223.321778 \r\nL 428.831804 224.672666 \r\nL 429.714715 223.508808 \r\nL 430.597627 223.335622 \r\nL 431.480538 222.483507 \r\nL 434.129272 221.589825 \r\nL 435.012184 219.663935 \r\nL 435.895095 218.742541 \r\nL 436.778006 218.507026 \r\nL 437.660918 217.599498 \r\nL 440.309652 215.451906 \r\nL 441.192563 215.867567 \r\nL 442.075475 215.091669 \r\nL 442.958386 216.248588 \r\nL 443.841297 216.304011 \r\nL 447.372943 216.040753 \r\nL 448.255854 213.352809 \r\nL 449.138766 212.847076 \r\nL 452.670411 212.38292 \r\nL 453.553323 210.339268 \r\nL 454.436234 210.560948 \r\nL 455.319146 211.863342 \r\nL 456.202057 212.542261 \r\nL 458.850791 212.327498 \r\nL 459.733703 215.057019 \r\nL 460.616614 208.233232 \r\nL 461.499525 209.182337 \r\nL 462.382437 207.381127 \r\nL 465.031171 209.646482 \r\nL 465.914082 213.53984 \r\nL 466.796994 213.51215 \r\nL 467.679905 215.02239 \r\nL 468.562816 216.948743 \r\nL 471.211551 224.918444 \r\nL 472.094462 222.873866 \r\nL 472.977373 221.302179 \r\nL 473.860285 221.886335 \r\nL 474.743196 222.637404 \r\nL 477.39193 226.747451 \r\nL 478.274842 224.306458 \r\nL 479.157753 226.963043 \r\nL 480.040665 229.132806 \r\nL 480.923576 229.612646 \r\nL 484.455222 230.127276 \r\nL 485.338133 230.718403 \r\nL 486.221044 230.078588 \r\nL 487.103956 232.324859 \r\nL 489.75269 233.555801 \r\nL 490.635601 229.146716 \r\nL 492.401424 225.26617 \r\nL 493.284335 221.837678 \r\nL 495.93307 220.147755 \r\nL 496.815981 218.596937 \r\nL 497.698892 219.028089 \r\nL 498.581804 219.055929 \r\nL 499.464715 220.036479 \r\nL 502.113449 219.23672 \r\nL 502.996361 216.065538 \r\nL 503.879272 216.468881 \r\nL 504.762184 215.363146 \r\nL 505.645095 215.836047 \r\nL 508.293829 215.975132 \r\nL 509.176741 218.068387 \r\nL 510.059652 215.126684 \r\nL 510.942563 215.168413 \r\nL 511.825475 216.434123 \r\nL 515.35712 213.089067 \r\nL 516.240032 211.920733 \r\nL 518.005854 212.045919 \r\nL 520.654589 214.973701 \r\nL 521.5375 214.125254 \r\nL 522.420411 212.74134 \r\nL 523.303323 213.770589 \r\nL 524.186234 212.692651 \r\nL 526.834968 211.364375 \r\nL 527.71788 211.858135 \r\nL 528.600791 212.657894 \r\nL 529.483703 211.051428 \r\nL 530.366614 213.186433 \r\nL 533.898259 208.839946 \r\nL 534.781171 208.95815 \r\nL 535.664082 210.105625 \r\nL 536.546994 209.604915 \r\nL 539.195728 208.25578 \r\nL 540.078639 208.881675 \r\nL 540.961551 205.919103 \r\nL 542.727373 212.191942 \r\nL 545.376108 219.619226 \r\nL 546.259019 217.073928 \r\nL 547.14193 215.655235 \r\nL 548.024842 212.602256 \r\nL 548.907753 213.76805 \r\nL 551.556487 214.124071 \r\nL 552.439399 208.197366 \r\nL 553.32231 212.539432 \r\nL 554.205222 213.244492 \r\nL 555.088133 209.921639 \r\nL 557.736867 207.234018 \r\nL 558.619778 207.227036 \r\nL 559.50269 205.635416 \r\nL 560.385601 205.761064 \r\nL 561.268513 212.616208 \r\nL 563.917247 209.92862 \r\nL 564.800158 211.555139 \r\nL 565.68307 210.598761 \r\nL 566.565981 208.169451 \r\nL 567.448892 208.357933 \r\nL 570.980538 210.480105 \r\nL 571.863449 208.043781 \r\nL 572.746361 205.188655 \r\nL 573.629272 205.202618 \r\nL 576.278006 204.567353 \r\nL 577.160918 202.801224 \r\nL 578.043829 197.991442 \r\nL 578.926741 198.340492 \r\nL 579.809652 201.370148 \r\nL 582.458386 200.567367 \r\nL 583.341297 200.008889 \r\nL 584.224209 198.563861 \r\nL 585.10712 199.827388 \r\nL 585.990032 202.082211 \r\nL 588.638766 201.391093 \r\nL 589.521677 202.117109 \r\nL 590.404589 199.778538 \r\nL 592.170411 201.321277 \r\nL 594.819146 197.726183 \r\nL 595.702057 197.293364 \r\nL 596.584968 201.223555 \r\nL 597.46788 199.925131 \r\nL 598.350791 195.604011 \r\nL 600.999525 195.569113 \r\nL 601.882437 197.426004 \r\nL 602.765348 195.590047 \r\nL 603.648259 193.453934 \r\nL 604.531171 189.181685 \r\nL 607.179905 189.419028 \r\nL 608.062816 189.802965 \r\nL 608.945728 190.466156 \r\nL 609.828639 189.830891 \r\nL 610.711551 189.042052 \r\nL 613.360285 186.179944 \r\nL 614.243196 186.563881 \r\nL 615.126108 184.316061 \r\nL 616.009019 184.036838 \r\nL 616.89193 181.942593 \r\nL 619.540665 180.218331 \r\nL 620.423576 184.239284 \r\nL 621.306487 184.260229 \r\nL 622.189399 180.420777 \r\nL 623.07231 175.492329 \r\nL 625.721044 174.319564 \r\nL 626.603956 174.577831 \r\nL 627.486867 174.501065 \r\nL 628.369778 172.428561 \r\nL 631.901424 170.489062 \r\nL 632.784335 170.657117 \r\nL 633.667247 168.899658 \r\nL 634.550158 170.180988 \r\nL 635.43307 167.996433 \r\nL 638.081804 167.058182 \r\nL 638.964715 167.625341 \r\nL 639.847627 169.795868 \r\nL 640.730538 170.62209 \r\nL 641.613449 170.783131 \r\nL 644.262184 167.569337 \r\nL 645.145095 169.025714 \r\nL 646.028006 166.540078 \r\nL 647.793829 166.953167 \r\nL 650.442563 169.116723 \r\nL 651.325475 172.414533 \r\nL 652.208386 170.811143 \r\nL 653.091297 168.122468 \r\nL 653.974209 164.530569 \r\nL 656.622943 167.184239 \r\nL 657.505854 166.09194 \r\nL 658.388766 164.48855 \r\nL 659.271677 164.005429 \r\nL 660.154589 161.421791 \r\nL 662.803323 158.123982 \r\nL 663.686234 157.73884 \r\nL 664.569146 158.207976 \r\nL 665.452057 158.011931 \r\nL 666.334968 158.418028 \r\nL 668.983703 155.225234 \r\nL 669.866614 155.036202 \r\nL 671.632437 151.087196 \r\nL 672.515348 151.16422 \r\nL 675.164082 149.959913 \r\nL 676.046994 148.468553 \r\nL 677.812816 143.777341 \r\nL 678.695728 145.821875 \r\nL 681.344462 144.16246 \r\nL 682.227373 145.14968 \r\nL 683.110285 141.788874 \r\nL 683.993196 137.279723 \r\nL 684.876108 136.789631 \r\nL 687.524842 132.147451 \r\nL 688.407753 135.144201 \r\nL 689.290665 136.08243 \r\nL 691.056487 130.908118 \r\nL 694.588133 132.420499 \r\nL 695.471044 131.629282 \r\nL 696.353956 130.558025 \r\nL 697.236867 131.202208 \r\nL 699.885601 137.755851 \r\nL 700.768513 131.636318 \r\nL 701.651424 126.980154 \r\nL 702.534335 127.309227 \r\nL 703.417247 137.363739 \r\nL 706.065981 137.958889 \r\nL 706.948892 130.824124 \r\nL 707.831804 129.003625 \r\nL 708.714715 126.370997 \r\nL 709.597627 129.466113 \r\nL 712.246361 128.39931 \r\nL 713.129272 129.760891 \r\nL 714.012184 124.433909 \r\nL 714.895095 126.069205 \r\nL 715.778006 126.013051 \r\nL 719.309652 130.188998 \r\nL 720.192563 126.946504 \r\nL 721.075475 129.27663 \r\nL 721.958386 134.364924 \r\nL 724.60712 144.801265 \r\nL 725.490032 151.889816 \r\nL 726.372943 148.682413 \r\nL 727.255854 162.108552 \r\nL 728.138766 162.220861 \r\nL 730.7875 144.359108 \r\nL 731.670411 151.019509 \r\nL 732.553323 141.600875 \r\nL 733.436234 148.492908 \r\nL 734.319146 151.223042 \r\nL 736.96788 167.267051 \r\nL 737.850791 153.812833 \r\nL 738.733703 160.768056 \r\nL 739.616614 179.858018 \r\nL 740.499525 158.985381 \r\nL 743.148259 184.083074 \r\nL 744.031171 176.60851 \r\nL 744.914082 180.952888 \r\nL 745.796994 182.279368 \r\nL 746.679905 193.18591 \r\nL 749.328639 196.60387 \r\nL 750.211551 180.805499 \r\nL 751.094462 181.760005 \r\nL 751.977373 172.692249 \r\nL 752.860285 180.201926 \r\nL 755.509019 175.239936 \r\nL 756.39193 175.604885 \r\nL 757.274842 184.995464 \r\nL 758.157753 182.174084 \r\nL 759.040665 184.644553 \r\nL 761.689399 169.863856 \r\nL 762.57231 171.997442 \r\nL 763.455222 167.337233 \r\nL 764.338133 165.989722 \r\nL 767.869778 162.298036 \r\nL 768.75269 152.612701 \r\nL 769.635601 154.451508 \r\nL 770.518513 152.865352 \r\nL 771.401424 155.595508 \r\nL 774.050158 159.715301 \r\nL 774.93307 165.723021 \r\nL 775.815981 160.297822 \r\nL 776.698892 161.048784 \r\nL 777.581804 155.476186 \r\nL 780.230538 155.335821 \r\nL 781.113449 158.557274 \r\nL 781.996361 152.135432 \r\nL 782.879272 147.875296 \r\nL 783.762184 151.194986 \r\nL 786.410918 148.324466 \r\nL 787.293829 145.236386 \r\nL 789.059652 140.899053 \r\nL 789.942563 135.825088 \r\nL 792.591297 132.390852 \r\nL 794.35712 137.57037 \r\nL 795.240032 136.240286 \r\nL 796.122943 137.528136 \r\nL 798.771677 132.42605 \r\nL 799.654589 133.706821 \r\nL 800.5375 129.421061 \r\nL 801.420411 131.095967 \r\nL 802.303323 129.66033 \r\nL 805.834968 131.180413 \r\nL 806.71788 130.209266 \r\nL 807.600791 130.110748 \r\nL 808.483703 130.328889 \r\nL 812.015348 126.528724 \r\nL 812.898259 125.276074 \r\nL 813.781171 127.246532 \r\nL 814.664082 120.786221 \r\nL 817.312816 119.406911 \r\nL 818.195728 111.996559 \r\nL 819.078639 105.768482 \r\nL 819.961551 117.689793 \r\nL 820.844462 115.648958 \r\nL 823.493196 112.700296 \r\nL 824.376108 106.303325 \r\nL 825.259019 106.648147 \r\nL 826.14193 106.549608 \r\nL 827.024842 107.964138 \r\nL 829.673576 101.524934 \r\nL 830.556487 96.13431 \r\nL 831.439399 100.687481 \r\nL 832.32231 97.32362 \r\nL 833.205222 105.212511 \r\nL 836.736867 97.351783 \r\nL 837.619778 97.837357 \r\nL 838.50269 97.837357 \r\nL 842.034335 90.982955 \r\nL 842.917247 91.79928 \r\nL 843.800158 85.690848 \r\nL 844.68307 84.536715 \r\nL 845.565981 84.065212 \r\nL 848.214715 85.310827 \r\nL 849.097627 80.863209 \r\nL 849.980538 78.984233 \r\nL 850.863449 82.369221 \r\nL 851.746361 82.918135 \r\nL 854.395095 77.203774 \r\nL 855.278006 81.025067 \r\nL 856.160918 80.25799 \r\nL 857.043829 92.721179 \r\nL 857.926741 93.368633 \r\nL 860.575475 87.189825 \r\nL 861.458386 91.574081 \r\nL 862.341297 86.542372 \r\nL 863.224209 83.30517 \r\nL 864.10712 54.958647 \r\nL 866.755854 47.421614 \r\nL 867.638766 45.373744 \r\nL 868.521677 44.254809 \r\nL 869.404589 33.445398 \r\nL 870.2875 40.735158 \r\nL 870.2875 40.735158 \r\n\" style=\"fill:none;stroke:#1f77b4;stroke-linecap:square;stroke-width:1.5;\"/>\r\n   </g>\r\n   <g id=\"line2d_21\">\r\n    <path clip-path=\"url(#p0f536d00bb)\" d=\"M 33.2875 237.005808 \r\nL 34.170411 236.46099 \r\nL 35.053323 235.425809 \r\nL 35.936234 233.954772 \r\nL 38.584968 233.832208 \r\nL 39.46788 233.91391 \r\nL 40.350791 234.458738 \r\nL 41.233703 234.104617 \r\nL 42.116614 232.034287 \r\nL 45.648259 233.73686 \r\nL 46.531171 231.298784 \r\nL 48.296994 231.489448 \r\nL 50.945728 229.296543 \r\nL 51.828639 228.901516 \r\nL 52.711551 229.01051 \r\nL 53.594462 228.315826 \r\nL 54.477373 225.959474 \r\nL 57.126108 226.15017 \r\nL 58.009019 227.757406 \r\nL 58.89193 224.665519 \r\nL 59.774842 225.687054 \r\nL 60.657753 229.064985 \r\nL 63.306487 234.213578 \r\nL 64.189399 229.677924 \r\nL 65.07231 232.020662 \r\nL 65.955222 238.286128 \r\nL 66.838133 233.968418 \r\nL 69.486867 232.674474 \r\nL 70.369778 231.720995 \r\nL 71.25269 229.805148 \r\nL 72.135601 227.273504 \r\nL 73.018513 228.176682 \r\nL 76.550158 227.191392 \r\nL 77.43307 228.874624 \r\nL 78.315981 228.546165 \r\nL 79.198892 225.357657 \r\nL 81.847627 223.496566 \r\nL 82.730538 225.166055 \r\nL 83.613449 225.754507 \r\nL 84.496361 227.01349 \r\nL 88.028006 225.932409 \r\nL 88.910918 226.370325 \r\nL 90.676741 224.851328 \r\nL 91.559652 221.963869 \r\nL 94.208386 221.649142 \r\nL 95.091297 224.878684 \r\nL 95.974209 225.645038 \r\nL 97.740032 224.618692 \r\nL 100.388766 226.958766 \r\nL 101.271677 226.63034 \r\nL 102.154589 227.519829 \r\nL 103.920411 234.772656 \r\nL 106.569146 225.740818 \r\nL 107.452057 231.638893 \r\nL 108.334968 231.748394 \r\nL 109.21788 229.175662 \r\nL 112.749525 232.938932 \r\nL 113.632437 231.310477 \r\nL 114.515348 227.725088 \r\nL 115.398259 227.656686 \r\nL 116.281171 230.598869 \r\nL 118.929905 229.859914 \r\nL 119.812816 226.972444 \r\nL 120.695728 228.368273 \r\nL 121.578639 226.014532 \r\nL 122.461551 226.698752 \r\nL 125.110285 225.207133 \r\nL 125.993196 222.607066 \r\nL 126.876108 222.100726 \r\nL 127.759019 222.552321 \r\nL 128.64193 224.071318 \r\nL 131.290665 223.592356 \r\nL 132.173576 226.644018 \r\nL 133.056487 227.752476 \r\nL 133.939399 225.083965 \r\nL 134.82231 222.94917 \r\nL 137.471044 226.096644 \r\nL 138.353956 224.071318 \r\nL 139.236867 226.1103 \r\nL 140.119778 225.343979 \r\nL 141.00269 223.85236 \r\nL 143.651424 222.401796 \r\nL 144.534335 222.962848 \r\nL 146.300158 220.089089 \r\nL 147.18307 220.376481 \r\nL 149.831804 219.924876 \r\nL 150.714715 220.896467 \r\nL 151.597627 220.552884 \r\nL 152.480538 221.88604 \r\nL 153.363449 221.638657 \r\nL 156.012184 219.93439 \r\nL 156.895095 220.07184 \r\nL 157.778006 218.477549 \r\nL 158.660918 218.958581 \r\nL 159.543829 218.889867 \r\nL 163.075475 219.370911 \r\nL 163.958386 218.078984 \r\nL 164.841297 218.230155 \r\nL 165.724209 215.550091 \r\nL 168.372943 214.340621 \r\nL 169.255854 213.625938 \r\nL 170.138766 213.21363 \r\nL 171.021677 215.426383 \r\nL 171.904589 214.395603 \r\nL 174.553323 215.192754 \r\nL 175.436234 214.835397 \r\nL 176.319146 215.467623 \r\nL 177.202057 214.684225 \r\nL 178.084968 216.457196 \r\nL 180.733703 215.45388 \r\nL 181.616614 215.45388 \r\nL 182.499525 214.065742 \r\nL 184.265348 216.072352 \r\nL 186.914082 218.848617 \r\nL 187.796994 217.900283 \r\nL 188.679905 220.016858 \r\nL 189.562816 218.518777 \r\nL 190.445728 218.546263 \r\nL 193.094462 216.62211 \r\nL 193.977373 217.941523 \r\nL 195.743196 216.965703 \r\nL 196.626108 215.04155 \r\nL 200.157753 213.722159 \r\nL 201.040665 213.91456 \r\nL 201.923576 210.877137 \r\nL 202.806487 209.172902 \r\nL 205.455222 209.887596 \r\nL 206.338133 208.458219 \r\nL 208.103956 210.588526 \r\nL 208.986867 208.018426 \r\nL 211.635601 205.681933 \r\nL 212.518513 206.108016 \r\nL 213.401424 201.751191 \r\nL 214.284335 203.414197 \r\nL 215.167247 206.080519 \r\nL 217.815981 209.25537 \r\nL 218.698892 208.279551 \r\nL 219.581804 208.004672 \r\nL 220.464715 206.231712 \r\nL 221.347627 205.585733 \r\nL 223.996361 205.462047 \r\nL 224.879272 204.431256 \r\nL 225.762184 203.592876 \r\nL 226.645095 203.345494 \r\nL 227.528006 204.26632 \r\nL 230.176741 205.352093 \r\nL 231.059652 203.496665 \r\nL 231.942563 205.538593 \r\nL 233.708386 205.648967 \r\nL 236.35712 206.628519 \r\nL 237.240032 207.856445 \r\nL 238.122943 206.366401 \r\nL 239.005854 205.676571 \r\nL 239.888766 204.517629 \r\nL 242.5375 202.862023 \r\nL 243.420411 201.951401 \r\nL 244.303323 199.523185 \r\nL 245.186234 199.619752 \r\nL 246.069146 199.095473 \r\nL 249.600791 199.950886 \r\nL 250.483703 204.393458 \r\nL 251.366614 204.048548 \r\nL 252.249525 204.779768 \r\nL 254.898259 203.165542 \r\nL 255.781171 200.599347 \r\nL 256.664082 199.950886 \r\nL 257.546994 198.295269 \r\nL 258.429905 197.660616 \r\nL 261.078639 199.357612 \r\nL 261.961551 197.881365 \r\nL 262.844462 199.964693 \r\nL 263.727373 197.384669 \r\nL 264.610285 196.432668 \r\nL 267.259019 195.867031 \r\nL 268.14193 196.170572 \r\nL 269.024842 196.818989 \r\nL 269.907753 196.225737 \r\nL 270.790665 196.280935 \r\nL 273.439399 194.57011 \r\nL 274.32231 195.204774 \r\nL 275.205222 195.177191 \r\nL 276.088133 198.460831 \r\nL 276.971044 199.37142 \r\nL 279.619778 201.137411 \r\nL 280.50269 199.192051 \r\nL 281.385601 207.608103 \r\nL 282.268513 207.953034 \r\nL 283.151424 202.903413 \r\nL 285.800158 205.621384 \r\nL 286.68307 200.930459 \r\nL 287.565981 201.330567 \r\nL 288.448892 204.379661 \r\nL 289.331804 204.158901 \r\nL 291.980538 202.820632 \r\nL 292.863449 204.931544 \r\nL 293.746361 212.906087 \r\nL 294.629272 204.655575 \r\nL 295.512184 206.504358 \r\nL 298.160918 210.795187 \r\nL 299.043829 210.960748 \r\nL 299.926741 206.711332 \r\nL 300.809652 207.939259 \r\nL 301.692563 207.608103 \r\nL 304.341297 205.745534 \r\nL 305.224209 205.455812 \r\nL 306.10712 199.605966 \r\nL 306.990032 199.895699 \r\nL 307.872943 202.903413 \r\nL 310.521677 206.628519 \r\nL 311.404589 206.531973 \r\nL 312.2875 208.624288 \r\nL 313.170411 205.42345 \r\nL 314.053323 204.023943 \r\nL 316.702057 209.109247 \r\nL 317.584968 213.141464 \r\nL 318.46788 211.201572 \r\nL 320.233703 211.256997 \r\nL 322.882437 206.545813 \r\nL 323.765348 205.617425 \r\nL 324.648259 200.102575 \r\nL 325.531171 201.391223 \r\nL 326.414082 200.421272 \r\nL 329.062816 198.758514 \r\nL 329.945728 203.705268 \r\nL 331.711551 202.776858 \r\nL 332.594462 208.832124 \r\nL 336.126108 203.608269 \r\nL 337.009019 202.929292 \r\nL 337.89193 202.41662 \r\nL 338.774842 207.155505 \r\nL 341.423576 211.506418 \r\nL 342.306487 210.009923 \r\nL 343.189399 210.397895 \r\nL 344.07231 213.418597 \r\nL 344.955222 217.963518 \r\nL 347.603956 223.644642 \r\nL 349.369778 214.734968 \r\nL 350.25269 213.875844 \r\nL 351.135601 214.970517 \r\nL 353.784335 213.335471 \r\nL 355.550158 213.959003 \r\nL 356.43307 219.113593 \r\nL 357.315981 212.836629 \r\nL 359.964715 212.656504 \r\nL 360.847627 211.631129 \r\nL 361.730538 209.59425 \r\nL 362.613449 210.522605 \r\nL 363.496361 211.631129 \r\nL 366.145095 212.670355 \r\nL 367.028006 208.568852 \r\nL 367.910918 208.05617 \r\nL 368.793829 207.030784 \r\nL 369.676741 204.82762 \r\nL 373.208386 207.640475 \r\nL 374.091297 206.213277 \r\nL 374.974209 206.919945 \r\nL 375.85712 205.575873 \r\nL 378.505854 208.471865 \r\nL 379.388766 211.437121 \r\nL 380.271677 206.670524 \r\nL 381.154589 209.37253 \r\nL 382.0375 211.658841 \r\nL 384.686234 207.557349 \r\nL 385.569146 205.506587 \r\nL 386.452057 207.155505 \r\nL 387.334968 208.208593 \r\nL 388.21788 207.654326 \r\nL 390.866614 208.236316 \r\nL 391.749525 205.963834 \r\nL 392.632437 206.074705 \r\nL 393.515348 205.949994 \r\nL 394.398259 204.120952 \r\nL 397.929905 204.190227 \r\nL 398.812816 204.969504 \r\nL 399.695728 201.824566 \r\nL 400.578639 199.653753 \r\nL 403.227373 198.790983 \r\nL 404.110285 197.719482 \r\nL 405.876108 198.178692 \r\nL 406.759019 197.482908 \r\nL 409.407753 197.858636 \r\nL 410.290665 198.637913 \r\nL 411.173576 198.568325 \r\nL 412.056487 200.46085 \r\nL 412.939399 200.293864 \r\nL 417.353956 194.74154 \r\nL 418.236867 194.6163 \r\nL 419.119778 192.779437 \r\nL 421.768513 190.469459 \r\nL 422.651424 190.358125 \r\nL 423.534335 190.539037 \r\nL 424.417247 186.781807 \r\nL 425.300158 191.193063 \r\nL 428.831804 189.996323 \r\nL 429.714715 191.582707 \r\nL 430.597627 191.36006 \r\nL 431.480538 189.954565 \r\nL 434.129272 188.451695 \r\nL 435.012184 188.215132 \r\nL 435.895095 187.129693 \r\nL 436.778006 187.978548 \r\nL 437.660918 187.241028 \r\nL 440.309652 187.185377 \r\nL 441.192563 188.089893 \r\nL 442.075475 186.823553 \r\nL 442.958386 186.628747 \r\nL 443.841297 185.765978 \r\nL 446.490032 185.626823 \r\nL 447.372943 186.016467 \r\nL 448.255854 184.624899 \r\nL 449.138766 182.398403 \r\nL 452.670411 181.8557 \r\nL 453.553323 179.517869 \r\nL 454.436234 180.116245 \r\nL 455.319146 174.355188 \r\nL 456.202057 173.325444 \r\nL 458.850791 173.492418 \r\nL 459.733703 172.337424 \r\nL 460.616614 176.122485 \r\nL 461.499525 178.446378 \r\nL 462.382437 174.703085 \r\nL 465.031171 175.746767 \r\nL 465.914082 179.406567 \r\nL 467.679905 179.434376 \r\nL 468.562816 177.166134 \r\nL 471.211551 182.426244 \r\nL 472.094462 180.505878 \r\nL 472.977373 178.061642 \r\nL 473.860285 173.997215 \r\nL 474.743196 175.198368 \r\nL 477.39193 177.782287 \r\nL 479.157753 175.757069 \r\nL 480.040665 177.838154 \r\nL 480.923576 177.75437 \r\nL 484.455222 177.866082 \r\nL 485.338133 179.570079 \r\nL 486.221044 178.46669 \r\nL 487.103956 181.329943 \r\nL 489.75269 186.69332 \r\nL 490.635601 182.056223 \r\nL 491.518513 178.327007 \r\nL 492.401424 175.54756 \r\nL 493.284335 170.547356 \r\nL 495.93307 168.871265 \r\nL 496.815981 169.569627 \r\nL 497.698892 170.42162 \r\nL 498.581804 169.262365 \r\nL 502.113449 168.522084 \r\nL 502.996361 165.295702 \r\nL 503.879272 164.555421 \r\nL 504.762184 162.795621 \r\nL 505.645095 162.767639 \r\nL 508.293829 161.636323 \r\nL 509.176741 167.712031 \r\nL 510.059652 167.013669 \r\nL 510.942563 166.706407 \r\nL 511.825475 166.97175 \r\nL 514.474209 164.569423 \r\nL 516.240032 162.083279 \r\nL 518.005854 162.641947 \r\nL 520.654589 162.78162 \r\nL 521.5375 163.47996 \r\nL 522.420411 161.538526 \r\nL 524.186234 160.072009 \r\nL 526.834968 160.072009 \r\nL 527.71788 162.61403 \r\nL 528.600791 163.745347 \r\nL 530.366614 163.256515 \r\nL 533.015348 160.728474 \r\nL 533.898259 159.527299 \r\nL 534.781171 157.529988 \r\nL 535.664082 158.270247 \r\nL 536.546994 156.664036 \r\nL 539.195728 157.097012 \r\nL 540.078639 158.04678 \r\nL 540.961551 163.745347 \r\nL 541.844462 161.245266 \r\nL 542.727373 162.865458 \r\nL 545.376108 169.415996 \r\nL 546.259019 165.952145 \r\nL 547.14193 165.128134 \r\nL 548.024842 160.085967 \r\nL 548.907753 161.734076 \r\nL 551.556487 164.415792 \r\nL 552.439399 160.491005 \r\nL 553.32231 166.3207 \r\nL 554.205222 166.741098 \r\nL 555.088133 163.307732 \r\nL 557.736867 160.112633 \r\nL 558.619778 161.724217 \r\nL 559.50269 159.580156 \r\nL 560.385601 160.995521 \r\nL 561.268513 167.147495 \r\nL 563.917247 164.260672 \r\nL 564.800158 163.854297 \r\nL 565.68307 164.106545 \r\nL 566.565981 160.519051 \r\nL 567.448892 160.883377 \r\nL 570.980538 163.433877 \r\nL 571.863449 161.205699 \r\nL 572.746361 157.814424 \r\nL 573.629272 159.145713 \r\nL 576.278006 161.359847 \r\nL 577.160918 163.377806 \r\nL 578.043829 163.321799 \r\nL 578.926741 161.359847 \r\nL 579.809652 161.640142 \r\nL 582.458386 163.027481 \r\nL 584.224209 159.958506 \r\nL 585.10712 156.385014 \r\nL 585.990032 158.669244 \r\nL 588.638766 159.089663 \r\nL 589.521677 161.556045 \r\nL 590.404589 158.781365 \r\nL 591.2875 158.529118 \r\nL 592.170411 161.065595 \r\nL 594.819146 159.243812 \r\nL 595.702057 161.990466 \r\nL 596.584968 165.381784 \r\nL 598.350791 160.519051 \r\nL 600.999525 161.920414 \r\nL 601.882437 163.952374 \r\nL 602.765348 160.350879 \r\nL 603.648259 159.145713 \r\nL 604.531171 158.332942 \r\nL 607.179905 158.515095 \r\nL 608.062816 155.684344 \r\nL 608.945728 157.309929 \r\nL 609.828639 158.318919 \r\nL 610.711551 161.514018 \r\nL 613.360285 160.084651 \r\nL 614.243196 162.971431 \r\nL 615.126108 161.75222 \r\nL 616.009019 157.968551 \r\nL 616.89193 156.861506 \r\nL 619.540665 152.012775 \r\nL 620.423576 153.918633 \r\nL 621.306487 151.424205 \r\nL 622.189399 153.161912 \r\nL 623.07231 152.671419 \r\nL 625.721044 151.50828 \r\nL 626.603956 151.634382 \r\nL 627.486867 152.194971 \r\nL 628.369778 151.914698 \r\nL 629.25269 149.53237 \r\nL 631.901424 149.322171 \r\nL 632.784335 147.976859 \r\nL 633.667247 147.640536 \r\nL 634.550158 146.589519 \r\nL 635.43307 143.912895 \r\nL 638.964715 143.324347 \r\nL 639.847627 143.689946 \r\nL 640.730538 143.886812 \r\nL 641.613449 143.732124 \r\nL 644.262184 141.426061 \r\nL 645.145095 140.301152 \r\nL 646.028006 139.893375 \r\nL 647.793829 141.215129 \r\nL 650.442563 143.788346 \r\nL 651.325475 144.125834 \r\nL 652.208386 143.366524 \r\nL 653.091297 143.254036 \r\nL 653.974209 140.694884 \r\nL 656.622943 141.243262 \r\nL 657.505854 141.566661 \r\nL 658.388766 140.765195 \r\nL 659.271677 138.599733 \r\nL 660.154589 136.785825 \r\nL 662.803323 135.379716 \r\nL 663.686234 136.560848 \r\nL 664.569146 137.010803 \r\nL 665.452057 135.126584 \r\nL 666.334968 132.736166 \r\nL 669.866614 132.778365 \r\nL 671.632437 130.964457 \r\nL 672.515348 130.556659 \r\nL 675.164082 132.483077 \r\nL 676.046994 132.32841 \r\nL 677.812816 128.222506 \r\nL 678.695728 131.034768 \r\nL 681.344462 130.458236 \r\nL 682.227373 132.497122 \r\nL 683.110285 128.967771 \r\nL 683.993196 126.15551 \r\nL 684.876108 127.210086 \r\nL 687.524842 124.482202 \r\nL 688.407753 126.099244 \r\nL 689.290665 124.622802 \r\nL 690.173576 120.418476 \r\nL 691.056487 119.110767 \r\nL 694.588133 119.954454 \r\nL 695.471044 121.079363 \r\nL 696.353956 119.6451 \r\nL 697.236867 122.007406 \r\nL 699.885601 125.888333 \r\nL 700.768513 121.416808 \r\nL 701.651424 117.789035 \r\nL 702.534335 111.123959 \r\nL 703.417247 114.709597 \r\nL 706.065981 108.874141 \r\nL 706.948892 100.802955 \r\nL 707.831804 101.11231 \r\nL 708.714715 95.86743 \r\nL 709.597627 95.501853 \r\nL 712.246361 88.738376 \r\nL 713.129272 94.728477 \r\nL 714.012184 94.348832 \r\nL 714.895095 95.754942 \r\nL 715.778006 93.448901 \r\nL 720.192563 90.015794 \r\nL 721.075475 94.048302 \r\nL 721.958386 102.268437 \r\nL 725.490032 117.101309 \r\nL 726.372943 114.1404 \r\nL 727.255854 131.045944 \r\nL 728.138766 125.645751 \r\nL 730.7875 110.446265 \r\nL 731.670411 122.120823 \r\nL 732.553323 113.604601 \r\nL 734.319146 126.266121 \r\nL 736.96788 141.70532 \r\nL 737.850791 127.182622 \r\nL 738.733703 137.461297 \r\nL 739.616614 158.00458 \r\nL 740.499525 130.129465 \r\nL 743.148259 163.136885 \r\nL 744.031171 147.415688 \r\nL 744.914082 156.115227 \r\nL 745.796994 152.858167 \r\nL 746.679905 160.415624 \r\nL 749.328639 162.347284 \r\nL 750.211551 144.920051 \r\nL 751.094462 146.922217 \r\nL 751.977373 133.964567 \r\nL 752.860285 143.0025 \r\nL 755.509019 128.155496 \r\nL 756.39193 131.708622 \r\nL 757.274842 139.604451 \r\nL 758.157753 135.163066 \r\nL 759.040665 137.179298 \r\nL 761.689399 121.049246 \r\nL 762.57231 123.558992 \r\nL 763.455222 121.24663 \r\nL 764.338133 121.232541 \r\nL 767.869778 120.710852 \r\nL 768.75269 109.163194 \r\nL 769.635601 111.729335 \r\nL 770.518513 104.453898 \r\nL 771.401424 102.254327 \r\nL 774.050158 107.245643 \r\nL 774.93307 117.453813 \r\nL 775.815981 109.416973 \r\nL 776.698892 112.377926 \r\nL 777.581804 107.964717 \r\nL 780.230538 108.669702 \r\nL 781.113449 114.64798 \r\nL 781.996361 103.904011 \r\nL 782.879272 101.394244 \r\nL 783.762184 107.936497 \r\nL 786.410918 101.915955 \r\nL 788.176741 96.699058 \r\nL 789.942563 93.681731 \r\nL 792.591297 90.777175 \r\nL 793.474209 96.741365 \r\nL 794.35712 100.632863 \r\nL 795.240032 99.533088 \r\nL 796.122943 95.824864 \r\nL 798.771677 93.357426 \r\nL 799.654589 95.162186 \r\nL 800.5375 91.570874 \r\nL 801.420411 94.723881 \r\nL 802.303323 94.610767 \r\nL 805.834968 97.35371 \r\nL 806.71788 97.014388 \r\nL 807.600791 97.594092 \r\nL 808.483703 94.978372 \r\nL 811.132437 95.572207 \r\nL 812.015348 92.631297 \r\nL 812.898259 91.995048 \r\nL 813.781171 95.444961 \r\nL 814.664082 89.393481 \r\nL 817.312816 87.753355 \r\nL 818.195728 85.717339 \r\nL 819.078639 75.763509 \r\nL 819.961551 90.708396 \r\nL 820.844462 88.629964 \r\nL 823.493196 86.933291 \r\nL 824.376108 80.386939 \r\nL 825.259019 79.43963 \r\nL 826.14193 76.49872 \r\nL 827.024842 78.152999 \r\nL 829.673576 70.489655 \r\nL 830.556487 68.595038 \r\nL 831.439399 74.349611 \r\nL 832.32231 70.814867 \r\nL 833.205222 76.484589 \r\nL 835.853956 73.501264 \r\nL 836.736867 66.332814 \r\nL 837.619778 64.650273 \r\nL 838.50269 62.444596 \r\nL 842.034335 56.166887 \r\nL 842.917247 59.630932 \r\nL 843.800158 53.155278 \r\nL 844.68307 51.048563 \r\nL 845.565981 51.967609 \r\nL 848.214715 61.299321 \r\nL 849.097627 59.489534 \r\nL 849.980538 59.92786 \r\nL 850.863449 65.753111 \r\nL 851.746361 67.223555 \r\nL 854.395095 54.894366 \r\nL 855.278006 58.923983 \r\nL 856.160918 54.68229 \r\nL 857.043829 67.704297 \r\nL 857.926741 69.457516 \r\nL 860.575475 65.852073 \r\nL 861.458386 68.439508 \r\nL 862.341297 65.555166 \r\nL 863.224209 65.781395 \r\nL 864.10712 64.211968 \r\nL 866.755854 47.90973 \r\nL 867.638766 52.504897 \r\nL 868.521677 52.999749 \r\nL 869.404589 48.178353 \r\nL 870.2875 53.650151 \r\nL 870.2875 53.650151 \r\n\" style=\"fill:none;stroke:#ff7f0e;stroke-linecap:square;stroke-width:1.5;\"/>\r\n   </g>\r\n   <g id=\"patch_3\">\r\n    <path d=\"M 33.2875 267.118125 \r\nL 33.2875 22.318125 \r\n\" style=\"fill:none;stroke:#000000;stroke-linecap:square;stroke-linejoin:miter;stroke-width:0.8;\"/>\r\n   </g>\r\n   <g id=\"patch_4\">\r\n    <path d=\"M 870.2875 267.118125 \r\nL 870.2875 22.318125 \r\n\" style=\"fill:none;stroke:#000000;stroke-linecap:square;stroke-linejoin:miter;stroke-width:0.8;\"/>\r\n   </g>\r\n   <g id=\"patch_5\">\r\n    <path d=\"M 33.2875 267.118125 \r\nL 870.2875 267.118125 \r\n\" style=\"fill:none;stroke:#000000;stroke-linecap:square;stroke-linejoin:miter;stroke-width:0.8;\"/>\r\n   </g>\r\n   <g id=\"patch_6\">\r\n    <path d=\"M 33.2875 22.318125 \r\nL 870.2875 22.318125 \r\n\" style=\"fill:none;stroke:#000000;stroke-linecap:square;stroke-linejoin:miter;stroke-width:0.8;\"/>\r\n   </g>\r\n   <g id=\"text_21\">\r\n    <!-- Equity Progression -->\r\n    <defs>\r\n     <path d=\"M 9.8125 72.90625 \r\nL 55.90625 72.90625 \r\nL 55.90625 64.59375 \r\nL 19.671875 64.59375 \r\nL 19.671875 43.015625 \r\nL 54.390625 43.015625 \r\nL 54.390625 34.71875 \r\nL 19.671875 34.71875 \r\nL 19.671875 8.296875 \r\nL 56.78125 8.296875 \r\nL 56.78125 0 \r\nL 9.8125 0 \r\nz\r\n\" id=\"DejaVuSans-69\"/>\r\n     <path d=\"M 14.796875 27.296875 \r\nQ 14.796875 17.390625 18.875 11.75 \r\nQ 22.953125 6.109375 30.078125 6.109375 \r\nQ 37.203125 6.109375 41.296875 11.75 \r\nQ 45.40625 17.390625 45.40625 27.296875 \r\nQ 45.40625 37.203125 41.296875 42.84375 \r\nQ 37.203125 48.484375 30.078125 48.484375 \r\nQ 22.953125 48.484375 18.875 42.84375 \r\nQ 14.796875 37.203125 14.796875 27.296875 \r\nz\r\nM 45.40625 8.203125 \r\nQ 42.578125 3.328125 38.25 0.953125 \r\nQ 33.9375 -1.421875 27.875 -1.421875 \r\nQ 17.96875 -1.421875 11.734375 6.484375 \r\nQ 5.515625 14.40625 5.515625 27.296875 \r\nQ 5.515625 40.1875 11.734375 48.09375 \r\nQ 17.96875 56 27.875 56 \r\nQ 33.9375 56 38.25 53.625 \r\nQ 42.578125 51.265625 45.40625 46.390625 \r\nL 45.40625 54.6875 \r\nL 54.390625 54.6875 \r\nL 54.390625 -20.796875 \r\nL 45.40625 -20.796875 \r\nz\r\n\" id=\"DejaVuSans-113\"/>\r\n     <path d=\"M 8.5 21.578125 \r\nL 8.5 54.6875 \r\nL 17.484375 54.6875 \r\nL 17.484375 21.921875 \r\nQ 17.484375 14.15625 20.5 10.265625 \r\nQ 23.53125 6.390625 29.59375 6.390625 \r\nQ 36.859375 6.390625 41.078125 11.03125 \r\nQ 45.3125 15.671875 45.3125 23.6875 \r\nL 45.3125 54.6875 \r\nL 54.296875 54.6875 \r\nL 54.296875 0 \r\nL 45.3125 0 \r\nL 45.3125 8.40625 \r\nQ 42.046875 3.421875 37.71875 1 \r\nQ 33.40625 -1.421875 27.6875 -1.421875 \r\nQ 18.265625 -1.421875 13.375 4.4375 \r\nQ 8.5 10.296875 8.5 21.578125 \r\nz\r\nM 31.109375 56 \r\nz\r\n\" id=\"DejaVuSans-117\"/>\r\n     <path d=\"M 9.421875 54.6875 \r\nL 18.40625 54.6875 \r\nL 18.40625 0 \r\nL 9.421875 0 \r\nz\r\nM 9.421875 75.984375 \r\nL 18.40625 75.984375 \r\nL 18.40625 64.59375 \r\nL 9.421875 64.59375 \r\nz\r\n\" id=\"DejaVuSans-105\"/>\r\n     <path d=\"M 32.171875 -5.078125 \r\nQ 28.375 -14.84375 24.75 -17.8125 \r\nQ 21.140625 -20.796875 15.09375 -20.796875 \r\nL 7.90625 -20.796875 \r\nL 7.90625 -13.28125 \r\nL 13.1875 -13.28125 \r\nQ 16.890625 -13.28125 18.9375 -11.515625 \r\nQ 21 -9.765625 23.484375 -3.21875 \r\nL 25.09375 0.875 \r\nL 2.984375 54.6875 \r\nL 12.5 54.6875 \r\nL 29.59375 11.921875 \r\nL 46.6875 54.6875 \r\nL 56.203125 54.6875 \r\nz\r\n\" id=\"DejaVuSans-121\"/>\r\n     <path id=\"DejaVuSans-32\"/>\r\n     <path d=\"M 19.671875 64.796875 \r\nL 19.671875 37.40625 \r\nL 32.078125 37.40625 \r\nQ 38.96875 37.40625 42.71875 40.96875 \r\nQ 46.484375 44.53125 46.484375 51.125 \r\nQ 46.484375 57.671875 42.71875 61.234375 \r\nQ 38.96875 64.796875 32.078125 64.796875 \r\nz\r\nM 9.8125 72.90625 \r\nL 32.078125 72.90625 \r\nQ 44.34375 72.90625 50.609375 67.359375 \r\nQ 56.890625 61.8125 56.890625 51.125 \r\nQ 56.890625 40.328125 50.609375 34.8125 \r\nQ 44.34375 29.296875 32.078125 29.296875 \r\nL 19.671875 29.296875 \r\nL 19.671875 0 \r\nL 9.8125 0 \r\nz\r\n\" id=\"DejaVuSans-80\"/>\r\n     <path d=\"M 41.109375 46.296875 \r\nQ 39.59375 47.171875 37.8125 47.578125 \r\nQ 36.03125 48 33.890625 48 \r\nQ 26.265625 48 22.1875 43.046875 \r\nQ 18.109375 38.09375 18.109375 28.8125 \r\nL 18.109375 0 \r\nL 9.078125 0 \r\nL 9.078125 54.6875 \r\nL 18.109375 54.6875 \r\nL 18.109375 46.1875 \r\nQ 20.953125 51.171875 25.484375 53.578125 \r\nQ 30.03125 56 36.53125 56 \r\nQ 37.453125 56 38.578125 55.875 \r\nQ 39.703125 55.765625 41.0625 55.515625 \r\nz\r\n\" id=\"DejaVuSans-114\"/>\r\n     <path d=\"M 30.609375 48.390625 \r\nQ 23.390625 48.390625 19.1875 42.75 \r\nQ 14.984375 37.109375 14.984375 27.296875 \r\nQ 14.984375 17.484375 19.15625 11.84375 \r\nQ 23.34375 6.203125 30.609375 6.203125 \r\nQ 37.796875 6.203125 41.984375 11.859375 \r\nQ 46.1875 17.53125 46.1875 27.296875 \r\nQ 46.1875 37.015625 41.984375 42.703125 \r\nQ 37.796875 48.390625 30.609375 48.390625 \r\nz\r\nM 30.609375 56 \r\nQ 42.328125 56 49.015625 48.375 \r\nQ 55.71875 40.765625 55.71875 27.296875 \r\nQ 55.71875 13.875 49.015625 6.21875 \r\nQ 42.328125 -1.421875 30.609375 -1.421875 \r\nQ 18.84375 -1.421875 12.171875 6.21875 \r\nQ 5.515625 13.875 5.515625 27.296875 \r\nQ 5.515625 40.765625 12.171875 48.375 \r\nQ 18.84375 56 30.609375 56 \r\nz\r\n\" id=\"DejaVuSans-111\"/>\r\n     <path d=\"M 45.40625 27.984375 \r\nQ 45.40625 37.75 41.375 43.109375 \r\nQ 37.359375 48.484375 30.078125 48.484375 \r\nQ 22.859375 48.484375 18.828125 43.109375 \r\nQ 14.796875 37.75 14.796875 27.984375 \r\nQ 14.796875 18.265625 18.828125 12.890625 \r\nQ 22.859375 7.515625 30.078125 7.515625 \r\nQ 37.359375 7.515625 41.375 12.890625 \r\nQ 45.40625 18.265625 45.40625 27.984375 \r\nz\r\nM 54.390625 6.78125 \r\nQ 54.390625 -7.171875 48.1875 -13.984375 \r\nQ 42 -20.796875 29.203125 -20.796875 \r\nQ 24.46875 -20.796875 20.265625 -20.09375 \r\nQ 16.0625 -19.390625 12.109375 -17.921875 \r\nL 12.109375 -9.1875 \r\nQ 16.0625 -11.328125 19.921875 -12.34375 \r\nQ 23.78125 -13.375 27.78125 -13.375 \r\nQ 36.625 -13.375 41.015625 -8.765625 \r\nQ 45.40625 -4.15625 45.40625 5.171875 \r\nL 45.40625 9.625 \r\nQ 42.625 4.78125 38.28125 2.390625 \r\nQ 33.9375 0 27.875 0 \r\nQ 17.828125 0 11.671875 7.65625 \r\nQ 5.515625 15.328125 5.515625 27.984375 \r\nQ 5.515625 40.671875 11.671875 48.328125 \r\nQ 17.828125 56 27.875 56 \r\nQ 33.9375 56 38.28125 53.609375 \r\nQ 42.625 51.21875 45.40625 46.390625 \r\nL 45.40625 54.6875 \r\nL 54.390625 54.6875 \r\nz\r\n\" id=\"DejaVuSans-103\"/>\r\n     <path d=\"M 44.28125 53.078125 \r\nL 44.28125 44.578125 \r\nQ 40.484375 46.53125 36.375 47.5 \r\nQ 32.28125 48.484375 27.875 48.484375 \r\nQ 21.1875 48.484375 17.84375 46.4375 \r\nQ 14.5 44.390625 14.5 40.28125 \r\nQ 14.5 37.15625 16.890625 35.375 \r\nQ 19.28125 33.59375 26.515625 31.984375 \r\nL 29.59375 31.296875 \r\nQ 39.15625 29.25 43.1875 25.515625 \r\nQ 47.21875 21.78125 47.21875 15.09375 \r\nQ 47.21875 7.46875 41.1875 3.015625 \r\nQ 35.15625 -1.421875 24.609375 -1.421875 \r\nQ 20.21875 -1.421875 15.453125 -0.5625 \r\nQ 10.6875 0.296875 5.421875 2 \r\nL 5.421875 11.28125 \r\nQ 10.40625 8.6875 15.234375 7.390625 \r\nQ 20.0625 6.109375 24.8125 6.109375 \r\nQ 31.15625 6.109375 34.5625 8.28125 \r\nQ 37.984375 10.453125 37.984375 14.40625 \r\nQ 37.984375 18.0625 35.515625 20.015625 \r\nQ 33.0625 21.96875 24.703125 23.78125 \r\nL 21.578125 24.515625 \r\nQ 13.234375 26.265625 9.515625 29.90625 \r\nQ 5.8125 33.546875 5.8125 39.890625 \r\nQ 5.8125 47.609375 11.28125 51.796875 \r\nQ 16.75 56 26.8125 56 \r\nQ 31.78125 56 36.171875 55.265625 \r\nQ 40.578125 54.546875 44.28125 53.078125 \r\nz\r\n\" id=\"DejaVuSans-115\"/>\r\n     <path d=\"M 54.890625 33.015625 \r\nL 54.890625 0 \r\nL 45.90625 0 \r\nL 45.90625 32.71875 \r\nQ 45.90625 40.484375 42.875 44.328125 \r\nQ 39.84375 48.1875 33.796875 48.1875 \r\nQ 26.515625 48.1875 22.3125 43.546875 \r\nQ 18.109375 38.921875 18.109375 30.90625 \r\nL 18.109375 0 \r\nL 9.078125 0 \r\nL 9.078125 54.6875 \r\nL 18.109375 54.6875 \r\nL 18.109375 46.1875 \r\nQ 21.34375 51.125 25.703125 53.5625 \r\nQ 30.078125 56 35.796875 56 \r\nQ 45.21875 56 50.046875 50.171875 \r\nQ 54.890625 44.34375 54.890625 33.015625 \r\nz\r\n\" id=\"DejaVuSans-110\"/>\r\n    </defs>\r\n    <g transform=\"translate(396.1675 16.318125)scale(0.12 -0.12)\">\r\n     <use xlink:href=\"#DejaVuSans-69\"/>\r\n     <use x=\"63.183594\" xlink:href=\"#DejaVuSans-113\"/>\r\n     <use x=\"126.660156\" xlink:href=\"#DejaVuSans-117\"/>\r\n     <use x=\"190.039062\" xlink:href=\"#DejaVuSans-105\"/>\r\n     <use x=\"217.822266\" xlink:href=\"#DejaVuSans-116\"/>\r\n     <use x=\"257.03125\" xlink:href=\"#DejaVuSans-121\"/>\r\n     <use x=\"316.210938\" xlink:href=\"#DejaVuSans-32\"/>\r\n     <use x=\"347.998047\" xlink:href=\"#DejaVuSans-80\"/>\r\n     <use x=\"406.550781\" xlink:href=\"#DejaVuSans-114\"/>\r\n     <use x=\"445.414062\" xlink:href=\"#DejaVuSans-111\"/>\r\n     <use x=\"506.595703\" xlink:href=\"#DejaVuSans-103\"/>\r\n     <use x=\"570.072266\" xlink:href=\"#DejaVuSans-114\"/>\r\n     <use x=\"608.935547\" xlink:href=\"#DejaVuSans-101\"/>\r\n     <use x=\"670.458984\" xlink:href=\"#DejaVuSans-115\"/>\r\n     <use x=\"722.558594\" xlink:href=\"#DejaVuSans-115\"/>\r\n     <use x=\"774.658203\" xlink:href=\"#DejaVuSans-105\"/>\r\n     <use x=\"802.441406\" xlink:href=\"#DejaVuSans-111\"/>\r\n     <use x=\"863.623047\" xlink:href=\"#DejaVuSans-110\"/>\r\n    </g>\r\n   </g>\r\n   <g id=\"legend_1\">\r\n    <g id=\"patch_7\">\r\n     <path d=\"M 40.2875 59.674375 \r\nL 94.503125 59.674375 \r\nQ 96.503125 59.674375 96.503125 57.674375 \r\nL 96.503125 29.318125 \r\nQ 96.503125 27.318125 94.503125 27.318125 \r\nL 40.2875 27.318125 \r\nQ 38.2875 27.318125 38.2875 29.318125 \r\nL 38.2875 57.674375 \r\nQ 38.2875 59.674375 40.2875 59.674375 \r\nz\r\n\" style=\"fill:#ffffff;opacity:0.8;stroke:#cccccc;stroke-linejoin:miter;\"/>\r\n    </g>\r\n    <g id=\"line2d_22\">\r\n     <path d=\"M 42.2875 35.416562 \r\nL 62.2875 35.416562 \r\n\" style=\"fill:none;stroke:#1f77b4;stroke-linecap:square;stroke-width:1.5;\"/>\r\n    </g>\r\n    <g id=\"line2d_23\"/>\r\n    <g id=\"text_22\">\r\n     <!-- aapl -->\r\n     <defs>\r\n      <path d=\"M 18.109375 8.203125 \r\nL 18.109375 -20.796875 \r\nL 9.078125 -20.796875 \r\nL 9.078125 54.6875 \r\nL 18.109375 54.6875 \r\nL 18.109375 46.390625 \r\nQ 20.953125 51.265625 25.265625 53.625 \r\nQ 29.59375 56 35.59375 56 \r\nQ 45.5625 56 51.78125 48.09375 \r\nQ 58.015625 40.1875 58.015625 27.296875 \r\nQ 58.015625 14.40625 51.78125 6.484375 \r\nQ 45.5625 -1.421875 35.59375 -1.421875 \r\nQ 29.59375 -1.421875 25.265625 0.953125 \r\nQ 20.953125 3.328125 18.109375 8.203125 \r\nz\r\nM 48.6875 27.296875 \r\nQ 48.6875 37.203125 44.609375 42.84375 \r\nQ 40.53125 48.484375 33.40625 48.484375 \r\nQ 26.265625 48.484375 22.1875 42.84375 \r\nQ 18.109375 37.203125 18.109375 27.296875 \r\nQ 18.109375 17.390625 22.1875 11.75 \r\nQ 26.265625 6.109375 33.40625 6.109375 \r\nQ 40.53125 6.109375 44.609375 11.75 \r\nQ 48.6875 17.390625 48.6875 27.296875 \r\nz\r\n\" id=\"DejaVuSans-112\"/>\r\n      <path d=\"M 9.421875 75.984375 \r\nL 18.40625 75.984375 \r\nL 18.40625 0 \r\nL 9.421875 0 \r\nz\r\n\" id=\"DejaVuSans-108\"/>\r\n     </defs>\r\n     <g transform=\"translate(70.2875 38.916562)scale(0.1 -0.1)\">\r\n      <use xlink:href=\"#DejaVuSans-97\"/>\r\n      <use x=\"61.279297\" xlink:href=\"#DejaVuSans-97\"/>\r\n      <use x=\"122.558594\" xlink:href=\"#DejaVuSans-112\"/>\r\n      <use x=\"186.035156\" xlink:href=\"#DejaVuSans-108\"/>\r\n     </g>\r\n    </g>\r\n    <g id=\"line2d_24\">\r\n     <path d=\"M 42.2875 50.094688 \r\nL 62.2875 50.094688 \r\n\" style=\"fill:none;stroke:#ff7f0e;stroke-linecap:square;stroke-width:1.5;\"/>\r\n    </g>\r\n    <g id=\"line2d_25\"/>\r\n    <g id=\"text_23\">\r\n     <!-- msft -->\r\n     <defs>\r\n      <path d=\"M 52 44.1875 \r\nQ 55.375 50.25 60.0625 53.125 \r\nQ 64.75 56 71.09375 56 \r\nQ 79.640625 56 84.28125 50.015625 \r\nQ 88.921875 44.046875 88.921875 33.015625 \r\nL 88.921875 0 \r\nL 79.890625 0 \r\nL 79.890625 32.71875 \r\nQ 79.890625 40.578125 77.09375 44.375 \r\nQ 74.3125 48.1875 68.609375 48.1875 \r\nQ 61.625 48.1875 57.5625 43.546875 \r\nQ 53.515625 38.921875 53.515625 30.90625 \r\nL 53.515625 0 \r\nL 44.484375 0 \r\nL 44.484375 32.71875 \r\nQ 44.484375 40.625 41.703125 44.40625 \r\nQ 38.921875 48.1875 33.109375 48.1875 \r\nQ 26.21875 48.1875 22.15625 43.53125 \r\nQ 18.109375 38.875 18.109375 30.90625 \r\nL 18.109375 0 \r\nL 9.078125 0 \r\nL 9.078125 54.6875 \r\nL 18.109375 54.6875 \r\nL 18.109375 46.1875 \r\nQ 21.1875 51.21875 25.484375 53.609375 \r\nQ 29.78125 56 35.6875 56 \r\nQ 41.65625 56 45.828125 52.96875 \r\nQ 50 49.953125 52 44.1875 \r\nz\r\n\" id=\"DejaVuSans-109\"/>\r\n      <path d=\"M 37.109375 75.984375 \r\nL 37.109375 68.5 \r\nL 28.515625 68.5 \r\nQ 23.6875 68.5 21.796875 66.546875 \r\nQ 19.921875 64.59375 19.921875 59.515625 \r\nL 19.921875 54.6875 \r\nL 34.71875 54.6875 \r\nL 34.71875 47.703125 \r\nL 19.921875 47.703125 \r\nL 19.921875 0 \r\nL 10.890625 0 \r\nL 10.890625 47.703125 \r\nL 2.296875 47.703125 \r\nL 2.296875 54.6875 \r\nL 10.890625 54.6875 \r\nL 10.890625 58.5 \r\nQ 10.890625 67.625 15.140625 71.796875 \r\nQ 19.390625 75.984375 28.609375 75.984375 \r\nz\r\n\" id=\"DejaVuSans-102\"/>\r\n     </defs>\r\n     <g transform=\"translate(70.2875 53.594688)scale(0.1 -0.1)\">\r\n      <use xlink:href=\"#DejaVuSans-109\"/>\r\n      <use x=\"97.412109\" xlink:href=\"#DejaVuSans-115\"/>\r\n      <use x=\"149.511719\" xlink:href=\"#DejaVuSans-102\"/>\r\n      <use x=\"182.966797\" xlink:href=\"#DejaVuSans-116\"/>\r\n     </g>\r\n    </g>\r\n   </g>\r\n  </g>\r\n </g>\r\n <defs>\r\n  <clipPath id=\"p0f536d00bb\">\r\n   <rect height=\"244.8\" width=\"837\" x=\"33.2875\" y=\"22.318125\"/>\r\n  </clipPath>\r\n </defs>\r\n</svg>\r\n",
      "image/png": "[encoded data removed]"
     },
     "metadata": {
      "needs_background": "light"
     }
    }
   ],
   "source": [
    "# FFN函数测试\n",
    "%matplotlib inline\n",
    "print(type(prices))\n",
    "returns = prices.to_log_returns().dropna()\n",
    "print(returns.head())\n",
    "\n",
    "perf = prices.calc_stats()\n",
    "perf.plot()\n",
    "\n",
    "perf['msft'].display_monthly_returns()\n",
    "\n",
    "perf['msft'].stats.max_drawdown\n",
    "\n",
    "perf['msft'].stats\n",
    "\n",
    "print(type(perf['msft']))"
   ]
  },
  {
   "cell_type": "code",
   "execution_count": 14,
   "metadata": {
    "tags": []
   },
   "outputs": [
    {
     "output_type": "stream",
     "name": "stdout",
     "text": "['9:40:00,5,5', '9:40:00,5,7', '9:40:00,5,9', '9:40:00,7,5', '9:40:00,7,7', '9:40:00,7,9', '9:40:00,9,5', '9:40:00,9,7', '9:40:00,9,9', '10:00:00,5,5', '10:00:00,5,7', '10:00:00,5,9', '10:00:00,7,5', '10:00:00,7,7', '10:00:00,7,9', '10:00:00,9,5', '10:00:00,9,7', '10:00:00,9,9', '10:30:00,5,5', '10:30:00,5,7', '10:30:00,5,9', '10:30:00,7,5', '10:30:00,7,7', '10:30:00,7,9', '10:30:00,9,5', '10:30:00,9,7', '10:30:00,9,9', '11:00:00,5,5', '11:00:00,5,7', '11:00:00,5,9', '11:00:00,7,5', '11:00:00,7,7', '11:00:00,7,9', '11:00:00,9,5', '11:00:00,9,7', '11:00:00,9,9', '11:30:00,5,5', '11:30:00,5,7', '11:30:00,5,9', '11:30:00,7,5', '11:30:00,7,7', '11:30:00,7,9', '11:30:00,9,5', '11:30:00,9,7', '11:30:00,9,9', '13:00:00,5,5', '13:00:00,5,7', '13:00:00,5,9', '13:00:00,7,5', '13:00:00,7,7', '13:00:00,7,9', '13:00:00,9,5', '13:00:00,9,7', '13:00:00,9,9', '13:30:00,5,5', '13:30:00,5,7', '13:30:00,5,9', '13:30:00,7,5', '13:30:00,7,7', '13:30:00,7,9', '13:30:00,9,5', '13:30:00,9,7', '13:30:00,9,9', '14:00:00,5,5', '14:00:00,5,7', '14:00:00,5,9', '14:00:00,7,5', '14:00:00,7,7', '14:00:00,7,9', '14:00:00,9,5', '14:00:00,9,7', '14:00:00,9,9', '14:30:00,5,5', '14:30:00,5,7', '14:30:00,5,9', '14:30:00,7,5', '14:30:00,7,7', '14:30:00,7,9', '14:30:00,9,5', '14:30:00,9,7', '14:30:00,9,9']\n"
    }
   ],
   "source": [
    "# 三个参数的组合生成\n",
    "\n",
    "# list1=[]\n",
    "\n",
    "# for theruntime in ['9:40:00','10:30:00','11:30:00','13:30:00','14:30:00']:\n",
    "#     list1.append(theruntime)\n",
    "\n",
    "from functools import reduce\n",
    "\n",
    "def __GetParameterCombinations(alllists):\n",
    "\n",
    "    FuncCombination = lambda x, code=',': reduce(lambda x, y: [str(i)+code+str(j) for i in x for j in y], x)\n",
    "    \n",
    "    return FuncCombination(alllists,',')\n",
    "\n",
    "Para1=['9:40:00','10:00:00','10:30:00','11:00:00','11:30:00','13:00:00','13:30:00','14:00:00','14:30:00']\n",
    "Para2=[]\n",
    "Para3=[]\n",
    "for i in range(5,10, 2):\n",
    "    Para2.append(i)\n",
    "\n",
    "for i in range(5,10, 2):\n",
    "    Para3.append(i)\n",
    "\n",
    "ParaList=__GetParameterCombinations([Para1,Para2,Para3])\n",
    "print(ParaList)"
   ]
  }
 ]
}
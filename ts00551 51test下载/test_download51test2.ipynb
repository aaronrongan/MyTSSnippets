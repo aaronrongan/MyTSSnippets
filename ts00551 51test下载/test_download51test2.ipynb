{
 "cells": [
  {
   "cell_type": "markdown",
   "metadata": {},
   "source": []
  },
  {
   "cell_type": "code",
   "execution_count": 1,
   "metadata": {
    "collapsed": false
   },
   "outputs": [],
   "source": [
    "# -*- coding: utf-8 -*-\n",
    "# coding=utf-8\n",
    "    \n",
    "import time\n",
    "import re\n",
    "import os\n",
    "import requests\n",
    "from bs4 import BeautifulSoup\n",
    "import csv\n",
    "import math\n",
    "import json\n",
    "import urllib\n",
    "\n",
    "from selenium import webdriver\n",
    "import time\n",
    "\n",
    "from selenium import webdriver\n",
    "from selenium.webdriver.common.by import By\n",
    "from selenium.webdriver.support.ui import WebDriverWait\n",
    "from selenium.webdriver.support import expected_conditions as EC\n",
    "from selenium.webdriver.common.keys import Keys\n",
    "\n",
    "from selenium.webdriver.common.action_chains import ActionChains\n",
    "\n",
    "# from selenium.webdriver.common.action_chains import ActionChains\n",
    "\n",
    "\n",
    "import socket\n",
    "import csv\n",
    "import pandas as pd\n",
    "\n",
    "from selenium.webdriver.support.ui import Select\n"
   ]
  },
  {
   "cell_type": "code",
   "execution_count": 2,
   "metadata": {
    "collapsed": false
   },
   "outputs": [],
   "source": [
    "headers = {\"User-Agent\": \"Mozilla/5.0 (Macintosh; Intel Mac OS X 10.13; rv:55.0) Gecko/20100101 Firefox/55.0\"}\n",
    "   \n",
    "# realurl='https://www.51test.net/gaokao/manfenzuowen/'\n",
    "realurl='https://www.51test.net/xsc/fuxiziliao/'\n",
    "r = requests.get(realurl, timeout=10, headers=headers)\n",
    "\n",
    "r.encoding=\"gb2312\"\n",
    "\n",
    "soup=BeautifulSoup(r.text,'lxml')\n",
    "\n",
    "# soup = BeautifulSoup(content.decode(html_encode,errors='ignore'), \"html.parser\")\n",
    "\n",
    "# r.text\n",
    "# print(r.text) #.decode('gb2312')\n",
    "# r.text.encode('gb18030')\n",
    "# r.text.encode(encoding='UTF-8',errors='strict')\n",
    "# print(soup)"
   ]
  },
  {
   "cell_type": "code",
   "execution_count": 3,
   "metadata": {
    "collapsed": false
   },
   "outputs": [
    {
     "output_type": "stream",
     "name": "stdout",
     "text": [
      "https://www.51test.net/show/9873102.html\nhttps://www.51test.net/show/9873102.html\nhttps://www.51test.net/show/9832007.html\nhttps://www.51test.net/show/9708456.html\nhttps://www.51test.net/show/9650828.html\nhttps://www.51test.net/show/9467475.html\nhttps://www.51test.net/show/9155424.html\nhttps://www.51test.net/show/9119908.html\nhttps://www.51test.net/show/9001142.html\nhttps://www.51test.net/show/8957299.html\nhttps://www.51test.net/show/8889771.html\nhttps://www.51test.net/show/8889753.html\nhttps://www.51test.net/show/8810114.html\nhttps://www.51test.net/show/8550621.html\nhttps://www.51test.net/show/8547782.html\nhttps://www.51test.net/show/8547708.html\nhttps://www.51test.net/show/8547586.html\nhttps://www.51test.net/show/8465484.html\nhttps://www.51test.net/show/8465462.html\nhttps://www.51test.net/show/8465461.html\nhttps://www.51test.net/show/8465406.html\nhttps://www.51test.net/show/8276491.html\nhttps://www.51test.net/show/8221610.html\nhttps://www.51test.net/show/8221603.html\nhttps://www.51test.net/show/8221560.html\nhttps://www.51test.net/show/8181511.html\nhttps://www.51test.net/show/8181419.html\nhttps://www.51test.net/show/8178464.html\nhttps://www.51test.net/show/8178463.html\nhttps://www.51test.net/show/8109604.html\nhttps://www.51test.net/show/8109571.html\n30\n"
     ]
    }
   ],
   "source": [
    "tarticles=soup.find_all('li',class_='tuwen')#.find(\"div\").find_all('title')\n",
    "# print(tarticle)\n",
    "titlelist=[]\n",
    "i=0\n",
    "# print(tarticles[0].find('a')['href'])\n",
    "fullurl='https://www.51test.net' + tarticles[0].find('a')['href']\n",
    "\n",
    "print(fullurl)\n",
    "\n",
    "for each in tarticles:\n",
    "    print('https://www.51test.net' + each.find('a')['href'])\n",
    "    i=i+1\n",
    "print(i)"
   ]
  },
  {
   "cell_type": "code",
   "execution_count": 4,
   "metadata": {
    "collapsed": false
   },
   "outputs": [
    {
     "output_type": "stream",
     "name": "stdout",
     "text": [
      "C:/Users/Aaron/AppData/Roaming/Mozilla/Firefox/Profiles/yn80ouvt.default\n",
      "ok\n"
     ]
    }
   ],
   "source": [
    "##########  Firefox Driver\n",
    "\n",
    "hostname=socket.gethostname()\n",
    "if hostname=='MyWorkstation':\n",
    "    profileDir = \"C:/Users/Aaron/AppData/Roaming/Mozilla/Firefox/Profiles/yn80ouvt.default\" #用于MYWorkStation\n",
    "elif hostname=='MyMacWin10':\n",
    "    profileDir = \"C:/Users/Aaron/AppData/Roaming/Mozilla/Firefox/Profiles/ewg4x7y5.default-release\" #用于MyMacwin\n",
    "elif hostname==\"DESKTOP-DEFM935\":\n",
    "    profileDir = \"C:\\\\Users\\\\Administrator\\\\Downloads\\\\51test\\\\FireFoxProfile\" #用于2570p电脑\n",
    "    \n",
    "print(profileDir)\n",
    "# profile =webdriver.FirefoxProfile(profileDir)\n",
    "\n",
    "# profile = webdriver.FirefoxProfile()  \n",
    "\n",
    "profile = webdriver.firefox.firefox_profile.FirefoxProfile(profileDir)\n",
    "\n",
    "\n",
    "profile.set_preference('browser.download.folderList',2)\n",
    "profile.set_preference('browser.download.manager.showWhenStarting', True)\n",
    "profile.set_preference('browser.download.dir','C:\\\\Users\\\\Administrator\\\\Downloads\\\\51test')\n",
    "profile.set_preference('browser.helperApps.neverAsk.saveToDisk','application/vnd.openxmlformats-officedocument.wordprocessingml.document,application/msword,application/vnd.ms-word,application/zip,text/plain,application/vnd.ms-excel,text/csv,text/comma-separated-values,application/octet-stream,application/vnd.openxmlformats-officedocument.spreadsheetml.sheet,application/vnd.openxmlformats-officedocument.wordprocessingml.document,application/xml,text/plain,text/xml,text/doc,text/docx,image/jpeg,text/csv,application/octet-stream,text/html,application/x-msdownload,application/zip,application/kswps,application/pdf,application/doc,application/docx')\n",
    "\n",
    "# profile.set_preference(\"browser.altClickSave\", True)\n",
    "\n",
    "# profile.update_preferences()\n",
    "print('ok')\n",
    "driver = webdriver.Firefox(firefox_profile=profile)\n",
    "\n",
    "driver.implicitly_wait(5)\n",
    "\n",
    "# url='https://www.51test.net/show/9870584.html'\n",
    "# url='https://user.51test.net/vip/download/word/?id=9870584'\n",
    "\n",
    "url='https://view.51test.net/docview/?id=9870584' #这个页面是弹出word预览的页面，该页面里包含https://view.51test.net/word/?id=9870584&token=5bfc85dd27e114081435b41830a0fc2e信息\n",
    "# url='https://user.51test.net/vip/download/word/?id=9870584'   \n",
    "    \n",
    "    \n",
    "driver.get(url)\n",
    "\n",
    "ht = driver.page_source\n",
    "# ht=ht.encode('gb18030').decode('gb18030')"
   ]
  },
  {
   "cell_type": "code",
   "execution_count": null,
   "metadata": {
    "collapsed": false
   },
   "outputs": [],
   "source": [
    "######### Chrome Driver\n",
    "\n",
    "\n",
    "hostname=socket.gethostname()\n",
    "if hostname=='MyWorkstation':\n",
    "    profileDir = \"C:/Users/Aaron/AppData/Roaming/Mozilla/Firefox/Profiles/yn80ouvt.default\" #用于MYWorkStation\n",
    "elif hostname=='MyMacWin10':\n",
    "    profileDir = \"C:/Users/Aaron/AppData/Roaming/Mozilla/Firefox/Profiles/ewg4x7y5.default-release\" #用于MyMacwin\n",
    "elif hostname==\"DESKTOP-DEFM935\":\n",
    "    profileDir = \"C:\\\\Users\\\\Administrator\\\\Downloads\\\\51test\\\\FireFoxProfile\" #用于2570p电脑\n",
    "    \n",
    "# print(profileDir)\n",
    "\n",
    "driverOptions = webdriver.ChromeOptions()\n",
    "driverOptions.add_argument(r\"user-data-dir=C:\\Users\\Administrator\\Downloads\\51test\\GoogleProfile\")\n",
    "chrome_driver='C:/Users/Administrator/Downloads/chromedriver.exe'\n",
    "\n",
    "driver = webdriver.Chrome(executable_path=chrome_driver,options=driverOptions)\n",
    "\n",
    "\n",
    "# driver=webdriver.Chrome(executable_path=chrome_driver)\n",
    "\n",
    "url='https://view.51test.net/docview/?id=9870586' #这个页面是弹出word预览的页面，该页面里包含https://view.51test.net/word/?id=9870584&token=5bfc85dd27e114081435b41830a0fc2e信息\n",
    "\n",
    "driver.get(url)\n",
    "\n",
    "time.sleep(5)\n",
    "# links_onclick=browser.find_elements_by_css_selector(\"a[onclick^='opendownform']\")\n",
    "\n",
    "# links_onclick[0].click()\n",
    "\n",
    "ht = driver.page_source"
   ]
  },
  {
   "cell_type": "code",
   "execution_count": 5,
   "metadata": {
    "collapsed": false
   },
   "outputs": [
    {
     "output_type": "stream",
     "name": "stdout",
     "text": [
      "21\n",
      "4\n"
     ]
    }
   ],
   "source": [
    "handle=driver.current_window_handle\n",
    "print(handle)\n",
    "time.sleep(3)\n",
    "\n",
    "links_onclick=driver.find_elements_by_css_selector(\"a[onclick^='opendownform']\")\n",
    "\n",
    "# print(links_onclick)\n",
    "# links_onclick[1].click()\n",
    "############用sendkeys才起作用\n",
    "links_onclick[1].send_keys(\"\\n\")\n",
    "\n",
    "# handles = driver.window_handles\n",
    "# print(len(handles))\n",
    "\n",
    "# time.sleep(10)\n",
    "\n",
    "# handles = driver.window_handles\n",
    "# print(len(handles))\n",
    "\n",
    "# obj = driver.switch_to_alert\n",
    "# \n",
    "# driver.switch_to_alert\n",
    "# time.sleep(10)\n",
    "iframes =driver.find_elements_by_xpath(\"//iframe\")\n",
    "print(len(iframes))\n",
    "driver.switch_to.frame(0)\n",
    "# driver.switch_to.frame(driver.find_element_by_name(name))\n",
    "# driver.switch_to.frame(driver.find_element_by_css_selector(css_selector))\n",
    "# handles = obj.window_handles\n",
    "\n",
    "\n",
    "# for newhandle in handles:\n",
    "#     time.sleep(3)\n",
    "#     print(newhandle)\n",
    "#     print(newhandle.title)\n",
    "\n",
    "# newhandle = driver.window_handles[1]\n",
    "# obj = driver.switch_to_alert\n",
    "# print(obj.current_window_handle)\n",
    "time.sleep(2)\n",
    "# print(handles[1])\n",
    "\n",
    "# downloadclick=newhandle[1].find_element_by_name('layui-layer-shade')\n",
    "# driver.switch_to.window(handles[1])\n",
    "\n",
    "# downloadbutton=driver.find_element_by_class_name(\"regbutton\")\n",
    "# downloadbutton=driver.find_element_by_id(\"regbutton\")\n",
    "# print(downloadclick)\n",
    "\n",
    "# print(downloadclick.get_attribute(\"href\"))"
   ]
  },
  {
   "cell_type": "code",
   "execution_count": 7,
   "metadata": {
    "collapsed": false
   },
   "outputs": [
    {
     "output_type": "execute_result",
     "data": {
      "text/plain": [
       "is.getAttribute(\"index\"),10))},a[t].addEventListener(r,d[t],!1),e.appendChild(a[t]);l.appendChild(e)}function n(e){return\"relative\"===e?i.wrap:Boolean(e.nodeName)&&Boolean(e.nodeType)?e:i.wrap.parentNode}var i=this,o=i.data,a=[],d=[],r=i.deviceEvents.endEvt,l=document.createElement(\"ul\");l.className=\"islider-dot-wrap\",t(),n(!(!e||null==e.locate)&&e.locate).appendChild(l),i.on(\"slideChange\",function(){for(var e=0;e<o.length;e++)a[e].className=\"islider-dot\",e===this.slideIndex&&(a[e].className+=\" active\")}),i.on(\"loadData\",function(){o=this.data,t()},1)})});\\n        \\n        <!-- iSlider.plugin.button.min.js-->\\n        !function(e,i){\"function\"==typeof require&&\"object\"==typeof module&&module&&\"object\"==typeof exports&&exports?i(require(\"islider.js\")):\"function\"==typeof define&&define.amd?define([\"islider.js\"],function(e){i(e)}):i(e.iSlider)}(window?window:this,function(e){\"use strict\";e&&e.regPlugin(\"button\",function(){for(var e=this,i=[],t=[],n=0;n<2;n++)i[n]=document.createElement(\"div\"),i[n].className=\"islider-btn-outer\",t[n]=document.createElement(\"div\"),t[n].className=\"islider-btn-inner\",0===n?(i[n].className+=\" left\",i[n].dir=-1):(i[n].className+=\" right\",i[n].dir=1),i[n].addEventListener(\"click\",function(){var i=parseInt(this.getAttribute(\"dir\"),10);e.slideTo(e.slideIndex+i)}),i[n].appendChild(t[n]),e.wrap.appendChild(i[n],e.wrap.nextSibling)})});\\n        \\n        <!-- iSlider.plugin.dot.min.js-->\\n        !function(e,t){\"function\"==typeof require&&\"object\"==typeof module&&module&&\"object\"==typeof exports&&exports?t(require(\"./iSlider\")):\"function\"==typeof define&&define.amd?define([\"./iSlider\"],function(e){t(e)}):t(e.iSlider)}(window?window:this,function(e){\"use strict\";e&&e.extend(e._animateFuncs,{rotate:function(){function t(t,s,i,n,r,a){var o=\"X\"===s?\"Y\":\"X\";this.isVertical&&(r=-r,Math.abs(a)>1&&(a=-a));var l=t.parentElement;e.setStyle(l,\"perspective\",4*i),t.style.visibility=\"visible\",a>0&&2===n&&(t.style.visibility=\"hidden\"),a<0&&0===n&&(t.style.visibility=\"hidden\"),t.style.zIndex=1===n?1:0,t.style.cssText+=e.styleProp(\"backface-visibility\")+\":hidden;\"+e.styleProp(\"transform-style\")+\":preserve-3d;position:absolute;\",e.setStyle(t,\"transform\",\"rotate\"+o+\"(\"+90*(r/i+n-1)+\"deg) translateZ(\"+.889*i/2+\"px) scale(0.889)\")}return t.effect=e.styleProp(\"transform\"),t.reverse=!0,t}(),flip:function(){function t(t,s,i,n,r,a){this.isVertical&&(r=-r);var o=t.parentElement;e.setStyle(o,\"perspective\",4*i),t.style.visibility=\"visible\",a>0&&2===n&&(t.style.visibility=\"hidden\"),a<0&&0===n&&(t.style.visibility=\"hidden\"),t.style.cssText+=\"position:absolute;\"+e.styleProp(\"backface-visibility\")+\":hidden\",e.setStyle(t,\"transform\",\"translateZ(\"+i/2+\"px) rotate\"+(\"X\"===s?\"Y\":\"X\")+\"(\"+180*(r/i+n-1)+\"deg) scale(0.875)\")}return t.effect=e.styleProp(\"transform\"),t.reverse=!0,t}(),depth:function(){function t(t,s,i,n,r,a){var o=.18*(4-Math.abs(n-1)),l=t.parentElement;e.setStyle(l,\"perspective\",4*i),t.style.zIndex=1===n?1:0,e.setStyle(t,\"transform\",\"scale(\"+o+\") translateZ(0) translate\"+s+\"(\"+(r+1.3*i*(n-1))+\"px)\")}return t.effect=e.styleProp(\"transform\"),t}(),flow:function(){function t(t,s,i,n,r,a){var o=Math.abs(r),l=\"X\"===s?\"Y\":\"X\",c=\"X\"===s?1:-1,f=Math.abs(r/i),y=t.parentElement;e.setStyle(y,\"perspective\",4*i),1===n?t.style.zIndex=i-o:t.style.zIndex=r>0?(1-n)*o:(n-1)*o,e.setStyle(t,\"transform\",\"scale(0.7, 0.7) translateZ(\"+(150*f-150)*Math.abs(n-1)+\"px)translate\"+s+\"(\"+(r+i*(n-1))+\"px)rotate\"+l+\"(\"+c*(30-30*f)*(1-n)+\"deg)\")}return t.effect=e.styleProp(\"transform\"),t}(),card:function(){function t(t,s,i,n,r,a){var o=Math.abs(r),l=1,c=1;o>0?1===n&&(l=1-.2*Math.abs(n-1)-Math.abs(.2*r/i).toFixed(6),c=0):1!==n&&((a>0&&0===n||a<0&&2===n)&&(l=1-.2*Math.abs(n-1)),c=0),t.style.zIndex=c,e.setStyle(t,\"transform\",\"scale(\"+l+\") translateZ(0) translate\"+s+\"(\"+((1+.2*Math.abs(n-1))*r+i*(n-1))+\"px)\")}return t.effect=e.styleProp(\"transform\"),t}(),fade:function(){function e(e,t,s,i,n,r){e.style.zIndex=1===i?1:0,n=Math.abs(n),1===i?e.style.opacity=1-n/s:e.style.opacity=n/s}return e.effect=\"opacity\",e}(),zoomout:function(){function t(t,i,n,r,a){var o,l,c,f=a/n;switch(r){case 0:s&&window.clearTimeout(s),l=f<1?f:1,c=2-.5*f,o=2;var y=1e3*parseInt(window.getComputedStyle(t)[e.styleProp(\"transitionDuration\",1)]);y>0&&(s=window.setTimeout(function(){t.style.zIndex=0},y));break;case 1:l=1-f,c=1-.5*f,o=1;break;case 2:l=f>0?f:0,c=.5-.5*f,o=0}t.style.cssText+=\"z-index:\"+o+\";opacity:\"+l+\";\"+e.styleProp(\"transform\")+\":scale(\"+c+\");\"}var s;return t.reverse=!0,t}()})});\\n        \\n        renderNewStyle();\\n    }else {\\n        var oldStyleContainer = document.getElementById(\"wrapper\");\\n        oldStyleContainer.style.display = \"block\";\\n        renderOldStyle();\\n    }\\n    function renderNewStyle(){var e=function(i){return document.createElement(i)};var g=function(i){return i+\"px\"};var v=config.rsi0-2;var l=config.rsi1-2;var f=config.rss1||\"#ffffff\";var x=l/8;var k=v-2;var r=l-x-2;var h=document.getElementById(\"container\");h.style.width=g(v);h.style.height=g(l);h.style.background=f;h.style[\"padding-bottom\"]=g(x);var o=document.getElementById(\"desc_bottom\");o.style.height=g(x);var d=document.getElementById(\"desc_title\");o.style.lineHeight=g(x);if(v<250){o.style.fontSize=\"14px\"}var w=[];ads=ads.slice(0,4);for(var q=0;q<ads.length;q++){w.push({content:(function(){var y=e(\"a\");var i=e(\"img\");i.className=\"pic\";i.src=ads[q].image_url;i.style.width=g(k);i.style.height=g(r);y.href=ads[q].curl;y.target=\"_blank\";y.appendChild(i);return y})()})}var u=document.getElementById(\"iSlider-wrapper\");u.style.width=g(v);if(u.offsetWidth===0){var n=document.getElementById(\"wrapper\");n.style.display=\"block\";h.style.display=\"none\";renderOldStyle()}else{var j=new iSlider({dom:u,data:w,duration:3000,isLooping:1,isAutoplay:1,fillseam:true,animateTime:300,plugins:[\"dot\",\"button\"],wakeupAutoplayDazetime:1});var b=document.querySelector(\".islider-outer\");b.style.width=g(v);b.style.height=g(r);var c=document.getElementsByClassName(\"islider-btn-outer\");var a=c[0].offsetHeight/2;var m=g(r/2-a);c[0].style.top=m;c[1].style.top=m;var p=document.getElementsByClassName(\"islider-node\");for(var q=0;q<p.length;q++){var t=p[q];t.style.width=g(k);t.style.height=g(r-1.5)}u.onmouseover=function(){c[0].style.opacity=0.44;c[1].style.opacity=0.44};u.onmouseout=function(){c[0].style.opacity=0;c[1].style.opacity=0};d.innerHTML=ads[0].title;d.href=ads[0].curl;j.on(\"slideChange\",function(i){d.innerHTML=ads[i].title;d.href=ads[i].curl});var s=navigator.userAgent.toLowerCase();if(/webkit/i.test(s)&&!(/chrome/i.test(s)&&/webkit/i.test(s)&&/mozilla/i.test(s))){h.style.position=\"-webkit-sticky\"}}}function renderOldStyle(){var v=-20;var w=55;var l=280;var a=200;var c=5;var Q=config.nav_space;var F=1;var M=0;var x=Math.max(parseInt((config.rsi1-6-2)/config.nav_percent),config.nav_min_h);var C=config.rsi0-6-2;var n=config.rsi1-6-2-x-c;var O=C/n;if(O<1.4){a=n;l=parseInt(a*1.4)}else{if(O>1.4){l=C;a=parseInt(l/1.4)}else{a=n;l=C}}a=Math.min(350,a);l=Math.max(250,l);var K=0-parseInt((l-C)/2);var J=0-parseInt((a-n)/2);var t=x-F*2;var P=parseInt(1.4*t);ads=ads.concat(ads);var D=ads.length*(P+Q+F*2);var I=C;distance=C-D+Q;var g=config.rss1||\"#ffffff\";var T=parseInt(n/3.5);var r=config.img_bigger?\".slides:hover img {                -webkit-transition: -webkit-transform .5s ease-in;                 -moz-transition: -moz-transform .5s ease-in;                 -ms-transition: -ms-transform .5s ease-in;                 -o-transition: -o-transform .5s ease-in;                 transition: transform .5s ease-in;                 -webkit-transform: scale(1.07);                 -moz-transform: scale(1.07);                 -ms-transform: scale(1.07);                 -o-transform: scale(1.07);                 transform: scale(1.07);            }\":\"\";var j=\\'            #wrapper {width:{wrapper_width}px;height:{wrapper_height}px;background-color:{wrapper_bg_color};overflow:hidden;border:1px solid #CCC}            .pic-window {position:relative;width:{box_width}px;height:{box_height}px;overflow:hidden;margin-bottom:{box_bottom_margin}px;position:relative;}             .pic-box {border-bottom:1px solid #ccc;height:{box_height}px;width:{box_width}px;*display:inline}            .mask {display:none;height:{box_height}px;width:{box_width}px;position:absolute;top:0px;background-color:rgba(0,0,0,0.5);filter: progid:DXImageTransform.Microsoft.Gradient(enabled=\"true\", GradientType=1,StartColorstr=#6F000000, EndColorstr=#6F000000);text-decoration:none;}            .mask_head {height:{mask_head_height}px;margin-top:{mask_head_margin_top}px;background-color:rgba(1,33,100,0.5);    box-shadow: 0 1px 4px 0 #000;}            .mask_title {float:left;;height:{mask_title_height}px;padding:{mask_padding}px;color:#FFFFFF;font-size:{mask_font}px;background:linear-gradient(90deg, #033E98, #3285FF);font-weight:900;background-color:#3285FF;}            .mask_desc {color:#FFFFFF;line-height:{mask_head_height}px;margin-left:{mask_padding}px;margin-top:{mask_desc_margin_top}px;}            .slides {float:left;display:none;}            .show {display:block;}            .pic-box img {width:{pic_width}px; height:{pic_height}px;position:absolute;left:{img_pos_x}px;top:{img_pos_y}px}            .arrow1 {float:left;;border-width:{mask_arrow_height}px;border-style:solid;border-color:#3285FF transparent transparent #3285FF;font-size:0px;line-height:0px;}            .arrow2 {float:right;;border-width:{mask_arrow_height}px;border-style:solid;border-color:transparent #3285FF #3285FF transparent;font-size:0px;line-height:0px;}            .desc {padding-left:5px;text-decoration:none;position:absolute;height:{desc_height}px;width:{box_width}px;bottom:{desc_bottom}px;font-weight:900;left:0px;font-size:20px;color:#fff;line-height:{desc_line_height}px;                background-image: -webkit-linear-gradient(90deg, #000, 70%, rgba(255, 255, 255, 0));                background-image:    -moz-linear-gradient(90deg, #000, 70%, rgba(255, 255, 255, 0));                 background-image:      -o-linear-gradient(90deg, #000,  rgba(255, 255, 255, 0));                 background-image:         linear-gradient(90deg, #000,  rgba(255, 255, 255, 0));                background:               linear-gradient(90deg, #000,  rgba(255, 255, 255, 0));                filter: progid:DXImageTransform.Microsoft.Gradient(enabled=\"true\", GradientType=1,StartColorstr=#FF000000, EndColorstr=#00FFFFFF);                -webkit-transition: bottom .15s ease-in;                 -moz-transition: bottom .15s ease-in;                 -ms-transition: bottom .15s ease-in;                 -o-transition: bottom .15s ease-in;                 transition: bottom .15s ease-in;             }\\';if(config.hover==1){j+=\".slides:hover .mask{display:block;}                .slides:hover .desc{display:none;}\"}j+=\".mask_desc_highlight {display:inline-block;padding:2px;margin:1px;line-height:14px;border-radius:3px;background-color:#9A9A9A;color:#FFFFFF;}            .nav-window {width:{nav_win_width}px;height:{nav_height}px;overflow:hidden;position:relative;float:left;margin:0px}            .nav {position:absolute;width:{nav_width}px;height:{nav_height}px;top:0px;left:0px;}            .thumb {width:{thumb_width}px;height:{thumb_height}px;float:left;margin-right:{thumb_margin_right}px;position:relative;border:{thumb_border}px solid #ccc}            .thumb-border {border:{thumb_border}px solid #f70}            .thumb img {width:{thumb_width}px; height:{thumb_height}px;}            .thumb-mask {width:{thumb_width}px ;height:{nav_height}px;position:absolute;top:0px;left:0px;background-color:#ffffff;opacity:{opacity};filter:alpha(opacity={opacity_ie})}            .pointer {cursor:pointer}            .thumb-select {opacity:0;filter:alpha(opacity=0);}            .slides:hover {display:block;}\";var o=\\'<div class=\"slides\" id=\"pic_{index}\" style=\"overflow:hidden\">                 <a href=\"{curl}\" target=\"_blank\" class=\"pointer\">                <div class=\"pic-box\">                 <div class=\"img\"><img src=\"{image_url}\" id=\"img_{index}\" class=\"figure\"></div></div>                <div class=\"desc\" id=\"desc_{index}\">                     {title}                </div>                <div class=\"mask\">                    <div class=\"mask_head\">                        <div class=\"mask_title\">                            {title}                        </div>                        <div class=\"arrow1\"></div>                    </div>                </div>                </a>            </div>\\';var f=\\'            <div class=\"thumb\">                 <a href=\"{curl}\" target=\"_blank\" class=\"pointer\">                <img src=\"{image_url}\" />                 <div class=\"thumb-mask\" pic=\"{index}\" id=\"thumb_{index}\"></div>                </a>            </div>\\';function u(V,U){var W=U;for(key in V){var i=new RegExp(\"{\"+key+\"}\",\"g\");W=W.replace(i,V[key])}return W}var b=\"\";var R=\"\";for(var L=0;L<ads.length;++L){ads[L].index=L;ads[L].curl=ads[L].curl.replace(/stid=\\\\d*&/,\"stid=117&\");b+=u(ads[L],o);ads[L].curl=ads[L].curl.replace(/stid=\\\\d*&/,\"stid=117&\");R+=u(ads[L],f)}var E=config.logIS?\"\":\\'<a id=\"baiduLogo\" class=\"bd-logo2\" href=\"http://wangmeng.baidu.com/\" title=\"\" style=\"zoom: 1;cursor: default;\">&nbsp;</a>\\';var q=\\' <div style=\"padding:3px;\">            <div id=\"pic\" class=\"pic-window\">\\'+b+\\'</div>            <div>            <div class=\"nav-window\">                <div id=\"nav\" class=\"nav\">\\'+R+\"</div>            </div>            </div>\"+E+\"</div>\";document.getElementById(\"wrapper\").innerHTML=q;if(bdJinglianExpFlag>0){var B=document.getElementById(\"baiduLogo\");if(B){B.setAttribute(\"title\",bdJinglianHoverTitle);B.setAttribute(\"href\",\"javascript:void(0)\")}}else{var B=document.getElementById(\"baiduLogo\");if(B){B.setAttribute(\"title\",\"百度联盟推广\");B.setAttribute(\"target\",\"_blank\");B.setAttribute(\"href\",\"http://wangmeng.baidu.com/\")}}function p(W){var X=document;var U=X.createElement(\"style\");U.setAttribute(\"type\",\"text/css\");if(U.styleSheet){U.styleSheet.cssText=W}else{var i=X.createTextNode(W);U.appendChild(i)}var V=X.getElementsByTagName(\"head\");if(V.length){V[0].appendChild(U)}else{X.documentElement.appendChild(U)}}p(u({wrapper_width:config.rsi0-2,wrapper_height:config.rsi1-2,wrapper_bg_color:g,pic_width:l,pic_height:a,box_width:C,box_height:n,nav_height:x,desc_height:w,desc_line_height:w+v,thumb_width:P,thumb_height:t,img_pos_x:K,img_pos_y:J,nav_width:D,nav_win_width:C,box_bottom_margin:c,desc_bottom:v,thumb_margin_right:Q,thumb_border:F,arrow_line_height:x-5,mask_head_height:T,mask_font:parseInt(T/3)+2,mask_padding:parseInt(T/4),mask_arrow_height:parseInt(T/2),mask_title_height:T-2*parseInt(T/4),mask_head_margin_top:parseInt(n/4),mask_desc_margin_top:parseInt((n-T-parseInt(n/4))/3),opacity:M,opacity_ie:(M*100)},j));function N(i){return i||window.event}function h(V,U,i){var W=typeof document.body.style.MozUserSelect!=\"undefined\";if(U==\"mousewheel\"&&W){U=\"DOMMouseScroll\"}V.addEventListener?V.addEventListener(U,i,false):V.attachEvent?V.attachEvent(\"on\"+U,i):V[\"on\"+U]=i}function m(U,i){if(N(U).type==\"mouseover\"){return !s(i,N(U).relatedTarget||N(U).fromElement)&&!((N(U).relatedTarget||N(U).fromElement)===i)}else{return !s(i,N(U).relatedTarget||N(U).toElement)&&!((N(U).relatedTarget||N(U).toElement)===i)}}function s(i,U){if(!(U&&i)){return false}if(i.contains){return i!=U&&i.contains(U)}else{return !!(i.compareDocumentPosition(U)&16)}}var H={prime:document.getElementById(\"pic_0\"),thumb:document.getElementById(\"thumb_0\"),parent:document.getElementById(\"thumb_0\").parentNode.parentNode,id:0,timer:0,fade_timer:0};H.thumb.className=\"thumb-mask thumb-select\";H.prime.className=\"slides show\";H.parent.className=\"thumb thumb-border\";function e(){clearTimeout(H.timer);var U=(parseInt(H.id)+1)%ads.length;var i=3000;if(carous_adv){i=Math.max(Math.min((ads.length-U)*1000,5000),2000)}H.timer=setTimeout(e,i);y(d())}function d(){var i=H.id;return document.getElementById(\"thumb_\"+(++i%ads.length))}function A(){var i=H.id;i=--i%ads.length;if(i==-1){i=ads.length/2-1}return document.getElementById(\"thumb_\"+i)}function z(i,V,W){i=0-i;var U=V+W;G(i,U,function(X){return X<=W-i})}function k(i,V,W){var U=V+W;G(i,U,function(X){return X>=W-i})}function G(V,W,U){var X=document.getElementById(\"nav\");var i=0;var Y=0;clearInterval(H.scroll);H.scroll=setInterval(function(){i=parseInt(X.style.left)||0;if(U(Y)){clearInterval(H.scroll);X.style.left=W+\"px\";return}var Z=i+V;X.style.left=Z+\"px\";if(V<0&&Z<=0-D/2){W+=D/2;X.style.left=(Z+D/2)+\"px\"}if(V>0&&Z>=0){W-=D/2;X.style.left=(Z-D/2)+\"px\"}Y+=V},20)}function S(){var X=H.id;var U=(P+Q+F*2)*X;var i=U+P+F*2;var V=document.getElementById(\"nav\");var W=parseInt(V.style.left)||0;abs_left=U+W;abs_right=abs_left+P+F*2;if(abs_left<0){k(5,W,0-U-W)}else{if(abs_right>I){z(5,W,I-abs_right)}}}function y(V){if(!!H&&!!H.thumb&&!!H.prime){H.prime.className=\"slides\";H.thumb.className=\"thumb-mask\";H.parent.className=\"thumb\";clearInterval(H.fade_timer);var W=H.id;var U=document.getElementById(\"img_\"+W);U.style.opacity!=undefined?U.style.opacity=1:U.style.filter=\"alpha(opacity=100)\"}V.className=\"thumb-mask thumb-select\";var W=V.getAttribute(\"pic\");H.prime=document.getElementById(\"pic_\"+W);H.thumb=V;H.parent=V.parentNode.parentNode;H.id=W;var U=document.getElementById(\"img_\"+W);U.style.opacity!=undefined?U.style.opacity=0:U.style.filter=\"alpha(opacity=0)\";H.prime.className=\"slides show\";H.parent.className=\"thumb thumb-border\";var i=0;H.fade_timer=setInterval(function(){i+=20;if(i>=100){clearInterval(H.fade_timer)}U.style.opacity!=undefined?U.style.opacity=i/100:U.style.filter=\"alpha(opacity=\"+i+\")\"},50);S()}h(document,\"mouseover\",function(U){var i=U.srcElement?U.srcElement:U.target;if(m(U,i)){if(!i.className){return}clearTimeout(H.timer);if(i.className===\"thumb-mask\"){y(i)}}});h(document.getElementById(\"wrapper\"),\"mouseout\",function(U){var i=U.srcElement?U.srcElement:U.target;if(m(U,i)){if(!i.className){return}clearTimeout(H.timer);H.timer=setTimeout(e,3000)}});if(config.mousewheel){h(document,\"mousewheel\",function(U){function V(W){W=W||event;return(W.wheelDelta?W.wheelDelta/120:-(W.detail%3==0?W.detail/3:W.detail))}function i(W){W=W||event;if(W.preventDefault){W.preventDefault()}W.returnValue=false}i(U);if(-1==V(U)){y(d())}else{y(A())}return false})}clearTimeout(H.timer);H.timer=setTimeout(e,4000)};\\n</script>\\n<script>\\n// 添加logo是否显示\\nvar defaultIsShow = false;\\nvar config = {\"at\":3,\"conBW\":0,\"consl\":1,\"exp_flag\":0,\"hover_flag\":1,\"n\":\"chinacpunioncpr\",\"nav_min_h\":25,\"nav_percent\":9,\"nav_space\":5,\"pat\":17,\"rsi0\":300,\"rsi1\":250,\"staticDomain\":\"m1.51kaowang.com\",\"temp_exp_flag\":0,\"titFS\":12,\"titTA\":\"left\"};\\nvar logoCon={logoIsShow:function(){var c=document.getElementsByTagName(\"a\");for(var a=0;a<c.length;a++){var b=c[a].className;if(b===\"bd-logo\"||b===\"bd-logo2\"||b===\"bd-logo3\"||b===\"bd-logo4\"||b===\"bd-logo5\"||b===\"bd-logo1\"){if(typeof config.consl==\"undefined\"){config.consl=1}if(defaultIsShow&&config.consl){c[a].style.display=\"block\"}else{c[a].style.display=\"none\"}}}}};logoCon.logoIsShow();\\n</script>\\n<script>\\nwindow.onload=function(){var a=document.getElementById(\"wrapper\");if(a.style.display===\"none\"){logo.init({containerId:\"iSlider-wrapper\",closeDirect:true,feedbackParentId:\"container\",deviceType:1})}else{logo.init({containerId:\"wrapper\",closeDirect:true,feedbackParentId:\"wrapper\",deviceType:1})}};\\n</script>\\n<script type=\"text/javascript\">\\n    function addFliterForImg(){var a=config.saturate;var e=config.contrast;var f=document.querySelectorAll(\"img\");for(var c=f.length-1;c>=0;c--){var d=f[c];if(d.src.length>0&&d.width>10&&d.height>10){var b;if(a&&e){b=\"-webkit-filter:saturate(\"+a/100+\") contrast(\"+e/100+\")\"}else{if(a){b=\"-webkit-filter:saturate(\"+a/100+\")\"}else{if(e){b=\"-webkit-filter:contrast(\"+e/100+\")\"}}}if(d.style.cssText.indexOf(\"filter\")===-1){d.style.cssText+=b}}}}if(config.saturate||config.contrast){if(document.all){window.attachEvent(\"onload\",addFliterForImg)}else{window.addEventListener(\"load\",addFliterForImg,false)}};\\n</script>\\n\\n</body></html>'"
      ]
     },
     "metadata": {},
     "execution_count": 7
    }
   ],
   "source": [
    "driver.page_source"
   ]
  },
  {
   "cell_type": "code",
   "execution_count": 6,
   "metadata": {
    "collapsed": false
   },
   "outputs": [
    {
     "output_type": "error",
     "ename": "AttributeError",
     "evalue": "'NoneType' object has no attribute 'find'",
     "traceback": [
      "\u001b[1;31m---------------------------------------------------------------------------\u001b[0m",
      "\u001b[1;31mAttributeError\u001b[0m                            Traceback (most recent call last)",
      "\u001b[1;32m<ipython-input-6-f3de1bd9a615>\u001b[0m in \u001b[0;36m<module>\u001b[1;34m\u001b[0m\n\u001b[0;32m      4\u001b[0m \u001b[0msoup\u001b[0m \u001b[1;33m=\u001b[0m \u001b[0mBeautifulSoup\u001b[0m\u001b[1;33m(\u001b[0m\u001b[0mdriver\u001b[0m\u001b[1;33m.\u001b[0m\u001b[0mpage_source\u001b[0m\u001b[1;33m,\u001b[0m \u001b[1;34m\"lxml\"\u001b[0m\u001b[1;33m)\u001b[0m\u001b[1;33m\u001b[0m\u001b[1;33m\u001b[0m\u001b[0m\n\u001b[0;32m      5\u001b[0m \u001b[1;33m\u001b[0m\u001b[0m\n\u001b[1;32m----> 6\u001b[1;33m \u001b[0maddress\u001b[0m\u001b[1;33m=\u001b[0m\u001b[0msoup\u001b[0m\u001b[1;33m.\u001b[0m\u001b[0mfind\u001b[0m\u001b[1;33m(\u001b[0m\u001b[1;34m'div'\u001b[0m\u001b[1;33m,\u001b[0m\u001b[0mclass_\u001b[0m\u001b[1;33m=\u001b[0m\u001b[1;34m'regbutton'\u001b[0m\u001b[1;33m)\u001b[0m\u001b[1;33m.\u001b[0m\u001b[0mfind\u001b[0m\u001b[1;33m(\u001b[0m\u001b[1;34m'a'\u001b[0m\u001b[1;33m)\u001b[0m\u001b[1;33m\u001b[0m\u001b[1;33m\u001b[0m\u001b[0m\n\u001b[0m\u001b[0;32m      7\u001b[0m \u001b[1;31m# address=soup.find('input',id='convert')\u001b[0m\u001b[1;33m\u001b[0m\u001b[1;33m\u001b[0m\u001b[1;33m\u001b[0m\u001b[0m\n\u001b[0;32m      8\u001b[0m \u001b[0mprint\u001b[0m\u001b[1;33m(\u001b[0m\u001b[0maddress\u001b[0m\u001b[1;33m)\u001b[0m\u001b[1;33m\u001b[0m\u001b[1;33m\u001b[0m\u001b[0m\n",
      "\u001b[1;31mAttributeError\u001b[0m: 'NoneType' object has no attribute 'find'"
     ]
    }
   ],
   "source": [
    "# ht=driver.page_source\n",
    "\n",
    "# 将selenium找到的页面交给Beautiful Soup分析\n",
    "soup = BeautifulSoup(driver.page_source, \"lxml\")\n",
    "\n",
    "address=soup.find('div',class_='regbutton').find('a')\n",
    "# address=soup.find('input',id='convert')\n",
    "print(address)\n",
    "print(address['href'])\n",
    "\n",
    "url = address['href']\n",
    "urllib.request.urlretrieve(url, 'c://1999年1月英语四级真题及答案.doc')\n",
    "\n",
    "# downloadbutton=driver.find_element_by_id(\"convert\")\n",
    "# downloadbutton.send_keys(\"\\n\")"
   ]
  },
  {
   "cell_type": "code",
   "execution_count": 117,
   "metadata": {
    "collapsed": false
   },
   "outputs": [
    {
     "ename": "NoSuchElementException",
     "evalue": "Message: no such element: Unable to locate element: {\"method\":\"css selector\",\"selector\":\"[id=\"regbutton\"]\"}\n  (Session info: chrome=81.0.4044.138)\n",
     "output_type": "error",
     "traceback": [
      "\u001b[0;31m---------------------------------------------------------------------------\u001b[0m",
      "\u001b[0;31mNoSuchElementException\u001b[0m                    Traceback (most recent call last)",
      "\u001b[0;32m<ipython-input-117-6dc37dfb2cb4>\u001b[0m in \u001b[0;36m<module>\u001b[0;34m()\u001b[0m\n\u001b[1;32m      9\u001b[0m \u001b[0mtime\u001b[0m\u001b[1;33m.\u001b[0m\u001b[0msleep\u001b[0m\u001b[1;33m(\u001b[0m\u001b[1;36m5\u001b[0m\u001b[1;33m)\u001b[0m\u001b[1;33m\u001b[0m\u001b[0m\n\u001b[1;32m     10\u001b[0m \u001b[1;33m\u001b[0m\u001b[0m\n\u001b[0;32m---> 11\u001b[0;31m \u001b[0mdownloadclick\u001b[0m\u001b[1;33m=\u001b[0m\u001b[0mdriver\u001b[0m\u001b[1;33m.\u001b[0m\u001b[0mfind_element_by_id\u001b[0m\u001b[1;33m(\u001b[0m\u001b[1;34m\"regbutton\"\u001b[0m\u001b[1;33m)\u001b[0m\u001b[1;33m\u001b[0m\u001b[0m\n\u001b[0m\u001b[1;32m     12\u001b[0m \u001b[0mprint\u001b[0m\u001b[1;33m(\u001b[0m\u001b[0mdownloadclick\u001b[0m\u001b[1;33m)\u001b[0m\u001b[1;33m\u001b[0m\u001b[0m\n\u001b[1;32m     13\u001b[0m \u001b[1;33m\u001b[0m\u001b[0m\n",
      "\u001b[0;32mC:\\Program Files\\Anaconda3\\lib\\site-packages\\selenium\\webdriver\\remote\\webdriver.py\u001b[0m in \u001b[0;36mfind_element_by_id\u001b[0;34m(self, id_)\u001b[0m\n\u001b[1;32m    358\u001b[0m             \u001b[0melement\u001b[0m \u001b[1;33m=\u001b[0m \u001b[0mdriver\u001b[0m\u001b[1;33m.\u001b[0m\u001b[0mfind_element_by_id\u001b[0m\u001b[1;33m(\u001b[0m\u001b[1;34m'foo'\u001b[0m\u001b[1;33m)\u001b[0m\u001b[1;33m\u001b[0m\u001b[0m\n\u001b[1;32m    359\u001b[0m         \"\"\"\n\u001b[0;32m--> 360\u001b[0;31m         \u001b[1;32mreturn\u001b[0m \u001b[0mself\u001b[0m\u001b[1;33m.\u001b[0m\u001b[0mfind_element\u001b[0m\u001b[1;33m(\u001b[0m\u001b[0mby\u001b[0m\u001b[1;33m=\u001b[0m\u001b[0mBy\u001b[0m\u001b[1;33m.\u001b[0m\u001b[0mID\u001b[0m\u001b[1;33m,\u001b[0m \u001b[0mvalue\u001b[0m\u001b[1;33m=\u001b[0m\u001b[0mid_\u001b[0m\u001b[1;33m)\u001b[0m\u001b[1;33m\u001b[0m\u001b[0m\n\u001b[0m\u001b[1;32m    361\u001b[0m \u001b[1;33m\u001b[0m\u001b[0m\n\u001b[1;32m    362\u001b[0m     \u001b[1;32mdef\u001b[0m \u001b[0mfind_elements_by_id\u001b[0m\u001b[1;33m(\u001b[0m\u001b[0mself\u001b[0m\u001b[1;33m,\u001b[0m \u001b[0mid_\u001b[0m\u001b[1;33m)\u001b[0m\u001b[1;33m:\u001b[0m\u001b[1;33m\u001b[0m\u001b[0m\n",
      "\u001b[0;32mC:\\Program Files\\Anaconda3\\lib\\site-packages\\selenium\\webdriver\\remote\\webdriver.py\u001b[0m in \u001b[0;36mfind_element\u001b[0;34m(self, by, value)\u001b[0m\n\u001b[1;32m    976\u001b[0m         return self.execute(Command.FIND_ELEMENT, {\n\u001b[1;32m    977\u001b[0m             \u001b[1;34m'using'\u001b[0m\u001b[1;33m:\u001b[0m \u001b[0mby\u001b[0m\u001b[1;33m,\u001b[0m\u001b[1;33m\u001b[0m\u001b[0m\n\u001b[0;32m--> 978\u001b[0;31m             'value': value})['value']\n\u001b[0m\u001b[1;32m    979\u001b[0m \u001b[1;33m\u001b[0m\u001b[0m\n\u001b[1;32m    980\u001b[0m     \u001b[1;32mdef\u001b[0m \u001b[0mfind_elements\u001b[0m\u001b[1;33m(\u001b[0m\u001b[0mself\u001b[0m\u001b[1;33m,\u001b[0m \u001b[0mby\u001b[0m\u001b[1;33m=\u001b[0m\u001b[0mBy\u001b[0m\u001b[1;33m.\u001b[0m\u001b[0mID\u001b[0m\u001b[1;33m,\u001b[0m \u001b[0mvalue\u001b[0m\u001b[1;33m=\u001b[0m\u001b[1;32mNone\u001b[0m\u001b[1;33m)\u001b[0m\u001b[1;33m:\u001b[0m\u001b[1;33m\u001b[0m\u001b[0m\n",
      "\u001b[0;32mC:\\Program Files\\Anaconda3\\lib\\site-packages\\selenium\\webdriver\\remote\\webdriver.py\u001b[0m in \u001b[0;36mexecute\u001b[0;34m(self, driver_command, params)\u001b[0m\n\u001b[1;32m    319\u001b[0m         \u001b[0mresponse\u001b[0m \u001b[1;33m=\u001b[0m \u001b[0mself\u001b[0m\u001b[1;33m.\u001b[0m\u001b[0mcommand_executor\u001b[0m\u001b[1;33m.\u001b[0m\u001b[0mexecute\u001b[0m\u001b[1;33m(\u001b[0m\u001b[0mdriver_command\u001b[0m\u001b[1;33m,\u001b[0m \u001b[0mparams\u001b[0m\u001b[1;33m)\u001b[0m\u001b[1;33m\u001b[0m\u001b[0m\n\u001b[1;32m    320\u001b[0m         \u001b[1;32mif\u001b[0m \u001b[0mresponse\u001b[0m\u001b[1;33m:\u001b[0m\u001b[1;33m\u001b[0m\u001b[0m\n\u001b[0;32m--> 321\u001b[0;31m             \u001b[0mself\u001b[0m\u001b[1;33m.\u001b[0m\u001b[0merror_handler\u001b[0m\u001b[1;33m.\u001b[0m\u001b[0mcheck_response\u001b[0m\u001b[1;33m(\u001b[0m\u001b[0mresponse\u001b[0m\u001b[1;33m)\u001b[0m\u001b[1;33m\u001b[0m\u001b[0m\n\u001b[0m\u001b[1;32m    322\u001b[0m             response['value'] = self._unwrap_value(\n\u001b[1;32m    323\u001b[0m                 response.get('value', None))\n",
      "\u001b[0;32mC:\\Program Files\\Anaconda3\\lib\\site-packages\\selenium\\webdriver\\remote\\errorhandler.py\u001b[0m in \u001b[0;36mcheck_response\u001b[0;34m(self, response)\u001b[0m\n\u001b[1;32m    240\u001b[0m                 \u001b[0malert_text\u001b[0m \u001b[1;33m=\u001b[0m \u001b[0mvalue\u001b[0m\u001b[1;33m[\u001b[0m\u001b[1;34m'alert'\u001b[0m\u001b[1;33m]\u001b[0m\u001b[1;33m.\u001b[0m\u001b[0mget\u001b[0m\u001b[1;33m(\u001b[0m\u001b[1;34m'text'\u001b[0m\u001b[1;33m)\u001b[0m\u001b[1;33m\u001b[0m\u001b[0m\n\u001b[1;32m    241\u001b[0m             \u001b[1;32mraise\u001b[0m \u001b[0mexception_class\u001b[0m\u001b[1;33m(\u001b[0m\u001b[0mmessage\u001b[0m\u001b[1;33m,\u001b[0m \u001b[0mscreen\u001b[0m\u001b[1;33m,\u001b[0m \u001b[0mstacktrace\u001b[0m\u001b[1;33m,\u001b[0m \u001b[0malert_text\u001b[0m\u001b[1;33m)\u001b[0m\u001b[1;33m\u001b[0m\u001b[0m\n\u001b[0;32m--> 242\u001b[0;31m         \u001b[1;32mraise\u001b[0m \u001b[0mexception_class\u001b[0m\u001b[1;33m(\u001b[0m\u001b[0mmessage\u001b[0m\u001b[1;33m,\u001b[0m \u001b[0mscreen\u001b[0m\u001b[1;33m,\u001b[0m \u001b[0mstacktrace\u001b[0m\u001b[1;33m)\u001b[0m\u001b[1;33m\u001b[0m\u001b[0m\n\u001b[0m\u001b[1;32m    243\u001b[0m \u001b[1;33m\u001b[0m\u001b[0m\n\u001b[1;32m    244\u001b[0m     \u001b[1;32mdef\u001b[0m \u001b[0m_value_or_default\u001b[0m\u001b[1;33m(\u001b[0m\u001b[0mself\u001b[0m\u001b[1;33m,\u001b[0m \u001b[0mobj\u001b[0m\u001b[1;33m,\u001b[0m \u001b[0mkey\u001b[0m\u001b[1;33m,\u001b[0m \u001b[0mdefault\u001b[0m\u001b[1;33m)\u001b[0m\u001b[1;33m:\u001b[0m\u001b[1;33m\u001b[0m\u001b[0m\n",
      "\u001b[0;31mNoSuchElementException\u001b[0m: Message: no such element: Unable to locate element: {\"method\":\"css selector\",\"selector\":\"[id=\"regbutton\"]\"}\n  (Session info: chrome=81.0.4044.138)\n"
     ]
    }
   ],
   "source": [
    "# print(driver.page_source)\n",
    "# ht\n",
    "links_onclick=driver.find_elements_by_css_selector(\"a[onclick^='opendownform']\")\n",
    "\n",
    "# print(links_onclick)\n",
    "# links_onclick[1].click()\n",
    "############用sendkeys才起作用\n",
    "links_onclick[1].send_keys(\"\\n\")\n",
    "time.sleep(5)\n",
    "\n",
    "downloadclick=driver.find_element_by_id(\"regbutton\")\n",
    "print(downloadclick)\n",
    "\n",
    "actions = ActionChains(driver)\n",
    "actions.move_by_offset(400,400) \n",
    "# actions.context_click(on_element=None)\n",
    "actions.click()\n",
    "actions.perform()\n",
    "# driver.maximize_window()\n",
    "\n",
    "# actions = ActionChains(driver)\n",
    "# actions.context_click(on_element=None)\n",
    "# \n",
    "\n",
    "\n",
    "# buttons=driver.find_elements_by_css_selector(\"a[onclick^='opendownform']\")\n",
    "# time.sleep(1)\n",
    "# actions.click(buttons[1]).perform()\n",
    "\n",
    "\n"
   ]
  },
  {
   "cell_type": "code",
   "execution_count": null,
   "metadata": {
    "collapsed": true
   },
   "outputs": [],
   "source": [
    "\n",
    "actions = ActionChains(browser)\n",
    "\n",
    "actions.move_by_offset(500,600) \n",
    "actions.click()\n"
   ]
  },
  {
   "cell_type": "code",
   "execution_count": null,
   "metadata": {
    "collapsed": true
   },
   "outputs": [],
   "source": [
    "\n",
    "actions = ActionChains(browser)\n",
    "# actions.move_to_element(menu)\n",
    "# actions.click(hidden_submenu)\n",
    "\n",
    "# actions.move_by_offset(500,600) 500, 600是一个正确的地址\n",
    "actions.move_by_offset(500,600) \n",
    "actions.click()"
   ]
  },
  {
   "cell_type": "code",
   "execution_count": 10,
   "metadata": {
    "collapsed": false
   },
   "outputs": [
    {
     "ename": "RuntimeError",
     "evalue": "Invalid output format! Got doc but expected one of these: asciidoc, asciidoctor, beamer, commonmark, context, docbook, docbook4, docbook5, docx, dokuwiki, dzslides, epub, epub2, epub3, fb2, gfm, haddock, html, html4, html5, icml, ipynb, jats, jats_archiving, jats_articleauthoring, jats_publishing, jira, json, latex, man, markdown, markdown_github, markdown_mmd, markdown_phpextra, markdown_strict, mediawiki, ms, muse, native, odt, opendocument, opml, org, pdf, plain, pptx, revealjs, rst, rtf, s5, slideous, slidy, tei, texinfo, textile, xwiki, zimwiki",
     "output_type": "error",
     "traceback": [
      "\u001b[0;31m---------------------------------------------------------------------------\u001b[0m",
      "\u001b[0;31mRuntimeError\u001b[0m                              Traceback (most recent call last)",
      "\u001b[0;32m<ipython-input-10-454cea537f64>\u001b[0m in \u001b[0;36m<module>\u001b[0;34m()\u001b[0m\n\u001b[1;32m      1\u001b[0m \u001b[1;32mimport\u001b[0m \u001b[0mpypandoc\u001b[0m\u001b[1;33m\u001b[0m\u001b[0m\n\u001b[0;32m----> 2\u001b[0;31m \u001b[0moutput\u001b[0m \u001b[1;33m=\u001b[0m \u001b[0mpypandoc\u001b[0m\u001b[1;33m.\u001b[0m\u001b[0mconvert_file\u001b[0m\u001b[1;33m(\u001b[0m\u001b[1;34m'https://www.51test.net/show/9870584.html'\u001b[0m\u001b[1;33m,\u001b[0m \u001b[1;34m'doc'\u001b[0m\u001b[1;33m,\u001b[0m \u001b[0moutputfile\u001b[0m\u001b[1;33m=\u001b[0m\u001b[1;34m\"file1.doc\"\u001b[0m\u001b[1;33m)\u001b[0m\u001b[1;33m\u001b[0m\u001b[0m\n\u001b[0m",
      "\u001b[0;32mC:\\Program Files\\Anaconda3\\lib\\site-packages\\pypandoc\\__init__.py\u001b[0m in \u001b[0;36mconvert_file\u001b[0;34m(source_file, to, format, extra_args, encoding, outputfile, filters)\u001b[0m\n\u001b[1;32m    136\u001b[0m     \u001b[0mformat\u001b[0m \u001b[1;33m=\u001b[0m \u001b[0m_identify_format_from_path\u001b[0m\u001b[1;33m(\u001b[0m\u001b[0msource_file\u001b[0m\u001b[1;33m,\u001b[0m \u001b[0mformat\u001b[0m\u001b[1;33m)\u001b[0m\u001b[1;33m\u001b[0m\u001b[0m\n\u001b[1;32m    137\u001b[0m     return _convert_input(source_file, format, 'path', to, extra_args=extra_args,\n\u001b[0;32m--> 138\u001b[0;31m                           outputfile=outputfile, filters=filters)\n\u001b[0m\u001b[1;32m    139\u001b[0m \u001b[1;33m\u001b[0m\u001b[0m\n\u001b[1;32m    140\u001b[0m \u001b[1;33m\u001b[0m\u001b[0m\n",
      "\u001b[0;32mC:\\Program Files\\Anaconda3\\lib\\site-packages\\pypandoc\\__init__.py\u001b[0m in \u001b[0;36m_convert_input\u001b[0;34m(source, format, input_type, to, extra_args, outputfile, filters)\u001b[0m\n\u001b[1;32m    256\u001b[0m     \u001b[0m_ensure_pandoc_path\u001b[0m\u001b[1;33m(\u001b[0m\u001b[1;33m)\u001b[0m\u001b[1;33m\u001b[0m\u001b[0m\n\u001b[1;32m    257\u001b[0m \u001b[1;33m\u001b[0m\u001b[0m\n\u001b[0;32m--> 258\u001b[0;31m     \u001b[0mformat\u001b[0m\u001b[1;33m,\u001b[0m \u001b[0mto\u001b[0m \u001b[1;33m=\u001b[0m \u001b[0m_validate_formats\u001b[0m\u001b[1;33m(\u001b[0m\u001b[0mformat\u001b[0m\u001b[1;33m,\u001b[0m \u001b[0mto\u001b[0m\u001b[1;33m,\u001b[0m \u001b[0moutputfile\u001b[0m\u001b[1;33m)\u001b[0m\u001b[1;33m\u001b[0m\u001b[0m\n\u001b[0m\u001b[1;32m    259\u001b[0m \u001b[1;33m\u001b[0m\u001b[0m\n\u001b[1;32m    260\u001b[0m     \u001b[0mstring_input\u001b[0m \u001b[1;33m=\u001b[0m \u001b[0minput_type\u001b[0m \u001b[1;33m==\u001b[0m \u001b[1;34m'string'\u001b[0m\u001b[1;33m\u001b[0m\u001b[0m\n",
      "\u001b[0;32mC:\\Program Files\\Anaconda3\\lib\\site-packages\\pypandoc\\__init__.py\u001b[0m in \u001b[0;36m_validate_formats\u001b[0;34m(format, to, outputfile)\u001b[0m\n\u001b[1;32m    228\u001b[0m         raise RuntimeError(\n\u001b[1;32m    229\u001b[0m             'Invalid output format! Got %s but expected one of these: %s' % (\n\u001b[0;32m--> 230\u001b[0;31m                 base_to_format, ', '.join(to_formats)))\n\u001b[0m\u001b[1;32m    231\u001b[0m \u001b[1;33m\u001b[0m\u001b[0m\n\u001b[1;32m    232\u001b[0m     \u001b[1;31m# list from https://github.com/jgm/pandoc/blob/master/pandoc.hs\u001b[0m\u001b[1;33m\u001b[0m\u001b[1;33m\u001b[0m\u001b[0m\n",
      "\u001b[0;31mRuntimeError\u001b[0m: Invalid output format! Got doc but expected one of these: asciidoc, asciidoctor, beamer, commonmark, context, docbook, docbook4, docbook5, docx, dokuwiki, dzslides, epub, epub2, epub3, fb2, gfm, haddock, html, html4, html5, icml, ipynb, jats, jats_archiving, jats_articleauthoring, jats_publishing, jira, json, latex, man, markdown, markdown_github, markdown_mmd, markdown_phpextra, markdown_strict, mediawiki, ms, muse, native, odt, opendocument, opml, org, pdf, plain, pptx, revealjs, rst, rtf, s5, slideous, slidy, tei, texinfo, textile, xwiki, zimwiki"
     ]
    }
   ],
   "source": [
    "# pypandoc转换html页面为docx\n",
    "\n",
    "# import pypandoc\n",
    "# output = pypandoc.convert_file('https://www.51test.net/show/9870584.html', 'doc', outputfile=\"file1.doc\")"
   ]
  },
  {
   "cell_type": "code",
   "execution_count": 27,
   "metadata": {
    "collapsed": false
   },
   "outputs": [
    {
     "name": "stdout",
     "output_type": "stream",
     "text": [
      "<selenium.webdriver.firefox.firefox_profile.FirefoxProfile object at 0x00000157A27B6A90>\n"
     ]
    }
   ],
   "source": [
    "# print(profile.)"
   ]
  },
  {
   "cell_type": "code",
   "execution_count": 3,
   "metadata": {
    "collapsed": false
   },
   "outputs": [
    {
     "data": {
      "text/plain": [
       "'5'"
      ]
     },
     "execution_count": 3,
     "metadata": {},
     "output_type": "execute_result"
    }
   ],
   "source": [
    "handle=driver.current_window_handle\n",
    "time.sleep(3)\n",
    "handle\n"
   ]
  },
  {
   "cell_type": "code",
   "execution_count": 17,
   "metadata": {
    "collapsed": false
   },
   "outputs": [],
   "source": [
    "lis=driver.find_elements_by_css_selector(\"a[onclick^='opendownform']\")\n",
    "\n",
    "lis[1].click()\n",
    "time.sleep(5)"
   ]
  },
  {
   "cell_type": "code",
   "execution_count": 129,
   "metadata": {
    "collapsed": false
   },
   "outputs": [
    {
     "name": "stdout",
     "output_type": "stream",
     "text": [
      "5\n"
     ]
    }
   ],
   "source": [
    "handles = driver.window_handles\n",
    "\n",
    "for newhandle in handles:\n",
    "    print(newhandle)"
   ]
  },
  {
   "cell_type": "code",
   "execution_count": 21,
   "metadata": {
    "collapsed": false
   },
   "outputs": [],
   "source": [
    "\n",
    "# driver.find_element_by_class_name('page-convert').click()\n",
    "\n",
    "actions = ActionChains(driver)\n",
    "# actions.move_to_element(menu)\n",
    "# actions.click(hidden_submenu)\n",
    "\n",
    "# actions.move_by_offset(500,600) 500, 600是一个正确的地址\n",
    "actions.move_by_offset(500,600) \n",
    "actions.click()\n",
    "\n",
    "\n",
    "# element = driver.find_element_by_xpath(\"//a\")\n",
    "# actions.key_down(Keys.ALT).click(element).key_up(Keys.ALT).perform()\n",
    "\n",
    "\n",
    "# actions.context_click(on_element=None)\n",
    "actions.perform()\n",
    "time.sleep(3)\n",
    "# actions.click()\n",
    "# actions.perform()\n",
    "# actions.sendkeys()\n",
    "# actions.key_down(Keys.ENTER)\n",
    "# actions.perform()\n",
    "\n",
    "\n",
    "# ActionChains(driver).context_click(on_element=None)\n",
    "\n",
    "# ActionChains(driver).perform()"
   ]
  },
  {
   "cell_type": "code",
   "execution_count": 96,
   "metadata": {
    "collapsed": false
   },
   "outputs": [
    {
     "data": {
      "text/plain": [
       "'<html lang=\"zh-cn\"><head>\\n<meta http-equiv=\"Content-Type\" content=\"text/html; charset=gb2312\">\\n<title>历年高考满分作文精选【十篇】</title>\\n<meta name=\"keywords\" content=\"高考,历年高考满分作文精选【十篇】\">\\n<meta name=\"description\" content=\"历年高考满分作文精选【十篇】 【导语】低分作文都是相似的，满分作文各有各的好处。分析别人的优秀作文，模仿借鉴其写作技巧，逐渐形成自己的风格，是提高作文水平的捷径。 无忧考网整理了历年高考满分作文精选，一起看看吧。【篇一】历年高考满分作文精选\\u3000\\u3000风物长宜...\">\\n<meta name=\"searchtitle\" content=\"历年高考满分作文精选【十篇】\">\\n<script type=\"text/javascript\" async=\"\" src=\"https://pos.baidu.com/auto_dup?psi=4c99d92e831e27f96a60d9a2345b3b12&amp;di=0&amp;dri=0&amp;dis=0&amp;dai=0&amp;ps=0x0&amp;enu=encoding&amp;exps=110011&amp;ant=0&amp;dcb=___baidu_union_callback&amp;dtm=AUTO_JSONP&amp;dvi=0.0&amp;dci=-1&amp;dpt=none&amp;tsr=0&amp;tpr=1589634800013&amp;ti=%E5%8E%86%E5%B9%B4%E9%AB%98%E8%80%83%E6%BB%A1%E5%88%86%E4%BD%9C%E6%96%87%E7%B2%BE%E9%80%89%E3%80%90%E5%8D%81%E7%AF%87%E3%80%91&amp;ari=2&amp;ver=0511&amp;dbv=0&amp;drs=1&amp;pcs=1263x579&amp;pss=1263x12710&amp;cfv=0&amp;cpl=0&amp;chi=1&amp;cce=true&amp;cec=GBK&amp;tlm=1589274241&amp;prot=2&amp;rw=579&amp;ltu=https%3A%2F%2Fwww.51test.net%2Fshow%2F9870584.html&amp;ecd=1&amp;uc=1280x680&amp;pis=-1x-1&amp;sr=1280x720&amp;tcn=1589634800&amp;dc=4\"></script><script src=\"https://hm.baidu.com/hm.js?4bc37c0fd0740e3568ad24d067d8cf92\"></script><script src=\"https://hm.baidu.com/hm.js?f4ae163e87a012d4ab5106f993decb4c\"></script><script src=\"https://hm.baidu.com/hm.js?de8c2eecbf79e2dd1e69fa689d318559\"></script><script type=\"text/javascript\" async=\"\" src=\"https://cpro.baidustatic.com/cpro/ui/pr.js\" id=\"remoteOldScript\"></script><script type=\"text/javascript\" async=\"\" src=\"https://m1.51kaowang.com/okmqxk.js\"></script><script src=\"//js.51test.net/js_new/uaredirect.js\"></script>\\n<script>uaredirect(\"//m.51test.net/show/9870584.html\");</script>\\n<meta http-equiv=\"Cache-Control\" content=\"no-transform\">\\n<meta http-equiv=\"Cache-Control\" content=\"no-siteapp\">\\n<meta name=\"mobile-agent\" content=\"format=html5;url=https://m.51test.net/show/9870584.html\">\\n<meta name=\"mobile-agent\" content=\"format=wml;url=https://m.51test.net/show/9870584.html\">\\n<meta name=\"mobile-agent\" content=\"format=xhtml;url=https://m.51test.net/show/9870584.html\">\\n<link rel=\"alternate\" media=\"only screen and (max-width: 640px)\" href=\"https://m.51test.net/show/9870584.html\">\\n<link rel=\"canonical\" href=\"https://m.51test.net/show/9870584.html\">\\n<link rel=\"stylesheet\" type=\"text/css\" href=\"//css.51test.net/news_css/style_show_tuwen.css?v=512\">\\n<script>\\n        str_title = \"历年高考满分作文精选【十篇】\";\\n        str_url = \"gaokao\";\\n        str_nclassname = \"高考\";\\n        str_shortname = \"高考\";\\n        str_classid = \"1\";\\n        str_nclassid = \"1\";\\n        str_articleid = \"9870584\";\\n        str_province = \"满分作文\";\\n        str_province_url = \"\";\\n        str_city = \"\";\\n        str_city_url = \"\";\\n        str_nkey = \"rd\";\\n        str_search_key = \"\";\\n        \\n        str_search_key2 = \"0\";\\n        \\n        is_baiduopen = \"1\";\\n        \\n    </script>\\n<script src=\"//js.51test.net/js_new/func.js\"></script><script src=\"//js.51test.net/js_new/jquery.js\"></script><script src=\"https://apps.bdimg.com/libs/jquery/1.11.3/jquery.min.js\"></script>\\n<script>window.jQuery || document.write(\\'<script src=\"https://js.51test.net/js_new/jquery.min.js\"><///script>\\')</script>\\n\\n<script src=\"//js.51test.net/js_new/md5.min.js\"></script>\\n\\n<script src=\"//js.51test.net/js_new/layer/layer.min.js\"></script><link rel=\"stylesheet\" href=\"https://js.51test.net/js_new/layer/skin/default/layer.css?v=3.0.3303\" id=\"layuicss-skinlayercss\">\\n<script src=\"//js.51test.net/js_new/kecheng.js\"></script>\\n<script src=\"//js.51test.net/js_new/getcookie.js\"></script>\\n<script src=\"//js.51test.net/js_new/d.js\"></script>\\n</head>\\n<body><div id=\"BAIDU_DUP_fp_wrapper\" style=\"position: absolute; left: -1px; bottom: -1px; z-index: 0; width: 0px; height: 0px; overflow: hidden; visibility: hidden; display: none;\"><iframe id=\"BAIDU_DUP_fp_iframe\" src=\"https://pos.baidu.com/wh/o.htm?ltr=\" style=\"width: 0px; height: 0px; visibility: hidden; display: none;\"></iframe></div>\\n<script>a(\"show_top\");</script>\\n<div class=\"common-header\">\\n<div class=\"header-box\">\\n<a href=\"/\" class=\"header-left\" target=\"_blank\"></a>\\n<div class=\"header-center\">\\n<a href=\"/\" target=\"_blank\">首页</a> &gt; <a href=\"/gaokao/\" target=\"_blank\">\\n高考</a> &gt; <a href=\"/gaokao/sitemap/\" target=\"_blank\">资源大全</a> &gt;\\n<a href=\"/gaokao/rd/\" target=\"_blank\">热点专题</a>\\n</div>\\n<div class=\"header-txt\">\\n<span>\\n<script src=\"//js.51test.net/js_new/getcookie_login.js\"></script><a href=\"javascript:void(0);\" onclick=\"openloginform(\\'https://user.51test.net/wap/user/login_wx.html\\',\\'登录\\')\"><img src=\"//img.51test.net/uploadfile/bdstatic/429dbc982449c6f6355156ef6e2090ef.png\" width=\"30px\" align=\"absmiddle\">登录</a><a href=\"javascript:void(0);\" onclick=\"openloginform(\\'https://user.51test.net/wap/user/reg_wx.html\\',\\'注册\\')\">注册</a><a href=\"https://user.51test.net/vip/\" target=\"_blank\"><img src=\"//img.51test.net/uploadfile/bdstatic/6fb510a4ca70aa63294eafe32dc2af39.png\" align=\"absmiddle\">开通VIP</a>\\n\\n</span>\\n</div>\\n</div>\\n</div>\\n<div class=\"container\">\\n<div class=\"main-bg\">\\n<div class=\"content-fl\">\\n<div class=\"title\">\\n<h1>\\n历年高考满分作文精选【十篇】\\n</h1>\\n<span class=\"txt\">\\n2020-05-12 17:03:00&nbsp;&nbsp;\\n无忧考网&nbsp;&nbsp;&nbsp;&nbsp;\\n[ 字体：<a href=\"javascript:doZoom(14)\"><u>小</u></a> <a href=\"javascript:doZoom(16)\"><u>中</u></a> <a href=\"javascript:doZoom(18)\"><u>大</u></a> ]\\n[ <a href=\"https://m.51test.net/show/9870584.html\" target=\"_blank\">手机版</a> ]\\n[ <a href=\"javascript:void(0);\" onclick=\"opendownform(\\'https://view.51test.net/docview/?id=9870584\\',\\'Word文档预览\\')\"><img src=\"https://img.51test.net/uploadfile/bdstatic/5ce2eadeb37fd9d03b4ad44f3c8705c3.png\" width=\"35\" height=\"35\" align=\"absmiddle\"><font style=\"font-weight:bolder;color:#ff7d18;font-size:17px;\">文档预览</font></a> ]\\n[ <a href=\"javascript:void(0);\" onclick=\"opendownform(\\'https://user.51test.net/vip/download/word/?id=9870584\\',\\'【VIP会员特权】Word文档下载\\')\"><img src=\"https://img.51test.net/uploadfile/bdstatic/6fb510a4ca70aa63294eafe32dc2af39.png\" align=\"absmiddle\"> <font style=\"font-weight:bolder;color:#ff7d18;font-size:17px;\">文档下载</font></a> ]\\n</span>\\n</div>\\n<script>a(\"show_title\");</script><div style=\"margin: 0 auto;width: 765px;margin-bottom: 10px;\"><div id=\"_j6nw2lit1w\"><div><div><iframe scrolling=\"no\" src=\"https://pos.baidu.com/s?wid=760&amp;hei=150&amp;di=u5842703&amp;ltu=https%3A%2F%2Fwww.51test.net%2Fshow%2F9870584.html&amp;psi=4c99d92e831e27f96a60d9a2345b3b12&amp;dc=3&amp;ti=%E5%8E%86%E5%B9%B4%E9%AB%98%E8%80%83%E6%BB%A1%E5%88%86%E4%BD%9C%E6%96%87%E7%B2%BE%E9%80%89%E3%80%90%E5%8D%81%E7%AF%87%E3%80%91&amp;ps=219x88&amp;drs=1&amp;pcs=1263x579&amp;pss=1263x12710&amp;cfv=0&amp;cpl=0&amp;chi=1&amp;cce=true&amp;cec=GBK&amp;tlm=1589274241&amp;psr=1280x720&amp;par=1280x680&amp;pis=-1x-1&amp;ccd=24&amp;cja=false&amp;cmi=0&amp;col=zh-CN&amp;cdo=-1&amp;tcn=1589634800&amp;dtm=HTML_POST&amp;tpr=1589634800013&amp;ari=2&amp;ant=0&amp;exps=111000,110011&amp;prot=2&amp;dis=0&amp;dai=1&amp;dri=0\" width=\"760\" height=\"150\" frameborder=\"0\"></iframe><em id=\"xioca\" style=\"display:none;\"></em></div></div></div><script src=\"//m1.51kaowang.com/site/hc_ze/production/y/source/rd/static/iu.js\"></script></div>\\n\\n<div class=\"content-txt\" id=\"content-txt\">\\n<p>【导语】低分作文都是相似的，满分作文各有各的好处。分析别人的优秀作文，模仿借鉴其写作技巧，逐渐形成自己的风格，是提高作文水平的捷径。 无忧考网整理了历年高考满分作文精选，一起看看吧。</p><p></p><p style=\"text-align: center\"><br> <img src=\"https://img.51test.net/uploadfile/images/template/riji/8.jpg\"><br></p><br><p style=\"border-left:5px solid #3991e5;color:#3991e5;background:#f5f7f7;padding-left:10px;line-height:35px;margin-bottom:8px;\"><strong>【篇一】历年高考满分作文精选</strong></p><p></p><p>\\u3000\\u3000风物长宜放眼量</p><p>\\u3000\\u3000偏居乡野，自然无法领略世界的风采，唯有于山顶俯视才能纵览山河面貌；身处暗室，自然不会得见璀璨的星空，只有于室外仰观才能欣赏夜空美丽。我们盯着地上的六便士，自然无法看到头顶的月亮。风物长宜放眼量，唯有如此我们才能够找到隐藏于黑暗中的正确的道路。</p><p>\\u3000\\u3000二战时的那位统计专家力排众议，加固机身中弹少的部位，最终成功提高了安全性能。而其他人仅看到了问题的表象未能彻底地找出问题的关键。只有那位专家意识到了“幸存者偏差”，提出了正确的方案。</p><p>\\u3000\\u3000风物长宜放眼量，目光不限于局部。“*者迷，旁观者清”，*者只看到了问题的局部，而旁观者却能看到大局。孰迷孰清自不必多说。赤壁之战中的曹操，用铁索连环绑住战船，颇为自得。然而，他只是看到铁索连环能解决士兵晕船问题，却没意识到火攻的后果。最终，烈火趁着东风，燃尽了他一统天下的梦。曹操目光限于局部，思想片面，正是他未能完整地考虑自己的计策，才招致了如此大败。若是他的目光全面，又怎会败地如此凄惨？</p><p>\\u3000\\u3000风物长宜放眼量，想法不惑于表象。一切事物只有仔细分析后才能够看到实质。古之仲永天资卓绝惫懒懈怠终泯然成众人，今有马云求学坎坷不懈奋斗一跃为游龙。仲永仗着天赋目光短浅不学习，最终只能白白浪费出人的天分。但是马云目光长远积极好学，最终成为中国电商领军人物。若是目光短浅，被表象迷惑，最终也只会渐渐沉沦，唯有思想不惑于表象，才能真正抓住事物本质。</p><p>\\u3000\\u3000风物长宜放眼量，思维不随于大流。人生于天地之间，一味跟随大流，人云亦云，难免庸庸碌碌。另辟蹊径才能走出不一样的精彩，若是让潮流冲散了自己的见解，又是何等的损失。汨罗江涛涛江水，澎湃着千年的执着。屈原的美政理念不被众人赞同，但他却没有随于大流放弃自己的思想。他长叹：“举世皆浊我独清，世人皆醉我独醒。”宁死不折自己的思想。虽说他被江水吞噬，但他也让江水澎湃千年、滋养千年。</p><p>\\u3000\\u3000黄尘清水三山下，更变千年如走马。岁月更迭，改变了太多，但不变的却是我们只有做到“风物长宜放眼量”才能正确地处理这纷杂尘世的每件事。</p><p></p><p style=\"border-left:5px solid #3991e5;color:#3991e5;background:#f5f7f7;padding-left:10px;line-height:35px;margin-bottom:8px;\"><strong>【篇二】历年高考满分作文精选</strong></p><p></p><p>\\u3000\\u3000拂去融雪，细嗅蔷薇</p><p>\\u3000\\u3000如朗月朝花，深潭微澜，生活虽灿若星辰，但透明雪白的外表下也藏匿着我们容易忽视的污垢瑕疵，只有勇敢地伸出双手拂去表面点缀的银银细雪，方可看到本质，细嗅雪后绵延的蔷薇芬芳。</p><p>\\u3000\\u3000面对弹孔斑驳的的战机残骸，专家能够排除干扰，看清问题的根源所在，从而拯救了成千上万飞行员的生命；在我们的生活中又何尝缺少这样蒙蔽我们双眼的“弹孔”呢？</p><p>\\u3000\\u3000拂去表面的雪华需要时刻以史为鉴。“通往真理的路上荆棘遍布，迷雾丛生。”亚里士多德如是说。诚如斯言，曾一度掀起热潮的摩拜单车仿佛让我们感受到“自行车王国”的回归，在众人连声叫好的迷雾之中，不少阴暗却在萌生，不断频发的安全事故与道德丑闻让我们逐渐揭开了那表层的银装，看到本质。虽然摩拜单车已被叫停，但它仍然时刻警醒着我们：潮流不是通往真理的涓涓细流，盲从是埋没正确航向的凶险巨浪</p><p>\\u3000\\u3000被鲜艳光辉的外表迷惑使我们难以看到本质，且需心怀主张。浅栽蔷薇一束，细嗅万季芬芳，信赖自己内心的准则，让问题迎刃而解，让真理之花常开不败。</p><p>\\u3000\\u3000寒门出贵子一直是中国许多贫苦家庭所坚信的一缕清光，有人甚至因此而不思进取，把一切都托付给自己的下一代身上；这显然是荒谬的。一直被誉为“寒门榜样”的王庆根，从小生活在贫困的农村，靠自己的不懈努力斩获了奥林匹克化学金牌，并有了成功的事业，然而他却在年仅三十岁就选择了真相，这让我们深刻认识到贫困对孩子从小造成的心理创伤，从而更重视对孩子的素质教育。除此之外，“毒鸡汤”，“拒绝佛系派，丧文化”等名词的出现也表明我们正在拥有自己的主见，并敢于为之坚持。这无疑是可贵和值得我们发扬的，心怀主见才能拂冬去雪，拨雾见月明。</p><p>\\u3000\\u3000除此之外，善于把握机遇也是一束珍贵的鲜花。就像真相《阿甘正传》中这样一句经典台词：“生活就像一块巧克力，味道往往出人意料。”</p><p>\\u3000\\u3000改变我们一生的宝藏和机遇就可能藏在事物与问题的本质间。腾讯创始人马化腾当初选择了不被世人看好的通信领域，却建立了时人未曾想到的电子帝国；马云看到了信息产业的无限商机，才有了阿里巴巴得享誉世界......倘若他们当初没有看到现象中的本质，他们也许不会有今天的成就与辉煌。拂去覆盖本质的深雪，才能发现泥土中的钻石，欣赏到初春里热烈绽放的那抹蔷薇的轻红。</p><p>\\u3000\\u3000细嗅蔷薇之芳，求索真理之源。当代的我们正赶上时代的转折点，是顺应潮流，还是忠于本心？命运与选择的帆在我们手中，只有我们学会从融雪中看到繁花，从现象中看到本质，才能实现个人乃至中国梦的姹紫嫣红！</p><p>\\u3000\\u3000迷雾遮月终飘去，雪飞花现彰我心！</p><p></p><p style=\"border-left:5px solid #3991e5;color:#3991e5;background:#f5f7f7;padding-left:10px;line-height:35px;margin-bottom:8px;\"><strong>【篇三】历年高考满分作文精选</strong></p><p></p><p>\\u3000\\u3000不做别人思想的跑马场</p><p>\\u3000\\u3000周国平认为，每个人都睁着眼睛，但不等于每个人都在看世界，许多人几乎不用自己的眼睛看，他们只听别人说，他们看到的世界永远是别人说的样子。这启发我们，要关注自我人生的品质。只有学会独立思考，让自我的灵魂清醒，才能洞察问题，丰盈人生。</p><p>\\u3000\\u3000二战时期，面对战斗力的加固防护问题，仅有一位专家力排众议，说出了自己不同的看法。在所有人都支持在机身中弹多处加强防护时，只有那位专家坚持认为应该注意防护弹痕少的地方。正是他于表象思维的大潮中独立思考得来的真知灼见，挽救了成千上万飞行员的生命。学会独立思考，不随波逐流，不做别人思想的跑马场，自然成就自我生存意义，彰显自我生存智慧。</p><p>\\u3000\\u3000我思，不怠惰。在互联网时代，大数据大信息如浪潮般扑面而来。然而，互联网并没有改变人们思考的方式，而是改变了人们获取信息的方式。因而，就有一些人满足于当“传声筒”“复读机”，不愿思考；满足于“浅阅读”“浅吸收”，不会思考；满足于“囫囵吞枣”“一知半解”，不善思考。诚然，即使是网络将信息摆在我们面前，我们也要审视它们的真实与否，全不能因此而怠惰。</p><p>\\u3000\\u3000我思，不盲从。柏拉图曾说：”我爱我师，但我更爱真理。“他不像如今困在学校中的学生，只知道一昧的听从于老师的教学，毫无一丝自己的思考。他懂得独立思考，他有灵魂上的清醒。试想，如果个人或族群，不善于独立思考、缺少自省精神，只知道人云亦云，麻木盲从，那么，便只能成为别人精彩人生的可怜陪衬。</p><p>\\u3000\\u3000我思，方有所获。法国科学家、哲学家笛卡尔在朦胧的睡梦中醒来后，仿佛在梦中得到什么启示般，在纸上写下几个字——我思故我在。他怀疑一切事物的存在，甚至于自己的存在，却在这一天如梦初醒地道破天机：思考着的人才是活着的。他在思索中获得了举世瞩目的成就。</p><p>\\u3000\\u3000我就是我，是颜色不一样的烟火。每个人都有着独一无二的灵魂，每个人都应具备独立思考的能力。不避重就轻，不随波逐流，不做别人思想的跑马场。以独特的眼光去发展，我们，在路上。</p><p></p><p style=\"border-left:5px solid #3991e5;color:#3991e5;background:#f5f7f7;padding-left:10px;line-height:35px;margin-bottom:8px;\"><strong>【篇四】历年高考满分作文精选</strong></p><p></p><p>\\u3000\\u3000 劳动创造美好未来</p><p>\\u3000\\u3000——在复兴中学“热爱劳动，从我做起”主题教育大会上的演讲</p><p>\\u3000\\u3000尊敬的学校领导、亲爱的老师、同学们：</p><p>\\u3000\\u3000大家好！</p><p>\\u3000\\u3000土地是财富之母，勤劳是财富之父。这是千百年来人类社会在发展过程中所形成的共识。恩格斯也早已明确论断“劳动创造了人本身”。</p><p>\\u3000\\u3000的确，我们人类的双手，人类的语言、人类的智慧等等可以区别于其他动物的一切，无一不是劳动的贡献。</p><p>\\u3000\\u3000也可以说今天人类所拥有的一切物质和精神的文明成果无一不是劳动所创造，因此，我们人类的美好未来也毫无疑问地必须靠劳动来创造。习近平总书记也教导我们“幸福都是奋斗出来的”。</p><p>\\u3000\\u3000热爱劳动是我们中华民族的传统美德。我们历来对于那些四体不勤，五谷不分，只想不劳而获的人都是嗤之以鼻的。因此，哪怕是家境再好的人家也都会知道“坐吃山空”和“富不过三代”的古训，有道是“忧劳可以兴国，逸豫可以亡身”。</p><p>\\u3000\\u3000但是，改革开放四十多年来，几代人的不懈奋斗，让我们的国家从站起来，到富起来，并逐渐强起来，无论是国家的面貌还是普通老百姓的生活也都有了天翻地覆的变化，于是有些人开始厌恶劳动，不尊重劳动，甚至看不起劳动者。这是一种十分危险现象。对此，作为新时代的青年，对于劳动应该有自己正确的认识。</p><p>\\u3000\\u3000第一、劳动精神最光荣。我们应该感谢先辈，是用他们用劳动创造了今天的一切，但是我们不能就此止步，作为新时代的青年一代，应该有自己的使命和担当，那就是在前辈们奠定的基础上，用自己的劳动创造自己的新生活，并为子孙后代奠定更坚实的发展基础。惟其如此，我们才能说自己是光荣的劳动者，我们才能上不愧祖先，下不愧后代。</p><p>\\u3000\\u3000第二、劳动分工无贵贱。劳动只有分工的不同，没有高低贵贱之分。人生而平等，但是由于发展基础不同，知识水平不一，兴趣爱好有别，所以社会分工会不同。国家需要两弹元勋钱学森，也需要掏粪工人时传祥；需要航天英雄杨利伟，也需要守岛赤子王继才……正因为如此，作为一国元首，习近平主席在今年的新年致辞中就十分接地气地向包括快递小哥、环卫工人、出租车司机在内的千千万万劳动者致敬，因为正是他们，创造了和创造着我们美好的一切。</p><p>\\u3000\\u3000第三、劳动形式需发展。人类社会发展的历史就是一部后人站在前人肩膀上不断攀登的历史。从刀耕火种的原始农业时代，到现在的信息化时代，劳动创造美好生活的实质并没有改变，但是人类的劳动形式已经不可同日而语。今天或许大多数繁重和琐碎的体力工作会被机器和人工智能所取代，但那不正是由于我们的劳动创造了机器和人工智能吗？</p><p>\\u3000\\u3000从五四运动开始的100年，特别是改革开放40多年来，几代人高举科学救国的旗帜，奋发图强，创造了人民共和国今日的辉煌，但是一代人应有一代人的使命和担当。大家知道，就在昨天国家工信部正式颁发了5G商用牌照，这意味着新一轮的信息技术革命和社会大变革已经开始，我们既面临着无限的发展机遇，也面临着无限的挑战。</p><p>\\u3000\\u3000同学们，“热爱劳动，从我做起”。让我们在前辈们奠定的基础上，勤奋学习，掌握现代科技知识，增强我们劳动的本领，高举科技强国的旗帜，用我们的勤劳和智慧创造美好的未来，为实现复兴中华的伟大梦想而努力奋斗吧！</p><p>\\u3000\\u3000我的演讲完毕，谢谢大家！<br></p><p style=\"text-align: center\"><br> <img src=\"https://img.51test.net/uploadfile/images/template/xiaoxuezuowen/2.jpg\"><br></p><br><p style=\"border-left:5px solid #3991e5;color:#3991e5;background:#f5f7f7;padding-left:10px;line-height:35px;margin-bottom:8px;\"><strong>【篇五】历年高考满分作文精选</strong></p><p></p><p>\\u3000\\u3000 复兴之梦梦在不息</p><p>\\u3000\\u3000——在复兴中学以“热爱劳动，从我做起”主题的演讲稿</p><p>\\u3000\\u3000“谈，大门敞开；打，奉陪到底”。2019年5月13日晚的央视新闻联播，引起了全国上下轰动。它强有力地说明了“积贫积弱的中国早已成为过去式，新中国已经走在强国复兴的大道上”。</p><p>\\u3000\\u3000面对强大的祖国，我们确实有理由傲骄。但正如冰心所说：“青年人，只是回顾么？这世界是不住的前进呵。”在兴奋之余，作为青年一代的我们，更应该增强责任感和使命感，因为中华复兴，理应驰而不息。</p><p>\\u3000\\u3000纵观历史的每一次进步，无不与劳动息息相关。燧人氏钻木取火，鲁班发明锯子，毕昇发明活字印刷，蔡伦发明造纸，袁隆平发明杂交水稻……“民生在勤，勤则不匮”，是劳动改变了民生，推动了社会进步。</p><p>\\u3000\\u3000但随着科技的不断进步，不少人却对我国的未来表示出担忧。这是杞人忧天吗？当然不是。让我们看看眼前的事实吧，城区学生葱和大蒜不分倒也可以理解，因为城市寸土寸金，没给他们提供亲身耕作的土壤。但即便是一些农村地区的学子，他们也是四体不勤五谷不分，寒门也养“富二代”现象并不少见。</p><p>\\u3000\\u3000也许部分家长会说：“孩子学习那么忙，劳动就交给我们吧”；也许不少学子也会说；“科技进步这么快，劳动的事未来由人工智能完成就好”。然而事实真是这样吗？清代魏源说过，“披五岳之图，以为知山，不如樵夫之一足；谈沧溟之广，以为知海，不如估客之一瞥；疏八珍之谱，以为知味，不如庖丁之一啜”。实践是获得真知的途径，没有劳动与生活的应用，书本知识也只能是纸上谈兵。同时人工智能只是科技的载体，人是其中的关键。可以说，没有劳动就没有人类的发展进步。</p><p>\\u3000\\u3000因此，在今天的演讲活动中，我想向同学们以下倡议：</p><p>\\u3000\\u3000一是要树立“我以劳动为美”的观念。“士农工商”，农工在四种职业中有着自己的重要位置。可是现在不少人却总认为“农不如工，工不如商”，认为不能为官就要行商，当农民与工人总是不体面的。于是就出现了这么一种怪现象，一方面大量大学毕业生毕业回家啃老，另一方面大量企业工厂却闹起了人才荒。“一屋不少，何以扫天下”，殊不知，古长城、兵马俑、故宫角楼……无一不是农工的杰作，无一不是工匠精神的体现。</p><p>\\u3000\\u3000二是要多点研学旅行少点闭门修书。近年来，国家教育部门出台了关于中小学生研学旅行的文件，学校也倡议组织大家参加了一些研学旅行活动。这样的机关大家一定要珍惜，并让自己投身其中。“行万里路，读万卷书”，生活除了眼前的苟且，还必须得有诗和远方。</p><p>\\u3000\\u3000三是要拒绝“佛系”多点“斜杠”。“佛系”青年不拿不抢不求输赢，我不赞成；“斜杠”青年选择拥有多重职业多重身份的多元生活方式，我很推崇。但现在不少青年人喜欢“葛优躺”，劲吹“佛系风”，殊不知“每一个不曾起舞的日子，都是对生命的辜负”，我们理应让自己的生活多点体验多点实践。技多不压身，毛泽东不仅是书法家、诗人，还是新中国伟大的开拓者和奠基人……</p><p>\\u3000\\u3000“不争寸阴于今日，必留遗憾于明朝。”大国呼唤工匠精神，中华复兴理当驰而不息。为着后来的回忆，在座的青年朋友们，让我们小心着意地描写现在的图画吧。</p><p></p><p style=\"border-left:5px solid #3991e5;color:#3991e5;background:#f5f7f7;padding-left:10px;line-height:35px;margin-bottom:8px;\"><strong>【篇六】历年高考满分作文精选</strong></p><p></p><p>\\u3000\\u3000 祖国到处都是“诗和远方”</p><p>\\u3000\\u3000黎明驱走了黑暗，日出带来了光芒，祖国的光辉好似阳光，照亮了我们的前程，指明了我们前进的方向，带领全国各族人民从贫穷走向富裕，从胜利走向辉煌。</p><p>\\u3000\\u3000中华人民共和国国旗旗面为红色象征革命。旗上的五颗五角星及其相互关系象征共产党领导下的革命人民大团结。星用黄色是为着在红地上显出光明，四颗小五角星各有一角正对着大星的中心点，表示围绕着一个中心而团结。每逢国庆，去*广场看升国旗是无数人心中的梦想。因此，利用国庆长假去北京游玩的人们，通常会赶早来到*广场看国旗班的军人升旗，以表达对祖国的无比热爱，看着五星红旗徐徐升起，心中的激动无以言表。每年10月1日是我国的国庆节，我国于1999年修订发布《全国年节及纪念日放假办法》，将国庆节与相邻的周六、日组合为7天的国庆长假，被称之为“国庆黄金周”，用放假的形式，让老百姓共同感受国庆的欢乐。</p><p>\\u3000\\u3000回首这70年，中华人民走得每一步都是步履蹒跚，每一步都付出了巨大牺牲。这70年，中华人民永远忘不了，抗美援朝战场上精神与钢铁的较量；忘不了，我驻南斯拉夫大使馆的悲愤与耻辱；忘不了，南沙群岛护我主权时对手的无耻与卑劣；这牺牲包含了所有的付出，既有先烈的浴血、也有我辈的拼搏，所有的一切，都离不开大家的团结奋进，离不开大家不惧牺牲，勇往直前的精神。</p><p>\\u3000\\u3000但是如今中国经过几十年来的艰苦建设，已取得了“乘长风，破万里浪”的迅猛发展：《辉煌中国》之《圆梦工程》透过港珠澳大桥、胡麻岭隧道、郑万铁路、复兴号、上海洋山港自动化码头、中国移动互联网等一个个超级工程，领略五年来一张张中国基础建设的大网，如何编织起人民走向幸福、美好的希望版图，托举起中华民族伟大复兴的中国梦。</p><p>\\u3000\\u3000无论你的家乡在哪里？无论你最想去到哪个地方？祖国到处都是“诗和远方”。我们牢记着祖国的风风雨雨，也奋力创造更美好的生活！</p><p></p><p style=\"border-left:5px solid #3991e5;color:#3991e5;background:#f5f7f7;padding-left:10px;line-height:35px;margin-bottom:8px;\"><strong>【篇七】历年高考满分作文精选</strong></p><p></p><p>\\u3000\\u3000翻页新世界</p><p>\\u3000\\u3000前方高山耸立，但翻山越岭，是优美的风景，天上乌云翻滚，但越过乌云，是朗朗青天，拨开表象的迷雾，真相就会浮现出来，就如二战期间战斗机的防护，许多人认为加固应该加在弹痕多的地方，但实际上应该加在弹痕少的地方，因为加在弹痕多的地方战斗机也不一定会幸存而归。</p><p>\\u3000\\u3000世界上最可怕的事情，莫过于有眼睛而看不到真相，我们在研究问题时总是着重于表象，却未曾注意到事情的本质，结果发现表象与结果大相径庭。对此，英国的探险家说：“当你学会透过事物的表面看到其本质的时候，任何的困难与挫折，在你面前也不值得一提了。”</p><p>\\u3000\\u3000因此，我们应该吸取教训，改变看问题的方式“高度决定视野”，用全面发展的眼光看问题，就能把事情做到极致，几年前，当“宅”字成为网上盛极一时的热词时，大多数网友也就是把它当作一个热词，没注意到它背后的东西，而阿里巴巴的创始人马云从高处看待这些事，发现了不一样的东西：“懒”即是“宅”的根本原因。于是他就开始利用现代人的惰性，开创了网购的新时代，他因此也成了家喻户晓的传奇。</p><p>\\u3000\\u3000“角度改变观念”，换个角度看问题，结果就很不一样。19世纪在人们研究电与磁的关系毫无头绪时，英国科学家法拉第解放思想，找到了问题的关键所在，意识到这是一种非恒定的暂态效应，与传统的物理定律有所区别。就这样他发现了电磁感应定律。正是因为他站在与常人不同的角度看问题才揭示了电与磁之间的相互联系，也就有了我们现在的发电机。</p><p>\\u3000\\u3000要突破思维的枷锁，还需打破惯性思维。二战时期的战斗机防护的结果带来的偏差正是因为大多数人关注的重点没在问题本质上，没有打破惯性思维。欧洲17世纪最伟大的画家之一伦勃朗，在画价大涨时，在人们纷纷出价卖画之际，他突破惯性思维，拒绝售画，抽离尘世纷扰，潜心研究创作，致力于打造精品。当画价风浪平息后，他的画价值也变的更高了，画画技巧也得到了提升，令人望其项背。正是因为他敢于突破惯性思维，才能获得如此辉煌的成就。</p><p>\\u3000\\u3000为什么人们在认识问题时总会有如此大的偏差呢，首先很有可能是因为知识掌握不全，不牢固，“书读百遍，其义自见”，只有掌握了牢固的知识才对表层问题有独到的见解，这就需要我们不断地去学习；其次是要进行深入的思考，现在的学生见到数理化就如同见天敌，不愿意进行深入的思考和研究，于是就放弃，因此认识的偏差在人群中也就可见一斑。</p><p>\\u3000\\u3000正确认识问题，方可大道直行，收获人生精彩，让人生从云卷云舒中度过，与花开花落里微笑，翻页腐朽一卷书，观一片新世界。</p><p></p><p style=\"border-left:5px solid #3991e5;color:#3991e5;background:#f5f7f7;padding-left:10px;line-height:35px;margin-bottom:8px;\"><strong>【篇八】历年高考满分作文精选</strong></p><p></p><p>\\u3000\\u3000初心不改奔流到海</p><p>\\u3000\\u3000有一条江，因其拐了两弯，一折二折之下，便叫了之江；口耳相传之后，便有了浙江。</p><p>\\u3000\\u3000燕赵、齐鲁、巴蜀、江东、陇西、岭南、漠北……或山或水，或江或湖，成就了中华版图。</p><p>\\u3000\\u3000而浙江，却始终以一种进取的姿态，刻画着自已在中华大地上的维度。</p><p>\\u3000\\u300097年前的这里，浩渺的烟波南湖之上，一群书生围坐在船中，未沉迷于眼前如诗如画的风景，却酝酿着一场改天换地的风雷。</p><p>\\u3000\\u300057年前的这里，一个名叫义乌的火车小站停靠点上，在“鸡毛换糖”的此起彼伏声中，却孕育了日后一个叫物流的时代。</p><p>\\u3000\\u300037年前的这里，瓯江之畔，一场大火烧醒了诸多皮鞋小作坊的业主，明白了市场规则下质量和契约究竟意味着什么。</p><p>\\u3000\\u300017年前的这里，一个颜值不高的小个子，正忙活着他与四十大盗的梦想。</p><p>\\u3000\\u30007年前的这里，“绿水青山就是金山银山”的发展理念，已悄然在百姓心里生根发芽，浸润着血脉的生生不息……</p><p>\\u3000\\u3000而这之江的水，无论风云如何变幻，始终奔流不息！</p><p>\\u3000\\u3000山水烘托了人杰，人杰也烛亮了山水！一个人的坚持叫操守，一群人的坚持叫法则，若是再加上时间的演化和水土的滋养，便成了文化！</p><p>\\u3000\\u3000“负箧曳屣，行深山巨谷中……足肤皲裂而不知。”大儒宋濂的话语，若投映到浙商“四千精神”的旅途，相必也是别有一番滋味。</p><p>\\u3000\\u3000“身在夜郎家万里，五云天北是神州”，阳明先生的词作，若辅以船王包玉刚的言行，我们不难发现，那一弯之江水，依旧激荡在你我的心头，至今难忘。</p><p>\\u3000\\u3000于是，便有了李书福痛斥电动汽车“伪制造”的激昂；便有了马云关于中美贸易争端的铿锵；更不乏董卿“苔米花虽小，也学牡丹开”的情怀。</p><p>\\u3000\\u3000不知不觉，光阴轮转。</p><p>\\u3000\\u3000红船，一直停在那里，络绎不绝的人群，用瞻仰的目光将它链接到了心中，化作信仰。</p><p>\\u3000\\u3000当年换糖的老汉，早已铸成了铜雕，成为城市的地标；温商，作为浙商的一个支群，继续着市场肌体“催化剂”的角色。</p><p>\\u3000\\u3000国人在接受互联网思维的同时，更以欣赏的眼光致敬阿里巴巴，领跑者、创客、追梦人……顺应“互联网+”风起云涌的新趋势，雨后春笋般冒出的“众创空间”让浙江年轻人如沐春风，如鱼得水。</p><p>\\u3000\\u3000“两山”理论践行至今，政务生态优化，自然生态改善，浙江这棵梧桐树，何愁唤不来金凤凰？只需看一看身边的阳光、空气和水，你就会豁然开朗。</p><p>\\u3000\\u3000也许是因为身处江南，那一湾之江水，更多的时候，以一种温婉文静的面目存在。</p><p>\\u3000\\u3000但作为其中的一滴，我深知她的澎湃，虽一折再折，却初心不改，奔流到海！</p><p></p><p style=\"border-left:5px solid #3991e5;color:#3991e5;background:#f5f7f7;padding-left:10px;line-height:35px;margin-bottom:8px;\"><strong>【篇九】历年高考满分作文精选</strong></p><p></p><p>\\u3000\\u3000 传承浙江精神</p><p>\\u3000\\u3000作为浙江学子，我将以今之所学、日后之所学，为浙江之建设投入自己的力量，让浙江精神代代相传。</p><p>\\u3000\\u3000在浙江这块物阜民丰的土地上，历所形的经世致用、知行合一的思想仍激励着我们，并融入今日的浙江精神中，是浙江的瑰宝。</p><p>\\u3000\\u3000传承浙江文化是我们的责任。茅盾盾、鲁迅，那些文豪们毕其一生为我们留下了许多有力量的作品，我们又怎能不去接过这传承文化的接力棒？我们要有对文化的信仰，并用这信仰支撑我们日后的学习。</p><p>\\u3000\\u3000今日浙江之企业也秉承着浙江精神。杭州娃哈哈有限公司，从一个校办工厂到饮料巨头，创始人宗庆后表示将会“主动迎接消费升级，饮料生产由安全向健康开拓，重点向中医食疗、生物工程突破”，这种干在实处、勇立潮头的企业精神带动了企业的发展，也是浙江发展的重要动力。我们将来若是要创业，也该如娃哈哈公司这般，将浙江精神赋于实践中，承担着对社会的责任。</p><p>\\u3000\\u3000浙江精神，早已融入浙江人的生活中。无论是个人或是企业，抑或是立足于浙江这一大省，都需要我们为浙江的建设贡献自己的一份力。做自己力所能及的事情，努力去改变小环境，就是在承担对于浙江的责任。</p><p>\\u3000\\u3000近年来，我们能看到浙江的改变，“五水共治”让浙江的河流变得清澈，“特色小镇”的建设赋于浙江文化气味，“世界互联网大会”的召开拉近浙江与世界的距离。我为生为一名浙江人而感到自豪，也感慨于这些让人欣喜的变化。浙江精神融入浙江的发展中，给我们带来惊喜，也让我们感受到责任。</p><p>\\u3000\\u3000梁启超先生曾说过：“人须知负责任之苦处，才能知道尽责任之乐趣。”而我为浙江之未来，又怎能不担负起这个社会的责任？当传承浙江精神的接力棒传到我们手中，我们又能书写哪些关于我们的浙江传奇？</p><p>\\u3000\\u3000而传承浙江精神，还需要我们不断学习科学文化知识，不断加加强对于浙江的责任意识，不断去关注浙江的近况。唯有如此，我们们才能自信地书写我们的浙江故事。</p><p>\\u3000\\u3000让浙江精神融于我们的血脉中。<br></p><p style=\"text-align: center\"><br> <img src=\"https://img.51test.net/uploadfile/images/template/xindetihui/3.jpg\"><br></p><br><p style=\"border-left:5px solid #3991e5;color:#3991e5;background:#f5f7f7;padding-left:10px;line-height:35px;margin-bottom:8px;\"><strong>【篇十】历年高考满分作文精选</strong></p><p></p><p>\\u3000\\u3000文明韧性的光辉</p><p>\\u3000\\u3000祖先造字之初，便深谙生活的玩味。单看“韧”字的构成，便给人一种难以言表的折磨与难以挣脱之感。或许与“韧”字相关的，都是需要坚强的意志以及不屈不挠的抗争——无论与外人或是于自己——才能实现，做到尽善尽美。</p><p>\\u3000\\u3000而韧性，在我看来，有是中国人深入骨髓的性情。中国历史源远流长而且内涵丰富，提到我们的文明，绝不仅仅指那些可知可感的宏伟建筑或是遗留下来的璀璨的文艺瑰宝，最值得为人道也的，是我们的民族性格——敦厚、勤劳、善良、奋进，最重要的是，百折不屈的韧性。我们经历了太多的风风雨雨，我不敢想象，在元朝骑兵已经问鼎中原，对汉文化进行“蚕食”时，那些汉文化的捍卫者们，是忍耐着多大的痛苦与不甘，但为了文化的传承而忍辱负重，是中华民族的坚持，使得我们的文化没有被侵蚀、被毁灭；我更是为近代中国被西方列强侵略之时，即便已经濒临绝望与崩溃，但仍可以重新起立，复兴中国的精神与毅力所动容。很多西方人曾用“中国人没有信仰”为名对我们大肆批驳，但事实上，我们可以铿锵有力地回复他们——我们没有统一的宗教，但中华文明是我们共同的心理纽带，这种文明的指引，就是将我们中华民族凝聚的最崇高的信仰。作为文明延续至今未曾中断的四大文明古国之一，中国值得这份殊荣。</p><p>\\u3000\\u3000几千载漫漫风雨征程，中华民族逆风前行，在无数外力以及内我的挑战与威胁中，保持中国人的品格、文化与意志岿然不动——这就是我们的韧性的光辉。</p><p>\\u3000\\u3000除了历史沧桑变迁中中国于世界所展现的坚韧，于中华民族的内部性格而言，这份韧性更是在民族发展中最本质的精神基石。若勇敢被定义为抵御外部困难时的不放弃与勇于面对，那韧性较之更为伟大的是对个人所长期坚持的理念的否定与价值观的重塑。这可能再外在看来是一种对过去的放弃与抛弃，看似微不足道甚至令人惋惜，但事实上，敢于直面自身的缺陷、并且敢于动摇自身以换取更强的生命力以及社会更加积极正向的发展，这份心，就是我所赞颂的“韧”。我们不能否认，世界是不断发展的，我们只有与时俱进才能先于时代而不是被时代的洪流裹挟或吞没。</p><p>\\u3000\\u3000我景仰那些先哲——商鞅、王安石等变革家，都是在向已现颓势却深入人心的制度与社会生活方式宣战，与他们相对抗的，不仅仅是利益的相关者，更是如大山般沉重的陈旧观念。而现代的重大改革，更是展现了中国人和中华民族性格中的韧性——我们可以改变、甚至可以*，但最本质的精髓始终是中华民族的璀璨文明，目的也统一于中国社会的蓬勃发展。如同邓小平的“改革开放”的伟大决策，是他顶着巨大的压力所作，市场化无疑于社会主义而言是不可相容的，但是为了中国人民的幸福、中国经济的腾飞，他和他们所有人，愿意承受这份风险。他们相信，这是巨大而改变，但一定不会带来毁灭。而我们勇毅坚韧的中国人，更是逐渐适应了这样翻天覆地的变化，用自己的奋斗，构建了更美好的家园——唯有这份韧性，才能如此处变不惊，我们的国家才会走向复兴。</p><p>\\u3000\\u3000韧性于中国，像是一种与生俱来又后天不断坚定的信念。正因这种坚韧不屈，我们的文化才能至今愈加灿烂；正是这种柔中带刚，让我们的人格完善而强大，得以构成更加美好的家园。</p><p></p>\\n<a href=\"javascript:void(0);\" onclick=\"opendownform(\\'https://user.51test.net/vip/download/word/?id=9870584\\',\\'【VIP会员特权】Word文档下载\\')\" class=\"word_download_tip\">\\n<img class=\"word_download_tip_pic\" src=\"https://img.51test.net/uploadfile/bdstatic/2dbaa697a8fd0ea2d7955cb34c1cc94e.jpeg\">\\n<div class=\"word_download_tip_msg\">\\n<div class=\"word_download_tip_title\" style=\"text-decoration:none;\">历年高考满分作文精选【十篇】.doc</div>\\n<div class=\"word_download_tip_tip\">下载Word文档到电脑，方便收藏和打印[全文共11687字]</div>\\n<div class=\"word_download_tip_tj\">\\n<span>编辑推荐：</span>\\n<img src=\"https://img.51test.net/uploadfile/bdstatic/b1d8212fa9a8d2395f6d2789815be907.png\">\\n<img src=\"https://img.51test.net/uploadfile/bdstatic/b1d8212fa9a8d2395f6d2789815be907.png\">\\n<img src=\"https://img.51test.net/uploadfile/bdstatic/b1d8212fa9a8d2395f6d2789815be907.png\">\\n<img src=\"https://img.51test.net/uploadfile/bdstatic/b1d8212fa9a8d2395f6d2789815be907.png\">\\n<img src=\"https://img.51test.net/uploadfile/bdstatic/b1d8212fa9a8d2395f6d2789815be907.png\">\\n</div>\\n</div>\\n<div class=\"word_download_tip_btn\">\\n<div class=\"word_btn_right\">\\n<div>下载Word文档</div>\\n</div>\\n</div>\\n</a>\\n</div>\\n<script>a(\"show_conten1\");</script>\\n<div class=\"clear-both\"></div>\\n<div class=\"Relevant\">\\n<div class=\"title-r\"><span>相关推荐</span></div>\\n<ul>\\n<li class=\"tuwen\">\\n<h2><a href=\"/show/9870584.html\" target=\"_blank\">历年高考满分作文精选【十篇】</a></h2>\\n<div class=\"motu\">\\n<span class=\"show_img\"><a href=\"/show/9870584.html\" target=\"_blank\"><img src=\"//img.51test.net/uploadfile/images/template/riji/8.jpg\" alt=\"历年高考满分作文精选【十篇】\"></a></span>\\n<span class=\"miaoshu2\"><a href=\"/show/9870584.html\" target=\"_blank\">\\n【导语】低分作文都是相似的，满分作文各有各的好处。分析别人的优秀作文，模仿借鉴其写作技巧，逐渐形成自己的风格，是提高作文水平的捷径。 无忧考网整理了历年高考满分作文精选，一起看看吧。【篇一】历年高考满分作文精选风物长宜放眼量偏居乡野，自然无法...<span>2020-05-12</span></a>\\n</span>\\n</div>\\n</li>\\n<li class=\"tuwen\">\\n<h2><a href=\"/show/9869206.html\" target=\"_blank\">高考满分作文范文800字：我想握紧你的手</a></h2>\\n<div class=\"motu\">\\n<span class=\"show_img\"><a href=\"/show/9869206.html\" target=\"_blank\"><img src=\"//img.51test.net/img_default_list.png\" data-src=\"//img.51test.net/uploadfile/images/default/yingyukouyu/2.jpg\" alt=\"高考满分作文范文800字：我想握紧你的手\"></a></span>\\n<span class=\"miaoshu2\"><a href=\"/show/9869206.html\" target=\"_blank\">\\n【导语】对于同学们来说，想要写一篇高质量的作文，可不是那么简单的事，更多的时候，大家的作文不是语句不通、不会表达、词不达意、无话可说、就是句型篇章错乱，那么如何克服这些困难，写出一篇高分作文呢？无忧考网今天给大家整理了高考满分作文范文800字，...<span>2020-05-11</span></a>\\n</span>\\n</div>\\n</li>\\n<li class=\"tuwen\">\\n<h2><a href=\"/show/9868127.html\" target=\"_blank\">2020年高考满分作文范文900字三篇</a></h2>\\n<div class=\"motu\">\\n<span class=\"show_img\"><a href=\"/show/9868127.html\" target=\"_blank\"><img src=\"//img.51test.net/img_default_list.png\" data-src=\"//img.51test.net/uploadfile/images/default/59.jpg\" alt=\"2020年高考满分作文范文900字三篇\"></a></span>\\n<span class=\"miaoshu2\"><a href=\"/show/9868127.html\" target=\"_blank\">\\n【导语】目前考场作文写作的最大问题是缺少深度，突破这一瓶颈的一大关键是提高素材运用的准确性。我肯可以多看下别人的高考优秀作文是怎么做到这些的。下面是无忧考网给大家整理的2020年高考满分作文范文900字，供大家参阅!【篇一】2020年高考满分作文范文90...<span>2020-05-09</span></a>\\n</span>\\n</div>\\n</li>\\n<li class=\"tuwen\">\\n<h2><a href=\"/show/9865921.html\" target=\"_blank\">2020高考满分作文范文800字：独立自主，人生成长的基石</a></h2>\\n<div class=\"motu\">\\n<span class=\"show_img\"><a href=\"/show/9865921.html\" target=\"_blank\"><img src=\"//img.51test.net/img_default_list.png\" data-src=\"//img.51test.net/uploadfile/images/default/gaokaolizhi/05.jpg\" alt=\"2020高考满分作文范文800字：独立自主，人生成长的基石\"></a></span>\\n<span class=\"miaoshu2\"><a href=\"/show/9865921.html\" target=\"_blank\">\\n【导语】作文是语文考试的重中之重，想要写出好的作文，可以多看一些满分作文，灵活运用来提升自己的作文分值。无忧考网为大家带来2020高考满分作文范文800字！我们来看一看吧！【篇一】2020高考满分作文范文800字：独立自主，人生成长的基石 自立是船，载着你...<span>2020-05-06</span></a>\\n</span>\\n</div>\\n</li>\\n<li class=\"tuwen\">\\n<h2><a href=\"/show/9865779.html\" target=\"_blank\">2020高考满分作文范文900字：学会尊重</a></h2>\\n<div class=\"motu\">\\n<span class=\"show_img\"><a href=\"/show/9865779.html\" target=\"_blank\"><img src=\"//img.51test.net/img_default_list.png\" data-src=\"//img.51test.net/uploadfile/images/default/gaoer/8.jpg\" alt=\"2020高考满分作文范文900字：学会尊重\"></a></span>\\n<span class=\"miaoshu2\"><a href=\"/show/9865779.html\" target=\"_blank\">\\n【导语】不管是中考语文还是高考语文，作文都是受人关注的，同时也是试卷中分值最大的一个项目。无忧考网整理了2020高考满分作文范文900字供大家鉴赏。【篇一】2020高考满分作文范文900字：学会尊重凶猛的藏獒也不过如此，鹦鹉不过就是一只破鸟，又能把我怎么...<span>2020-05-06</span></a>\\n</span>\\n</div>\\n</li>\\n<li class=\"tuwen\">\\n<h2><a href=\"/show/9865768.html\" target=\"_blank\">2020高考满分作文范文1000字三篇</a></h2>\\n<div class=\"motu\">\\n<span class=\"show_img\"><a href=\"/show/9865768.html\" target=\"_blank\"><img src=\"//img.51test.net/img_default_list.png\" data-src=\"//img.51test.net/uploadfile/images/default/gaoer/2.jpg\" alt=\"2020高考满分作文范文1000字三篇\"></a></span>\\n<span class=\"miaoshu2\"><a href=\"/show/9865768.html\" target=\"_blank\">\\n【导语】写好作文的核心除了直接说出我们的观点，还要对我们的观点加以证明，证明观点的时候，就需要事实材料或者前人的观念的材料。以下是无忧考网为大家整理的《2020高考满分作文范文》供您查阅。【篇一】2020高考满分作文范文1000字自然是永恒的奇葩。她捏...<span>2020-05-06</span></a>\\n</span>\\n</div>\\n</li>\\n<li class=\"tuwen\">\\n<h2><a href=\"/show/9858493.html\" target=\"_blank\">2020高考满分作文范文1000字</a></h2>\\n<div class=\"motu\">\\n<span class=\"show_img\"><a href=\"/show/9858493.html\" target=\"_blank\"><img src=\"//img.51test.net/img_default_list.png\" data-src=\"//img.51test.net/uploadfile/images/default/qqgexing/8.jpg\" alt=\"2020高考满分作文范文1000字\"></a></span>\\n<span class=\"miaoshu2\"><a href=\"/show/9858493.html\" target=\"_blank\">\\n【导语】作文是语文学科的重要组成部分，不管是小学还是初中，我们每次语文考试都是要写作文的，而且随着年级的增加，你的作文分值也会增加，写好一篇作文会让你的语文成绩好看很多。无忧考网今天整理了2020高考满分作文范文1000字，一起来欣赏吧。2020高考满...<span>2020-04-24</span></a>\\n</span>\\n</div>\\n</li>\\n<li class=\"tuwen\">\\n<h2><a href=\"/show/9858328.html\" target=\"_blank\">高考满分作文900字：深入灵魂的热爱</a></h2>\\n<div class=\"motu\">\\n<span class=\"show_img\"><a href=\"/show/9858328.html\" target=\"_blank\"><img src=\"//img.51test.net/img_default_list.png\" data-src=\"//img.51test.net/uploadfile/images/default/nce/07.jpg\" alt=\"高考满分作文900字：深入灵魂的热爱\"></a></span>\\n<span class=\"miaoshu2\"><a href=\"/show/9858328.html\" target=\"_blank\">\\n【导语】写作文时若想信手拈来，必须有高质量的作文素材积累。但是素材不能只考虑越多越好，特别是在冲刺阶段，素材积累更要优质高效。所以在我们写好一篇高考作文之前，必须要多读高分范本，去挖掘它们的高分亮点，学习借鉴。今天无忧考网整理了《高考满分作...<span>2020-04-24</span></a>\\n</span>\\n</div>\\n</li>\\n</ul>\\n</div>\\n</div>\\n\\n<div class=\"content-fr\">\\n\\n<script>a(\"show_right1\");</script><div style=\"margin:20px 0px 20px 0px;\"><div class=\"s_r_img\">\\n<a href=\"https://user.51test.net/vip/\" target=\"_blank\"><span><h2>VIP会员尊享特权！</h2></span></a>\\n<div class=\"Course\"><a href=\"https://user.51test.net/vip/\" target=\"_blank\" class=\"vip\">会员权益</a><a href=\"https://user.51test.net/vip/download/word/?id=9870584\" target=\"_blank\" class=\"mfst\">文档下载</a></div></div></div>\\n<div style=\"margin:30px 0px 20px 0px;\"><div id=\"_2xhl3ftefdc\"><div style=\"padding-top:0px;\"><div style=\"margin-right:0px;\"><div style=\"padding-top:0px;\"><iframe scrolling=\"no\" src=\"https://pos.baidu.com/s?wid=300&amp;hei=250&amp;di=u3428067&amp;ltu=https%3A%2F%2Fwww.51test.net%2Fshow%2F9870584.html&amp;psi=4c99d92e831e27f96a60d9a2345b3b12&amp;dc=3&amp;ti=%E5%8E%86%E5%B9%B4%E9%AB%98%E8%80%83%E6%BB%A1%E5%88%86%E4%BD%9C%E6%96%87%E7%B2%BE%E9%80%89%E3%80%90%E5%8D%81%E7%AF%87%E3%80%91&amp;ps=275x911&amp;drs=1&amp;pcs=1263x579&amp;pss=1263x12873&amp;cfv=0&amp;cpl=0&amp;chi=1&amp;cce=true&amp;cec=GBK&amp;tlm=1589274241&amp;psr=1280x720&amp;par=1280x680&amp;pis=-1x-1&amp;ccd=24&amp;cja=false&amp;cmi=0&amp;col=zh-CN&amp;cdo=-1&amp;tcn=1589634800&amp;dtm=HTML_POST&amp;tpr=1589634800013&amp;ari=2&amp;ant=0&amp;exps=111000,110011&amp;prot=2&amp;dis=0&amp;dai=2&amp;dri=0\" width=\"300\" height=\"250\" frameborder=\"0\"></iframe></div></div></div></div><script src=\"//m1.51kaowang.com/common/5sb4x.js?idvzs=fjce\"></script></div>\\n\\n<div class=\"read-sort\">\\n<div class=\"title\"><span><a href=\"/gaokao/rd/\" target=\"_blank\">\\n高考热点专题</a></span></div>\\n<ul>\\n<li><a href=\"/show/9870584.html\" target=\"_blank\" class=\"txt85\">历年高考满分作文精选【十篇】</a>\\n</li>\\n<li><a href=\"/show/9869216.html\" target=\"_blank\" class=\"txt85\">2020高考优秀人物传记叙文范文三篇</a>\\n</li>\\n<li><a href=\"/show/9869206.html\" target=\"_blank\" class=\"txt85\">高考满分作文范文800字：我想握紧你的手</a>\\n</li>\\n<li><a href=\"/show/9869199.html\" target=\"_blank\" class=\"txt85\">高考满分记叙作文范文900字三篇</a>\\n</li>\\n<li><a href=\"/show/9869195.html\" target=\"_blank\" class=\"txt85\">2020高考满分记叙文范文三篇</a>\\n</li>\\n<li><a href=\"/show/9869078.html\" target=\"_blank\" class=\"txt85\">2020高考英语作文素材：文化遗产</a>\\n</li>\\n<li><a href=\"/show/9869024.html\" target=\"_blank\" class=\"txt85\">高考优秀英语作文范文三篇</a>\\n</li>\\n<li><a href=\"/show/9869003.html\" target=\"_blank\" class=\"txt85\">高考优秀议论文作文三篇</a>\\n</li>\\n<li><a href=\"/show/9868136.html\" target=\"_blank\" class=\"txt85\">高考优秀英语作文开头结尾句子</a>\\n</li>\\n<li><a href=\"/show/9868133.html\" target=\"_blank\" class=\"txt85\">高考作文成语故事素材三篇</a>\\n</li>\\n</ul>\\n</div>\\n\\n<script>a(\"show_right2\");</script><div style=\"margin:10px 0px 20px 0px;\"><div id=\"_zhq06yatt9s\"><iframe scrolling=\"no\" src=\"https://pos.baidu.com/s?wid=300&amp;hei=250&amp;di=u3428068&amp;ltu=https%3A%2F%2Fwww.51test.net%2Fshow%2F9870584.html&amp;psi=4c99d92e831e27f96a60d9a2345b3b12&amp;dc=3&amp;ti=%E5%8E%86%E5%B9%B4%E9%AB%98%E8%80%83%E6%BB%A1%E5%88%86%E4%BD%9C%E6%96%87%E7%B2%BE%E9%80%89%E3%80%90%E5%8D%81%E7%AF%87%E3%80%91&amp;ps=931x911&amp;drs=1&amp;pcs=1263x579&amp;pss=1263x12873&amp;cfv=0&amp;cpl=0&amp;chi=1&amp;cce=true&amp;cec=GBK&amp;tlm=1589274241&amp;psr=1280x720&amp;par=1280x680&amp;pis=-1x-1&amp;ccd=24&amp;cja=false&amp;cmi=0&amp;col=zh-CN&amp;cdo=-1&amp;tcn=1589634800&amp;dtm=HTML_POST&amp;tpr=1589634800013&amp;ari=2&amp;ant=0&amp;exps=111000,110011&amp;prot=2&amp;dis=0&amp;dai=3&amp;dri=0\" width=\"300\" height=\"250\" frameborder=\"0\"></iframe><abbr class=\"kgfaeptwga\" style=\"display:none;\"></abbr></div><script src=\"//m1.51kaowang.com/production/gvgq5.js?jewatgkd=g\"></script></div>\\n\\n\\n<div class=\"read-sort\">\\n<div class=\"title\"><span><a href=\"/gaokao/xw/\" target=\"_blank\">\\n高考最新更新</a></span></div>\\n<ul>\\n<li><a href=\"/show/9870242.html\" target=\"_blank\" class=\"txt85\">四川：关于为参加2020普通高考的抗击新冠肺炎一线</a>\\n</li>\\n<li><a href=\"/show/9870091.html\" target=\"_blank\" class=\"txt85\">31省区市各级各类学校明确返校时间</a>\\n</li>\\n<li><a href=\"/show/9869688.html\" target=\"_blank\" class=\"txt85\">教育部部署2020年重点高校招收农村和贫困地区学生</a>\\n</li>\\n<li><a href=\"/show/9869638.html\" target=\"_blank\" class=\"txt85\">四川省24所高校开学时间已确定</a>\\n</li>\\n<li><a href=\"/show/9869176.html\" target=\"_blank\" class=\"txt85\">海南省2020年重点高校在琼招收农村和贫困地区学生</a>\\n</li>\\n<li><a href=\"/show/9869011.html\" target=\"_blank\" class=\"txt85\">2020年广西普通高校招生外语口试时间调整</a>\\n</li>\\n<li><a href=\"/show/9869009.html\" target=\"_blank\" class=\"txt85\">2020年天津高考英语科目第一次考试时间安排在5月</a>\\n</li>\\n<li><a href=\"/show/9869005.html\" target=\"_blank\" class=\"txt85\">山西2020年重点高校招收农村和贫困地区学生工作的</a>\\n</li>\\n<li><a href=\"/show/9868953.html\" target=\"_blank\" class=\"txt85\">2020年江苏高校专项计划报名问题指南</a>\\n</li>\\n<li><a href=\"/show/9868949.html\" target=\"_blank\" class=\"txt85\">福建：关于做好2020年地方专项计划考生资格申报和</a>\\n</li>\\n</ul>\\n</div>\\n\\n<script>a(\"show_right3\");</script><div style=\"margin:10px 0px 20px 0px;\"><div id=\"_28xt49fmsqm\"><iframe scrolling=\"no\" src=\"//pos.baidu.com/s?wid=300&amp;hei=250&amp;di=u3828881&amp;ltu=https%3A%2F%2Fwww.51test.net%2Fshow%2F9870584.html&amp;psi=4c99d92e831e27f96a60d9a2345b3b12&amp;dc=3&amp;ti=%E5%8E%86%E5%B9%B4%E9%AB%98%E8%80%83%E6%BB%A1%E5%88%86%E4%BD%9C%E6%96%87%E7%B2%BE%E9%80%89%E3%80%90%E5%8D%81%E7%AF%87%E3%80%91&amp;ps=1587x911&amp;drs=1&amp;pcs=1263x579&amp;pss=1263x12873&amp;cfv=0&amp;cpl=0&amp;chi=1&amp;cce=true&amp;cec=GBK&amp;tlm=1589274241&amp;psr=1280x720&amp;par=1280x680&amp;pis=-1x-1&amp;ccd=24&amp;cja=false&amp;cmi=0&amp;col=zh-CN&amp;cdo=-1&amp;tcn=1589634800&amp;dtm=HTML_POST&amp;tpr=1589634800013&amp;ari=2&amp;ant=0&amp;exps=111000,110011&amp;prot=2&amp;dis=0&amp;dai=4&amp;dri=0\" width=\"300\" height=\"250\" frameborder=\"0\"></iframe></div><script src=\"//m1.51kaowang.com/site/common/f75nkn.js?qldnannn=u\"></script></div>\\n\\n</div>\\n\\n</div>\\n<script src=\"//js.51test.net/js_new/channel_bottom.js\"></script><div id=\"foot\">\\n    <div class=\"hzjm\"><a class=\"black\" href=\"//www.51test.net/about/about51test.html\" target=\"_blank\">关于我们</a> | <a class=\"black\" href=\"//www.51test.net/class/\" target=\"_blank\">网络课程</a> | <a class=\"black\" href=\"//www.51test.net/about/copyright.html\" target=\"_blank\">版权声明</a> | <a class=\"black\" href=\"//www.51test.net/about/tousu.html\" target=\"_blank\">侵权投诉</a> | <a class=\"black\" href=\"//www.51test.net/about/agreement.html\" target=\"_blank\">会员条款</a> | <a class=\"black\" href=\"//www.51test.net/sitemap/\" target=\"_blank\">网站地图</a> | <a class=\"black\" href=\"//update.51test.net/\" target=\"_blank\">最新更新</a> | <a class=\"black\" href=\"//www.51test.net/about/hezuo.html\" target=\"_blank\">广告合作</a> | <a class=\"black\" href=\"//www.51test.net/about/contactus.html\" target=\"_blank\">联系我们</a><div>\\n    <div class=\"foot-text\">京ICP备12029382号-8 | 《增值电信业务经营许可证》京B2-20192212 | <img src=\"//img.51test.net/uploadfile/bdstatic/082578c2f5c3298b7d223f108fe33ce1.png\" style=\"vertical-align: middle;\">京公网安备 11010802026788号</div>\\n    <div class=\"foot-text\">©2001-2020 无忧考网版权所有. All Rights Reserved.</div> \\n</div>\\n\\n</div>\\n<script src=\"//js.51test.net/js_new/copyright_simple.js\"></script>\\n<script src=\"//js.51test.net/js_new/baidutongji.js\"></script><script src=\"//js.51test.net/js_new/vip_right.js\"></script><style>.dn{display:none}.go-top{position:fixed;bottom:40px;right:20px;width:46px;z-index:999;border:2px solid #f2f3f6!important;}.go-top a{display:block;width:46px;height:46px;margin-bottom:10px;background-image:url(https://img.51test.net/uploadfile/bdstatic/924be8a538d55241166c8cb9aa3c9080.png)}.go-top a:last-child{margin-bottom:0}.go-top .go{background-position:0 -150px}.go-top .go:hover{background-position:0 -250px}.go-top .vipmember{background-position:0 -100px}.go-top .vipmember:hover{background-position:0 -300px}.go-top .uc-2vm{background-position:0 0}.go-top .uc-2vm:hover{background-position:0 -350px}.go-top .share{background-position:0 -50px}.go-top .share:hover{background-position:0 -200px}.go-top .uc-2vm-pop{position:absolute;right:60px;top:-100px;width:240px;box-shadow:0 1px 4px rgba(0,0,0,.1);background:#fff}.go-top .uc-2vm-pop .title-2wm{font-size:14px;margin:10px 20px}.go-top .uc-2vm-pop .logo-2wm-box{position:relative}</style><script src=\"https://js.51test.net/js_new/jquery.js\"></script><script src=\"https://apps.bdimg.com/libs/jquery/1.11.3/jquery.min.js\"></script>\\n<script>window.jQuery || document.write(\\'<script src=\"https://js.51test.net/js_new/jquery.min.js\"><///script>\\')</script>\\n<div class=\"go-top dn\" id=\"go-top\">    <a href=\"https://user.51test.net/vip/\" target=\"_blank\" class=\"vipmember\"></a>    <a href=\"https://p.qiao.baidu.com/cps/chat?siteId=541522&amp;userId=1010301\" target=\"_blank\" class=\"share\"></a>    <a href=\"javascript:;\" class=\"uc-2vm\"></a>    <div class=\"uc-2vm-pop dn\">        <h2 class=\"title-2wm\">微信扫一扫 关注无忧考网</h2>        <div class=\"logo-2wm-box\">            <img src=\"https://img.51test.net/uploadfile/bdstatic/e5bffba78b023b207f4a3e9b1414efb5.jpeg\" alt=\"无忧考网\" width=\"240\" height=\"240\">        </div>    </div>    <a href=\"javascript:;\" class=\"go\"></a></div>\\n<script src=\"//js.51test.net/js_new/lazyimg.js\"></script>\\n<script src=\"//js.51test.net/js_new/baidu_tongji_nclassid.js\"></script><script type=\"text/javascript\" src=\"//js.51test.net/baidu_js_tongji/gaokao.js\"></script>\\n\\n\\n\\n</div></div></body></html>'"
      ]
     },
     "execution_count": 96,
     "metadata": {},
     "output_type": "execute_result"
    }
   ],
   "source": [
    "ht"
   ]
  },
  {
   "cell_type": "code",
   "execution_count": 41,
   "metadata": {
    "collapsed": false
   },
   "outputs": [
    {
     "name": "stdout",
     "output_type": "stream",
     "text": [
      "<a href=\"//list.51test.net/w/?nclassid=1&amp;search_key=满分作文&amp;search_key2=&amp;page=2\" target=\"_blank\">点击进入下一页</a>\n"
     ]
    }
   ],
   "source": [
    "nextpageurl=soup.find('div',class_='showpagelist').find('a')\n",
    "print(nextpageurl)"
   ]
  },
  {
   "cell_type": "code",
   "execution_count": 119,
   "metadata": {
    "collapsed": false
   },
   "outputs": [],
   "source": [
    "# a = driver.find_element_by_id('seee1_sele').send_keys(Keys.BACKSPACE)\n",
    "# li = driver.find_element_by_css_selector('#button-one li:predict.input.value += 1') \n",
    "lis=driver.find_elements_by_css_selector(\"a[onclick^='opendownform']\")\n",
    "\n",
    "# li=driver.find_element_by_css_selector(\"a[onclick^=opendownform('https://user.51test.net/vip/download/word/?id=9870584','【VIP会员特权】Word文档下载')']\")\n",
    "\n",
    "\n",
    "lis[1].click()\n",
    "\n",
    "#弹出页面 user.51test.net/vip/download/word/?id=9870584\n",
    "html = BeautifulSoup(driver.page_source, 'html.parser')\n",
    "time.sleep(3)\n",
    "\n",
    "driver.getWindowHandle()\n"
   ]
  },
  {
   "cell_type": "code",
   "execution_count": 107,
   "metadata": {
    "collapsed": false
   },
   "outputs": [
    {
     "data": {
      "text/plain": [
       "<html lang=\"zh-cn\"><head>\n",
       "<meta content=\"text/html; charset=utf-8\" http-equiv=\"Content-Type\">\n",
       "<title>历年高考满分作文精选【十篇】</title>\n",
       "<meta content=\"高考,历年高考满分作文精选【十篇】\" name=\"keywords\">\n",
       "<meta content=\"历年高考满分作文精选【十篇】 【导语】低分作文都是相似的，满分作文各有各的好处。分析别人的优秀作文，模仿借鉴其写作技巧，逐渐形成自己的风格，是提高作文水平的捷径。 无忧考网整理了历年高考满分作文精选，一起看看吧。【篇一】历年高考满分作文精选　　风物长宜...\" name=\"description\">\n",
       "<meta content=\"历年高考满分作文精选【十篇】\" name=\"searchtitle\">\n",
       "<script src=\"https://hm.baidu.com/hm.js?4bc37c0fd0740e3568ad24d067d8cf92\"></script><script src=\"https://hm.baidu.com/hm.js?f4ae163e87a012d4ab5106f993decb4c\"></script><script src=\"https://hm.baidu.com/hm.js?de8c2eecbf79e2dd1e69fa689d318559\"></script><script src=\"//js.51test.net/js_new/uaredirect.js\"></script>\n",
       "<script>uaredirect(\"//m.51test.net/show/9870584.html\");</script>\n",
       "<meta content=\"no-transform\" http-equiv=\"Cache-Control\">\n",
       "<meta content=\"no-siteapp\" http-equiv=\"Cache-Control\">\n",
       "<meta content=\"format=html5;url=https://m.51test.net/show/9870584.html\" name=\"mobile-agent\">\n",
       "<meta content=\"format=wml;url=https://m.51test.net/show/9870584.html\" name=\"mobile-agent\">\n",
       "<meta content=\"format=xhtml;url=https://m.51test.net/show/9870584.html\" name=\"mobile-agent\">\n",
       "<link href=\"https://m.51test.net/show/9870584.html\" media=\"only screen and (max-width: 640px)\" rel=\"alternate\">\n",
       "<link href=\"https://m.51test.net/show/9870584.html\" rel=\"canonical\">\n",
       "<link href=\"//css.51test.net/news_css/style_show_tuwen.css?v=512\" rel=\"stylesheet\" type=\"text/css\">\n",
       "<script>\n",
       "        str_title = \"历年高考满分作文精选【十篇】\";\n",
       "        str_url = \"gaokao\";\n",
       "        str_nclassname = \"高考\";\n",
       "        str_shortname = \"高考\";\n",
       "        str_classid = \"1\";\n",
       "        str_nclassid = \"1\";\n",
       "        str_articleid = \"9870584\";\n",
       "        str_province = \"满分作文\";\n",
       "        str_province_url = \"\";\n",
       "        str_city = \"\";\n",
       "        str_city_url = \"\";\n",
       "        str_nkey = \"rd\";\n",
       "        str_search_key = \"\";\n",
       "        \n",
       "        str_search_key2 = \"0\";\n",
       "        \n",
       "        is_baiduopen = \"1\";\n",
       "        \n",
       "    </script>\n",
       "<script src=\"//js.51test.net/js_new/func.js\"></script><script src=\"//js.51test.net/js_new/jquery.js\"></script><script src=\"https://apps.bdimg.com/libs/jquery/1.11.3/jquery.min.js\"></script>\n",
       "<script>window.jQuery || document.write('<script src=\"https://js.51test.net/js_new/jquery.min.js\"><///script>')</script>\n",
       "<script src=\"//js.51test.net/js_new/md5.min.js\"></script>\n",
       "<script src=\"//js.51test.net/js_new/layer/layer.min.js\"></script><link href=\"https://js.51test.net/js_new/layer/skin/default/layer.css?v=3.0.3303\" id=\"layuicss-skinlayercss\" rel=\"stylesheet\">\n",
       "<script src=\"//js.51test.net/js_new/kecheng.js\"></script>\n",
       "<script src=\"//js.51test.net/js_new/getcookie.js\"></script>\n",
       "<script src=\"//js.51test.net/js_new/d.js\"></script>\n",
       "</link></link></link></link></meta></meta></meta></meta></meta></meta></meta></meta></meta></head>\n",
       "<body>\n",
       "<script>a(\"show_top\");</script>\n",
       "<div class=\"common-header\">\n",
       "<div class=\"header-box\">\n",
       "<a class=\"header-left\" href=\"/\" target=\"_blank\"></a>\n",
       "<div class=\"header-center\">\n",
       "<a href=\"/\" target=\"_blank\">首页</a> &gt; <a href=\"/gaokao/\" target=\"_blank\">\n",
       "高考</a> &gt; <a href=\"/gaokao/sitemap/\" target=\"_blank\">资源大全</a> &gt;\n",
       "<a href=\"/gaokao/rd/\" target=\"_blank\">热点专题</a>\n",
       "</div>\n",
       "<div class=\"header-txt\">\n",
       "<span>\n",
       "<script src=\"//js.51test.net/js_new/getcookie_login.js\"></script><a class=\"btn write-btn\" href=\"https://user.51test.net/user/relogin/\" target=\"_blank\"><img align=\"absmiddle\" src=\"//img.51test.net/uploadfile/bdstatic/429dbc982449c6f6355156ef6e2090ef.png\" width=\"30px\">VIP<img align=\"absmiddle\" src=\"//img.51test.net/uploadfile/bdstatic/fe7e4abb3b821ba34670ac61e727b81c.png\"/></img></a><a class=\"btn write-btn\" href=\"https://user.51test.net/user/?act=loginout\">退出</a>\n",
       "</span>\n",
       "</div>\n",
       "</div>\n",
       "</div>\n",
       "<div class=\"container\">\n",
       "<div class=\"main-bg\">\n",
       "<div class=\"content-fl\">\n",
       "<div class=\"title\">\n",
       "<h1>\n",
       "历年高考满分作文精选【十篇】\n",
       "</h1>\n",
       "<span class=\"txt\">\n",
       "2020-05-12 17:03:00  \n",
       "无忧考网    \n",
       "[ 字体：<a href=\"javascript:doZoom(14)\"><u>小</u></a> <a href=\"javascript:doZoom(16)\"><u>中</u></a> <a href=\"javascript:doZoom(18)\"><u>大</u></a> ]\n",
       "[ <a href=\"https://m.51test.net/show/9870584.html\" target=\"_blank\">手机版</a> ]\n",
       "[ <a href=\"javascript:void(0);\" onclick=\"opendownform('https://view.51test.net/docview/?id=9870584','Word文档预览')\"><img align=\"absmiddle\" height=\"35\" src=\"https://img.51test.net/uploadfile/bdstatic/5ce2eadeb37fd9d03b4ad44f3c8705c3.png\" width=\"35\"><font style=\"font-weight:bolder;color:#ff7d18;font-size:17px;\">文档预览</font></img></a> ]\n",
       "[ <a href=\"javascript:void(0);\" onclick=\"opendownform('https://user.51test.net/vip/download/word/?id=9870584','【VIP会员特权】Word文档下载')\" style=\"\"><img align=\"absmiddle\" src=\"https://img.51test.net/uploadfile/bdstatic/6fb510a4ca70aa63294eafe32dc2af39.png\"> <font style=\"font-weight:bolder;color:#ff7d18;font-size:17px;\">文档下载</font></img></a> ]\n",
       "</span>\n",
       "</div>\n",
       "<script>a(\"show_title\");</script>\n",
       "<div class=\"content-txt\" id=\"content-txt\">\n",
       "<p>【导语】低分作文都是相似的，满分作文各有各的好处。分析别人的优秀作文，模仿借鉴其写作技巧，逐渐形成自己的风格，是提高作文水平的捷径。 无忧考网整理了历年高考满分作文精选，一起看看吧。</p><p></p><p style=\"text-align: center\"><br> <img src=\"https://img.51test.net/uploadfile/images/template/riji/8.jpg\"><br/></img></br></p><br><p style=\"border-left:5px solid #3991e5;color:#3991e5;background:#f5f7f7;padding-left:10px;line-height:35px;margin-bottom:8px;\"><strong>【篇一】历年高考满分作文精选</strong></p><p></p><p>　　风物长宜放眼量</p><p>　　偏居乡野，自然无法领略世界的风采，唯有于山顶俯视才能纵览山河面貌；身处暗室，自然不会得见璀璨的星空，只有于室外仰观才能欣赏夜空美丽。我们盯着地上的六便士，自然无法看到头顶的月亮。风物长宜放眼量，唯有如此我们才能够找到隐藏于黑暗中的正确的道路。</p><p>　　二战时的那位统计专家力排众议，加固机身中弹少的部位，最终成功提高了安全性能。而其他人仅看到了问题的表象未能彻底地找出问题的关键。只有那位专家意识到了“幸存者偏差”，提出了正确的方案。</p><p>　　风物长宜放眼量，目光不限于局部。“*者迷，旁观者清”，*者只看到了问题的局部，而旁观者却能看到大局。孰迷孰清自不必多说。赤壁之战中的曹操，用铁索连环绑住战船，颇为自得。然而，他只是看到铁索连环能解决士兵晕船问题，却没意识到火攻的后果。最终，烈火趁着东风，燃尽了他一统天下的梦。曹操目光限于局部，思想片面，正是他未能完整地考虑自己的计策，才招致了如此大败。若是他的目光全面，又怎会败地如此凄惨？</p><p>　　风物长宜放眼量，想法不惑于表象。一切事物只有仔细分析后才能够看到实质。古之仲永天资卓绝惫懒懈怠终泯然成众人，今有马云求学坎坷不懈奋斗一跃为游龙。仲永仗着天赋目光短浅不学习，最终只能白白浪费出人的天分。但是马云目光长远积极好学，最终成为中国电商领军人物。若是目光短浅，被表象迷惑，最终也只会渐渐沉沦，唯有思想不惑于表象，才能真正抓住事物本质。</p><p>　　风物长宜放眼量，思维不随于大流。人生于天地之间，一味跟随大流，人云亦云，难免庸庸碌碌。另辟蹊径才能走出不一样的精彩，若是让潮流冲散了自己的见解，又是何等的损失。汨罗江涛涛江水，澎湃着千年的执着。屈原的美政理念不被众人赞同，但他却没有随于大流放弃自己的思想。他长叹：“举世皆浊我独清，世人皆醉我独醒。”宁死不折自己的思想。虽说他被江水吞噬，但他也让江水澎湃千年、滋养千年。</p><p>　　黄尘清水三山下，更变千年如走马。岁月更迭，改变了太多，但不变的却是我们只有做到“风物长宜放眼量”才能正确地处理这纷杂尘世的每件事。</p><p></p><p style=\"border-left:5px solid #3991e5;color:#3991e5;background:#f5f7f7;padding-left:10px;line-height:35px;margin-bottom:8px;\"><strong>【篇二】历年高考满分作文精选</strong></p><p></p><p>　　拂去融雪，细嗅蔷薇</p><p>　　如朗月朝花，深潭微澜，生活虽灿若星辰，但透明雪白的外表下也藏匿着我们容易忽视的污垢瑕疵，只有勇敢地伸出双手拂去表面点缀的银银细雪，方可看到本质，细嗅雪后绵延的蔷薇芬芳。</p><p>　　面对弹孔斑驳的的战机残骸，专家能够排除干扰，看清问题的根源所在，从而拯救了成千上万飞行员的生命；在我们的生活中又何尝缺少这样蒙蔽我们双眼的“弹孔”呢？</p><p>　　拂去表面的雪华需要时刻以史为鉴。“通往真理的路上荆棘遍布，迷雾丛生。”亚里士多德如是说。诚如斯言，曾一度掀起热潮的摩拜单车仿佛让我们感受到“自行车王国”的回归，在众人连声叫好的迷雾之中，不少阴暗却在萌生，不断频发的安全事故与道德丑闻让我们逐渐揭开了那表层的银装，看到本质。虽然摩拜单车已被叫停，但它仍然时刻警醒着我们：潮流不是通往真理的涓涓细流，盲从是埋没正确航向的凶险巨浪</p><p>　　被鲜艳光辉的外表迷惑使我们难以看到本质，且需心怀主张。浅栽蔷薇一束，细嗅万季芬芳，信赖自己内心的准则，让问题迎刃而解，让真理之花常开不败。</p><p>　　寒门出贵子一直是中国许多贫苦家庭所坚信的一缕清光，有人甚至因此而不思进取，把一切都托付给自己的下一代身上；这显然是荒谬的。一直被誉为“寒门榜样”的王庆根，从小生活在贫困的农村，靠自己的不懈努力斩获了奥林匹克化学金牌，并有了成功的事业，然而他却在年仅三十岁就选择了真相，这让我们深刻认识到贫困对孩子从小造成的心理创伤，从而更重视对孩子的素质教育。除此之外，“毒鸡汤”，“拒绝佛系派，丧文化”等名词的出现也表明我们正在拥有自己的主见，并敢于为之坚持。这无疑是可贵和值得我们发扬的，心怀主见才能拂冬去雪，拨雾见月明。</p><p>　　除此之外，善于把握机遇也是一束珍贵的鲜花。就像真相《阿甘正传》中这样一句经典台词：“生活就像一块巧克力，味道往往出人意料。”</p><p>　　改变我们一生的宝藏和机遇就可能藏在事物与问题的本质间。腾讯创始人马化腾当初选择了不被世人看好的通信领域，却建立了时人未曾想到的电子帝国；马云看到了信息产业的无限商机，才有了阿里巴巴得享誉世界......倘若他们当初没有看到现象中的本质，他们也许不会有今天的成就与辉煌。拂去覆盖本质的深雪，才能发现泥土中的钻石，欣赏到初春里热烈绽放的那抹蔷薇的轻红。</p><p>　　细嗅蔷薇之芳，求索真理之源。当代的我们正赶上时代的转折点，是顺应潮流，还是忠于本心？命运与选择的帆在我们手中，只有我们学会从融雪中看到繁花，从现象中看到本质，才能实现个人乃至中国梦的姹紫嫣红！</p><p>　　迷雾遮月终飘去，雪飞花现彰我心！</p><p></p><p style=\"border-left:5px solid #3991e5;color:#3991e5;background:#f5f7f7;padding-left:10px;line-height:35px;margin-bottom:8px;\"><strong>【篇三】历年高考满分作文精选</strong></p><p></p><p>　　不做别人思想的跑马场</p><p>　　周国平认为，每个人都睁着眼睛，但不等于每个人都在看世界，许多人几乎不用自己的眼睛看，他们只听别人说，他们看到的世界永远是别人说的样子。这启发我们，要关注自我人生的品质。只有学会独立思考，让自我的灵魂清醒，才能洞察问题，丰盈人生。</p><p>　　二战时期，面对战斗力的加固防护问题，仅有一位专家力排众议，说出了自己不同的看法。在所有人都支持在机身中弹多处加强防护时，只有那位专家坚持认为应该注意防护弹痕少的地方。正是他于表象思维的大潮中独立思考得来的真知灼见，挽救了成千上万飞行员的生命。学会独立思考，不随波逐流，不做别人思想的跑马场，自然成就自我生存意义，彰显自我生存智慧。</p><p>　　我思，不怠惰。在互联网时代，大数据大信息如浪潮般扑面而来。然而，互联网并没有改变人们思考的方式，而是改变了人们获取信息的方式。因而，就有一些人满足于当“传声筒”“复读机”，不愿思考；满足于“浅阅读”“浅吸收”，不会思考；满足于“囫囵吞枣”“一知半解”，不善思考。诚然，即使是网络将信息摆在我们面前，我们也要审视它们的真实与否，全不能因此而怠惰。</p><p>　　我思，不盲从。柏拉图曾说：”我爱我师，但我更爱真理。“他不像如今困在学校中的学生，只知道一昧的听从于老师的教学，毫无一丝自己的思考。他懂得独立思考，他有灵魂上的清醒。试想，如果个人或族群，不善于独立思考、缺少自省精神，只知道人云亦云，麻木盲从，那么，便只能成为别人精彩人生的可怜陪衬。</p><p>　　我思，方有所获。法国科学家、哲学家笛卡尔在朦胧的睡梦中醒来后，仿佛在梦中得到什么启示般，在纸上写下几个字——我思故我在。他怀疑一切事物的存在，甚至于自己的存在，却在这一天如梦初醒地道破天机：思考着的人才是活着的。他在思索中获得了举世瞩目的成就。</p><p>　　我就是我，是颜色不一样的烟火。每个人都有着独一无二的灵魂，每个人都应具备独立思考的能力。不避重就轻，不随波逐流，不做别人思想的跑马场。以独特的眼光去发展，我们，在路上。</p><p></p><p style=\"border-left:5px solid #3991e5;color:#3991e5;background:#f5f7f7;padding-left:10px;line-height:35px;margin-bottom:8px;\"><strong>【篇四】历年高考满分作文精选</strong></p><p></p><p>　　 劳动创造美好未来</p><p>　　——在复兴中学“热爱劳动，从我做起”主题教育大会上的演讲</p><p>　　尊敬的学校领导、亲爱的老师、同学们：</p><p>　　大家好！</p><p>　　土地是财富之母，勤劳是财富之父。这是千百年来人类社会在发展过程中所形成的共识。恩格斯也早已明确论断“劳动创造了人本身”。</p><p>　　的确，我们人类的双手，人类的语言、人类的智慧等等可以区别于其他动物的一切，无一不是劳动的贡献。</p><p>　　也可以说今天人类所拥有的一切物质和精神的文明成果无一不是劳动所创造，因此，我们人类的美好未来也毫无疑问地必须靠劳动来创造。习近平总书记也教导我们“幸福都是奋斗出来的”。</p><p>　　热爱劳动是我们中华民族的传统美德。我们历来对于那些四体不勤，五谷不分，只想不劳而获的人都是嗤之以鼻的。因此，哪怕是家境再好的人家也都会知道“坐吃山空”和“富不过三代”的古训，有道是“忧劳可以兴国，逸豫可以亡身”。</p><p>　　但是，改革开放四十多年来，几代人的不懈奋斗，让我们的国家从站起来，到富起来，并逐渐强起来，无论是国家的面貌还是普通老百姓的生活也都有了天翻地覆的变化，于是有些人开始厌恶劳动，不尊重劳动，甚至看不起劳动者。这是一种十分危险现象。对此，作为新时代的青年，对于劳动应该有自己正确的认识。</p><p>　　第一、劳动精神最光荣。我们应该感谢先辈，是用他们用劳动创造了今天的一切，但是我们不能就此止步，作为新时代的青年一代，应该有自己的使命和担当，那就是在前辈们奠定的基础上，用自己的劳动创造自己的新生活，并为子孙后代奠定更坚实的发展基础。惟其如此，我们才能说自己是光荣的劳动者，我们才能上不愧祖先，下不愧后代。</p><p>　　第二、劳动分工无贵贱。劳动只有分工的不同，没有高低贵贱之分。人生而平等，但是由于发展基础不同，知识水平不一，兴趣爱好有别，所以社会分工会不同。国家需要两弹元勋钱学森，也需要掏粪工人时传祥；需要航天英雄杨利伟，也需要守岛赤子王继才……正因为如此，作为一国元首，习近平主席在今年的新年致辞中就十分接地气地向包括快递小哥、环卫工人、出租车司机在内的千千万万劳动者致敬，因为正是他们，创造了和创造着我们美好的一切。</p><p>　　第三、劳动形式需发展。人类社会发展的历史就是一部后人站在前人肩膀上不断攀登的历史。从刀耕火种的原始农业时代，到现在的信息化时代，劳动创造美好生活的实质并没有改变，但是人类的劳动形式已经不可同日而语。今天或许大多数繁重和琐碎的体力工作会被机器和人工智能所取代，但那不正是由于我们的劳动创造了机器和人工智能吗？</p><p>　　从五四运动开始的100年，特别是改革开放40多年来，几代人高举科学救国的旗帜，奋发图强，创造了人民共和国今日的辉煌，但是一代人应有一代人的使命和担当。大家知道，就在昨天国家工信部正式颁发了5G商用牌照，这意味着新一轮的信息技术革命和社会大变革已经开始，我们既面临着无限的发展机遇，也面临着无限的挑战。</p><p>　　同学们，“热爱劳动，从我做起”。让我们在前辈们奠定的基础上，勤奋学习，掌握现代科技知识，增强我们劳动的本领，高举科技强国的旗帜，用我们的勤劳和智慧创造美好的未来，为实现复兴中华的伟大梦想而努力奋斗吧！</p><p>　　我的演讲完毕，谢谢大家！<br/></p><p style=\"text-align: center\"><br> <img src=\"https://img.51test.net/uploadfile/images/template/xiaoxuezuowen/2.jpg\"><br/></img></br></p><br><p style=\"border-left:5px solid #3991e5;color:#3991e5;background:#f5f7f7;padding-left:10px;line-height:35px;margin-bottom:8px;\"><strong>【篇五】历年高考满分作文精选</strong></p><p></p><p>　　 复兴之梦梦在不息</p><p>　　——在复兴中学以“热爱劳动，从我做起”主题的演讲稿</p><p>　　“谈，大门敞开；打，奉陪到底”。2019年5月13日晚的央视新闻联播，引起了全国上下轰动。它强有力地说明了“积贫积弱的中国早已成为过去式，新中国已经走在强国复兴的大道上”。</p><p>　　面对强大的祖国，我们确实有理由傲骄。但正如冰心所说：“青年人，只是回顾么？这世界是不住的前进呵。”在兴奋之余，作为青年一代的我们，更应该增强责任感和使命感，因为中华复兴，理应驰而不息。</p><p>　　纵观历史的每一次进步，无不与劳动息息相关。燧人氏钻木取火，鲁班发明锯子，毕昇发明活字印刷，蔡伦发明造纸，袁隆平发明杂交水稻……“民生在勤，勤则不匮”，是劳动改变了民生，推动了社会进步。</p><p>　　但随着科技的不断进步，不少人却对我国的未来表示出担忧。这是杞人忧天吗？当然不是。让我们看看眼前的事实吧，城区学生葱和大蒜不分倒也可以理解，因为城市寸土寸金，没给他们提供亲身耕作的土壤。但即便是一些农村地区的学子，他们也是四体不勤五谷不分，寒门也养“富二代”现象并不少见。</p><p>　　也许部分家长会说：“孩子学习那么忙，劳动就交给我们吧”；也许不少学子也会说；“科技进步这么快，劳动的事未来由人工智能完成就好”。然而事实真是这样吗？清代魏源说过，“披五岳之图，以为知山，不如樵夫之一足；谈沧溟之广，以为知海，不如估客之一瞥；疏八珍之谱，以为知味，不如庖丁之一啜”。实践是获得真知的途径，没有劳动与生活的应用，书本知识也只能是纸上谈兵。同时人工智能只是科技的载体，人是其中的关键。可以说，没有劳动就没有人类的发展进步。</p><p>　　因此，在今天的演讲活动中，我想向同学们以下倡议：</p><p>　　一是要树立“我以劳动为美”的观念。“士农工商”，农工在四种职业中有着自己的重要位置。可是现在不少人却总认为“农不如工，工不如商”，认为不能为官就要行商，当农民与工人总是不体面的。于是就出现了这么一种怪现象，一方面大量大学毕业生毕业回家啃老，另一方面大量企业工厂却闹起了人才荒。“一屋不少，何以扫天下”，殊不知，古长城、兵马俑、故宫角楼……无一不是农工的杰作，无一不是工匠精神的体现。</p><p>　　二是要多点研学旅行少点闭门修书。近年来，国家教育部门出台了关于中小学生研学旅行的文件，学校也倡议组织大家参加了一些研学旅行活动。这样的机关大家一定要珍惜，并让自己投身其中。“行万里路，读万卷书”，生活除了眼前的苟且，还必须得有诗和远方。</p><p>　　三是要拒绝“佛系”多点“斜杠”。“佛系”青年不拿不抢不求输赢，我不赞成；“斜杠”青年选择拥有多重职业多重身份的多元生活方式，我很推崇。但现在不少青年人喜欢“葛优躺”，劲吹“佛系风”，殊不知“每一个不曾起舞的日子，都是对生命的辜负”，我们理应让自己的生活多点体验多点实践。技多不压身，毛泽东不仅是书法家、诗人，还是新中国伟大的开拓者和奠基人……</p><p>　　“不争寸阴于今日，必留遗憾于明朝。”大国呼唤工匠精神，中华复兴理当驰而不息。为着后来的回忆，在座的青年朋友们，让我们小心着意地描写现在的图画吧。</p><p></p><p style=\"border-left:5px solid #3991e5;color:#3991e5;background:#f5f7f7;padding-left:10px;line-height:35px;margin-bottom:8px;\"><strong>【篇六】历年高考满分作文精选</strong></p><p></p><p>　　 祖国到处都是“诗和远方”</p><p>　　黎明驱走了黑暗，日出带来了光芒，祖国的光辉好似阳光，照亮了我们的前程，指明了我们前进的方向，带领全国各族人民从贫穷走向富裕，从胜利走向辉煌。</p><p>　　中华人民共和国国旗旗面为红色象征革命。旗上的五颗五角星及其相互关系象征共产党领导下的革命人民大团结。星用黄色是为着在红地上显出光明，四颗小五角星各有一角正对着大星的中心点，表示围绕着一个中心而团结。每逢国庆，去*广场看升国旗是无数人心中的梦想。因此，利用国庆长假去北京游玩的人们，通常会赶早来到*广场看国旗班的军人升旗，以表达对祖国的无比热爱，看着五星红旗徐徐升起，心中的激动无以言表。每年10月1日是我国的国庆节，我国于1999年修订发布《全国年节及纪念日放假办法》，将国庆节与相邻的周六、日组合为7天的国庆长假，被称之为“国庆黄金周”，用放假的形式，让老百姓共同感受国庆的欢乐。</p><p>　　回首这70年，中华人民走得每一步都是步履蹒跚，每一步都付出了巨大牺牲。这70年，中华人民永远忘不了，抗美援朝战场上精神与钢铁的较量；忘不了，我驻南斯拉夫大使馆的悲愤与耻辱；忘不了，南沙群岛护我主权时对手的无耻与卑劣；这牺牲包含了所有的付出，既有先烈的浴血、也有我辈的拼搏，所有的一切，都离不开大家的团结奋进，离不开大家不惧牺牲，勇往直前的精神。</p><p>　　但是如今中国经过几十年来的艰苦建设，已取得了“乘长风，破万里浪”的迅猛发展：《辉煌中国》之《圆梦工程》透过港珠澳大桥、胡麻岭隧道、郑万铁路、复兴号、上海洋山港自动化码头、中国移动互联网等一个个超级工程，领略五年来一张张中国基础建设的大网，如何编织起人民走向幸福、美好的希望版图，托举起中华民族伟大复兴的中国梦。</p><p>　　无论你的家乡在哪里？无论你最想去到哪个地方？祖国到处都是“诗和远方”。我们牢记着祖国的风风雨雨，也奋力创造更美好的生活！</p><p></p><p style=\"border-left:5px solid #3991e5;color:#3991e5;background:#f5f7f7;padding-left:10px;line-height:35px;margin-bottom:8px;\"><strong>【篇七】历年高考满分作文精选</strong></p><p></p><p>　　翻页新世界</p><p>　　前方高山耸立，但翻山越岭，是优美的风景，天上乌云翻滚，但越过乌云，是朗朗青天，拨开表象的迷雾，真相就会浮现出来，就如二战期间战斗机的防护，许多人认为加固应该加在弹痕多的地方，但实际上应该加在弹痕少的地方，因为加在弹痕多的地方战斗机也不一定会幸存而归。</p><p>　　世界上最可怕的事情，莫过于有眼睛而看不到真相，我们在研究问题时总是着重于表象，却未曾注意到事情的本质，结果发现表象与结果大相径庭。对此，英国的探险家说：“当你学会透过事物的表面看到其本质的时候，任何的困难与挫折，在你面前也不值得一提了。”</p><p>　　因此，我们应该吸取教训，改变看问题的方式“高度决定视野”，用全面发展的眼光看问题，就能把事情做到极致，几年前，当“宅”字成为网上盛极一时的热词时，大多数网友也就是把它当作一个热词，没注意到它背后的东西，而阿里巴巴的创始人马云从高处看待这些事，发现了不一样的东西：“懒”即是“宅”的根本原因。于是他就开始利用现代人的惰性，开创了网购的新时代，他因此也成了家喻户晓的传奇。</p><p>　　“角度改变观念”，换个角度看问题，结果就很不一样。19世纪在人们研究电与磁的关系毫无头绪时，英国科学家法拉第解放思想，找到了问题的关键所在，意识到这是一种非恒定的暂态效应，与传统的物理定律有所区别。就这样他发现了电磁感应定律。正是因为他站在与常人不同的角度看问题才揭示了电与磁之间的相互联系，也就有了我们现在的发电机。</p><p>　　要突破思维的枷锁，还需打破惯性思维。二战时期的战斗机防护的结果带来的偏差正是因为大多数人关注的重点没在问题本质上，没有打破惯性思维。欧洲17世纪最伟大的画家之一伦勃朗，在画价大涨时，在人们纷纷出价卖画之际，他突破惯性思维，拒绝售画，抽离尘世纷扰，潜心研究创作，致力于打造精品。当画价风浪平息后，他的画价值也变的更高了，画画技巧也得到了提升，令人望其项背。正是因为他敢于突破惯性思维，才能获得如此辉煌的成就。</p><p>　　为什么人们在认识问题时总会有如此大的偏差呢，首先很有可能是因为知识掌握不全，不牢固，“书读百遍，其义自见”，只有掌握了牢固的知识才对表层问题有独到的见解，这就需要我们不断地去学习；其次是要进行深入的思考，现在的学生见到数理化就如同见天敌，不愿意进行深入的思考和研究，于是就放弃，因此认识的偏差在人群中也就可见一斑。</p><p>　　正确认识问题，方可大道直行，收获人生精彩，让人生从云卷云舒中度过，与花开花落里微笑，翻页腐朽一卷书，观一片新世界。</p><p></p><p style=\"border-left:5px solid #3991e5;color:#3991e5;background:#f5f7f7;padding-left:10px;line-height:35px;margin-bottom:8px;\"><strong>【篇八】历年高考满分作文精选</strong></p><p></p><p>　　初心不改奔流到海</p><p>　　有一条江，因其拐了两弯，一折二折之下，便叫了之江；口耳相传之后，便有了浙江。</p><p>　　燕赵、齐鲁、巴蜀、江东、陇西、岭南、漠北……或山或水，或江或湖，成就了中华版图。</p><p>　　而浙江，却始终以一种进取的姿态，刻画着自已在中华大地上的维度。</p><p>　　97年前的这里，浩渺的烟波南湖之上，一群书生围坐在船中，未沉迷于眼前如诗如画的风景，却酝酿着一场改天换地的风雷。</p><p>　　57年前的这里，一个名叫义乌的火车小站停靠点上，在“鸡毛换糖”的此起彼伏声中，却孕育了日后一个叫物流的时代。</p><p>　　37年前的这里，瓯江之畔，一场大火烧醒了诸多皮鞋小作坊的业主，明白了市场规则下质量和契约究竟意味着什么。</p><p>　　17年前的这里，一个颜值不高的小个子，正忙活着他与四十大盗的梦想。</p><p>　　7年前的这里，“绿水青山就是金山银山”的发展理念，已悄然在百姓心里生根发芽，浸润着血脉的生生不息……</p><p>　　而这之江的水，无论风云如何变幻，始终奔流不息！</p><p>　　山水烘托了人杰，人杰也烛亮了山水！一个人的坚持叫操守，一群人的坚持叫法则，若是再加上时间的演化和水土的滋养，便成了文化！</p><p>　　“负箧曳屣，行深山巨谷中……足肤皲裂而不知。”大儒宋濂的话语，若投映到浙商“四千精神”的旅途，相必也是别有一番滋味。</p><p>　　“身在夜郎家万里，五云天北是神州”，阳明先生的词作，若辅以船王包玉刚的言行，我们不难发现，那一弯之江水，依旧激荡在你我的心头，至今难忘。</p><p>　　于是，便有了李书福痛斥电动汽车“伪制造”的激昂；便有了马云关于中美贸易争端的铿锵；更不乏董卿“苔米花虽小，也学牡丹开”的情怀。</p><p>　　不知不觉，光阴轮转。</p><p>　　红船，一直停在那里，络绎不绝的人群，用瞻仰的目光将它链接到了心中，化作信仰。</p><p>　　当年换糖的老汉，早已铸成了铜雕，成为城市的地标；温商，作为浙商的一个支群，继续着市场肌体“催化剂”的角色。</p><p>　　国人在接受互联网思维的同时，更以欣赏的眼光致敬阿里巴巴，领跑者、创客、追梦人……顺应“互联网+”风起云涌的新趋势，雨后春笋般冒出的“众创空间”让浙江年轻人如沐春风，如鱼得水。</p><p>　　“两山”理论践行至今，政务生态优化，自然生态改善，浙江这棵梧桐树，何愁唤不来金凤凰？只需看一看身边的阳光、空气和水，你就会豁然开朗。</p><p>　　也许是因为身处江南，那一湾之江水，更多的时候，以一种温婉文静的面目存在。</p><p>　　但作为其中的一滴，我深知她的澎湃，虽一折再折，却初心不改，奔流到海！</p><p></p><p style=\"border-left:5px solid #3991e5;color:#3991e5;background:#f5f7f7;padding-left:10px;line-height:35px;margin-bottom:8px;\"><strong>【篇九】历年高考满分作文精选</strong></p><p></p><p>　　 传承浙江精神</p><p>　　作为浙江学子，我将以今之所学、日后之所学，为浙江之建设投入自己的力量，让浙江精神代代相传。</p><p>　　在浙江这块物阜民丰的土地上，历所形的经世致用、知行合一的思想仍激励着我们，并融入今日的浙江精神中，是浙江的瑰宝。</p><p>　　传承浙江文化是我们的责任。茅盾盾、鲁迅，那些文豪们毕其一生为我们留下了许多有力量的作品，我们又怎能不去接过这传承文化的接力棒？我们要有对文化的信仰，并用这信仰支撑我们日后的学习。</p><p>　　今日浙江之企业也秉承着浙江精神。杭州娃哈哈有限公司，从一个校办工厂到饮料巨头，创始人宗庆后表示将会“主动迎接消费升级，饮料生产由安全向健康开拓，重点向中医食疗、生物工程突破”，这种干在实处、勇立潮头的企业精神带动了企业的发展，也是浙江发展的重要动力。我们将来若是要创业，也该如娃哈哈公司这般，将浙江精神赋于实践中，承担着对社会的责任。</p><p>　　浙江精神，早已融入浙江人的生活中。无论是个人或是企业，抑或是立足于浙江这一大省，都需要我们为浙江的建设贡献自己的一份力。做自己力所能及的事情，努力去改变小环境，就是在承担对于浙江的责任。</p><p>　　近年来，我们能看到浙江的改变，“五水共治”让浙江的河流变得清澈，“特色小镇”的建设赋于浙江文化气味，“世界互联网大会”的召开拉近浙江与世界的距离。我为生为一名浙江人而感到自豪，也感慨于这些让人欣喜的变化。浙江精神融入浙江的发展中，给我们带来惊喜，也让我们感受到责任。</p><p>　　梁启超先生曾说过：“人须知负责任之苦处，才能知道尽责任之乐趣。”而我为浙江之未来，又怎能不担负起这个社会的责任？当传承浙江精神的接力棒传到我们手中，我们又能书写哪些关于我们的浙江传奇？</p><p>　　而传承浙江精神，还需要我们不断学习科学文化知识，不断加加强对于浙江的责任意识，不断去关注浙江的近况。唯有如此，我们们才能自信地书写我们的浙江故事。</p><p>　　让浙江精神融于我们的血脉中。<br/></p><p style=\"text-align: center\"><br> <img src=\"https://img.51test.net/uploadfile/images/template/xindetihui/3.jpg\"><br/></img></br></p><br><p style=\"border-left:5px solid #3991e5;color:#3991e5;background:#f5f7f7;padding-left:10px;line-height:35px;margin-bottom:8px;\"><strong>【篇十】历年高考满分作文精选</strong></p><p></p><p>　　文明韧性的光辉</p><p>　　祖先造字之初，便深谙生活的玩味。单看“韧”字的构成，便给人一种难以言表的折磨与难以挣脱之感。或许与“韧”字相关的，都是需要坚强的意志以及不屈不挠的抗争——无论与外人或是于自己——才能实现，做到尽善尽美。</p><p>　　而韧性，在我看来，有是中国人深入骨髓的性情。中国历史源远流长而且内涵丰富，提到我们的文明，绝不仅仅指那些可知可感的宏伟建筑或是遗留下来的璀璨的文艺瑰宝，最值得为人道也的，是我们的民族性格——敦厚、勤劳、善良、奋进，最重要的是，百折不屈的韧性。我们经历了太多的风风雨雨，我不敢想象，在元朝骑兵已经问鼎中原，对汉文化进行“蚕食”时，那些汉文化的捍卫者们，是忍耐着多大的痛苦与不甘，但为了文化的传承而忍辱负重，是中华民族的坚持，使得我们的文化没有被侵蚀、被毁灭；我更是为近代中国被西方列强侵略之时，即便已经濒临绝望与崩溃，但仍可以重新起立，复兴中国的精神与毅力所动容。很多西方人曾用“中国人没有信仰”为名对我们大肆批驳，但事实上，我们可以铿锵有力地回复他们——我们没有统一的宗教，但中华文明是我们共同的心理纽带，这种文明的指引，就是将我们中华民族凝聚的最崇高的信仰。作为文明延续至今未曾中断的四大文明古国之一，中国值得这份殊荣。</p><p>　　几千载漫漫风雨征程，中华民族逆风前行，在无数外力以及内我的挑战与威胁中，保持中国人的品格、文化与意志岿然不动——这就是我们的韧性的光辉。</p><p>　　除了历史沧桑变迁中中国于世界所展现的坚韧，于中华民族的内部性格而言，这份韧性更是在民族发展中最本质的精神基石。若勇敢被定义为抵御外部困难时的不放弃与勇于面对，那韧性较之更为伟大的是对个人所长期坚持的理念的否定与价值观的重塑。这可能再外在看来是一种对过去的放弃与抛弃，看似微不足道甚至令人惋惜，但事实上，敢于直面自身的缺陷、并且敢于动摇自身以换取更强的生命力以及社会更加积极正向的发展，这份心，就是我所赞颂的“韧”。我们不能否认，世界是不断发展的，我们只有与时俱进才能先于时代而不是被时代的洪流裹挟或吞没。</p><p>　　我景仰那些先哲——商鞅、王安石等变革家，都是在向已现颓势却深入人心的制度与社会生活方式宣战，与他们相对抗的，不仅仅是利益的相关者，更是如大山般沉重的陈旧观念。而现代的重大改革，更是展现了中国人和中华民族性格中的韧性——我们可以改变、甚至可以*，但最本质的精髓始终是中华民族的璀璨文明，目的也统一于中国社会的蓬勃发展。如同邓小平的“改革开放”的伟大决策，是他顶着巨大的压力所作，市场化无疑于社会主义而言是不可相容的，但是为了中国人民的幸福、中国经济的腾飞，他和他们所有人，愿意承受这份风险。他们相信，这是巨大而改变，但一定不会带来毁灭。而我们勇毅坚韧的中国人，更是逐渐适应了这样翻天覆地的变化，用自己的奋斗，构建了更美好的家园——唯有这份韧性，才能如此处变不惊，我们的国家才会走向复兴。</p><p>　　韧性于中国，像是一种与生俱来又后天不断坚定的信念。正因这种坚韧不屈，我们的文化才能至今愈加灿烂；正是这种柔中带刚，让我们的人格完善而强大，得以构成更加美好的家园。</p><p></p>\n",
       "<a class=\"word_download_tip\" href=\"javascript:void(0);\" onclick=\"opendownform('https://user.51test.net/vip/download/word/?id=9870584','【VIP会员特权】Word文档下载')\">\n",
       "<img class=\"word_download_tip_pic\" src=\"https://img.51test.net/uploadfile/bdstatic/2dbaa697a8fd0ea2d7955cb34c1cc94e.jpeg\">\n",
       "<div class=\"word_download_tip_msg\">\n",
       "<div class=\"word_download_tip_title\" style=\"text-decoration:none;\">历年高考满分作文精选【十篇】.doc</div>\n",
       "<div class=\"word_download_tip_tip\">下载Word文档到电脑，方便收藏和打印[全文共11687字]</div>\n",
       "<div class=\"word_download_tip_tj\">\n",
       "<span>编辑推荐：</span>\n",
       "<img src=\"https://img.51test.net/uploadfile/bdstatic/b1d8212fa9a8d2395f6d2789815be907.png\">\n",
       "<img src=\"https://img.51test.net/uploadfile/bdstatic/b1d8212fa9a8d2395f6d2789815be907.png\">\n",
       "<img src=\"https://img.51test.net/uploadfile/bdstatic/b1d8212fa9a8d2395f6d2789815be907.png\">\n",
       "<img src=\"https://img.51test.net/uploadfile/bdstatic/b1d8212fa9a8d2395f6d2789815be907.png\">\n",
       "<img src=\"https://img.51test.net/uploadfile/bdstatic/b1d8212fa9a8d2395f6d2789815be907.png\">\n",
       "</img></img></img></img></img></div>\n",
       "</div>\n",
       "<div class=\"word_download_tip_btn\">\n",
       "<div class=\"word_btn_right\">\n",
       "<div>下载Word文档</div>\n",
       "</div>\n",
       "</div>\n",
       "</img></a>\n",
       "</br></br></br></div>\n",
       "<script>a(\"show_conten1\");</script>\n",
       "<div class=\"clear-both\"></div>\n",
       "<div class=\"Relevant\">\n",
       "<div class=\"title-r\"><span>相关推荐</span></div>\n",
       "<ul>\n",
       "<li class=\"tuwen\">\n",
       "<h2><a href=\"/show/9870584.html\" target=\"_blank\">历年高考满分作文精选【十篇】</a></h2>\n",
       "<div class=\"motu\">\n",
       "<span class=\"show_img\"><a href=\"/show/9870584.html\" target=\"_blank\"><img alt=\"历年高考满分作文精选【十篇】\" src=\"//img.51test.net/uploadfile/images/template/riji/8.jpg\"/></a></span>\n",
       "<span class=\"miaoshu2\"><a href=\"/show/9870584.html\" target=\"_blank\">\n",
       "【导语】低分作文都是相似的，满分作文各有各的好处。分析别人的优秀作文，模仿借鉴其写作技巧，逐渐形成自己的风格，是提高作文水平的捷径。 无忧考网整理了历年高考满分作文精选，一起看看吧。【篇一】历年高考满分作文精选风物长宜放眼量偏居乡野，自然无法...<span>2020-05-12</span></a>\n",
       "</span>\n",
       "</div>\n",
       "</li>\n",
       "<li class=\"tuwen\">\n",
       "<h2><a href=\"/show/9869206.html\" target=\"_blank\">高考满分作文范文800字：我想握紧你的手</a></h2>\n",
       "<div class=\"motu\">\n",
       "<span class=\"show_img\"><a href=\"/show/9869206.html\" target=\"_blank\"><img alt=\"高考满分作文范文800字：我想握紧你的手\" data-src=\"//img.51test.net/uploadfile/images/default/yingyukouyu/2.jpg\" src=\"//img.51test.net/img_default_list.png\"/></a></span>\n",
       "<span class=\"miaoshu2\"><a href=\"/show/9869206.html\" target=\"_blank\">\n",
       "【导语】对于同学们来说，想要写一篇高质量的作文，可不是那么简单的事，更多的时候，大家的作文不是语句不通、不会表达、词不达意、无话可说、就是句型篇章错乱，那么如何克服这些困难，写出一篇高分作文呢？无忧考网今天给大家整理了高考满分作文范文800字，...<span>2020-05-11</span></a>\n",
       "</span>\n",
       "</div>\n",
       "</li>\n",
       "<li class=\"tuwen\">\n",
       "<h2><a href=\"/show/9868127.html\" target=\"_blank\">2020年高考满分作文范文900字三篇</a></h2>\n",
       "<div class=\"motu\">\n",
       "<span class=\"show_img\"><a href=\"/show/9868127.html\" target=\"_blank\"><img alt=\"2020年高考满分作文范文900字三篇\" data-src=\"//img.51test.net/uploadfile/images/default/59.jpg\" src=\"//img.51test.net/img_default_list.png\"/></a></span>\n",
       "<span class=\"miaoshu2\"><a href=\"/show/9868127.html\" target=\"_blank\">\n",
       "【导语】目前考场作文写作的最大问题是缺少深度，突破这一瓶颈的一大关键是提高素材运用的准确性。我肯可以多看下别人的高考优秀作文是怎么做到这些的。下面是无忧考网给大家整理的2020年高考满分作文范文900字，供大家参阅!【篇一】2020年高考满分作文范文90...<span>2020-05-09</span></a>\n",
       "</span>\n",
       "</div>\n",
       "</li>\n",
       "<li class=\"tuwen\">\n",
       "<h2><a href=\"/show/9865921.html\" target=\"_blank\">2020高考满分作文范文800字：独立自主，人生成长的基石</a></h2>\n",
       "<div class=\"motu\">\n",
       "<span class=\"show_img\"><a href=\"/show/9865921.html\" target=\"_blank\"><img alt=\"2020高考满分作文范文800字：独立自主，人生成长的基石\" data-src=\"//img.51test.net/uploadfile/images/default/gaokaolizhi/05.jpg\" src=\"//img.51test.net/img_default_list.png\"/></a></span>\n",
       "<span class=\"miaoshu2\"><a href=\"/show/9865921.html\" target=\"_blank\">\n",
       "【导语】作文是语文考试的重中之重，想要写出好的作文，可以多看一些满分作文，灵活运用来提升自己的作文分值。无忧考网为大家带来2020高考满分作文范文800字！我们来看一看吧！【篇一】2020高考满分作文范文800字：独立自主，人生成长的基石 自立是船，载着你...<span>2020-05-06</span></a>\n",
       "</span>\n",
       "</div>\n",
       "</li>\n",
       "<li class=\"tuwen\">\n",
       "<h2><a href=\"/show/9865779.html\" target=\"_blank\">2020高考满分作文范文900字：学会尊重</a></h2>\n",
       "<div class=\"motu\">\n",
       "<span class=\"show_img\"><a href=\"/show/9865779.html\" target=\"_blank\"><img alt=\"2020高考满分作文范文900字：学会尊重\" data-src=\"//img.51test.net/uploadfile/images/default/gaoer/8.jpg\" src=\"//img.51test.net/img_default_list.png\"/></a></span>\n",
       "<span class=\"miaoshu2\"><a href=\"/show/9865779.html\" target=\"_blank\">\n",
       "【导语】不管是中考语文还是高考语文，作文都是受人关注的，同时也是试卷中分值最大的一个项目。无忧考网整理了2020高考满分作文范文900字供大家鉴赏。【篇一】2020高考满分作文范文900字：学会尊重凶猛的藏獒也不过如此，鹦鹉不过就是一只破鸟，又能把我怎么...<span>2020-05-06</span></a>\n",
       "</span>\n",
       "</div>\n",
       "</li>\n",
       "<li class=\"tuwen\">\n",
       "<h2><a href=\"/show/9865768.html\" target=\"_blank\">2020高考满分作文范文1000字三篇</a></h2>\n",
       "<div class=\"motu\">\n",
       "<span class=\"show_img\"><a href=\"/show/9865768.html\" target=\"_blank\"><img alt=\"2020高考满分作文范文1000字三篇\" data-src=\"//img.51test.net/uploadfile/images/default/gaoer/2.jpg\" src=\"//img.51test.net/img_default_list.png\"/></a></span>\n",
       "<span class=\"miaoshu2\"><a href=\"/show/9865768.html\" target=\"_blank\">\n",
       "【导语】写好作文的核心除了直接说出我们的观点，还要对我们的观点加以证明，证明观点的时候，就需要事实材料或者前人的观念的材料。以下是无忧考网为大家整理的《2020高考满分作文范文》供您查阅。【篇一】2020高考满分作文范文1000字自然是永恒的奇葩。她捏...<span>2020-05-06</span></a>\n",
       "</span>\n",
       "</div>\n",
       "</li>\n",
       "<li class=\"tuwen\">\n",
       "<h2><a href=\"/show/9858493.html\" target=\"_blank\">2020高考满分作文范文1000字</a></h2>\n",
       "<div class=\"motu\">\n",
       "<span class=\"show_img\"><a href=\"/show/9858493.html\" target=\"_blank\"><img alt=\"2020高考满分作文范文1000字\" data-src=\"//img.51test.net/uploadfile/images/default/qqgexing/8.jpg\" src=\"//img.51test.net/img_default_list.png\"/></a></span>\n",
       "<span class=\"miaoshu2\"><a href=\"/show/9858493.html\" target=\"_blank\">\n",
       "【导语】作文是语文学科的重要组成部分，不管是小学还是初中，我们每次语文考试都是要写作文的，而且随着年级的增加，你的作文分值也会增加，写好一篇作文会让你的语文成绩好看很多。无忧考网今天整理了2020高考满分作文范文1000字，一起来欣赏吧。2020高考满...<span>2020-04-24</span></a>\n",
       "</span>\n",
       "</div>\n",
       "</li>\n",
       "<li class=\"tuwen\">\n",
       "<h2><a href=\"/show/9858328.html\" target=\"_blank\">高考满分作文900字：深入灵魂的热爱</a></h2>\n",
       "<div class=\"motu\">\n",
       "<span class=\"show_img\"><a href=\"/show/9858328.html\" target=\"_blank\"><img alt=\"高考满分作文900字：深入灵魂的热爱\" data-src=\"//img.51test.net/uploadfile/images/default/nce/07.jpg\" src=\"//img.51test.net/img_default_list.png\"/></a></span>\n",
       "<span class=\"miaoshu2\"><a href=\"/show/9858328.html\" target=\"_blank\">\n",
       "【导语】写作文时若想信手拈来，必须有高质量的作文素材积累。但是素材不能只考虑越多越好，特别是在冲刺阶段，素材积累更要优质高效。所以在我们写好一篇高考作文之前，必须要多读高分范本，去挖掘它们的高分亮点，学习借鉴。今天无忧考网整理了《高考满分作...<span>2020-04-24</span></a>\n",
       "</span>\n",
       "</div>\n",
       "</li>\n",
       "</ul>\n",
       "</div>\n",
       "</div>\n",
       "<div class=\"content-fr\">\n",
       "<script>a(\"show_right1\");</script>\n",
       "<div class=\"read-sort\">\n",
       "<div class=\"title\"><span><a href=\"/gaokao/rd/\" target=\"_blank\">\n",
       "高考热点专题</a></span></div>\n",
       "<ul>\n",
       "<li><a class=\"txt85\" href=\"/show/9870584.html\" target=\"_blank\">历年高考满分作文精选【十篇】</a>\n",
       "</li>\n",
       "<li><a class=\"txt85\" href=\"/show/9869216.html\" target=\"_blank\">2020高考优秀人物传记叙文范文三篇</a>\n",
       "</li>\n",
       "<li><a class=\"txt85\" href=\"/show/9869206.html\" target=\"_blank\">高考满分作文范文800字：我想握紧你的手</a>\n",
       "</li>\n",
       "<li><a class=\"txt85\" href=\"/show/9869199.html\" target=\"_blank\">高考满分记叙作文范文900字三篇</a>\n",
       "</li>\n",
       "<li><a class=\"txt85\" href=\"/show/9869195.html\" target=\"_blank\">2020高考满分记叙文范文三篇</a>\n",
       "</li>\n",
       "<li><a class=\"txt85\" href=\"/show/9869078.html\" target=\"_blank\">2020高考英语作文素材：文化遗产</a>\n",
       "</li>\n",
       "<li><a class=\"txt85\" href=\"/show/9869024.html\" target=\"_blank\">高考优秀英语作文范文三篇</a>\n",
       "</li>\n",
       "<li><a class=\"txt85\" href=\"/show/9869003.html\" target=\"_blank\">高考优秀议论文作文三篇</a>\n",
       "</li>\n",
       "<li><a class=\"txt85\" href=\"/show/9868136.html\" target=\"_blank\">高考优秀英语作文开头结尾句子</a>\n",
       "</li>\n",
       "<li><a class=\"txt85\" href=\"/show/9868133.html\" target=\"_blank\">高考作文成语故事素材三篇</a>\n",
       "</li>\n",
       "</ul>\n",
       "</div>\n",
       "<script>a(\"show_right2\");</script>\n",
       "<div class=\"read-sort\">\n",
       "<div class=\"title\"><span><a href=\"/gaokao/xw/\" target=\"_blank\">\n",
       "高考最新更新</a></span></div>\n",
       "<ul>\n",
       "<li><a class=\"txt85\" href=\"/show/9870242.html\" target=\"_blank\">四川：关于为参加2020普通高考的抗击新冠肺炎一线</a>\n",
       "</li>\n",
       "<li><a class=\"txt85\" href=\"/show/9870091.html\" target=\"_blank\">31省区市各级各类学校明确返校时间</a>\n",
       "</li>\n",
       "<li><a class=\"txt85\" href=\"/show/9869688.html\" target=\"_blank\">教育部部署2020年重点高校招收农村和贫困地区学生</a>\n",
       "</li>\n",
       "<li><a class=\"txt85\" href=\"/show/9869638.html\" target=\"_blank\">四川省24所高校开学时间已确定</a>\n",
       "</li>\n",
       "<li><a class=\"txt85\" href=\"/show/9869176.html\" target=\"_blank\">海南省2020年重点高校在琼招收农村和贫困地区学生</a>\n",
       "</li>\n",
       "<li><a class=\"txt85\" href=\"/show/9869011.html\" target=\"_blank\">2020年广西普通高校招生外语口试时间调整</a>\n",
       "</li>\n",
       "<li><a class=\"txt85\" href=\"/show/9869009.html\" target=\"_blank\">2020年天津高考英语科目第一次考试时间安排在5月</a>\n",
       "</li>\n",
       "<li><a class=\"txt85\" href=\"/show/9869005.html\" target=\"_blank\">山西2020年重点高校招收农村和贫困地区学生工作的</a>\n",
       "</li>\n",
       "<li><a class=\"txt85\" href=\"/show/9868953.html\" target=\"_blank\">2020年江苏高校专项计划报名问题指南</a>\n",
       "</li>\n",
       "<li><a class=\"txt85\" href=\"/show/9868949.html\" target=\"_blank\">福建：关于做好2020年地方专项计划考生资格申报和</a>\n",
       "</li>\n",
       "</ul>\n",
       "</div>\n",
       "<script>a(\"show_right3\");</script>\n",
       "</div>\n",
       "</div>\n",
       "<script src=\"//js.51test.net/js_new/channel_bottom.js\"></script><div id=\"foot\">\n",
       "<div class=\"hzjm\"><a class=\"black\" href=\"//www.51test.net/about/about51test.html\" target=\"_blank\">关于我们</a> | <a class=\"black\" href=\"//www.51test.net/class/\" target=\"_blank\">网络课程</a> | <a class=\"black\" href=\"//www.51test.net/about/copyright.html\" target=\"_blank\">版权声明</a> | <a class=\"black\" href=\"//www.51test.net/about/tousu.html\" target=\"_blank\">侵权投诉</a> | <a class=\"black\" href=\"//www.51test.net/about/agreement.html\" target=\"_blank\">会员条款</a> | <a class=\"black\" href=\"//www.51test.net/sitemap/\" target=\"_blank\">网站地图</a> | <a class=\"black\" href=\"//update.51test.net/\" target=\"_blank\">最新更新</a> | <a class=\"black\" href=\"//www.51test.net/about/hezuo.html\" target=\"_blank\">广告合作</a> | <a class=\"black\" href=\"//www.51test.net/about/contactus.html\" target=\"_blank\">联系我们</a><div>\n",
       "<div class=\"foot-text\">京ICP备12029382号-8 | 《增值电信业务经营许可证》京B2-20192212 | <img src=\"//img.51test.net/uploadfile/bdstatic/082578c2f5c3298b7d223f108fe33ce1.png\" style=\"vertical-align: middle;\">京公网安备 11010802026788号</img></div>\n",
       "<div class=\"foot-text\">©2001-2020 无忧考网版权所有. All Rights Reserved.</div>\n",
       "</div>\n",
       "</div>\n",
       "<script src=\"//js.51test.net/js_new/copyright_simple.js\"></script>\n",
       "<script src=\"//js.51test.net/js_new/baidutongji.js\"></script><script src=\"//js.51test.net/js_new/vip_right.js\"></script><style>.dn{display:none}.go-top{position:fixed;bottom:40px;right:20px;width:46px;z-index:999;border:2px solid #f2f3f6!important;}.go-top a{display:block;width:46px;height:46px;margin-bottom:10px;background-image:url(https://img.51test.net/uploadfile/bdstatic/924be8a538d55241166c8cb9aa3c9080.png)}.go-top a:last-child{margin-bottom:0}.go-top .go{background-position:0 -150px}.go-top .go:hover{background-position:0 -250px}.go-top .vipmember{background-position:0 -100px}.go-top .vipmember:hover{background-position:0 -300px}.go-top .uc-2vm{background-position:0 0}.go-top .uc-2vm:hover{background-position:0 -350px}.go-top .share{background-position:0 -50px}.go-top .share:hover{background-position:0 -200px}.go-top .uc-2vm-pop{position:absolute;right:60px;top:-100px;width:240px;box-shadow:0 1px 4px rgba(0,0,0,.1);background:#fff}.go-top .uc-2vm-pop .title-2wm{font-size:14px;margin:10px 20px}.go-top .uc-2vm-pop .logo-2wm-box{position:relative}</style><script src=\"https://js.51test.net/js_new/jquery.js\"></script><script src=\"https://apps.bdimg.com/libs/jquery/1.11.3/jquery.min.js\"></script>\n",
       "<script>window.jQuery || document.write('<script src=\"https://js.51test.net/js_new/jquery.min.js\"><///script>')</script>\n",
       "<div class=\"go-top dn\" id=\"go-top\"> <a class=\"vipmember\" href=\"https://user.51test.net/vip/\" target=\"_blank\"></a> <a class=\"share\" href=\"https://p.qiao.baidu.com/cps/chat?siteId=541522&amp;userId=1010301\" target=\"_blank\"></a> <a class=\"uc-2vm\" href=\"javascript:;\"></a> <div class=\"uc-2vm-pop dn\"> <h2 class=\"title-2wm\">微信扫一扫 关注无忧考网</h2> <div class=\"logo-2wm-box\"> <img alt=\"无忧考网\" height=\"240\" src=\"https://img.51test.net/uploadfile/bdstatic/e5bffba78b023b207f4a3e9b1414efb5.jpeg\" width=\"240\"> </img></div> </div> <a class=\"go\" href=\"javascript:;\"></a></div>\n",
       "<script src=\"//js.51test.net/js_new/lazyimg.js\"></script>\n",
       "<script src=\"//js.51test.net/js_new/baidu_tongji_nclassid.js\"></script><script src=\"//js.51test.net/baidu_js_tongji/gaokao.js\" type=\"text/javascript\"></script>\n",
       "</div></div><div class=\"layui-layer-shade\" id=\"layui-layer-shade1\" style=\"z-index:19891014; background-color:#000; opacity:0.3; filter:alpha(opacity=30);\" times=\"1\"></div><div class=\"layui-layer layui-layer-iframe layer-anim\" contype=\"object\" id=\"layui-layer1\" showtime=\"0\" style=\"z-index: 19891015; width: 850px; height: 720px; top: 1.5px; left: 364px;\" times=\"1\" type=\"iframe\"><div class=\"layui-layer-title\" style=\"\">【VIP会员特权】Word文档下载</div><div class=\"layui-layer-content\" id=\"\"><iframe allowtransparency=\"true\" class=\"layui-layer-load\" frameborder=\"0\" id=\"layui-layer-iframe1\" name=\"layui-layer-iframe1\" onload=\"this.className='';\" scrolling=\"yes\" src=\"https://user.51test.net/vip/download/word/?id=9870584\" style=\"height: 677px;\"></iframe></div><span class=\"layui-layer-setwin\"><a class=\"layui-layer-ico layui-layer-close layui-layer-close1\" href=\"javascript:;\"></a></span><span class=\"layui-layer-resize\"></span></div><div class=\"layui-layer-move\"></div></body></html>"
      ]
     },
     "execution_count": 107,
     "metadata": {},
     "output_type": "execute_result"
    }
   ],
   "source": [
    "html"
   ]
  },
  {
   "cell_type": "code",
   "execution_count": 156,
   "metadata": {
    "collapsed": false
   },
   "outputs": [],
   "source": [
    "#对word页面进行beautiful soup，不一定要用selenium才能打开\n",
    "headers = {\"User-Agent\": \"Mozilla/5.0 (Windows NT 10.0; Win64; x64) AppleWebKit/537.36 (KHTML, like Gecko) Chrome/81.0.4044.138 Safari/537.36\",\n",
    "          \"accept\":\"text/html,application/xhtml+xml,application/xml;q=0.9,image/webp,image/apng,*/*;q=0.8,application/signed-exchange;v=b3;q=0.9\",\n",
    "          \"authority\": \"view.51test.net\",\n",
    "           \"sec-fetch-dest\": \"document\",\n",
    "            \"sec-fetch-mode\": \"navigate\",\n",
    "            \"sec-fetch-site\": \"none\",\n",
    "            \"sec-fetch-user\": \"?1\",\n",
    "            \"upgrade-insecure-requests\": \"1\",\n",
    "           #\"accept-encoding\": \"gzip, deflate, br\",\n",
    "           \"accept-language\": \"zh-CN,zh;q=0.9,en;q=0.8\",\n",
    "            \"cache-control\": \"max-age=0\",\n",
    "           \"authority\": \"view.51test.net\",\n",
    "            \"method\": \"GET\",\n",
    "           # \"path\": \"/docview/?id=9870584\",\n",
    "            \"scheme\": \"https\"\n",
    "         # \"cookie\": \"__cfduid=d60922adb347418d61ba1d690ae0971101589202540; Hm_lvt_f4ae163e87a012d4ab5106f993decb4c=1589202541; Hm_lvt_c3d24798f142b815b7069d109e892e45=1589371094; Hm_lpvt_c3d24798f142b815b7069d109e892e45=1589371094; Hm_lvt_5ee086ccde34b4396da406fcda52cbb9=1589547106; Hm_lpvt_f4ae163e87a012d4ab5106f993decb4c=1589548667; Hm_lpvt_5ee086ccde34b4396da406fcda52cbb9=1589549053\"\n",
    "           } \n",
    "           \n",
    "# realurl='https://view.51test.net/docview/?id=9870584'\n",
    "# realurl='https://doc.51test.net/resource/?id=9873986&token=dadd8aa1cfadd8aaa67edb6889d972ee&app=other'\n",
    "realurl='https://user.51test.net/vip/download/word/?id=9870584'\n",
    "\n",
    "r = requests.get(realurl, timeout=10, headers=headers)\n",
    "\n",
    "r.encoding=\"gb2312\"\n",
    "\n",
    "soup=BeautifulSoup(r.text,'lxml')"
   ]
  },
  {
   "cell_type": "code",
   "execution_count": 157,
   "metadata": {
    "collapsed": false
   },
   "outputs": [
    {
     "data": {
      "text/plain": [
       "<!DOCTYPE html>\n",
       "<html lang=\"zh-cn\">\n",
       "<head>\n",
       "<meta content=\"text/html; charset=utf-8\" http-equiv=\"Content-Type\"/>\n",
       "<title>历年高考满分作文精选【十篇】</title>\n",
       "<meta content=\"高考,历年高考满分作文精选【十篇】\" name=\"keywords\"/>\n",
       "<meta content=\"历年高考满分作文精选【十篇】 【导语】低分作文都是相似的，满分作文各有各的好处。分析别人的优秀作文，模仿借鉴其写作技巧，逐渐形成自己的风格，是提高作文水平的捷径。 无忧考网整理了历年高考满分作文精选，一起看看吧。【篇一】历年高考满分作文精选　　风物长宜...\" name=\"description\"/>\n",
       "<meta content=\"历年高考满分作文精选【十篇】\" name=\"searchtitle\"/>\n",
       "<script src=\"//js.51test.net/js_new/uaredirect.js\"></script>\n",
       "<script>uaredirect(\"//m.51test.net/show/9870584.html\");</script>\n",
       "<meta content=\"no-transform\" http-equiv=\"Cache-Control\"/>\n",
       "<meta content=\"no-siteapp\" http-equiv=\"Cache-Control\"/>\n",
       "<meta content=\"format=html5;url=https://m.51test.net/show/9870584.html\" name=\"mobile-agent\"/>\n",
       "<meta content=\"format=wml;url=https://m.51test.net/show/9870584.html\" name=\"mobile-agent\"/>\n",
       "<meta content=\"format=xhtml;url=https://m.51test.net/show/9870584.html\" name=\"mobile-agent\"/>\n",
       "<link href=\"https://m.51test.net/show/9870584.html\" media=\"only screen and (max-width: 640px)\" rel=\"alternate\"/>\n",
       "<link href=\"https://m.51test.net/show/9870584.html\" rel=\"canonical\"/>\n",
       "<link href=\"//css.51test.net/news_css/style_show_tuwen.css?v=512\" rel=\"stylesheet\" type=\"text/css\"/>\n",
       "<script>\n",
       "        str_title = \"历年高考满分作文精选【十篇】\";\n",
       "        str_url = \"gaokao\";\n",
       "        str_nclassname = \"高考\";\n",
       "        str_shortname = \"高考\";\n",
       "        str_classid = \"1\";\n",
       "        str_nclassid = \"1\";\n",
       "        str_articleid = \"9870584\";\n",
       "        str_province = \"满分作文\";\n",
       "        str_province_url = \"\";\n",
       "        str_city = \"\";\n",
       "        str_city_url = \"\";\n",
       "        str_nkey = \"rd\";\n",
       "        str_search_key = \"\";\n",
       "        \n",
       "        str_search_key2 = \"0\";\n",
       "        \n",
       "        is_baiduopen = \"1\";\n",
       "        \n",
       "    </script>\n",
       "<script src=\"//js.51test.net/js_new/func.js\"></script>\n",
       "<script src=\"//js.51test.net/js_new/layer/layer.min.js\"></script>\n",
       "<script src=\"//js.51test.net/js_new/kecheng.js\"></script>\n",
       "<script src=\"//js.51test.net/js_new/getcookie.js\"></script>\n",
       "<script src=\"//js.51test.net/js_new/d.js\"></script>\n",
       "</head>\n",
       "<body>\n",
       "<script>a(\"show_top\");</script>\n",
       "<div class=\"common-header\">\n",
       "<div class=\"header-box\">\n",
       "<a class=\"header-left\" href=\"/\" target=\"_blank\"></a>\n",
       "<div class=\"header-center\">\n",
       "<a href=\"/\" target=\"_blank\">首页</a> &gt; <a href=\"/gaokao/\" target=\"_blank\">\n",
       "高考</a> &gt; <a href=\"/gaokao/sitemap/\" target=\"_blank\">资源大全</a> &gt;\n",
       "<a href=\"/gaokao/rd/\" target=\"_blank\">热点专题</a>\n",
       "</div>\n",
       "<div class=\"header-txt\">\n",
       "<span>\n",
       "<script src=\"//js.51test.net/js_new/getcookie_login.js\"></script>\n",
       "</span>\n",
       "</div>\n",
       "</div>\n",
       "</div>\n",
       "<div class=\"container\">\n",
       "<div class=\"main-bg\">\n",
       "<div class=\"content-fl\">\n",
       "<div class=\"title\">\n",
       "<h1>\n",
       "历年高考满分作文精选【十篇】\n",
       "</h1>\n",
       "<span class=\"txt\">\n",
       "2020-05-12 17:03:00  \n",
       "无忧考网    \n",
       "[ 字体：<a href=\"javascript:doZoom(14)\"><u>小</u></a> <a href=\"javascript:doZoom(16)\"><u>中</u></a> <a href=\"javascript:doZoom(18)\"><u>大</u></a> ]\n",
       "[ <a href=\"https://m.51test.net/show/9870584.html\" target=\"_blank\">手机版</a> ]\n",
       "[ <a href=\"javascript:void(0);\" onclick=\"opendownform('https://view.51test.net/docview/?id=9870584','Word文档预览')\"><img align=\"absmiddle\" height=\"35\" src=\"https://img.51test.net/uploadfile/bdstatic/5ce2eadeb37fd9d03b4ad44f3c8705c3.png\" width=\"35\"/><font style=\"font-weight:bolder;color:#ff7d18;font-size:17px;\">文档预览</font></a> ]\n",
       "[ <a href=\"javascript:void(0);\" onclick=\"opendownform('https://user.51test.net/vip/download/word/?id=9870584','【VIP会员特权】Word文档下载')\"><img align=\"absmiddle\" src=\"https://img.51test.net/uploadfile/bdstatic/6fb510a4ca70aa63294eafe32dc2af39.png\"/> <font style=\"font-weight:bolder;color:#ff7d18;font-size:17px;\">文档下载</font></a> ]\n",
       "</span>\n",
       "</div>\n",
       "<script>a(\"show_title\");</script>\n",
       "<div class=\"content-txt\" id=\"content-txt\">\n",
       "<p>【导语】低分作文都是相似的，满分作文各有各的好处。分析别人的优秀作文，模仿借鉴其写作技巧，逐渐形成自己的风格，是提高作文水平的捷径。 无忧考网整理了历年高考满分作文精选，一起看看吧。</p><p></p><p style=\"text-align: center\"><br/> <img src=\"https://img.51test.net/uploadfile/images/template/riji/8.jpg\"/><br/></p><br/><p style=\"border-left:5px solid #3991e5;color:#3991e5;background:#f5f7f7;padding-left:10px;line-height:35px;margin-bottom:8px;\"><strong>【篇一】历年高考满分作文精选</strong></p><p>　　风物长宜放眼量</p><p>　　偏居乡野，自然无法领略世界的风采，唯有于山顶俯视才能纵览山河面貌；身处暗室，自然不会得见璀璨的星空，只有于室外仰观才能欣赏夜空美丽。我们盯着地上的六便士，自然无法看到头顶的月亮。风物长宜放眼量，唯有如此我们才能够找到隐藏于黑暗中的正确的道路。</p><p>　　二战时的那位统计专家力排众议，加固机身中弹少的部位，最终成功提高了安全性能。而其他人仅看到了问题的表象未能彻底地找出问题的关键。只有那位专家意识到了“幸存者偏差”，提出了正确的方案。</p><p>　　风物长宜放眼量，目光不限于局部。“*者迷，旁观者清”，*者只看到了问题的局部，而旁观者却能看到大局。孰迷孰清自不必多说。赤壁之战中的曹操，用铁索连环绑住战船，颇为自得。然而，他只是看到铁索连环能解决士兵晕船问题，却没意识到火攻的后果。最终，烈火趁着东风，燃尽了他一统天下的梦。曹操目光限于局部，思想片面，正是他未能完整地考虑自己的计策，才招致了如此大败。若是他的目光全面，又怎会败地如此凄惨？</p><p>　　风物长宜放眼量，想法不惑于表象。一切事物只有仔细分析后才能够看到实质。古之仲永天资卓绝惫懒懈怠终泯然成众人，今有马云求学坎坷不懈奋斗一跃为游龙。仲永仗着天赋目光短浅不学习，最终只能白白浪费出人的天分。但是马云目光长远积极好学，最终成为中国电商领军人物。若是目光短浅，被表象迷惑，最终也只会渐渐沉沦，唯有思想不惑于表象，才能真正抓住事物本质。</p><p>　　风物长宜放眼量，思维不随于大流。人生于天地之间，一味跟随大流，人云亦云，难免庸庸碌碌。另辟蹊径才能走出不一样的精彩，若是让潮流冲散了自己的见解，又是何等的损失。汨罗江涛涛江水，澎湃着千年的执着。屈原的美政理念不被众人赞同，但他却没有随于大流放弃自己的思想。他长叹：“举世皆浊我独清，世人皆醉我独醒。”宁死不折自己的思想。虽说他被江水吞噬，但他也让江水澎湃千年、滋养千年。</p><p>　　黄尘清水三山下，更变千年如走马。岁月更迭，改变了太多，但不变的却是我们只有做到“风物长宜放眼量”才能正确地处理这纷杂尘世的每件事。</p><p></p><p style=\"border-left:5px solid #3991e5;color:#3991e5;background:#f5f7f7;padding-left:10px;line-height:35px;margin-bottom:8px;\"><strong>【篇二】历年高考满分作文精选</strong></p><p>　　拂去融雪，细嗅蔷薇</p><p>　　如朗月朝花，深潭微澜，生活虽灿若星辰，但透明雪白的外表下也藏匿着我们容易忽视的污垢瑕疵，只有勇敢地伸出双手拂去表面点缀的银银细雪，方可看到本质，细嗅雪后绵延的蔷薇芬芳。</p><p>　　面对弹孔斑驳的的战机残骸，专家能够排除干扰，看清问题的根源所在，从而拯救了成千上万飞行员的生命；在我们的生活中又何尝缺少这样蒙蔽我们双眼的“弹孔”呢？</p><p>　　拂去表面的雪华需要时刻以史为鉴。“通往真理的路上荆棘遍布，迷雾丛生。”亚里士多德如是说。诚如斯言，曾一度掀起热潮的摩拜单车仿佛让我们感受到“自行车王国”的回归，在众人连声叫好的迷雾之中，不少阴暗却在萌生，不断频发的安全事故与道德丑闻让我们逐渐揭开了那表层的银装，看到本质。虽然摩拜单车已被叫停，但它仍然时刻警醒着我们：潮流不是通往真理的涓涓细流，盲从是埋没正确航向的凶险巨浪</p><p>　　被鲜艳光辉的外表迷惑使我们难以看到本质，且需心怀主张。浅栽蔷薇一束，细嗅万季芬芳，信赖自己内心的准则，让问题迎刃而解，让真理之花常开不败。</p><p>　　寒门出贵子一直是中国许多贫苦家庭所坚信的一缕清光，有人甚至因此而不思进取，把一切都托付给自己的下一代身上；这显然是荒谬的。一直被誉为“寒门榜样”的王庆根，从小生活在贫困的农村，靠自己的不懈努力斩获了奥林匹克化学金牌，并有了成功的事业，然而他却在年仅三十岁就选择了真相，这让我们深刻认识到贫困对孩子从小造成的心理创伤，从而更重视对孩子的素质教育。除此之外，“毒鸡汤”，“拒绝佛系派，丧文化”等名词的出现也表明我们正在拥有自己的主见，并敢于为之坚持。这无疑是可贵和值得我们发扬的，心怀主见才能拂冬去雪，拨雾见月明。</p><p>　　除此之外，善于把握机遇也是一束珍贵的鲜花。就像真相《阿甘正传》中这样一句经典台词：“生活就像一块巧克力，味道往往出人意料。”</p><p>　　改变我们一生的宝藏和机遇就可能藏在事物与问题的本质间。腾讯创始人马化腾当初选择了不被世人看好的通信领域，却建立了时人未曾想到的电子帝国；马云看到了信息产业的无限商机，才有了阿里巴巴得享誉世界......倘若他们当初没有看到现象中的本质，他们也许不会有今天的成就与辉煌。拂去覆盖本质的深雪，才能发现泥土中的钻石，欣赏到初春里热烈绽放的那抹蔷薇的轻红。</p><p>　　细嗅蔷薇之芳，求索真理之源。当代的我们正赶上时代的转折点，是顺应潮流，还是忠于本心？命运与选择的帆在我们手中，只有我们学会从融雪中看到繁花，从现象中看到本质，才能实现个人乃至中国梦的姹紫嫣红！</p><p>　　迷雾遮月终飘去，雪飞花现彰我心！</p><p></p><p style=\"border-left:5px solid #3991e5;color:#3991e5;background:#f5f7f7;padding-left:10px;line-height:35px;margin-bottom:8px;\"><strong>【篇三】历年高考满分作文精选</strong></p><p>　　不做别人思想的跑马场</p><p>　　周国平认为，每个人都睁着眼睛，但不等于每个人都在看世界，许多人几乎不用自己的眼睛看，他们只听别人说，他们看到的世界永远是别人说的样子。这启发我们，要关注自我人生的品质。只有学会独立思考，让自我的灵魂清醒，才能洞察问题，丰盈人生。</p><p>　　二战时期，面对战斗力的加固防护问题，仅有一位专家力排众议，说出了自己不同的看法。在所有人都支持在机身中弹多处加强防护时，只有那位专家坚持认为应该注意防护弹痕少的地方。正是他于表象思维的大潮中独立思考得来的真知灼见，挽救了成千上万飞行员的生命。学会独立思考，不随波逐流，不做别人思想的跑马场，自然成就自我生存意义，彰显自我生存智慧。</p><p>　　我思，不怠惰。在互联网时代，大数据大信息如浪潮般扑面而来。然而，互联网并没有改变人们思考的方式，而是改变了人们获取信息的方式。因而，就有一些人满足于当“传声筒”“复读机”，不愿思考；满足于“浅阅读”“浅吸收”，不会思考；满足于“囫囵吞枣”“一知半解”，不善思考。诚然，即使是网络将信息摆在我们面前，我们也要审视它们的真实与否，全不能因此而怠惰。</p><p>　　我思，不盲从。柏拉图曾说：”我爱我师，但我更爱真理。“他不像如今困在学校中的学生，只知道一昧的听从于老师的教学，毫无一丝自己的思考。他懂得独立思考，他有灵魂上的清醒。试想，如果个人或族群，不善于独立思考、缺少自省精神，只知道人云亦云，麻木盲从，那么，便只能成为别人精彩人生的可怜陪衬。</p><p>　　我思，方有所获。法国科学家、哲学家笛卡尔在朦胧的睡梦中醒来后，仿佛在梦中得到什么启示般，在纸上写下几个字――我思故我在。他怀疑一切事物的存在，甚至于自己的存在，却在这一天如梦初醒地道破天机：思考着的人才是活着的。他在思索中获得了举世瞩目的成就。</p><p>　　我就是我，是颜色不一样的烟火。每个人都有着独一无二的灵魂，每个人都应具备独立思考的能力。不避重就轻，不随波逐流，不做别人思想的跑马场。以独特的眼光去发展，我们，在路上。</p><p></p><p style=\"border-left:5px solid #3991e5;color:#3991e5;background:#f5f7f7;padding-left:10px;line-height:35px;margin-bottom:8px;\"><strong>【篇四】历年高考满分作文精选</strong></p><p>　　 劳动创造美好未来</p><p>　　――在复兴中学“热爱劳动，从我做起”主题教育大会上的演讲</p><p>　　尊敬的学校领导、亲爱的老师、同学们：</p><p>　　大家好！</p><p>　　土地是财富之母，勤劳是财富之父。这是千百年来人类社会在发展过程中所形成的共识。恩格斯也早已明确论断“劳动创造了人本身”。</p><p>　　的确，我们人类的双手，人类的语言、人类的智慧等等可以区别于其他动物的一切，无一不是劳动的贡献。</p><p>　　也可以说今天人类所拥有的一切物质和精神的文明成果无一不是劳动所创造，因此，我们人类的美好未来也毫无疑问地必须靠劳动来创造。习近平总书记也教导我们“幸福都是奋斗出来的”。</p><p>　　热爱劳动是我们中华民族的传统美德。我们历来对于那些四体不勤，五谷不分，只想不劳而获的人都是嗤之以鼻的。因此，哪怕是家境再好的人家也都会知道“坐吃山空”和“富不过三代”的古训，有道是“忧劳可以兴国，逸豫可以亡身”。</p><p>　　但是，改革开放四十多年来，几代人的不懈奋斗，让我们的国家从站起来，到富起来，并逐渐强起来，无论是国家的面貌还是普通老百姓的生活也都有了天翻地覆的变化，于是有些人开始厌恶劳动，不尊重劳动，甚至看不起劳动者。这是一种十分危险现象。对此，作为新时代的青年，对于劳动应该有自己正确的认识。</p><p>　　第一、劳动精神最光荣。我们应该感谢先辈，是用他们用劳动创造了今天的一切，但是我们不能就此止步，作为新时代的青年一代，应该有自己的使命和担当，那就是在前辈们奠定的基础上，用自己的劳动创造自己的新生活，并为子孙后代奠定更坚实的发展基础。惟其如此，我们才能说自己是光荣的劳动者，我们才能上不愧祖先，下不愧后代。</p><p>　　第二、劳动分工无贵贱。劳动只有分工的不同，没有高低贵贱之分。人生而平等，但是由于发展基础不同，知识水平不一，兴趣爱好有别，所以社会分工会不同。国家需要两弹元勋钱学森，也需要掏粪工人时传祥；需要航天英雄杨利伟，也需要守岛赤子王继才……正因为如此，作为一国元首，习近平主席在今年的新年致辞中就十分接地气地向包括快递小哥、环卫工人、出租车司机在内的千千万万劳动者致敬，因为正是他们，创造了和创造着我们美好的一切。</p><p>　　第三、劳动形式需发展。人类社会发展的历史就是一部后人站在前人肩膀上不断攀登的历史。从刀耕火种的原始农业时代，到现在的信息化时代，劳动创造美好生活的实质并没有改变，但是人类的劳动形式已经不可同日而语。今天或许大多数繁重和琐碎的体力工作会被机器和人工智能所取代，但那不正是由于我们的劳动创造了机器和人工智能吗？</p><p>　　从五四运动开始的100年，特别是改革开放40多年来，几代人高举科学救国的旗帜，奋发图强，创造了人民共和国今日的辉煌，但是一代人应有一代人的使命和担当。大家知道，就在昨天国家工信部正式颁发了5G商用牌照，这意味着新一轮的信息技术革命和社会大变革已经开始，我们既面临着无限的发展机遇，也面临着无限的挑战。</p><p>　　同学们，“热爱劳动，从我做起”。让我们在前辈们奠定的基础上，勤奋学习，掌握现代科技知识，增强我们劳动的本领，高举科技强国的旗帜，用我们的勤劳和智慧创造美好的未来，为实现复兴中华的伟大梦想而努力奋斗吧！</p><p>　　我的演讲完毕，谢谢大家！<br/></p><p style=\"text-align: center\"><br/> <img src=\"https://img.51test.net/uploadfile/images/template/xiaoxuezuowen/2.jpg\"/><br/></p><br/><p style=\"border-left:5px solid #3991e5;color:#3991e5;background:#f5f7f7;padding-left:10px;line-height:35px;margin-bottom:8px;\"><strong>【篇五】历年高考满分作文精选</strong></p><p>　　 复兴之梦梦在不息</p><p>　　――在复兴中学以“热爱劳动，从我做起”主题的演讲稿</p><p>　　“谈，大门敞开；打，奉陪到底”。2019年5月13日晚的央视新闻联播，引起了全国上下轰动。它强有力地说明了“积贫积弱的中国早已成为过去式，新中国已经走在强国复兴的大道上”。</p><p>　　面对强大的祖国，我们确实有理由傲骄。但正如冰心所说：“青年人，只是回顾么？这世界是不住的前进呵。”在兴奋之余，作为青年一代的我们，更应该增强责任感和使命感，因为中华复兴，理应驰而不息。</p><p>　　纵观历史的每一次进步，无不与劳动息息相关。燧人氏钻木取火，鲁班发明锯子，毕�N发明活字印刷，蔡伦发明造纸，袁隆平发明杂交水稻……“民生在勤，勤则不匮”，是劳动改变了民生，推动了社会进步。</p><p>　　但随着科技的不断进步，不少人却对我国的未来表示出担忧。这是杞人忧天吗？当然不是。让我们看看眼前的事实吧，城区学生葱和大蒜不分倒也可以理解，因为城市寸土寸金，没给他们提供亲身耕作的土壤。但即便是一些农村地区的学子，他们也是四体不勤五谷不分，寒门也养“富二代”现象并不少见。</p><p>　　也许部分家长会说：“孩子学习那么忙，劳动就交给我们吧”；也许不少学子也会说；“科技进步这么快，劳动的事未来由人工智能完成就好”。然而事实真是这样吗？清代魏源说过，“披五岳之图，以为知山，不如樵夫之一足；谈沧溟之广，以为知海，不如估客之一瞥；疏八珍之谱，以为知味，不如庖丁之一啜”。实践是获得真知的途径，没有劳动与生活的应用，书本知识也只能是纸上谈兵。同时人工智能只是科技的载体，人是其中的关键。可以说，没有劳动就没有人类的发展进步。</p><p>　　因此，在今天的演讲活动中，我想向同学们以下倡议：</p><p>　　一是要树立“我以劳动为美”的观念。“士农工商”，农工在四种职业中有着自己的重要位置。可是现在不少人却总认为“农不如工，工不如商”，认为不能为官就要行商，当农民与工人总是不体面的。于是就出现了这么一种怪现象，一方面大量大学毕业生毕业回家啃老，另一方面大量企业工厂却闹起了人才荒。“一屋不少，何以扫天下”，殊不知，古长城、兵马俑、故宫角楼……无一不是农工的杰作，无一不是工匠精神的体现。</p><p>　　二是要多点研学旅行少点闭门修书。近年来，国家教育部门出台了关于中小学生研学旅行的文件，学校也倡议组织大家参加了一些研学旅行活动。这样的机关大家一定要珍惜，并让自己投身其中。“行万里路，读万卷书”，生活除了眼前的苟且，还必须得有诗和远方。</p><p>　　三是要拒绝“佛系”多点“斜杠”。“佛系”青年不拿不抢不求输赢，我不赞成；“斜杠”青年选择拥有多重职业多重身份的多元生活方式，我很推崇。但现在不少青年人喜欢“葛优躺”，劲吹“佛系风”，殊不知“每一个不曾起舞的日子，都是对生命的辜负”，我们理应让自己的生活多点体验多点实践。技多不压身，毛泽东不仅是书法家、诗人，还是新中国伟大的开拓者和奠基人……</p><p>　　“不争寸阴于今日，必留遗憾于明朝。”大国呼唤工匠精神，中华复兴理当驰而不息。为着后来的回忆，在座的青年朋友们，让我们小心着意地描写现在的图画吧。</p><p></p><p style=\"border-left:5px solid #3991e5;color:#3991e5;background:#f5f7f7;padding-left:10px;line-height:35px;margin-bottom:8px;\"><strong>【篇六】历年高考满分作文精选</strong></p><p>　　 祖国到处都是“诗和远方”</p><p>　　黎明驱走了黑暗，日出带来了光芒，祖国的光辉好似阳光，照亮了我们的前程，指明了我们前进的方向，带领全国各族人民从贫穷走向富裕，从胜利走向辉煌。</p><p>　　中华人民共和国国旗旗面为红色象征革命。旗上的五颗五角星及其相互关系象征共产党领导下的革命人民大团结。星用黄色是为着在红地上显出光明，四颗小五角星各有一角正对着大星的中心点，表示围绕着一个中心而团结。每逢国庆，去*广场看升国旗是无数人心中的梦想。因此，利用国庆长假去北京游玩的人们，通常会赶早来到*广场看国旗班的军人升旗，以表达对祖国的无比热爱，看着五星红旗徐徐升起，心中的激动无以言表。每年10月1日是我国的国庆节，我国于1999年修订发布《全国年节及纪念日放假办法》，将国庆节与相邻的周六、日组合为7天的国庆长假，被称之为“国庆黄金周”，用放假的形式，让老百姓共同感受国庆的欢乐。</p><p>　　回首这70年，中华人民走得每一步都是步履蹒跚，每一步都付出了巨大牺牲。这70年，中华人民永远忘不了，抗美援朝战场上精神与钢铁的较量；忘不了，我驻南斯拉夫大使馆的悲愤与耻辱；忘不了，南沙群岛护我主权时对手的无耻与卑劣；这牺牲包含了所有的付出，既有先烈的浴血、也有我辈的拼搏，所有的一切，都离不开大家的团结奋进，离不开大家不惧牺牲，勇往直前的精神。</p><p>　　但是如今中国经过几十年来的艰苦建设，已取得了“乘长风，破万里浪”的迅猛发展：《辉煌中国》之《圆梦工程》透过港珠澳大桥、胡麻岭隧道、郑万铁路、复兴号、上海洋山港自动化码头、中国移动互联网等一个个超级工程，领略五年来一张张中国基础建设的大网，如何编织起人民走向幸福、美好的希望版图，托举起中华民族伟大复兴的中国梦。</p><p>　　无论你的家乡在哪里？无论你最想去到哪个地方？祖国到处都是“诗和远方”。我们牢记着祖国的风风雨雨，也奋力创造更美好的生活！</p><p></p><p style=\"border-left:5px solid #3991e5;color:#3991e5;background:#f5f7f7;padding-left:10px;line-height:35px;margin-bottom:8px;\"><strong>【篇七】历年高考满分作文精选</strong></p><p>　　翻页新世界</p><p>　　前方高山耸立，但翻山越岭，是优美的风景，天上乌云翻滚，但越过乌云，是朗朗青天，拨开表象的迷雾，真相就会浮现出来，就如二战期间战斗机的防护，许多人认为加固应该加在弹痕多的地方，但实际上应该加在弹痕少的地方，因为加在弹痕多的地方战斗机也不一定会幸存而归。</p><p>　　世界上最可怕的事情，莫过于有眼睛而看不到真相，我们在研究问题时总是着重于表象，却未曾注意到事情的本质，结果发现表象与结果大相径庭。对此，英国的探险家说：“当你学会透过事物的表面看到其本质的时候，任何的困难与挫折，在你面前也不值得一提了。”</p><p>　　因此，我们应该吸取教训，改变看问题的方式“高度决定视野”，用全面发展的眼光看问题，就能把事情做到极致，几年前，当“宅”字成为网上盛极一时的热词时，大多数网友也就是把它当作一个热词，没注意到它背后的东西，而阿里巴巴的创始人马云从高处看待这些事，发现了不一样的东西：“懒”即是“宅”的根本原因。于是他就开始利用现代人的惰性，开创了网购的新时代，他因此也成了家喻户晓的传奇。</p><p>　　“角度改变观念”，换个角度看问题，结果就很不一样。19世纪在人们研究电与磁的关系毫无头绪时，英国科学家法拉第解放思想，找到了问题的关键所在，意识到这是一种非恒定的暂态效应，与传统的物理定律有所区别。就这样他发现了电磁感应定律。正是因为他站在与常人不同的角度看问题才揭示了电与磁之间的相互联系，也就有了我们现在的发电机。</p><p>　　要突破思维的枷锁，还需打破惯性思维。二战时期的战斗机防护的结果带来的偏差正是因为大多数人关注的重点没在问题本质上，没有打破惯性思维。欧洲17世纪最伟大的画家之一伦勃朗，在画价大涨时，在人们纷纷出价卖画之际，他突破惯性思维，拒绝售画，抽离尘世纷扰，潜心研究创作，致力于打造精品。当画价风浪平息后，他的画价值也变的更高了，画画技巧也得到了提升，令人望其项背。正是因为他敢于突破惯性思维，才能获得如此辉煌的成就。</p><p>　　为什么人们在认识问题时总会有如此大的偏差呢，首先很有可能是因为知识掌握不全，不牢固，“书读百遍，其义自见”，只有掌握了牢固的知识才对表层问题有独到的见解，这就需要我们不断地去学习；其次是要进行深入的思考，现在的学生见到数理化就如同见天敌，不愿意进行深入的思考和研究，于是就放弃，因此认识的偏差在人群中也就可见一斑。</p><p>　　正确认识问题，方可大道直行，收获人生精彩，让人生从云卷云舒中度过，与花开花落里微笑，翻页腐朽一卷书，观一片新世界。</p><p></p><p style=\"border-left:5px solid #3991e5;color:#3991e5;background:#f5f7f7;padding-left:10px;line-height:35px;margin-bottom:8px;\"><strong>【篇八】历年高考满分作文精选</strong></p><p>　　初心不改奔流到海</p><p>　　有一条江，因其拐了两弯，一折二折之下，便叫了之江；口耳相传之后，便有了浙江。</p><p>　　燕赵、齐鲁、巴蜀、江东、陇西、岭南、漠北……或山或水，或江或湖，成就了中华版图。</p><p>　　而浙江，却始终以一种进取的姿态，刻画着自已在中华大地上的维度。</p><p>　　97年前的这里，浩渺的烟波南湖之上，一群书生围坐在船中，未沉迷于眼前如诗如画的风景，却酝酿着一场改天换地的风雷。</p><p>　　57年前的这里，一个名叫义乌的火车小站停靠点上，在“鸡毛换糖”的此起彼伏声中，却孕育了日后一个叫物流的时代。</p><p>　　37年前的这里，瓯江之畔，一场大火烧醒了诸多皮鞋小作坊的业主，明白了市场规则下质量和契约究竟意味着什么。</p><p>　　17年前的这里，一个颜值不高的小个子，正忙活着他与四十大盗的梦想。</p><p>　　7年前的这里，“绿水青山就是金山银山”的发展理念，已悄然在百姓心里生根发芽，浸润着血脉的生生不息……</p><p>　　而这之江的水，无论风云如何变幻，始终奔流不息！</p><p>　　山水烘托了人杰，人杰也烛亮了山水！一个人的坚持叫操守，一群人的坚持叫法则，若是再加上时间的演化和水土的滋养，便成了文化！</p><p>　　“负箧曳屣，行深山巨谷中……足肤皲裂而不知。”大儒宋濂的话语，若投映到浙商“四千精神”的旅途，相必也是别有一番滋味。</p><p>　　“身在夜郎家万里，五云天北是神州”，阳明先生的词作，若辅以船王包玉刚的言行，我们不难发现，那一弯之江水，依旧激荡在你我的心头，至今难忘。</p><p>　　于是，便有了李书福痛斥电动汽车“伪制造”的激昂；便有了马云关于中美贸易争端的铿锵；更不乏董卿“苔米花虽小，也学牡丹开”的情怀。</p><p>　　不知不觉，光阴轮转。</p><p>　　红船，一直停在那里，络绎不绝的人群，用瞻仰的目光将它链接到了心中，化作信仰。</p><p>　　当年换糖的老汉，早已铸成了铜雕，成为城市的地标；温商，作为浙商的一个支群，继续着市场肌体“催化剂”的角色。</p><p>　　国人在接受互联网思维的同时，更以欣赏的眼光致敬阿里巴巴，领跑者、创客、追梦人……顺应“互联网+”风起云涌的新趋势，雨后春笋般冒出的“众创空间”让浙江年轻人如沐春风，如鱼得水。</p><p>　　“两山”理论践行至今，政务生态优化，自然生态改善，浙江这棵梧桐树，何愁唤不来金凤凰？只需看一看身边的阳光、空气和水，你就会豁然开朗。</p><p>　　也许是因为身处江南，那一湾之江水，更多的时候，以一种温婉文静的面目存在。</p><p>　　但作为其中的一滴，我深知她的澎湃，虽一折再折，却初心不改，奔流到海！</p><p></p><p style=\"border-left:5px solid #3991e5;color:#3991e5;background:#f5f7f7;padding-left:10px;line-height:35px;margin-bottom:8px;\"><strong>【篇九】历年高考满分作文精选</strong></p><p>　　 传承浙江精神</p><p>　　作为浙江学子，我将以今之所学、日后之所学，为浙江之建设投入自己的力量，让浙江精神代代相传。</p><p>　　在浙江这块物阜民丰的土地上，历所形的经世致用、知行合一的思想仍激励着我们，并融入今日的浙江精神中，是浙江的瑰宝。</p><p>　　传承浙江文化是我们的责任。茅盾盾、鲁迅，那些文豪们毕其一生为我们留下了许多有力量的作品，我们又怎能不去接过这传承文化的接力棒？我们要有对文化的信仰，并用这信仰支撑我们日后的学习。</p><p>　　今日浙江之企业也秉承着浙江精神。杭州娃哈哈有限公司，从一个校办工厂到饮料巨头，创始人宗庆后表示将会“主动迎接消费升级，饮料生产由安全向健康开拓，重点向中医食疗、生物工程突破”，这种干在实处、勇立潮头的企业精神带动了企业的发展，也是浙江发展的重要动力。我们将来若是要创业，也该如娃哈哈公司这般，将浙江精神赋于实践中，承担着对社会的责任。</p><p>　　浙江精神，早已融入浙江人的生活中。无论是个人或是企业，抑或是立足于浙江这一大省，都需要我们为浙江的建设贡献自己的一份力。做自己力所能及的事情，努力去改变小环境，就是在承担对于浙江的责任。</p><p>　　近年来，我们能看到浙江的改变，“五水共治”让浙江的河流变得清澈，“特色小镇”的建设赋于浙江文化气味，“世界互联网大会”的召开拉近浙江与世界的距离。我为生为一名浙江人而感到自豪，也感慨于这些让人欣喜的变化。浙江精神融入浙江的发展中，给我们带来惊喜，也让我们感受到责任。</p><p>　　梁启超先生曾说过：“人须知负责任之苦处，才能知道尽责任之乐趣。”而我为浙江之未来，又怎能不担负起这个社会的责任？当传承浙江精神的接力棒传到我们手中，我们又能书写哪些关于我们的浙江传奇？</p><p>　　而传承浙江精神，还需要我们不断学习科学文化知识，不断加加强对于浙江的责任意识，不断去关注浙江的近况。唯有如此，我们们才能自信地书写我们的浙江故事。</p><p>　　让浙江精神融于我们的血脉中。<br/></p><p style=\"text-align: center\"><br/> <img src=\"https://img.51test.net/uploadfile/images/template/xindetihui/3.jpg\"/><br/></p><br/><p style=\"border-left:5px solid #3991e5;color:#3991e5;background:#f5f7f7;padding-left:10px;line-height:35px;margin-bottom:8px;\"><strong>【篇十】历年高考满分作文精选</strong></p><p>　　文明韧性的光辉</p><p>　　祖先造字之初，便深谙生活的玩味。单看“韧”字的构成，便给人一种难以言表的折磨与难以挣脱之感。或许与“韧”字相关的，都是需要坚强的意志以及不屈不挠的抗争――无论与外人或是于自己――才能实现，做到尽善尽美。</p><p>　　而韧性，在我看来，有是中国人深入骨髓的性情。中国历史源远流长而且内涵丰富，提到我们的文明，绝不仅仅指那些可知可感的宏伟建筑或是遗留下来的璀璨的文艺瑰宝，最值得为人道也的，是我们的民族性格――敦厚、勤劳、善良、奋进，最重要的是，百折不屈的韧性。我们经历了太多的风风雨雨，我不敢想象，在元朝骑兵已经问鼎中原，对汉文化进行“蚕食”时，那些汉文化的捍卫者们，是忍耐着多大的痛苦与不甘，但为了文化的传承而忍辱负重，是中华民族的坚持，使得我们的文化没有被侵蚀、被毁灭；我更是为近代中国被西方列强侵略之时，即便已经濒临绝望与崩溃，但仍可以重新起立，复兴中国的精神与毅力所动容。很多西方人曾用“中国人没有信仰”为名对我们大肆批驳，但事实上，我们可以铿锵有力地回复他们――我们没有统一的宗教，但中华文明是我们共同的心理纽带，这种文明的指引，就是将我们中华民族凝聚的最崇高的信仰。作为文明延续至今未曾中断的四大文明古国之一，中国值得这份殊荣。</p><p>　　几千载漫漫风雨征程，中华民族逆风前行，在无数外力以及内我的挑战与威胁中，保持中国人的品格、文化与意志岿然不动――这就是我们的韧性的光辉。</p><p>　　除了历史沧桑变迁中中国于世界所展现的坚韧，于中华民族的内部性格而言，这份韧性更是在民族发展中最本质的精神基石。若勇敢被定义为抵御外部困难时的不放弃与勇于面对，那韧性较之更为伟大的是对个人所长期坚持的理念的否定与价值观的重塑。这可能再外在看来是一种对过去的放弃与抛弃，看似微不足道甚至令人惋惜，但事实上，敢于直面自身的缺陷、并且敢于动摇自身以换取更强的生命力以及社会更加积极正向的发展，这份心，就是我所赞颂的“韧”。我们不能否认，世界是不断发展的，我们只有与时俱进才能先于时代而不是被时代的洪流裹挟或吞没。</p><p>　　我景仰那些先哲――商鞅、王安石等变革家，都是在向已现颓势却深入人心的制度与社会生活方式宣战，与他们相对抗的，不仅仅是利益的相关者，更是如大山般沉重的陈旧观念。而现代的重大改革，更是展现了中国人和中华民族性格中的韧性――我们可以改变、甚至可以*，但最本质的精髓始终是中华民族的璀璨文明，目的也统一于中国社会的蓬勃发展。如同邓小平的“改革开放”的伟大决策，是他顶着巨大的压力所作，市场化无疑于社会主义而言是不可相容的，但是为了中国人民的幸福、中国经济的腾飞，他和他们所有人，愿意承受这份风险。他们相信，这是巨大而改变，但一定不会带来毁灭。而我们勇毅坚韧的中国人，更是逐渐适应了这样翻天覆地的变化，用自己的奋斗，构建了更美好的家园――唯有这份韧性，才能如此处变不惊，我们的国家才会走向复兴。</p><p>　　韧性于中国，像是一种与生俱来又后天不断坚定的信念。正因这种坚韧不屈，我们的文化才能至今愈加灿烂；正是这种柔中带刚，让我们的人格完善而强大，得以构成更加美好的家园。</p><p></p>\n",
       "<a class=\"word_download_tip\" href=\"javascript:void(0);\" onclick=\"opendownform('https://user.51test.net/vip/download/word/?id=9870584','【VIP会员特权】Word文档下载')\">\n",
       "<img class=\"word_download_tip_pic\" src=\"https://img.51test.net/uploadfile/bdstatic/2dbaa697a8fd0ea2d7955cb34c1cc94e.jpeg\"/>\n",
       "<div class=\"word_download_tip_msg\">\n",
       "<div class=\"word_download_tip_title\" style=\"text-decoration:none;\">历年高考满分作文精选【十篇】.doc</div>\n",
       "<div class=\"word_download_tip_tip\">下载Word文档到电脑，方便收藏和打印[全文共11687字]</div>\n",
       "<div class=\"word_download_tip_tj\">\n",
       "<span>编辑推荐：</span>\n",
       "<img src=\"https://img.51test.net/uploadfile/bdstatic/b1d8212fa9a8d2395f6d2789815be907.png\"/>\n",
       "<img src=\"https://img.51test.net/uploadfile/bdstatic/b1d8212fa9a8d2395f6d2789815be907.png\"/>\n",
       "<img src=\"https://img.51test.net/uploadfile/bdstatic/b1d8212fa9a8d2395f6d2789815be907.png\"/>\n",
       "<img src=\"https://img.51test.net/uploadfile/bdstatic/b1d8212fa9a8d2395f6d2789815be907.png\"/>\n",
       "<img src=\"https://img.51test.net/uploadfile/bdstatic/b1d8212fa9a8d2395f6d2789815be907.png\"/>\n",
       "</div>\n",
       "</div>\n",
       "<div class=\"word_download_tip_btn\">\n",
       "<div class=\"word_btn_right\">\n",
       "<div>下载Word文档</div>\n",
       "</div>\n",
       "</div>\n",
       "</a>\n",
       "</div>\n",
       "<script>a(\"show_conten1\");</script>\n",
       "<div class=\"clear-both\"></div>\n",
       "<div class=\"Relevant\">\n",
       "<div class=\"title-r\"><span>相关推荐</span></div>\n",
       "<ul>\n",
       "<li class=\"tuwen\">\n",
       "<h2><a href=\"/show/9870584.html\" target=\"_blank\">历年高考满分作文精选【十篇】</a></h2>\n",
       "<div class=\"motu\">\n",
       "<span class=\"show_img\"><a href=\"/show/9870584.html\" target=\"_blank\"><img alt=\"历年高考满分作文精选【十篇】\" src=\"//img.51test.net/uploadfile/images/template/riji/8.jpg\"/></a></span>\n",
       "<span class=\"miaoshu2\"><a href=\"/show/9870584.html\" target=\"_blank\">\n",
       "【导语】低分作文都是相似的，满分作文各有各的好处。分析别人的优秀作文，模仿借鉴其写作技巧，逐渐形成自己的风格，是提高作文水平的捷径。 无忧考网整理了历年高考满分作文精选，一起看看吧。【篇一】历年高考满分作文精选风物长宜放眼量偏居乡野，自然无法...<span>2020-05-12</span></a>\n",
       "</span>\n",
       "</div>\n",
       "</li>\n",
       "<li class=\"tuwen\">\n",
       "<h2><a href=\"/show/9869206.html\" target=\"_blank\">高考满分作文范文800字：我想握紧你的手</a></h2>\n",
       "<div class=\"motu\">\n",
       "<span class=\"show_img\"><a href=\"/show/9869206.html\" target=\"_blank\"><img alt=\"高考满分作文范文800字：我想握紧你的手\" data-src=\"//img.51test.net/uploadfile/images/default/yingyukouyu/2.jpg\" src=\"//img.51test.net/img_default_list.png\"/></a></span>\n",
       "<span class=\"miaoshu2\"><a href=\"/show/9869206.html\" target=\"_blank\">\n",
       "【导语】对于同学们来说，想要写一篇高质量的作文，可不是那么简单的事，更多的时候，大家的作文不是语句不通、不会表达、词不达意、无话可说、就是句型篇章错乱，那么如何克服这些困难，写出一篇高分作文呢？无忧考网今天给大家整理了高考满分作文范文800字，...<span>2020-05-11</span></a>\n",
       "</span>\n",
       "</div>\n",
       "</li>\n",
       "<li class=\"tuwen\">\n",
       "<h2><a href=\"/show/9868127.html\" target=\"_blank\">2020年高考满分作文范文900字三篇</a></h2>\n",
       "<div class=\"motu\">\n",
       "<span class=\"show_img\"><a href=\"/show/9868127.html\" target=\"_blank\"><img alt=\"2020年高考满分作文范文900字三篇\" data-src=\"//img.51test.net/uploadfile/images/default/59.jpg\" src=\"//img.51test.net/img_default_list.png\"/></a></span>\n",
       "<span class=\"miaoshu2\"><a href=\"/show/9868127.html\" target=\"_blank\">\n",
       "【导语】目前考场作文写作的最大问题是缺少深度，突破这一瓶颈的一大关键是提高素材运用的准确性。我肯可以多看下别人的高考优秀作文是怎么做到这些的。下面是无忧考网给大家整理的2020年高考满分作文范文900字，供大家参阅!【篇一】2020年高考满分作文范文90...<span>2020-05-09</span></a>\n",
       "</span>\n",
       "</div>\n",
       "</li>\n",
       "<li class=\"tuwen\">\n",
       "<h2><a href=\"/show/9865921.html\" target=\"_blank\">2020高考满分作文范文800字：独立自主，人生成长的基石</a></h2>\n",
       "<div class=\"motu\">\n",
       "<span class=\"show_img\"><a href=\"/show/9865921.html\" target=\"_blank\"><img alt=\"2020高考满分作文范文800字：独立自主，人生成长的基石\" data-src=\"//img.51test.net/uploadfile/images/default/gaokaolizhi/05.jpg\" src=\"//img.51test.net/img_default_list.png\"/></a></span>\n",
       "<span class=\"miaoshu2\"><a href=\"/show/9865921.html\" target=\"_blank\">\n",
       "【导语】作文是语文考试的重中之重，想要写出好的作文，可以多看一些满分作文，灵活运用来提升自己的作文分值。无忧考网为大家带来2020高考满分作文范文800字！我们来看一看吧！【篇一】2020高考满分作文范文800字：独立自主，人生成长的基石 自立是船，载着你...<span>2020-05-06</span></a>\n",
       "</span>\n",
       "</div>\n",
       "</li>\n",
       "<li class=\"tuwen\">\n",
       "<h2><a href=\"/show/9865779.html\" target=\"_blank\">2020高考满分作文范文900字：学会尊重</a></h2>\n",
       "<div class=\"motu\">\n",
       "<span class=\"show_img\"><a href=\"/show/9865779.html\" target=\"_blank\"><img alt=\"2020高考满分作文范文900字：学会尊重\" data-src=\"//img.51test.net/uploadfile/images/default/gaoer/8.jpg\" src=\"//img.51test.net/img_default_list.png\"/></a></span>\n",
       "<span class=\"miaoshu2\"><a href=\"/show/9865779.html\" target=\"_blank\">\n",
       "【导语】不管是中考语文还是高考语文，作文都是受人关注的，同时也是试卷中分值最大的一个项目。无忧考网整理了2020高考满分作文范文900字供大家鉴赏。【篇一】2020高考满分作文范文900字：学会尊重凶猛的藏獒也不过如此，鹦鹉不过就是一只破鸟，又能把我怎么...<span>2020-05-06</span></a>\n",
       "</span>\n",
       "</div>\n",
       "</li>\n",
       "<li class=\"tuwen\">\n",
       "<h2><a href=\"/show/9865768.html\" target=\"_blank\">2020高考满分作文范文1000字三篇</a></h2>\n",
       "<div class=\"motu\">\n",
       "<span class=\"show_img\"><a href=\"/show/9865768.html\" target=\"_blank\"><img alt=\"2020高考满分作文范文1000字三篇\" data-src=\"//img.51test.net/uploadfile/images/default/gaoer/2.jpg\" src=\"//img.51test.net/img_default_list.png\"/></a></span>\n",
       "<span class=\"miaoshu2\"><a href=\"/show/9865768.html\" target=\"_blank\">\n",
       "【导语】写好作文的核心除了直接说出我们的观点，还要对我们的观点加以证明，证明观点的时候，就需要事实材料或者前人的观念的材料。以下是无忧考网为大家整理的《2020高考满分作文范文》供您查阅。【篇一】2020高考满分作文范文1000字自然是永恒的奇葩。她捏...<span>2020-05-06</span></a>\n",
       "</span>\n",
       "</div>\n",
       "</li>\n",
       "<li class=\"tuwen\">\n",
       "<h2><a href=\"/show/9858493.html\" target=\"_blank\">2020高考满分作文范文1000字</a></h2>\n",
       "<div class=\"motu\">\n",
       "<span class=\"show_img\"><a href=\"/show/9858493.html\" target=\"_blank\"><img alt=\"2020高考满分作文范文1000字\" data-src=\"//img.51test.net/uploadfile/images/default/qqgexing/8.jpg\" src=\"//img.51test.net/img_default_list.png\"/></a></span>\n",
       "<span class=\"miaoshu2\"><a href=\"/show/9858493.html\" target=\"_blank\">\n",
       "【导语】作文是语文学科的重要组成部分，不管是小学还是初中，我们每次语文考试都是要写作文的，而且随着年级的增加，你的作文分值也会增加，写好一篇作文会让你的语文成绩好看很多。无忧考网今天整理了2020高考满分作文范文1000字，一起来欣赏吧。2020高考满...<span>2020-04-24</span></a>\n",
       "</span>\n",
       "</div>\n",
       "</li>\n",
       "<li class=\"tuwen\">\n",
       "<h2><a href=\"/show/9858328.html\" target=\"_blank\">高考满分作文900字：深入灵魂的热爱</a></h2>\n",
       "<div class=\"motu\">\n",
       "<span class=\"show_img\"><a href=\"/show/9858328.html\" target=\"_blank\"><img alt=\"高考满分作文900字：深入灵魂的热爱\" data-src=\"//img.51test.net/uploadfile/images/default/nce/07.jpg\" src=\"//img.51test.net/img_default_list.png\"/></a></span>\n",
       "<span class=\"miaoshu2\"><a href=\"/show/9858328.html\" target=\"_blank\">\n",
       "【导语】写作文时若想信手拈来，必须有高质量的作文素材积累。但是素材不能只考虑越多越好，特别是在冲刺阶段，素材积累更要优质高效。所以在我们写好一篇高考作文之前，必须要多读高分范本，去挖掘它们的高分亮点，学习借鉴。今天无忧考网整理了《高考满分作...<span>2020-04-24</span></a>\n",
       "</span>\n",
       "</div>\n",
       "</li>\n",
       "</ul>\n",
       "</div>\n",
       "</div>\n",
       "<div class=\"content-fr\">\n",
       "<script>a(\"show_right1\");</script>\n",
       "<div class=\"read-sort\">\n",
       "<div class=\"title\"><span><a href=\"/gaokao/rd/\" target=\"_blank\">\n",
       "高考热点专题</a></span></div>\n",
       "<ul>\n",
       "<li><a class=\"txt85\" href=\"/show/9870584.html\" target=\"_blank\">历年高考满分作文精选【十篇】</a>\n",
       "</li>\n",
       "<li><a class=\"txt85\" href=\"/show/9869216.html\" target=\"_blank\">2020高考优秀人物传记叙文范文三篇</a>\n",
       "</li>\n",
       "<li><a class=\"txt85\" href=\"/show/9869206.html\" target=\"_blank\">高考满分作文范文800字：我想握紧你的手</a>\n",
       "</li>\n",
       "<li><a class=\"txt85\" href=\"/show/9869199.html\" target=\"_blank\">高考满分记叙作文范文900字三篇</a>\n",
       "</li>\n",
       "<li><a class=\"txt85\" href=\"/show/9869195.html\" target=\"_blank\">2020高考满分记叙文范文三篇</a>\n",
       "</li>\n",
       "<li><a class=\"txt85\" href=\"/show/9869078.html\" target=\"_blank\">2020高考英语作文素材：文化遗产</a>\n",
       "</li>\n",
       "<li><a class=\"txt85\" href=\"/show/9869024.html\" target=\"_blank\">高考优秀英语作文范文三篇</a>\n",
       "</li>\n",
       "<li><a class=\"txt85\" href=\"/show/9869003.html\" target=\"_blank\">高考优秀议论文作文三篇</a>\n",
       "</li>\n",
       "<li><a class=\"txt85\" href=\"/show/9868136.html\" target=\"_blank\">高考优秀英语作文开头结尾句子</a>\n",
       "</li>\n",
       "<li><a class=\"txt85\" href=\"/show/9868133.html\" target=\"_blank\">高考作文成语故事素材三篇</a>\n",
       "</li>\n",
       "</ul>\n",
       "</div>\n",
       "<script>a(\"show_right2\");</script>\n",
       "<div class=\"read-sort\">\n",
       "<div class=\"title\"><span><a href=\"/gaokao/xw/\" target=\"_blank\">\n",
       "高考最新更新</a></span></div>\n",
       "<ul>\n",
       "<li><a class=\"txt85\" href=\"/show/9870242.html\" target=\"_blank\">四川：关于为参加2020普通高考的抗击新冠肺炎一线</a>\n",
       "</li>\n",
       "<li><a class=\"txt85\" href=\"/show/9870091.html\" target=\"_blank\">31省区市各级各类学校明确返校时间</a>\n",
       "</li>\n",
       "<li><a class=\"txt85\" href=\"/show/9869688.html\" target=\"_blank\">教育部部署2020年重点高校招收农村和贫困地区学生</a>\n",
       "</li>\n",
       "<li><a class=\"txt85\" href=\"/show/9869638.html\" target=\"_blank\">四川省24所高校开学时间已确定</a>\n",
       "</li>\n",
       "<li><a class=\"txt85\" href=\"/show/9869176.html\" target=\"_blank\">海南省2020年重点高校在琼招收农村和贫困地区学生</a>\n",
       "</li>\n",
       "<li><a class=\"txt85\" href=\"/show/9869011.html\" target=\"_blank\">2020年广西普通高校招生外语口试时间调整</a>\n",
       "</li>\n",
       "<li><a class=\"txt85\" href=\"/show/9869009.html\" target=\"_blank\">2020年天津高考英语科目第一次考试时间安排在5月</a>\n",
       "</li>\n",
       "<li><a class=\"txt85\" href=\"/show/9869005.html\" target=\"_blank\">山西2020年重点高校招收农村和贫困地区学生工作的</a>\n",
       "</li>\n",
       "<li><a class=\"txt85\" href=\"/show/9868953.html\" target=\"_blank\">2020年江苏高校专项计划报名问题指南</a>\n",
       "</li>\n",
       "<li><a class=\"txt85\" href=\"/show/9868949.html\" target=\"_blank\">福建：关于做好2020年地方专项计划考生资格申报和</a>\n",
       "</li>\n",
       "</ul>\n",
       "</div>\n",
       "<script>a(\"show_right3\");</script>\n",
       "</div>\n",
       "</div>\n",
       "<script src=\"//js.51test.net/js_new/channel_bottom.js\"></script>\n",
       "</div>\n",
       "<script src=\"//js.51test.net/js_new/copyright_simple.js\"></script>\n",
       "<script src=\"//js.51test.net/js_new/baidutongji.js\"></script>\n",
       "</body>\n",
       "</html>"
      ]
     },
     "execution_count": 157,
     "metadata": {},
     "output_type": "execute_result"
    }
   ],
   "source": [
    "soup"
   ]
  },
  {
   "cell_type": "code",
   "execution_count": null,
   "metadata": {
    "collapsed": true
   },
   "outputs": [],
   "source": []
  }
 ],
 "metadata": {
  "anaconda-cloud": {},
  "kernelspec": {
   "name": "python3",
   "display_name": "Python 3.7.7 64-bit",
   "metadata": {
    "interpreter": {
     "hash": "73b28cf814fb2299e0dfc9107d6c8bc7ed40bee013bee82fc200b62a2c555602"
    }
   }
  },
  "language_info": {
   "codemirror_mode": {
    "name": "ipython",
    "version": 3
   },
   "file_extension": ".py",
   "mimetype": "text/x-python",
   "name": "python",
   "nbconvert_exporter": "python",
   "pygments_lexer": "ipython3",
   "version": "3.7.7-final"
  }
 },
 "nbformat": 4,
 "nbformat_minor": 2
}
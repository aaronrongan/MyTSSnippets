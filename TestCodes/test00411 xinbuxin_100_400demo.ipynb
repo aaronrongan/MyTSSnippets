{
 "cells": [
  {
   "cell_type": "markdown",
   "metadata": {},
   "source": [
    "# 要点\n",
    "******\n",
    "1. 市值最小策略\n",
    "2. 对pandas dataframe的灵活运用\n",
    "        主要是筛选功能\n",
    "            # 即最后一天不交易的股票，不能买入。\n",
    "                stock_data = stock_data[stock_data['是否交易'] != 0]\n",
    "            \n",
    "            # 选取排名前10的股票 \n",
    "                stock_data = stock_data[stock_data['市值_排名'] <= 300]\n",
    "3. 日期格式\n",
    "        stock_data['交易日期'] = pd.to_datetime(stock_data['交易日期'])\n",
    "4. 排序\n",
    "        stock_data.sort_values(by=['交易日期', '股票代码'], inplace=True)\n",
    "5. 开始时间设定\n",
    "        stock_data = stock_data[stock_data['交易日期'] > pd.to_datetime('20060101')]\n",
    "6. output['所有股票下月涨幅'] = stock_data.groupby('交易日期')['下月涨幅'].mean()\n",
    "7. 计算每月市值排名\n",
    "        stock_data['市值_排名'] = stock_data.groupby('交易日期')['总市值'].rank()\n",
    "8. # 计算选中的股票在下月的涨幅\n",
    "        output['选中股票下月涨幅'] = stock_data.groupby('交易日期')['下月涨幅'].mean()\n",
    "9. # 选取排名前10的股票\n",
    "        stock_data = stock_data[stock_data['市值_排名'] <= 300]        \n",
    "10.output['股票代码'] = stock_data.groupby('交易日期')['股票代码'].sum()\n",
    "11.计算累计涨幅\n",
    "    output['line_benchmark'] = (output['所有股票下月涨幅'] + 1).cumprod()\n",
    "12."
   ]
  },
  {
   "cell_type": "code",
   "execution_count": null,
   "metadata": {
    "collapsed": true
   },
   "outputs": [],
   "source": [
    "# coding=utf-8\n",
    "import pandas as pd\n",
    "import matplotlib.pyplot as plt\n",
    "pd.set_option('expand_frame_repr', False)"
   ]
  },
  {
   "cell_type": "code",
   "execution_count": null,
   "metadata": {
    "collapsed": false
   },
   "outputs": [],
   "source": [
    "# 导入数据\n",
    "# stock_data = pd.read_csv('C:/Users/aaron/Documents/MyMobileBooks_800_Reading/MyTSSnippets/ReferenceCodes/量化小讲堂 均线策略/code_data/data/stock_data.csv',\n",
    "#                          encoding='utf-8-sig')  # 此处填入数据在本地的路径\n",
    "stock_data = pd.read_csv('C:/Users/aaron/Documents/MyMobileBooks_800_Reading/MyTSSnippets/ReferenceCodes/量化小讲堂 均线策略/code_data/data/stock_data.csv',\n",
    "                         encoding='utf-8')  # 此处填入数据在本地的路径"
   ]
  },
  {
   "cell_type": "code",
   "execution_count": null,
   "metadata": {
    "collapsed": false
   },
   "outputs": [],
   "source": [
    "# stock_data.columns.decode('utf-8')\n",
    "stock_data.head(3)\n"
   ]
  },
  {
   "cell_type": "code",
   "execution_count": null,
   "metadata": {
    "collapsed": false
   },
   "outputs": [],
   "source": [
    "# stock_data = pd.read_csv('C:/Users/aaron/Documents/MyMobileBooks_800_Reading/均线策略最新/10年400倍策略/code_data/data/stock_data.csv')  # 此处填入数据在本地的路径\n",
    "# stock_data.columns = [i.encode('utf8') for i in stock_data.columns]\n",
    "stock_data.columns = [str1 for str1 in stock_data.columns]\n",
    "print(stock_data.head(3))"
   ]
  },
  {
   "cell_type": "code",
   "execution_count": null,
   "metadata": {
    "collapsed": false
   },
   "outputs": [],
   "source": [
    "stock_data['交易日期'] = pd.to_datetime(stock_data['交易日期'])\n",
    "stock_data.head(5)"
   ]
  },
  {
   "cell_type": "code",
   "execution_count": null,
   "metadata": {
    "collapsed": false
   },
   "outputs": [],
   "source": [
    "# 排序\n",
    "stock_data.sort_values(by=['交易日期', '股票代码'], inplace=True)\n",
    "stock_data.head(10)"
   ]
  },
  {
   "cell_type": "code",
   "execution_count": null,
   "metadata": {
    "collapsed": false
   },
   "outputs": [],
   "source": [
    "# 开始时间太早\n",
    "stock_data = stock_data[stock_data['交易日期'] > pd.to_datetime('20060101')]\n",
    "stock_data"
   ]
  },
  {
   "cell_type": "code",
   "execution_count": null,
   "metadata": {
    "collapsed": false
   },
   "outputs": [],
   "source": [
    "# 将月末停牌股票去除\n",
    "# 万科在2015年12月18日停牌，2016年7月4日复牌。在12月31日那一天是不能买入这个股票的。\n",
    "# 即最后一天不交易的股票，不能买入。\n",
    "stock_data = stock_data[stock_data['是否交易'] != 0]\n",
    "# 该月交易时间过短，去除\n",
    "# 像万科在12月，停牌时间过长，这样的股票也不能买入。得知道这个股票在本月的交易天数\n",
    "stock_data = stock_data[stock_data['交易天数'] >= 10]\n",
    "# 在当天涨停的股票，也不能买入。这里使用0.097，是有问题的，没有考虑st股票\n",
    "stock_data = stock_data[stock_data['最后一天涨跌幅'] <= 0.097]\n",
    "stock_data.head(10)"
   ]
  },
  {
   "cell_type": "code",
   "execution_count": null,
   "metadata": {
    "collapsed": false
   },
   "outputs": [],
   "source": [
    "# 计算所有股票在下个月的平均涨幅\n",
    "output = pd.DataFrame()\n",
    "\n",
    "output['所有股票下月涨幅'] = stock_data.groupby('交易日期')['下月涨幅'].mean()\n",
    "output"
   ]
  },
  {
   "cell_type": "code",
   "execution_count": null,
   "metadata": {
    "collapsed": true
   },
   "outputs": [],
   "source": [
    "# 计算每月市值排名\n",
    "stock_data['市值_排名'] = stock_data.groupby('交易日期')['总市值'].rank()\n",
    "\n",
    "stock_data"
   ]
  },
  {
   "cell_type": "code",
   "execution_count": null,
   "metadata": {
    "collapsed": false
   },
   "outputs": [],
   "source": [
    "# 选取排名前10的股票\n",
    "stock_data = stock_data[stock_data['市值_排名'] <= 300]\n",
    "stock_data"
   ]
  },
  {
   "cell_type": "code",
   "execution_count": null,
   "metadata": {
    "collapsed": false
   },
   "outputs": [],
   "source": [
    "# 计算选中的股票在下月的涨幅\n",
    "output['选中股票下月涨幅'] = stock_data.groupby('交易日期')['下月涨幅'].mean()\n",
    "output"
   ]
  },
  {
   "cell_type": "code",
   "execution_count": null,
   "metadata": {
    "collapsed": false
   },
   "outputs": [],
   "source": [
    "# 输出选择股票和资金曲线\n",
    "stock_data['股票代码'] += ' '"
   ]
  },
  {
   "cell_type": "code",
   "execution_count": null,
   "metadata": {
    "collapsed": false
   },
   "outputs": [],
   "source": [
    "output['股票代码'] = stock_data.groupby('交易日期')['股票代码'].sum()\n",
    "output"
   ]
  },
  {
   "cell_type": "code",
   "execution_count": null,
   "metadata": {
    "collapsed": false
   },
   "outputs": [],
   "source": [
    "output['line_benchmark'] = (output['所有股票下月涨幅'] + 1).cumprod()\n",
    "output"
   ]
  },
  {
   "cell_type": "code",
   "execution_count": null,
   "metadata": {
    "collapsed": false
   },
   "outputs": [],
   "source": [
    "output['line'] = (output['选中股票下月涨幅'] + 1).cumprod()\n",
    "output"
   ]
  },
  {
   "cell_type": "code",
   "execution_count": null,
   "metadata": {
    "collapsed": false
   },
   "outputs": [],
   "source": [
    "output.to_csv('/output.csv',mode='a', encoding='gbk')  # 此处填入数据输出的路径\n",
    "print(output)"
   ]
  },
  {
   "cell_type": "code",
   "execution_count": null,
   "metadata": {
    "collapsed": false
   },
   "outputs": [],
   "source": [
    "# 画图\n",
    "plt.plot(output['line'])\n",
    "plt.plot(output['line_benchmark'])\n",
    "plt.legend(loc='best')\n",
    "plt.show()"
   ]
  }
 ],
 "metadata": {
  "anaconda-cloud": {},
  "kernelspec": {
   "display_name": "Python [conda root]",
   "language": "python",
   "name": "conda-root-py"
  },
  "language_info": {
   "codemirror_mode": {
    "name": "ipython",
    "version": 3
   },
   "file_extension": ".py",
   "mimetype": "text/x-python",
   "name": "python",
   "nbconvert_exporter": "python",
   "pygments_lexer": "ipython3",
   "version": "3.5.6"
  }
 },
 "nbformat": 4,
 "nbformat_minor": 1
}

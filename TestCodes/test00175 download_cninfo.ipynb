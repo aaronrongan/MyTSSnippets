{
 "cells": [
  {
   "cell_type": "markdown",
   "metadata": {},
   "source": [
    "# 要点\n",
    "- 正则表达式，找出不含有某个字符串。目前用一个比较锉的方法来实现。\n",
    "- 在Jason中找到需要的字段json.loads(r.text).get('announcements').get....\n",
    "- \n",
    "- 网络文件的下载\n"
   ]
  },
  {
   "cell_type": "code",
   "execution_count": 58,
   "metadata": {
    "collapsed": true
   },
   "outputs": [],
   "source": [
    "import csv\n",
    "import math\n",
    "import os\n",
    "import time\n",
    "import requests\n",
    "import json\n",
    "import urllib"
   ]
  },
  {
   "cell_type": "code",
   "execution_count": 95,
   "metadata": {},
   "outputs": [],
   "source": [
    "headers = {\"User-Agent\": \"Mozilla/5.0 (Macintosh; Intel Mac OS X 10.13; rv:55.0) Gecko/20100101 Firefox/55.0\"}\n",
    "   \n",
    "realurl='http://www.cninfo.com.cn/new/fulltextSearch/full?searchkey=300383+招股&sdate=&edate=&isfulltext=false&sortName=pubdate&sortType=desc&pageNum=1'\n",
    "r = requests.get(realurl, timeout=10, headers=headers)"
   ]
  },
  {
   "cell_type": "code",
   "execution_count": 104,
   "metadata": {},
   "outputs": [],
   "source": [
    "#print(r.text)"
   ]
  },
  {
   "cell_type": "code",
   "execution_count": 97,
   "metadata": {
    "collapsed": true
   },
   "outputs": [],
   "source": [
    "#realurl2='http://www.cninfo.com.cn/new/announcement/bulletin_detail?announceId=21090184&flag=false&announceTime=2007-02-28%2006:30'\n",
    "#r2 = requests.get(realurl, timeout=10, headers=headers)"
   ]
  },
  {
   "cell_type": "code",
   "execution_count": 98,
   "metadata": {},
   "outputs": [],
   "source": [
    "#print(r2.text)"
   ]
  },
  {
   "cell_type": "code",
   "execution_count": 103,
   "metadata": {},
   "outputs": [
    {
     "name": "stdout",
     "output_type": "stream",
     "text": [
      "<em>光环新网</em>：首次公开发行股票并在创业板上市<em>招股</em>说明书\n",
      "http://static.cninfo.com.cn/finalpage/2014-01-20/63501228.PDF\n"
     ]
    }
   ],
   "source": [
    "#state=json.loads(r.text).get('classifiedAnnouncements').get('announcements')\n",
    "annlists=json.loads(r.text).get('announcements')\n",
    "for each in annlists:\n",
    "    #print(each.get('announcementTitle')) #列出所有的搜索列表\n",
    "    #下面的语句比较锉，以后尝试用正则表达式实现\n",
    "    if each.get('announcementTitle').find('首次公开发行')>=0 :\n",
    "        if each.get('announcementTitle').find('招股</em>说明书')>=0 :\n",
    "            if each.get('announcementTitle').find('摘要')<0 :\n",
    "                if each.get('announcementTitle').find('附录')<0 :\n",
    "                    print(each.get('announcementTitle'))\n",
    "                    url=each.get('adjunctUrl')\n",
    "    \n",
    "fullurl='http://static.cninfo.com.cn/' +url\n",
    "print(fullurl)"
   ]
  },
  {
   "cell_type": "code",
   "execution_count": 75,
   "metadata": {},
   "outputs": [
    {
     "data": {
      "text/plain": [
       "('c://1.pdf', <http.client.HTTPMessage at 0x27cd15787b8>)"
      ]
     },
     "execution_count": 75,
     "metadata": {},
     "output_type": "execute_result"
    }
   ],
   "source": [
    "urllib.request.urlretrieve(fullurl,filename=\"c://1.pdf\")"
   ]
  },
  {
   "cell_type": "code",
   "execution_count": null,
   "metadata": {
    "collapsed": true
   },
   "outputs": [],
   "source": []
  }
 ],
 "metadata": {
  "anaconda-cloud": {},
  "kernelspec": {
   "display_name": "Python 3",
   "language": "python",
   "name": "python3"
  },
  "language_info": {
   "codemirror_mode": {
    "name": "ipython",
    "version": 3
   },
   "file_extension": ".py",
   "mimetype": "text/x-python",
   "name": "python",
   "nbconvert_exporter": "python",
   "pygments_lexer": "ipython3",
   "version": "3.5.1"
  }
 },
 "nbformat": 4,
 "nbformat_minor": 1
}

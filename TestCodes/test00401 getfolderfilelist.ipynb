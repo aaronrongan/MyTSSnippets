{
 "cells": [
  {
   "cell_type": "markdown",
   "metadata": {},
   "source": [
    "获取一个文件夹下所有文件名\n",
    "\n",
    "要点：\n",
    "*. 循环文件夹命令 for root,dirs,files in os.walk(FolderPath):*\n",
    "*. 循环子文件夹命令"
   ]
  },
  {
   "cell_type": "code",
   "execution_count": 1,
   "metadata": {
    "collapsed": true
   },
   "outputs": [],
   "source": [
    "import csv\n",
    "import os"
   ]
  },
  {
   "cell_type": "code",
   "execution_count": 3,
   "metadata": {
    "collapsed": false
   },
   "outputs": [],
   "source": [
    "FolderPath='C:/Users/aaron/Documents/MyMobileBooks_800_Reading/MyTSSnippets/ReferenceCodes/ZippedRepo'\n",
    "SavePath='c:/folderfilelist.csv'"
   ]
  },
  {
   "cell_type": "code",
   "execution_count": 8,
   "metadata": {
    "collapsed": false
   },
   "outputs": [
    {
     "name": "stdout",
     "output_type": "stream",
     "text": [
      "C:/Users/aaron/Documents/MyMobileBooks_800_Reading/MyTSSnippets/ReferenceCodes/ZippedRepo\n",
      "[]\n",
      "['521xueweihan_python.zip', 'ajcr_100-pandas-puzzles.zip', 'Akuli_python-tutorial.zip', 'Alfred1984_interesting-python.zip', 'AllenDowney_ThinkPython.zip', 'bbfamily_abu.zip', 'coodict_python3-in-one-pic.zip', 'daniloxxv_100-regex-python.zip', 'darkprinx_100-plus-Python-programming-exercises-extended.zip', 'donnemartin_data-science-ipython-notebooks.zip', 'guipsamora_pandas_exercises.zip', 'jackfrued_Python-100-Days.zip', 'jakevdp_PythonDataScienceHandbook.zip', 'jakevdp_WhirlwindTourOfPython.zip', 'jamesmawm_Mastering-Python-for-Finance-source-codes.zip', 'joaoventura_full-speed-python.zip', 'jvns_pandas-cookbook.zip', 'Learning Python_MarkLutz.zip', 'leisurelicht_wtfpython中文.zip', 'lijin-THU_notes-python.zip', 'mjbahmani_10-steps-to-become-a-data-scientist.zip', 'myquant_strategy.zip', 'QuantFans_quantdigger.zip', 'quantopian_zipline.zip', 'ricequant_rqalpha.zip', 'Rockyzsu_stock.zip', 'rougier_numpy-100.zip', 'shibing624_python-tutorial.zip', 'talkpython_100daysofcode-with-python-course.zip', 'TomAugspurger_effective-pandas.zip', 'vnpy_vnpy.zip', 'wesm_pydata-book.zip', 'woider_PythonExercise.zip', 'yhilpisch_pythonforfinance.zip', 'zhiwehu_Python-programming-exercises.zip', 'ZiniuLu_Python-100-Days.zip', 'zvtvz_zvt.zip', '_Readme.md']\n",
      "521xueweihan_python.zip\n",
      "ajcr_100-pandas-puzzles.zip\n",
      "Akuli_python-tutorial.zip\n",
      "Alfred1984_interesting-python.zip\n",
      "AllenDowney_ThinkPython.zip\n",
      "bbfamily_abu.zip\n",
      "coodict_python3-in-one-pic.zip\n",
      "daniloxxv_100-regex-python.zip\n",
      "darkprinx_100-plus-Python-programming-exercises-extended.zip\n",
      "donnemartin_data-science-ipython-notebooks.zip\n",
      "guipsamora_pandas_exercises.zip\n",
      "jackfrued_Python-100-Days.zip\n",
      "jakevdp_PythonDataScienceHandbook.zip\n",
      "jakevdp_WhirlwindTourOfPython.zip\n",
      "jamesmawm_Mastering-Python-for-Finance-source-codes.zip\n",
      "joaoventura_full-speed-python.zip\n",
      "jvns_pandas-cookbook.zip\n",
      "Learning Python_MarkLutz.zip\n",
      "leisurelicht_wtfpython中文.zip\n",
      "lijin-THU_notes-python.zip\n",
      "mjbahmani_10-steps-to-become-a-data-scientist.zip\n",
      "myquant_strategy.zip\n",
      "QuantFans_quantdigger.zip\n",
      "quantopian_zipline.zip\n",
      "ricequant_rqalpha.zip\n",
      "Rockyzsu_stock.zip\n",
      "rougier_numpy-100.zip\n",
      "shibing624_python-tutorial.zip\n",
      "talkpython_100daysofcode-with-python-course.zip\n",
      "TomAugspurger_effective-pandas.zip\n",
      "vnpy_vnpy.zip\n",
      "wesm_pydata-book.zip\n",
      "woider_PythonExercise.zip\n",
      "yhilpisch_pythonforfinance.zip\n",
      "zhiwehu_Python-programming-exercises.zip\n",
      "ZiniuLu_Python-100-Days.zip\n",
      "zvtvz_zvt.zip\n",
      "_Readme.md\n"
     ]
    }
   ],
   "source": [
    "for root,dirs,files in os.walk(FolderPath):\n",
    "    print(root)\n",
    "    print(dirs)\n",
    "    print(files)\n",
    "\n",
    "for each in files:\n",
    "    print(each)"
   ]
  }
 ],
 "metadata": {
  "kernelspec": {
   "display_name": "Python [conda root]",
   "language": "python",
   "name": "conda-root-py"
  },
  "language_info": {
   "codemirror_mode": {
    "name": "ipython",
    "version": 3
   },
   "file_extension": ".py",
   "mimetype": "text/x-python",
   "name": "python",
   "nbconvert_exporter": "python",
   "pygments_lexer": "ipython3",
   "version": "3.5.6"
  }
 },
 "nbformat": 4,
 "nbformat_minor": 1
}

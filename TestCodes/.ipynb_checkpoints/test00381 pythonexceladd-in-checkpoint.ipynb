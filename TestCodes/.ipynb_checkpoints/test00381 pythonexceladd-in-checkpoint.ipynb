{
 "cells": [
  {
   "cell_type": "markdown",
   "metadata": {},
   "source": [
    "实现在Python中操作Excel，能够将Excel作为量化系统的接口\n",
    "\n",
    "要点：\n",
    "xlwings\n",
    "\n",
    "在cell中实现写入公式，如'=EM_S_INFO_NAME(A4)'\n",
    "\n"
   ]
  },
  {
   "cell_type": "code",
   "execution_count": 1,
   "metadata": {
    "collapsed": true
   },
   "outputs": [],
   "source": [
    "import xlwings  as xw\n",
    "\n",
    "import time"
   ]
  },
  {
   "cell_type": "code",
   "execution_count": 2,
   "metadata": {
    "collapsed": false
   },
   "outputs": [
    {
     "data": {
      "text/plain": [
       "['C:\\\\Program Files\\\\Anaconda3\\\\lib\\\\site-packages\\\\xlwings']"
      ]
     },
     "execution_count": 2,
     "metadata": {},
     "output_type": "execute_result"
    }
   ],
   "source": [
    "xw.__path__"
   ]
  },
  {
   "cell_type": "code",
   "execution_count": 3,
   "metadata": {
    "collapsed": false
   },
   "outputs": [],
   "source": [
    "# xb=xw.Book()\n",
    "filepathname='C:/Users/aaron/Documents/MyMobileBooks_800_Reading/MyTSSnippets/TestCodes/Xlwings_samples1.xlsx'\n",
    "\n",
    "# app = xw.App(visible=True,add_book=False)\n",
    "#新建工作簿 (如果不接下一条代码的话，Excel只会一闪而过，卖个萌就走了）\n",
    "# wb = app.books.add()\n",
    "\n",
    "# wb = app.books.open(filepathname)\n"
   ]
  },
  {
   "cell_type": "code",
   "execution_count": 4,
   "metadata": {
    "collapsed": false
   },
   "outputs": [
    {
     "data": {
      "text/plain": [
       "<module 'xlwings' from 'C:\\\\Program Files\\\\Anaconda3\\\\lib\\\\site-packages\\\\xlwings\\\\__init__.py'>"
      ]
     },
     "execution_count": 4,
     "metadata": {},
     "output_type": "execute_result"
    }
   ],
   "source": [
    "\n",
    "# \n",
    "# app = xw.App(visible=True, add_book=False)\n",
    "\n",
    "#打开Excel文件\n",
    "\n",
    "# xb= app.books.open(filepathname)\n",
    "xb=xw.Book()\n",
    "# ?xb\n",
    "# xb=xw.Book(filepathname)\n",
    "xw\n",
    "# ?xb"
   ]
  },
  {
   "cell_type": "code",
   "execution_count": 5,
   "metadata": {
    "collapsed": false
   },
   "outputs": [
    {
     "data": {
      "text/plain": [
       "<Book [工作簿9]>"
      ]
     },
     "execution_count": 5,
     "metadata": {},
     "output_type": "execute_result"
    }
   ],
   "source": [
    "# xb.activate()\n",
    "xb\n",
    "# xw.App.visible=True"
   ]
  },
  {
   "cell_type": "code",
   "execution_count": 6,
   "metadata": {
    "collapsed": false
   },
   "outputs": [],
   "source": [
    "# xw.Range('A1').value=\"New3\"\n",
    "# xw.Range('B1').value=\"New3\"\n",
    "\n",
    "xw.Range('A3').value=\"600340\"\n",
    "xw.Range('A4').value=\"002304\"\n",
    "xw.Range('C3').value=\"2019/2/1\"\n",
    "xw.Range('C4').value=\"2019/2/1\"\n",
    "xw.Range('D3').value=\"2019/12/1\"\n",
    "xw.Range('D4').value=\"2019/12/1\"\n",
    "# xw.Range('C5').value=\"2019/2/1\""
   ]
  },
  {
   "cell_type": "code",
   "execution_count": null,
   "metadata": {
    "collapsed": false
   },
   "outputs": [],
   "source": []
  },
  {
   "cell_type": "code",
   "execution_count": 7,
   "metadata": {
    "collapsed": false
   },
   "outputs": [
    {
     "name": "stdout",
     "output_type": "stream",
     "text": [
      "Refreshing\n",
      "Refreshing\n",
      "Refreshing\n",
      "Refreshing\n",
      "Refreshing\n",
      "Refreshing\n",
      "Refreshing\n",
      "Refreshing\n",
      "Refreshing\n",
      "Refreshing\n",
      "Refreshing\n",
      "Refreshing\n",
      "Refreshing\n",
      "Refreshing\n",
      "Refreshing\n",
      "Refreshing\n",
      "Refreshing\n",
      "Refreshing\n",
      "Refreshing\n",
      "Refreshing\n",
      "Refreshing\n",
      "Refreshing\n",
      "Refreshing\n",
      "Refreshing\n",
      "Refreshing\n",
      "Refreshing\n",
      "Refreshing\n",
      "Refreshing\n",
      "Refreshing\n",
      "Refreshing\n",
      "Refreshing\n",
      "Refreshing\n",
      "Refreshing\n",
      "Refreshing\n",
      "Refreshing\n",
      "Refreshing\n",
      "Refreshing\n",
      "Refreshing\n",
      "Refreshing\n",
      "Refreshing\n",
      "Refreshing\n",
      "Refreshing\n",
      "Refreshing\n",
      "Refreshing\n",
      "Refreshing\n",
      "Refreshing\n",
      "Refreshing\n",
      "Refreshing\n",
      "Refreshing\n",
      "Refreshing\n",
      "Refreshing\n",
      "Refreshing\n",
      "Refreshing\n",
      "Refreshing\n",
      "Refreshing\n",
      "Refreshing\n",
      "Refreshing\n",
      "Refreshing\n",
      "Refreshing\n",
      "Refreshing\n",
      "Refreshing\n",
      "Refreshing\n",
      "Refreshing\n",
      "Refreshing\n",
      "Refreshing\n",
      "Refreshing\n",
      "Refreshing\n",
      "Refreshing\n",
      "Refreshing\n",
      "Refreshing\n",
      "Refreshing\n",
      "Refreshing\n",
      "Refreshing\n",
      "Refreshing\n",
      "Refreshing\n",
      "Refreshing\n",
      "Refreshing\n",
      "Refreshing\n",
      "Refreshing\n",
      "Refreshing\n",
      "Refreshing\n",
      "Refreshing\n",
      "Refreshing\n",
      "Refreshing\n",
      "Refreshing\n",
      "Refreshing\n",
      "Refreshing\n",
      "Refreshing\n",
      "Refreshing\n",
      "Refreshing\n",
      "Refreshing\n",
      "Refreshing\n",
      "Refreshing\n",
      "Refreshing\n",
      "Refreshing\n",
      "Refreshing\n",
      "Refreshing\n",
      "Refreshing\n",
      "Refreshing\n",
      "Refreshing\n",
      "Refreshing\n",
      "Refreshing\n",
      "Refreshing\n",
      "Refreshing\n",
      "Refreshing\n",
      "Refreshing\n",
      "Refreshing\n",
      "Refreshing\n"
     ]
    },
    {
     "ename": "KeyboardInterrupt",
     "evalue": "",
     "output_type": "error",
     "traceback": [
      "\u001b[0;31m---------------------------------------------------------------------------\u001b[0m",
      "\u001b[0;31mKeyboardInterrupt\u001b[0m                         Traceback (most recent call last)",
      "\u001b[0;32m<ipython-input-7-5af8cd8c4156>\u001b[0m in \u001b[0;36m<module>\u001b[0;34m()\u001b[0m\n\u001b[1;32m     13\u001b[0m     \u001b[0mprint\u001b[0m\u001b[1;33m(\u001b[0m\u001b[0mxw\u001b[0m\u001b[1;33m.\u001b[0m\u001b[0mRange\u001b[0m\u001b[1;33m(\u001b[0m\u001b[1;34m'E3'\u001b[0m\u001b[1;33m)\u001b[0m\u001b[1;33m.\u001b[0m\u001b[0mvalue\u001b[0m\u001b[1;33m)\u001b[0m\u001b[1;33m\u001b[0m\u001b[0m\n\u001b[1;32m     14\u001b[0m     \u001b[0mprint\u001b[0m\u001b[1;33m(\u001b[0m\u001b[0mxw\u001b[0m\u001b[1;33m.\u001b[0m\u001b[0mRange\u001b[0m\u001b[1;33m(\u001b[0m\u001b[1;34m'E4'\u001b[0m\u001b[1;33m)\u001b[0m\u001b[1;33m.\u001b[0m\u001b[0mvalue\u001b[0m\u001b[1;33m)\u001b[0m\u001b[1;33m\u001b[0m\u001b[0m\n\u001b[0;32m---> 15\u001b[0;31m     \u001b[0mtime\u001b[0m\u001b[1;33m.\u001b[0m\u001b[0msleep\u001b[0m\u001b[1;33m(\u001b[0m\u001b[1;36m2\u001b[0m\u001b[1;33m)\u001b[0m\u001b[1;33m\u001b[0m\u001b[0m\n\u001b[0m\u001b[1;32m     16\u001b[0m \u001b[1;33m\u001b[0m\u001b[0m\n\u001b[1;32m     17\u001b[0m \u001b[1;33m\u001b[0m\u001b[0m\n",
      "\u001b[0;31mKeyboardInterrupt\u001b[0m: "
     ]
    }
   ],
   "source": [
    "\n",
    "\n",
    "xw.Range('B3').value='=EM_S_INFO_NAME(A3)'\n",
    "xw.Range('B4').value='=EM_S_INFO_NAME(A4)'\n",
    "# xw.Range('E3').value='=EM_S_PQ_PCTCHANGE(A3,C3,D3,\"3\")'\n",
    "# xw.Range('E4').value='=EM_S_PQ_PCTCHANGE(A4,C4,D4,\"3\")'\n",
    "# time.sleep(10)\n",
    "# xb.save('C:/Users/aaron/Documents/MyMobileBooks_800_Reading/MyTSSnippets/TestCodes/Xlwings_samples2.xlsx')\n",
    "# time.sleep(25)\n",
    "while xw.Range('B4').value =='Refreshing':\n",
    "    print(xw.Range('B3').value)\n",
    "    print(xw.Range('B4').value)\n",
    "    print(xw.Range('E3').value)\n",
    "    print(xw.Range('E4').value)\n",
    "    time.sleep()\n",
    "    \n",
    "\n",
    "xw.Range('B3').value=xw.Range('B3').value\n",
    "xw.Range('B4').value=xw.Range('B4').value\n",
    "xw.Range('E3').value=xw.Range('E3').value\n",
    "xw.Range('E4').value=xw.Range('E4').value\n",
    "xb.save('C:/Users/aaron/Documents/MyMobileBooks_800_Reading/MyTSSnippets/TestCodes/Xlwings_samples2.xlsx')\n",
    "xb.close()"
   ]
  },
  {
   "cell_type": "code",
   "execution_count": null,
   "metadata": {
    "collapsed": true
   },
   "outputs": [],
   "source": []
  }
 ],
 "metadata": {
  "anaconda-cloud": {},
  "kernelspec": {
   "display_name": "Python [conda root]",
   "language": "python",
   "name": "conda-root-py"
  },
  "language_info": {
   "codemirror_mode": {
    "name": "ipython",
    "version": 3
   },
   "file_extension": ".py",
   "mimetype": "text/x-python",
   "name": "python",
   "nbconvert_exporter": "python",
   "pygments_lexer": "ipython3",
   "version": "3.5.2"
  }
 },
 "nbformat": 4,
 "nbformat_minor": 1
}

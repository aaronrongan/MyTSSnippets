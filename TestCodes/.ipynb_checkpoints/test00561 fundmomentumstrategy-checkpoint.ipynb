{
 "cells": [
  {
   "cell_type": "markdown",
   "metadata": {},
   "source": [
    "动量策略\n",
    "\n",
    "获取股票价格及均线，然后对沪深300、中证500、创业板进行比较，获取型号\n",
    "\n",
    "要点： "
   ]
  },
  {
   "cell_type": "code",
   "execution_count": null,
   "metadata": {},
   "outputs": [],
   "source": [
    "#获取均线数据\n",
    "from pylab import mpl\n",
    "# mpl.rcParams['font.sans-serif'] = ['SimHei']  #中文显示问题\n",
    "import pandas as pd\n",
    "import tushare as ts\n",
    "import talib\n",
    "from matplotlib import pyplot as plt\n",
    "from datetime import datetime\n",
    "import matplotlib\n",
    "%matplotlib inline\n",
    "\n",
    "BenchmarkCode=\"000300.SH\"\n",
    "\n",
    "\n",
    "\n",
    "Code1=\"000300.SH\"\n",
    "Code2=\"000300.SH\"\n",
    "Code3=\"000300.SH\"\n",
    "\n",
    "\n",
    "# Code='300383'\n",
    "\n",
    "\n",
    "# CodeFull=Code\n",
    "# if Code[0]=='0' or Code[0]=='3':\n",
    "#     CodeFull=Code + '.SZ'\n",
    "# elif Code[0]=='6':\n",
    "#     CodeFull=Code + '.SH'\n",
    "\n",
    "# StockName1='华夏幸福'\n",
    "\n",
    "startdate='2013-1-5'\n",
    "enddate = datetime.today() #开始时间结束时间，选取最近一年的数据\n",
    "enddate = str(enddate)[0:10]"
   ]
  },
  {
   "cell_type": "code",
   "execution_count": null,
   "metadata": {},
   "outputs": [],
   "source": [
    "token='f20927201ecc20e3cea9279abacfbb1d39a9624820d9b2f94613f722'\n",
    "pro=ts.pro_api(token)\n",
    "\n",
    "\n",
    "#提取收盘价\n",
    "closed=df['close'].values\n",
    "#如何倒置\n",
    "#获取均线的数据，通过timeperiod参数来分别获取 5,10,20 日均线的数据。\n",
    "ma_hs300=talib.SMA(closed,timeperiod=13)\n",
    "\n",
    "ma_zz500\n",
    "\n",
    "ma_cyb\n"
   ]
  },
  {
   "cell_type": "code",
   "execution_count": null,
   "metadata": {},
   "outputs": [],
   "source": []
  }
 ],
 "metadata": {
  "kernelspec": {
   "display_name": "Python 3",
   "language": "python",
   "name": "python3"
  },
  "language_info": {
   "codemirror_mode": {
    "name": "ipython",
    "version": 3
   },
   "file_extension": ".py",
   "mimetype": "text/x-python",
   "name": "python",
   "nbconvert_exporter": "python",
   "pygments_lexer": "ipython3",
   "version": "3.5.1"
  }
 },
 "nbformat": 4,
 "nbformat_minor": 2
}

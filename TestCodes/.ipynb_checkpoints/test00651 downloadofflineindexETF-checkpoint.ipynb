{
 "cells": [
  {
   "cell_type": "markdown",
   "metadata": {},
   "source": [
    "# 下载指数数据、ETF日线数据作为回测\n",
    "* 5年以内\n",
    "* 指数清单\n",
    "    '000016.XSHG', #上证50\n",
    "    '000300.XSHG',#沪深300\n",
    "    '399006.XSHE', #创业板\n",
    "    '000905.XSHG' #中证500\n",
    "    \n",
    "    '513030.XSHG':'德国30ETF',\n",
    "    '513100.XSHG':'纳指ETF',\n",
    "    '513520.XSHG': '日经ETF',\n",
    "    '518880.XSHG':'黄金ETF',\n",
    "    \n",
    "    '399417.XSHE':'新能源车',\n",
    "    '399932.XSHE':'消费',\n",
    "    '399967.XSHE':'军工',\n",
    "    '399975.XSHE':'证券',\n",
    "    '399971.XSHE':'传媒',\n",
    "    '399987.XSHE':'酒',\n",
    "    '515070.XSHG':'人工智能',\n",
    "    '515000.XSHG':'科技龙头',\n",
    "    '512480.XSHG':'半导体',\n",
    "    '512800.XSHG':'银行',\n",
    "    '512200.XSHG':'房地产'\n",
    "    \n",
    "* 下载格式：date open close high low volume\n",
    "* 下载地点：db00071\\\n",
    "* 数据更新\n",
    "\n",
    "# 下载数数据、ETF1年内的分钟线数据作为回测\n",
    "* 同上\n"
   ]
  },
  {
   "cell_type": "code",
   "execution_count": 1,
   "metadata": {},
   "outputs": [
    {
     "name": "stdout",
     "output_type": "stream",
     "text": [
      "提示：当前环境pandas版本为0.25，get_price与get_fundamentals_continuously接口panel参数将固定为False\n",
      "注意：0.25以上版本pandas不支持panel，如使用该数据结构和相关函数请注意修改\n",
      "auth success \n"
     ]
    }
   ],
   "source": [
    "from jqdatasdk import *\n",
    "\n",
    "\n",
    "auth('13651829783','aaronjoinquant')"
   ]
  },
  {
   "cell_type": "code",
   "execution_count": null,
   "metadata": {},
   "outputs": [],
   "source": [
    "count=get_query_count()\n",
    "print(count)"
   ]
  }
 ],
 "metadata": {
  "kernelspec": {
   "display_name": "Python 3",
   "language": "python",
   "name": "python3"
  },
  "language_info": {
   "codemirror_mode": {
    "name": "ipython",
    "version": 3
   },
   "file_extension": ".py",
   "mimetype": "text/x-python",
   "name": "python",
   "nbconvert_exporter": "python",
   "pygments_lexer": "ipython3",
   "version": "3.7.7"
  }
 },
 "nbformat": 4,
 "nbformat_minor": 4
}

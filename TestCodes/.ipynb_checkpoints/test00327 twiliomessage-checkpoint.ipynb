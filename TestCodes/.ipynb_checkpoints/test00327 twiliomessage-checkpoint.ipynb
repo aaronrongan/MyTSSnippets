{
 "cells": [
  {
   "cell_type": "markdown",
   "metadata": {},
   "source": [
    "编写python代码，代码可参考官网https://www.twilio.com/docs/libraries\n",
    "————————————————\n",
    "版权声明：本文为CSDN博主「买菇凉的小火披」的原创文章，遵循 CC 4.0 BY-SA 版权协议，转载请附上原文出处链接及本声明。\n",
    "原文链接：https://blog.csdn.net/qq_31801903/article/details/81060448\n",
    "\n",
    "\n"
   ]
  },
  {
   "cell_type": "code",
   "execution_count": 37,
   "metadata": {
    "collapsed": true
   },
   "outputs": [],
   "source": [
    "from twilio.rest import Client"
   ]
  },
  {
   "cell_type": "code",
   "execution_count": 47,
   "metadata": {
    "collapsed": true
   },
   "outputs": [],
   "source": [
    "# Your Account SID from twilio.com/console\n",
    "account_sid = \"AC412d0f21432ea42fe2f9068b7a26fd35\"\n",
    "# Your Auth Token from twilio.com/console\n",
    "auth_token  = \"7c996ef074f8ddbdf5fe200333a41c9c\"\n"
   ]
  },
  {
   "cell_type": "code",
   "execution_count": 48,
   "metadata": {
    "collapsed": true
   },
   "outputs": [],
   "source": [
    "client = Client(account_sid, auth_token)\n"
   ]
  },
  {
   "cell_type": "markdown",
   "metadata": {},
   "source": [
    "\n",
    "\n",
    "message = client.messages \\\n",
    "                .create(\n",
    "                     body=\"Hello\",\n",
    "                     from_='+16606754209',\n",
    "                     to='+8613651829783'\n",
    "                 )\n",
    "print(message.sid)"
   ]
  },
  {
   "cell_type": "code",
   "execution_count": 49,
   "metadata": {},
   "outputs": [
    {
     "name": "stdout",
     "output_type": "stream",
     "text": [
      "SM482e7bf0b15840d1b724a2eac5a85570\n"
     ]
    }
   ],
   "source": [
    "message = client.messages.create(body=\"Hello\", from_='+16606754209', to='+8613651829783') \n",
    "print(message.sid)"
   ]
  },
  {
   "cell_type": "code",
   "execution_count": null,
   "metadata": {
    "collapsed": true
   },
   "outputs": [],
   "source": []
  }
 ],
 "metadata": {
  "kernelspec": {
   "display_name": "Python [conda root]",
   "language": "python",
   "name": "conda-root-py"
  },
  "language_info": {
   "codemirror_mode": {
    "name": "ipython",
    "version": 3
   },
   "file_extension": ".py",
   "mimetype": "text/x-python",
   "name": "python",
   "nbconvert_exporter": "python",
   "pygments_lexer": "ipython3",
   "version": "3.5.4"
  }
 },
 "nbformat": 4,
 "nbformat_minor": 2
}

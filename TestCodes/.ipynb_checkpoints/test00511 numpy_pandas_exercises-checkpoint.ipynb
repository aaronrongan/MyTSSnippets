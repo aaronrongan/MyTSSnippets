{
 "cells": [
  {
   "cell_type": "code",
   "execution_count": 2,
   "metadata": {
    "collapsed": true
   },
   "outputs": [],
   "source": [
    "import numpy as np"
   ]
  },
  {
   "cell_type": "code",
   "execution_count": 3,
   "metadata": {
    "collapsed": true
   },
   "outputs": [],
   "source": [
    "arr=np.arange(0,11)"
   ]
  },
  {
   "cell_type": "code",
   "execution_count": 5,
   "metadata": {
    "collapsed": false
   },
   "outputs": [
    {
     "data": {
      "text/plain": [
       "array([ 0,  1,  2,  3,  4,  5,  6,  7,  8,  9, 10])"
      ]
     },
     "execution_count": 5,
     "metadata": {},
     "output_type": "execute_result"
    }
   ],
   "source": [
    "arr"
   ]
  },
  {
   "cell_type": "code",
   "execution_count": 7,
   "metadata": {
    "collapsed": false
   },
   "outputs": [
    {
     "data": {
      "text/plain": [
       "0"
      ]
     },
     "execution_count": 7,
     "metadata": {},
     "output_type": "execute_result"
    }
   ],
   "source": [
    "arr[0]"
   ]
  },
  {
   "cell_type": "code",
   "execution_count": 9,
   "metadata": {
    "collapsed": false
   },
   "outputs": [
    {
     "data": {
      "text/plain": [
       "array([ 1,  2,  3,  4,  5,  6,  7,  8,  9, 10])"
      ]
     },
     "execution_count": 9,
     "metadata": {},
     "output_type": "execute_result"
    }
   ],
   "source": [
    "arr[1:]"
   ]
  },
  {
   "cell_type": "code",
   "execution_count": 11,
   "metadata": {
    "collapsed": false
   },
   "outputs": [
    {
     "data": {
      "text/plain": [
       "array([ 8,  9, 10])"
      ]
     },
     "execution_count": 11,
     "metadata": {},
     "output_type": "execute_result"
    }
   ],
   "source": [
    "arr[-3:]"
   ]
  },
  {
   "cell_type": "code",
   "execution_count": 12,
   "metadata": {
    "collapsed": false
   },
   "outputs": [
    {
     "ename": "ValueError",
     "evalue": "cannot reshape array of size 11 into shape (3,3)",
     "output_type": "error",
     "traceback": [
      "\u001b[0;31m---------------------------------------------------------------------------\u001b[0m",
      "\u001b[0;31mValueError\u001b[0m                                Traceback (most recent call last)",
      "\u001b[0;32m<ipython-input-12-b910bed19e0c>\u001b[0m in \u001b[0;36m<module>\u001b[0;34m()\u001b[0m\n\u001b[0;32m----> 1\u001b[0;31m \u001b[0marr\u001b[0m\u001b[1;33m.\u001b[0m\u001b[0mreshape\u001b[0m\u001b[1;33m(\u001b[0m\u001b[1;36m3\u001b[0m\u001b[1;33m,\u001b[0m\u001b[1;36m3\u001b[0m\u001b[1;33m)\u001b[0m\u001b[1;33m\u001b[0m\u001b[0m\n\u001b[0m",
      "\u001b[0;31mValueError\u001b[0m: cannot reshape array of size 11 into shape (3,3)"
     ]
    }
   ],
   "source": [
    "arr.reshape(3,3)"
   ]
  },
  {
   "cell_type": "code",
   "execution_count": 14,
   "metadata": {
    "collapsed": false
   },
   "outputs": [
    {
     "ename": "AttributeError",
     "evalue": "'numpy.ndarray' object has no attribute 'pop'",
     "output_type": "error",
     "traceback": [
      "\u001b[0;31m---------------------------------------------------------------------------\u001b[0m",
      "\u001b[0;31mAttributeError\u001b[0m                            Traceback (most recent call last)",
      "\u001b[0;32m<ipython-input-14-a064df9bc905>\u001b[0m in \u001b[0;36m<module>\u001b[0;34m()\u001b[0m\n\u001b[0;32m----> 1\u001b[0;31m \u001b[0marr\u001b[0m\u001b[1;33m.\u001b[0m\u001b[0mpop\u001b[0m\u001b[1;33m(\u001b[0m\u001b[1;36m1\u001b[0m\u001b[1;33m)\u001b[0m\u001b[1;33m\u001b[0m\u001b[0m\n\u001b[0m",
      "\u001b[0;31mAttributeError\u001b[0m: 'numpy.ndarray' object has no attribute 'pop'"
     ]
    }
   ],
   "source": [
    "arr.pop(1)"
   ]
  },
  {
   "cell_type": "code",
   "execution_count": 15,
   "metadata": {
    "collapsed": true
   },
   "outputs": [],
   "source": [
    "arr=arr[-1:]"
   ]
  },
  {
   "cell_type": "code",
   "execution_count": 17,
   "metadata": {
    "collapsed": false
   },
   "outputs": [
    {
     "data": {
      "text/plain": [
       "[10]"
      ]
     },
     "execution_count": 17,
     "metadata": {},
     "output_type": "execute_result"
    }
   ],
   "source": [
    "list(arr)"
   ]
  },
  {
   "cell_type": "code",
   "execution_count": 18,
   "metadata": {
    "collapsed": true
   },
   "outputs": [],
   "source": [
    "arr=np.arange(0,10)"
   ]
  },
  {
   "cell_type": "code",
   "execution_count": 20,
   "metadata": {
    "collapsed": false
   },
   "outputs": [
    {
     "ename": "ValueError",
     "evalue": "cannot reshape array of size 10 into shape (3,3)",
     "output_type": "error",
     "traceback": [
      "\u001b[0;31m---------------------------------------------------------------------------\u001b[0m",
      "\u001b[0;31mValueError\u001b[0m                                Traceback (most recent call last)",
      "\u001b[0;32m<ipython-input-20-b910bed19e0c>\u001b[0m in \u001b[0;36m<module>\u001b[0;34m()\u001b[0m\n\u001b[0;32m----> 1\u001b[0;31m \u001b[0marr\u001b[0m\u001b[1;33m.\u001b[0m\u001b[0mreshape\u001b[0m\u001b[1;33m(\u001b[0m\u001b[1;36m3\u001b[0m\u001b[1;33m,\u001b[0m\u001b[1;36m3\u001b[0m\u001b[1;33m)\u001b[0m\u001b[1;33m\u001b[0m\u001b[0m\n\u001b[0m",
      "\u001b[0;31mValueError\u001b[0m: cannot reshape array of size 10 into shape (3,3)"
     ]
    }
   ],
   "source": [
    "arr.reshape(3,3)"
   ]
  },
  {
   "cell_type": "code",
   "execution_count": 21,
   "metadata": {
    "collapsed": false
   },
   "outputs": [
    {
     "ename": "TypeError",
     "evalue": "'builtin_function_or_method' object is not subscriptable",
     "output_type": "error",
     "traceback": [
      "\u001b[0;31m---------------------------------------------------------------------------\u001b[0m",
      "\u001b[0;31mTypeError\u001b[0m                                 Traceback (most recent call last)",
      "\u001b[0;32m<ipython-input-21-060e3d190336>\u001b[0m in \u001b[0;36m<module>\u001b[0;34m()\u001b[0m\n\u001b[0;32m----> 1\u001b[0;31m \u001b[0marr\u001b[0m\u001b[1;33m.\u001b[0m\u001b[0mreshape\u001b[0m\u001b[1;33m[\u001b[0m\u001b[1;36m3\u001b[0m\u001b[1;33m,\u001b[0m\u001b[1;36m3\u001b[0m\u001b[1;33m]\u001b[0m\u001b[1;33m\u001b[0m\u001b[0m\n\u001b[0m",
      "\u001b[0;31mTypeError\u001b[0m: 'builtin_function_or_method' object is not subscriptable"
     ]
    }
   ],
   "source": [
    "arr.reshape[3,3]"
   ]
  },
  {
   "cell_type": "code",
   "execution_count": 22,
   "metadata": {
    "collapsed": false
   },
   "outputs": [
    {
     "ename": "ValueError",
     "evalue": "cannot reshape array of size 10 into shape (3,)",
     "output_type": "error",
     "traceback": [
      "\u001b[0;31m---------------------------------------------------------------------------\u001b[0m",
      "\u001b[0;31mValueError\u001b[0m                                Traceback (most recent call last)",
      "\u001b[0;32m<ipython-input-22-0dcc54ca5727>\u001b[0m in \u001b[0;36m<module>\u001b[0;34m()\u001b[0m\n\u001b[0;32m----> 1\u001b[0;31m \u001b[0marr\u001b[0m\u001b[1;33m.\u001b[0m\u001b[0mreshape\u001b[0m\u001b[1;33m(\u001b[0m\u001b[1;36m3\u001b[0m\u001b[1;33m)\u001b[0m\u001b[1;33m\u001b[0m\u001b[0m\n\u001b[0m",
      "\u001b[0;31mValueError\u001b[0m: cannot reshape array of size 10 into shape (3,)"
     ]
    }
   ],
   "source": [
    "arr.reshape(3)"
   ]
  },
  {
   "cell_type": "code",
   "execution_count": 23,
   "metadata": {
    "collapsed": true
   },
   "outputs": [],
   "source": [
    "arr=np.arange(0,9)"
   ]
  },
  {
   "cell_type": "code",
   "execution_count": 24,
   "metadata": {
    "collapsed": false
   },
   "outputs": [
    {
     "data": {
      "text/plain": [
       "array([0, 1, 2, 3, 4, 5, 6, 7, 8])"
      ]
     },
     "execution_count": 24,
     "metadata": {},
     "output_type": "execute_result"
    }
   ],
   "source": [
    "arr"
   ]
  },
  {
   "cell_type": "code",
   "execution_count": 25,
   "metadata": {
    "collapsed": false
   },
   "outputs": [
    {
     "data": {
      "text/plain": [
       "array([[0, 1, 2],\n",
       "       [3, 4, 5],\n",
       "       [6, 7, 8]])"
      ]
     },
     "execution_count": 25,
     "metadata": {},
     "output_type": "execute_result"
    }
   ],
   "source": [
    "arr.reshape(3,3)"
   ]
  },
  {
   "cell_type": "code",
   "execution_count": 26,
   "metadata": {
    "collapsed": false
   },
   "outputs": [
    {
     "ename": "IndexError",
     "evalue": "invalid index to scalar variable.",
     "output_type": "error",
     "traceback": [
      "\u001b[0;31m---------------------------------------------------------------------------\u001b[0m",
      "\u001b[0;31mIndexError\u001b[0m                                Traceback (most recent call last)",
      "\u001b[0;32m<ipython-input-26-91b5267214f1>\u001b[0m in \u001b[0;36m<module>\u001b[0;34m()\u001b[0m\n\u001b[0;32m----> 1\u001b[0;31m \u001b[0marr\u001b[0m\u001b[1;33m[\u001b[0m\u001b[1;36m1\u001b[0m\u001b[1;33m]\u001b[0m\u001b[1;33m[\u001b[0m\u001b[1;36m1\u001b[0m\u001b[1;33m]\u001b[0m\u001b[1;33m\u001b[0m\u001b[0m\n\u001b[0m",
      "\u001b[0;31mIndexError\u001b[0m: invalid index to scalar variable."
     ]
    }
   ],
   "source": [
    "arr[1][1]"
   ]
  },
  {
   "cell_type": "code",
   "execution_count": 27,
   "metadata": {
    "collapsed": false
   },
   "outputs": [
    {
     "ename": "SyntaxError",
     "evalue": "invalid syntax (<ipython-input-27-bfe051a095c9>, line 1)",
     "output_type": "error",
     "traceback": [
      "\u001b[0;36m  File \u001b[0;32m\"<ipython-input-27-bfe051a095c9>\"\u001b[0;36m, line \u001b[0;32m1\u001b[0m\n\u001b[0;31m    arr(1:,1:)\u001b[0m\n\u001b[0m         ^\u001b[0m\n\u001b[0;31mSyntaxError\u001b[0m\u001b[0;31m:\u001b[0m invalid syntax\n"
     ]
    }
   ],
   "source": [
    "arr(1:,1:)"
   ]
  },
  {
   "cell_type": "code",
   "execution_count": 28,
   "metadata": {
    "collapsed": false
   },
   "outputs": [
    {
     "data": {
      "text/plain": [
       "1"
      ]
     },
     "execution_count": 28,
     "metadata": {},
     "output_type": "execute_result"
    }
   ],
   "source": [
    "arr[1]"
   ]
  },
  {
   "cell_type": "code",
   "execution_count": 29,
   "metadata": {
    "collapsed": false
   },
   "outputs": [
    {
     "data": {
      "text/plain": [
       "array([0, 1, 2, 3, 4, 5, 6, 7, 8])"
      ]
     },
     "execution_count": 29,
     "metadata": {},
     "output_type": "execute_result"
    }
   ],
   "source": [
    "arr"
   ]
  },
  {
   "cell_type": "code",
   "execution_count": 30,
   "metadata": {
    "collapsed": true
   },
   "outputs": [],
   "source": [
    "arr=arr.reshape(3,3)"
   ]
  },
  {
   "cell_type": "code",
   "execution_count": 31,
   "metadata": {
    "collapsed": false
   },
   "outputs": [
    {
     "data": {
      "text/plain": [
       "array([[0, 1, 2],\n",
       "       [3, 4, 5],\n",
       "       [6, 7, 8]])"
      ]
     },
     "execution_count": 31,
     "metadata": {},
     "output_type": "execute_result"
    }
   ],
   "source": [
    "arr"
   ]
  },
  {
   "cell_type": "code",
   "execution_count": 32,
   "metadata": {
    "collapsed": false
   },
   "outputs": [
    {
     "ename": "SyntaxError",
     "evalue": "invalid syntax (<ipython-input-32-bfe051a095c9>, line 1)",
     "output_type": "error",
     "traceback": [
      "\u001b[0;36m  File \u001b[0;32m\"<ipython-input-32-bfe051a095c9>\"\u001b[0;36m, line \u001b[0;32m1\u001b[0m\n\u001b[0;31m    arr(1:,1:)\u001b[0m\n\u001b[0m         ^\u001b[0m\n\u001b[0;31mSyntaxError\u001b[0m\u001b[0;31m:\u001b[0m invalid syntax\n"
     ]
    }
   ],
   "source": [
    "arr(1:,1:)"
   ]
  },
  {
   "cell_type": "code",
   "execution_count": 33,
   "metadata": {
    "collapsed": false
   },
   "outputs": [
    {
     "data": {
      "text/plain": [
       "4"
      ]
     },
     "execution_count": 33,
     "metadata": {},
     "output_type": "execute_result"
    }
   ],
   "source": [
    "arr[1,1]"
   ]
  },
  {
   "cell_type": "code",
   "execution_count": 34,
   "metadata": {
    "collapsed": false
   },
   "outputs": [
    {
     "data": {
      "text/plain": [
       "array([[3, 4, 5],\n",
       "       [6, 7, 8]])"
      ]
     },
     "execution_count": 34,
     "metadata": {},
     "output_type": "execute_result"
    }
   ],
   "source": [
    "arr[1:]"
   ]
  },
  {
   "cell_type": "code",
   "execution_count": 35,
   "metadata": {
    "collapsed": false
   },
   "outputs": [
    {
     "data": {
      "text/plain": [
       "array([[3, 4, 5]])"
      ]
     },
     "execution_count": 35,
     "metadata": {},
     "output_type": "execute_result"
    }
   ],
   "source": [
    "arr[1:2]"
   ]
  },
  {
   "cell_type": "code",
   "execution_count": 36,
   "metadata": {
    "collapsed": false
   },
   "outputs": [
    {
     "data": {
      "text/plain": [
       "array([], shape=(0, 3), dtype=int32)"
      ]
     },
     "execution_count": 36,
     "metadata": {},
     "output_type": "execute_result"
    }
   ],
   "source": [
    "arr[2:2]"
   ]
  },
  {
   "cell_type": "code",
   "execution_count": 37,
   "metadata": {
    "collapsed": false
   },
   "outputs": [
    {
     "data": {
      "text/plain": [
       "array([6, 7, 8])"
      ]
     },
     "execution_count": 37,
     "metadata": {},
     "output_type": "execute_result"
    }
   ],
   "source": [
    "arr[2]"
   ]
  },
  {
   "cell_type": "code",
   "execution_count": 44,
   "metadata": {
    "collapsed": false
   },
   "outputs": [
    {
     "data": {
      "text/plain": [
       "array([[1, 2],\n",
       "       [4, 5],\n",
       "       [7, 8]])"
      ]
     },
     "execution_count": 44,
     "metadata": {},
     "output_type": "execute_result"
    }
   ],
   "source": [
    "arr[0:,1:]"
   ]
  },
  {
   "cell_type": "code",
   "execution_count": 45,
   "metadata": {
    "collapsed": false
   },
   "outputs": [
    {
     "ename": "NameError",
     "evalue": "name 'array' is not defined",
     "output_type": "error",
     "traceback": [
      "\u001b[0;31m---------------------------------------------------------------------------\u001b[0m",
      "\u001b[0;31mNameError\u001b[0m                                 Traceback (most recent call last)",
      "\u001b[0;32m<ipython-input-45-5e17cbdc68e1>\u001b[0m in \u001b[0;36m<module>\u001b[0;34m()\u001b[0m\n\u001b[0;32m----> 1\u001b[0;31m \u001b[0marray\u001b[0m\u001b[1;33m[\u001b[0m\u001b[1;36m0\u001b[0m\u001b[1;33m,\u001b[0m\u001b[1;36m1\u001b[0m\u001b[1;33m]\u001b[0m\u001b[1;33m\u001b[0m\u001b[0m\n\u001b[0m",
      "\u001b[0;31mNameError\u001b[0m: name 'array' is not defined"
     ]
    }
   ],
   "source": [
    "array[0,1]"
   ]
  },
  {
   "cell_type": "code",
   "execution_count": 46,
   "metadata": {
    "collapsed": false
   },
   "outputs": [
    {
     "data": {
      "text/plain": [
       "1"
      ]
     },
     "execution_count": 46,
     "metadata": {},
     "output_type": "execute_result"
    }
   ],
   "source": [
    "arr[0,1]"
   ]
  },
  {
   "cell_type": "code",
   "execution_count": 47,
   "metadata": {
    "collapsed": false
   },
   "outputs": [
    {
     "data": {
      "text/plain": [
       "1"
      ]
     },
     "execution_count": 47,
     "metadata": {},
     "output_type": "execute_result"
    }
   ],
   "source": [
    "arr[0][1]"
   ]
  },
  {
   "cell_type": "code",
   "execution_count": 91,
   "metadata": {
    "collapsed": false
   },
   "outputs": [
    {
     "data": {
      "text/plain": [
       "array([ 1,  2,  3,  4,  5,  6,  7,  8,  9, 10])"
      ]
     },
     "execution_count": 91,
     "metadata": {},
     "output_type": "execute_result"
    }
   ],
   "source": [
    "arr"
   ]
  },
  {
   "cell_type": "code",
   "execution_count": 94,
   "metadata": {
    "collapsed": false
   },
   "outputs": [
    {
     "data": {
      "text/plain": [
       "55"
      ]
     },
     "execution_count": 94,
     "metadata": {},
     "output_type": "execute_result"
    }
   ],
   "source": [
    "arr.sum()"
   ]
  },
  {
   "cell_type": "code",
   "execution_count": 95,
   "metadata": {
    "collapsed": false
   },
   "outputs": [
    {
     "ename": "TypeError",
     "evalue": "_sum() got an unexpected keyword argument 'index'",
     "output_type": "error",
     "traceback": [
      "\u001b[0;31m---------------------------------------------------------------------------\u001b[0m",
      "\u001b[0;31mTypeError\u001b[0m                                 Traceback (most recent call last)",
      "\u001b[0;32m<ipython-input-95-e1e65250a75b>\u001b[0m in \u001b[0;36m<module>\u001b[0;34m()\u001b[0m\n\u001b[0;32m----> 1\u001b[0;31m \u001b[0marr\u001b[0m\u001b[1;33m.\u001b[0m\u001b[0msum\u001b[0m\u001b[1;33m(\u001b[0m\u001b[0mindex\u001b[0m\u001b[1;33m=\u001b[0m\u001b[1;36m1\u001b[0m\u001b[1;33m)\u001b[0m\u001b[1;33m\u001b[0m\u001b[0m\n\u001b[0m",
      "\u001b[0;31mTypeError\u001b[0m: _sum() got an unexpected keyword argument 'index'"
     ]
    }
   ],
   "source": [
    "arr.sum(index=1)"
   ]
  },
  {
   "cell_type": "code",
   "execution_count": 51,
   "metadata": {
    "collapsed": false
   },
   "outputs": [
    {
     "data": {
      "text/plain": [
       "array([7, 8])"
      ]
     },
     "execution_count": 51,
     "metadata": {},
     "output_type": "execute_result"
    }
   ],
   "source": [
    "arr[2,1:3]"
   ]
  },
  {
   "cell_type": "code",
   "execution_count": null,
   "metadata": {
    "collapsed": true
   },
   "outputs": [],
   "source": []
  },
  {
   "cell_type": "code",
   "execution_count": 52,
   "metadata": {
    "collapsed": false
   },
   "outputs": [
    {
     "data": {
      "text/plain": [
       "array([[3, 4],\n",
       "       [6, 7]])"
      ]
     },
     "execution_count": 52,
     "metadata": {},
     "output_type": "execute_result"
    }
   ],
   "source": [
    "arr[1:3,0:2]"
   ]
  },
  {
   "cell_type": "code",
   "execution_count": 53,
   "metadata": {
    "collapsed": true
   },
   "outputs": [],
   "source": [
    "arr=np.arange(1,11)"
   ]
  },
  {
   "cell_type": "code",
   "execution_count": 54,
   "metadata": {
    "collapsed": false
   },
   "outputs": [
    {
     "data": {
      "text/plain": [
       "[1, 2, 3, 4, 5, 6, 7, 8, 9, 10]"
      ]
     },
     "execution_count": 54,
     "metadata": {},
     "output_type": "execute_result"
    }
   ],
   "source": [
    "list(arr)"
   ]
  },
  {
   "cell_type": "code",
   "execution_count": 55,
   "metadata": {
    "collapsed": true
   },
   "outputs": [],
   "source": [
    "list1=[i*2 for i in arr]"
   ]
  },
  {
   "cell_type": "code",
   "execution_count": 56,
   "metadata": {
    "collapsed": false
   },
   "outputs": [
    {
     "data": {
      "text/plain": [
       "[2, 4, 6, 8, 10, 12, 14, 16, 18, 20]"
      ]
     },
     "execution_count": 56,
     "metadata": {},
     "output_type": "execute_result"
    }
   ],
   "source": [
    "list1"
   ]
  },
  {
   "cell_type": "code",
   "execution_count": 59,
   "metadata": {
    "collapsed": false
   },
   "outputs": [
    {
     "ename": "SyntaxError",
     "evalue": "invalid syntax (<ipython-input-59-14a460a5c53f>, line 1)",
     "output_type": "error",
     "traceback": [
      "\u001b[0;36m  File \u001b[0;32m\"<ipython-input-59-14a460a5c53f>\"\u001b[0;36m, line \u001b[0;32m1\u001b[0m\n\u001b[0;31m    list1=(for i in arr if i%2==0)\u001b[0m\n\u001b[0m             ^\u001b[0m\n\u001b[0;31mSyntaxError\u001b[0m\u001b[0;31m:\u001b[0m invalid syntax\n"
     ]
    }
   ],
   "source": [
    "list1=(for i in arr if i%2==0)"
   ]
  },
  {
   "cell_type": "code",
   "execution_count": 60,
   "metadata": {
    "collapsed": false
   },
   "outputs": [
    {
     "data": {
      "text/plain": [
       "array([False,  True, False,  True, False,  True, False,  True, False,\n",
       "        True])"
      ]
     },
     "execution_count": 60,
     "metadata": {},
     "output_type": "execute_result"
    }
   ],
   "source": [
    "arr%2==0"
   ]
  },
  {
   "cell_type": "code",
   "execution_count": 61,
   "metadata": {
    "collapsed": true
   },
   "outputs": [],
   "source": [
    "bool_arr=arr%2"
   ]
  },
  {
   "cell_type": "code",
   "execution_count": 62,
   "metadata": {
    "collapsed": false
   },
   "outputs": [
    {
     "data": {
      "text/plain": [
       "array([1, 0, 1, 0, 1, 0, 1, 0, 1, 0], dtype=int32)"
      ]
     },
     "execution_count": 62,
     "metadata": {},
     "output_type": "execute_result"
    }
   ],
   "source": [
    "bool_arr"
   ]
  },
  {
   "cell_type": "code",
   "execution_count": 63,
   "metadata": {
    "collapsed": false
   },
   "outputs": [
    {
     "data": {
      "text/plain": [
       "array([2, 1, 2, 1, 2, 1, 2, 1, 2, 1])"
      ]
     },
     "execution_count": 63,
     "metadata": {},
     "output_type": "execute_result"
    }
   ],
   "source": [
    "arr[bool_arr]"
   ]
  },
  {
   "cell_type": "code",
   "execution_count": 65,
   "metadata": {
    "collapsed": false
   },
   "outputs": [
    {
     "data": {
      "text/plain": [
       "array([ 2,  4,  6,  8, 10])"
      ]
     },
     "execution_count": 65,
     "metadata": {},
     "output_type": "execute_result"
    }
   ],
   "source": [
    "arr[arr%2==0]"
   ]
  },
  {
   "cell_type": "code",
   "execution_count": 96,
   "metadata": {
    "collapsed": false
   },
   "outputs": [
    {
     "data": {
      "text/plain": [
       "array([ 1,  2,  3,  4,  5,  6,  7,  8,  9, 10])"
      ]
     },
     "execution_count": 96,
     "metadata": {},
     "output_type": "execute_result"
    }
   ],
   "source": [
    "arr"
   ]
  },
  {
   "cell_type": "code",
   "execution_count": 99,
   "metadata": {
    "collapsed": false
   },
   "outputs": [
    {
     "ename": "ValueError",
     "evalue": "cannot reshape array of size 10 into shape (3,3)",
     "output_type": "error",
     "traceback": [
      "\u001b[0;31m---------------------------------------------------------------------------\u001b[0m",
      "\u001b[0;31mValueError\u001b[0m                                Traceback (most recent call last)",
      "\u001b[0;32m<ipython-input-99-b910bed19e0c>\u001b[0m in \u001b[0;36m<module>\u001b[0;34m()\u001b[0m\n\u001b[0;32m----> 1\u001b[0;31m \u001b[0marr\u001b[0m\u001b[1;33m.\u001b[0m\u001b[0mreshape\u001b[0m\u001b[1;33m(\u001b[0m\u001b[1;36m3\u001b[0m\u001b[1;33m,\u001b[0m\u001b[1;36m3\u001b[0m\u001b[1;33m)\u001b[0m\u001b[1;33m\u001b[0m\u001b[0m\n\u001b[0m",
      "\u001b[0;31mValueError\u001b[0m: cannot reshape array of size 10 into shape (3,3)"
     ]
    }
   ],
   "source": [
    "arr.reshape(3,3)"
   ]
  },
  {
   "cell_type": "code",
   "execution_count": 101,
   "metadata": {
    "collapsed": true
   },
   "outputs": [],
   "source": [
    "arr=np.arange(0,9)"
   ]
  },
  {
   "cell_type": "code",
   "execution_count": 107,
   "metadata": {
    "collapsed": false
   },
   "outputs": [],
   "source": [
    "arr=arr.reshape(3,3)"
   ]
  },
  {
   "cell_type": "code",
   "execution_count": 109,
   "metadata": {
    "collapsed": false
   },
   "outputs": [
    {
     "data": {
      "text/plain": [
       "array([ 9, 12, 15])"
      ]
     },
     "execution_count": 109,
     "metadata": {},
     "output_type": "execute_result"
    }
   ],
   "source": [
    "arr.sum(axis=0)"
   ]
  },
  {
   "cell_type": "code",
   "execution_count": 115,
   "metadata": {
    "collapsed": true
   },
   "outputs": [],
   "source": [
    "labels = ['a','b','c']\n",
    "my_list = [10,20,30]\n",
    "arr = np.array([10,20,30])\n",
    "d = {'a':10,'b':20,'c':30}\n",
    "string1='hello'"
   ]
  },
  {
   "cell_type": "code",
   "execution_count": 116,
   "metadata": {
    "collapsed": false
   },
   "outputs": [
    {
     "data": {
      "text/plain": [
       "0    hello\n",
       "dtype: object"
      ]
     },
     "execution_count": 116,
     "metadata": {},
     "output_type": "execute_result"
    }
   ],
   "source": [
    "import pandas as pd\n",
    "pd.Series(string1)"
   ]
  },
  {
   "cell_type": "code",
   "execution_count": 170,
   "metadata": {
    "collapsed": false
   },
   "outputs": [
    {
     "data": {
      "text/plain": [
       "array([[0.77132064, 0.02075195, 0.63364823],\n",
       "       [0.74880388, 0.49850701, 0.22479665],\n",
       "       [0.19806286, 0.76053071, 0.16911084]])"
      ]
     },
     "execution_count": 170,
     "metadata": {},
     "output_type": "execute_result"
    }
   ],
   "source": [
    "import numpy as np\n",
    "import pandas as pd\n",
    "from  numpy.random import randn\n",
    "np.random.seed(10)\n",
    "np.random.rand(3,3)"
   ]
  },
  {
   "cell_type": "code",
   "execution_count": 149,
   "metadata": {
    "collapsed": false
   },
   "outputs": [
    {
     "data": {
      "text/plain": [
       "array([0.72899276, 0.27623883, 0.68530633])"
      ]
     },
     "execution_count": 149,
     "metadata": {},
     "output_type": "execute_result"
    }
   ],
   "source": []
  },
  {
   "cell_type": "code",
   "execution_count": 129,
   "metadata": {
    "collapsed": false
   },
   "outputs": [],
   "source": [
    "df=pd.DataFrame(np.random.rand(5,6),columns=['Category','UploadTime','ArticalName','PageLink','BaiduLink','BaiduPwd'])"
   ]
  },
  {
   "cell_type": "code",
   "execution_count": 133,
   "metadata": {
    "collapsed": false
   },
   "outputs": [],
   "source": [
    "df=pd.read_csv('c:/0daydown_17001_18000.csv')"
   ]
  },
  {
   "cell_type": "code",
   "execution_count": 138,
   "metadata": {
    "collapsed": false
   },
   "outputs": [
    {
     "data": {
      "text/html": [
       "<div>\n",
       "<style scoped>\n",
       "    .dataframe tbody tr th:only-of-type {\n",
       "        vertical-align: middle;\n",
       "    }\n",
       "\n",
       "    .dataframe tbody tr th {\n",
       "        vertical-align: top;\n",
       "    }\n",
       "\n",
       "    .dataframe thead th {\n",
       "        text-align: right;\n",
       "    }\n",
       "</style>\n",
       "<table border=\"1\" class=\"dataframe\">\n",
       "  <thead>\n",
       "    <tr style=\"text-align: right;\">\n",
       "      <th></th>\n",
       "      <th>Unnamed: 0</th>\n",
       "      <th>Category</th>\n",
       "      <th>UploadTime</th>\n",
       "      <th>ArticalName</th>\n",
       "      <th>PageLink</th>\n",
       "      <th>BaiduLink</th>\n",
       "      <th>BaiduPwd</th>\n",
       "    </tr>\n",
       "  </thead>\n",
       "  <tbody>\n",
       "    <tr>\n",
       "      <th>0</th>\n",
       "      <td>0</td>\n",
       "      <td>0daytown-&gt;Software-&gt;CAX/EDA-&gt;</td>\n",
       "      <td>2015-04-25</td>\n",
       "      <td>Delcam PowerSHAPE 2014 R2 SP4 + PS-Catalogues ...</td>\n",
       "      <td>http://www.0daytown.com/?p=17001</td>\n",
       "      <td>http://pan.baidu.com/s/1ntt6gT7;http://pan.bai...</td>\n",
       "      <td>tqfw;wq1t;7mb3</td>\n",
       "    </tr>\n",
       "    <tr>\n",
       "      <th>1</th>\n",
       "      <td>1</td>\n",
       "      <td>0daytown-&gt;Games-&gt;</td>\n",
       "      <td>2015-04-25</td>\n",
       "      <td>The Book of Legends Steam Edition-ALiAS</td>\n",
       "      <td>http://www.0daytown.com/?p=17002</td>\n",
       "      <td>http://pan.baidu.com/s/1pJM8qON</td>\n",
       "      <td>NaN</td>\n",
       "    </tr>\n",
       "    <tr>\n",
       "      <th>2</th>\n",
       "      <td>2</td>\n",
       "      <td>0daytown-&gt;Software-&gt;MacOSX-&gt;</td>\n",
       "      <td>2015-04-25</td>\n",
       "      <td>Tecplot 2013-2014 Suite Linux64 / MacOS64</td>\n",
       "      <td>http://www.0daytown.com/?p=17003</td>\n",
       "      <td>http://pan.baidu.com/s/1bndB3ZL</td>\n",
       "      <td>sy0e</td>\n",
       "    </tr>\n",
       "    <tr>\n",
       "      <th>3</th>\n",
       "      <td>3</td>\n",
       "      <td>0daytown-&gt;Software-&gt;CAX/EDA-&gt;</td>\n",
       "      <td>2015-04-25</td>\n",
       "      <td>Altair HyperWorks Solvers 12.0.221 Win32/64 Li...</td>\n",
       "      <td>http://www.0daytown.com/?p=17004</td>\n",
       "      <td>http://pan.baidu.com/s/1kTgcZrx;http://pan.bai...</td>\n",
       "      <td>2hwz;nyqo</td>\n",
       "    </tr>\n",
       "    <tr>\n",
       "      <th>4</th>\n",
       "      <td>4</td>\n",
       "      <td>0daytown-&gt;教程-&gt;3dsMax教程-&gt;</td>\n",
       "      <td>2015-04-25</td>\n",
       "      <td>Dixxl Tuxxs – Your First Day in 3ds Max</td>\n",
       "      <td>http://www.0daytown.com/?p=17005</td>\n",
       "      <td>http://pan.baidu.com/s/1c0xmnWc</td>\n",
       "      <td>fdms</td>\n",
       "    </tr>\n",
       "    <tr>\n",
       "      <th>5</th>\n",
       "      <td>5</td>\n",
       "      <td>0daytown-&gt;素材-&gt;音色/Timbre-&gt;</td>\n",
       "      <td>2015-04-25</td>\n",
       "      <td>Cinesamplеs Voxos Epic Virtual Choirs KONTAKT</td>\n",
       "      <td>http://www.0daytown.com/?p=17006</td>\n",
       "      <td>http://pan.baidu.com/s/1bnnKPm3</td>\n",
       "      <td>f2d1</td>\n",
       "    </tr>\n",
       "    <tr>\n",
       "      <th>6</th>\n",
       "      <td>6</td>\n",
       "      <td>0daytown-&gt;素材-&gt;音色/Timbre-&gt;</td>\n",
       "      <td>2015-04-25</td>\n",
       "      <td>Samplephonics Natalie Major Vocal Sessions WAV</td>\n",
       "      <td>http://www.0daytown.com/?p=17007</td>\n",
       "      <td>http://pan.baidu.com/s/1i31LKfN</td>\n",
       "      <td>kl6s</td>\n",
       "    </tr>\n",
       "    <tr>\n",
       "      <th>7</th>\n",
       "      <td>7</td>\n",
       "      <td>0daytown-&gt;素材-&gt;音色/Timbre-&gt;</td>\n",
       "      <td>2015-04-25</td>\n",
       "      <td>FrozenPlain Phoenix KONTAKT</td>\n",
       "      <td>http://www.0daytown.com/?p=17008</td>\n",
       "      <td>http://pan.baidu.com/s/1i3rCvUd</td>\n",
       "      <td>xr67</td>\n",
       "    </tr>\n",
       "    <tr>\n",
       "      <th>8</th>\n",
       "      <td>8</td>\n",
       "      <td>0daytown-&gt;Games-&gt;</td>\n",
       "      <td>2015-04-25</td>\n",
       "      <td>Bravada v1.017-TE</td>\n",
       "      <td>http://www.0daytown.com/?p=17009</td>\n",
       "      <td>http://pan.baidu.com/s/1ntoMyBR</td>\n",
       "      <td>NaN</td>\n",
       "    </tr>\n",
       "    <tr>\n",
       "      <th>9</th>\n",
       "      <td>9</td>\n",
       "      <td>0daytown-&gt;Ebooks-&gt;</td>\n",
       "      <td>2015-04-25</td>\n",
       "      <td>Kandy – July 2014-P2P</td>\n",
       "      <td>http://www.0daytown.com/?p=17010</td>\n",
       "      <td>http://pan.baidu.com/s/1dD1nUKh</td>\n",
       "      <td>NaN</td>\n",
       "    </tr>\n",
       "  </tbody>\n",
       "</table>\n",
       "</div>"
      ],
      "text/plain": [
       "   Unnamed: 0                       Category  UploadTime  \\\n",
       "0           0  0daytown->Software->CAX/EDA->  2015-04-25   \n",
       "1           1              0daytown->Games->  2015-04-25   \n",
       "2           2   0daytown->Software->MacOSX->  2015-04-25   \n",
       "3           3  0daytown->Software->CAX/EDA->  2015-04-25   \n",
       "4           4       0daytown->教程->3dsMax教程->  2015-04-25   \n",
       "5           5      0daytown->素材->音色/Timbre->  2015-04-25   \n",
       "6           6      0daytown->素材->音色/Timbre->  2015-04-25   \n",
       "7           7      0daytown->素材->音色/Timbre->  2015-04-25   \n",
       "8           8              0daytown->Games->  2015-04-25   \n",
       "9           9             0daytown->Ebooks->  2015-04-25   \n",
       "\n",
       "                                         ArticalName  \\\n",
       "0  Delcam PowerSHAPE 2014 R2 SP4 + PS-Catalogues ...   \n",
       "1            The Book of Legends Steam Edition-ALiAS   \n",
       "2          Tecplot 2013-2014 Suite Linux64 / MacOS64   \n",
       "3  Altair HyperWorks Solvers 12.0.221 Win32/64 Li...   \n",
       "4            Dixxl Tuxxs – Your First Day in 3ds Max   \n",
       "5      Cinesamplеs Voxos Epic Virtual Choirs KONTAKT   \n",
       "6     Samplephonics Natalie Major Vocal Sessions WAV   \n",
       "7                        FrozenPlain Phoenix KONTAKT   \n",
       "8                                  Bravada v1.017-TE   \n",
       "9                              Kandy – July 2014-P2P   \n",
       "\n",
       "                           PageLink  \\\n",
       "0  http://www.0daytown.com/?p=17001   \n",
       "1  http://www.0daytown.com/?p=17002   \n",
       "2  http://www.0daytown.com/?p=17003   \n",
       "3  http://www.0daytown.com/?p=17004   \n",
       "4  http://www.0daytown.com/?p=17005   \n",
       "5  http://www.0daytown.com/?p=17006   \n",
       "6  http://www.0daytown.com/?p=17007   \n",
       "7  http://www.0daytown.com/?p=17008   \n",
       "8  http://www.0daytown.com/?p=17009   \n",
       "9  http://www.0daytown.com/?p=17010   \n",
       "\n",
       "                                           BaiduLink        BaiduPwd  \n",
       "0  http://pan.baidu.com/s/1ntt6gT7;http://pan.bai...  tqfw;wq1t;7mb3  \n",
       "1                    http://pan.baidu.com/s/1pJM8qON             NaN  \n",
       "2                    http://pan.baidu.com/s/1bndB3ZL            sy0e  \n",
       "3  http://pan.baidu.com/s/1kTgcZrx;http://pan.bai...       2hwz;nyqo  \n",
       "4                    http://pan.baidu.com/s/1c0xmnWc            fdms  \n",
       "5                    http://pan.baidu.com/s/1bnnKPm3            f2d1  \n",
       "6                    http://pan.baidu.com/s/1i31LKfN            kl6s  \n",
       "7                    http://pan.baidu.com/s/1i3rCvUd            xr67  \n",
       "8                    http://pan.baidu.com/s/1ntoMyBR             NaN  \n",
       "9                    http://pan.baidu.com/s/1dD1nUKh             NaN  "
      ]
     },
     "execution_count": 138,
     "metadata": {},
     "output_type": "execute_result"
    }
   ],
   "source": [
    "\n",
    "\n",
    "\n",
    "df=df[:10]\n",
    "df"
   ]
  },
  {
   "cell_type": "markdown",
   "metadata": {},
   "source": [
    "'''\n",
    "练习Pandas，将0daytown数据进行测试，主要是筛选功能：\n",
    "    columns:'Category','UploadTime','ArticalName','PageLink','BaiduLink','BaiduPwd'\n",
    "    挑出所有含Solidworks关键字的清单\n",
    "        df[''].contains='Solidworks'\n",
    "    挑出所有2014年的数据\n",
    "        df[''].contains='2014'\n",
    "    挑出所有教程的清单\n",
    "        \n",
    "    将分类分成几列，最大的几列新增加\n",
    "'''\n",
    "'''\n",
    "1. 删除第一列\n",
    "2. 将第一行index用pagenumber表示\n",
    "3. 挑出所有含Solidworks关键字的清单\n",
    "4. 将分类分成几列，最大的几列新增加\n",
    "\n",
    "'''\n"
   ]
  },
  {
   "cell_type": "code",
   "execution_count": null,
   "metadata": {
    "collapsed": true
   },
   "outputs": [],
   "source": []
  },
  {
   "cell_type": "code",
   "execution_count": 183,
   "metadata": {
    "collapsed": false
   },
   "outputs": [
    {
     "data": {
      "text/html": [
       "<div>\n",
       "<style scoped>\n",
       "    .dataframe tbody tr th:only-of-type {\n",
       "        vertical-align: middle;\n",
       "    }\n",
       "\n",
       "    .dataframe tbody tr th {\n",
       "        vertical-align: top;\n",
       "    }\n",
       "\n",
       "    .dataframe thead th {\n",
       "        text-align: right;\n",
       "    }\n",
       "</style>\n",
       "<table border=\"1\" class=\"dataframe\">\n",
       "  <thead>\n",
       "    <tr style=\"text-align: right;\">\n",
       "      <th></th>\n",
       "      <th>ArticalName</th>\n",
       "      <th>PageLink</th>\n",
       "    </tr>\n",
       "  </thead>\n",
       "  <tbody>\n",
       "    <tr>\n",
       "      <th>0</th>\n",
       "      <td>Delcam PowerSHAPE 2014 R2 SP4 + PS-Catalogues ...</td>\n",
       "      <td>http://www.0daytown.com/?p=17001</td>\n",
       "    </tr>\n",
       "    <tr>\n",
       "      <th>1</th>\n",
       "      <td>The Book of Legends Steam Edition-ALiAS</td>\n",
       "      <td>http://www.0daytown.com/?p=17002</td>\n",
       "    </tr>\n",
       "    <tr>\n",
       "      <th>2</th>\n",
       "      <td>Tecplot 2013-2014 Suite Linux64 / MacOS64</td>\n",
       "      <td>http://www.0daytown.com/?p=17003</td>\n",
       "    </tr>\n",
       "    <tr>\n",
       "      <th>3</th>\n",
       "      <td>Altair HyperWorks Solvers 12.0.221 Win32/64 Li...</td>\n",
       "      <td>http://www.0daytown.com/?p=17004</td>\n",
       "    </tr>\n",
       "    <tr>\n",
       "      <th>4</th>\n",
       "      <td>Dixxl Tuxxs – Your First Day in 3ds Max</td>\n",
       "      <td>http://www.0daytown.com/?p=17005</td>\n",
       "    </tr>\n",
       "    <tr>\n",
       "      <th>5</th>\n",
       "      <td>Cinesamplеs Voxos Epic Virtual Choirs KONTAKT</td>\n",
       "      <td>http://www.0daytown.com/?p=17006</td>\n",
       "    </tr>\n",
       "    <tr>\n",
       "      <th>6</th>\n",
       "      <td>Samplephonics Natalie Major Vocal Sessions WAV</td>\n",
       "      <td>http://www.0daytown.com/?p=17007</td>\n",
       "    </tr>\n",
       "    <tr>\n",
       "      <th>7</th>\n",
       "      <td>FrozenPlain Phoenix KONTAKT</td>\n",
       "      <td>http://www.0daytown.com/?p=17008</td>\n",
       "    </tr>\n",
       "    <tr>\n",
       "      <th>8</th>\n",
       "      <td>Bravada v1.017-TE</td>\n",
       "      <td>http://www.0daytown.com/?p=17009</td>\n",
       "    </tr>\n",
       "    <tr>\n",
       "      <th>9</th>\n",
       "      <td>Kandy – July 2014-P2P</td>\n",
       "      <td>http://www.0daytown.com/?p=17010</td>\n",
       "    </tr>\n",
       "  </tbody>\n",
       "</table>\n",
       "</div>"
      ],
      "text/plain": [
       "                                         ArticalName  \\\n",
       "0  Delcam PowerSHAPE 2014 R2 SP4 + PS-Catalogues ...   \n",
       "1            The Book of Legends Steam Edition-ALiAS   \n",
       "2          Tecplot 2013-2014 Suite Linux64 / MacOS64   \n",
       "3  Altair HyperWorks Solvers 12.0.221 Win32/64 Li...   \n",
       "4            Dixxl Tuxxs – Your First Day in 3ds Max   \n",
       "5      Cinesamplеs Voxos Epic Virtual Choirs KONTAKT   \n",
       "6     Samplephonics Natalie Major Vocal Sessions WAV   \n",
       "7                        FrozenPlain Phoenix KONTAKT   \n",
       "8                                  Bravada v1.017-TE   \n",
       "9                              Kandy – July 2014-P2P   \n",
       "\n",
       "                           PageLink  \n",
       "0  http://www.0daytown.com/?p=17001  \n",
       "1  http://www.0daytown.com/?p=17002  \n",
       "2  http://www.0daytown.com/?p=17003  \n",
       "3  http://www.0daytown.com/?p=17004  \n",
       "4  http://www.0daytown.com/?p=17005  \n",
       "5  http://www.0daytown.com/?p=17006  \n",
       "6  http://www.0daytown.com/?p=17007  \n",
       "7  http://www.0daytown.com/?p=17008  \n",
       "8  http://www.0daytown.com/?p=17009  \n",
       "9  http://www.0daytown.com/?p=17010  "
      ]
     },
     "execution_count": 183,
     "metadata": {},
     "output_type": "execute_result"
    }
   ],
   "source": [
    "# print(list1 for list1 in df['PageLink'])\n",
    "df[['ArticalName','PageLink']]"
   ]
  },
  {
   "cell_type": "code",
   "execution_count": 212,
   "metadata": {
    "collapsed": false
   },
   "outputs": [
    {
     "ename": "SyntaxError",
     "evalue": "invalid syntax (<ipython-input-212-551f95db5363>, line 3)",
     "output_type": "error",
     "traceback": [
      "\u001b[0;36m  File \u001b[0;32m\"<ipython-input-212-551f95db5363>\"\u001b[0;36m, line \u001b[0;32m3\u001b[0m\n\u001b[0;31m    df['new']=df['PageLink'][[-3:]]\u001b[0m\n\u001b[0m                                ^\u001b[0m\n\u001b[0;31mSyntaxError\u001b[0m\u001b[0;31m:\u001b[0m invalid syntax\n"
     ]
    }
   ],
   "source": [
    "# df['new']=(0,1,2,3,4,5,6,7,8,9)\n",
    "# df['new']=df.loc[:,'ArticalName']\n",
    "df['new']=df['PageLink'][-3:]"
   ]
  },
  {
   "cell_type": "code",
   "execution_count": 211,
   "metadata": {
    "collapsed": false
   },
   "outputs": [
    {
     "data": {
      "text/plain": [
       "0                                 NaN\n",
       "1                                 NaN\n",
       "2                                 NaN\n",
       "3                                 NaN\n",
       "4                                 NaN\n",
       "5                                 NaN\n",
       "6                                 NaN\n",
       "7    http://www.0daytown.com/?p=17008\n",
       "8    http://www.0daytown.com/?p=17009\n",
       "9    http://www.0daytown.com/?p=17010\n",
       "Name: new, dtype: object"
      ]
     },
     "execution_count": 211,
     "metadata": {},
     "output_type": "execute_result"
    }
   ],
   "source": [
    "df['new']"
   ]
  },
  {
   "cell_type": "code",
   "execution_count": 278,
   "metadata": {
    "collapsed": false
   },
   "outputs": [],
   "source": [
    "# df=df+df['new']"
   ]
  },
  {
   "cell_type": "code",
   "execution_count": null,
   "metadata": {
    "collapsed": true
   },
   "outputs": [],
   "source": []
  },
  {
   "cell_type": "code",
   "execution_count": 277,
   "metadata": {
    "collapsed": false
   },
   "outputs": [
    {
     "data": {
      "text/html": [
       "<div>\n",
       "<style scoped>\n",
       "    .dataframe tbody tr th:only-of-type {\n",
       "        vertical-align: middle;\n",
       "    }\n",
       "\n",
       "    .dataframe tbody tr th {\n",
       "        vertical-align: top;\n",
       "    }\n",
       "\n",
       "    .dataframe thead th {\n",
       "        text-align: right;\n",
       "    }\n",
       "</style>\n",
       "<table border=\"1\" class=\"dataframe\">\n",
       "  <thead>\n",
       "    <tr style=\"text-align: right;\">\n",
       "      <th></th>\n",
       "      <th>Category</th>\n",
       "      <th>UploadTime</th>\n",
       "    </tr>\n",
       "  </thead>\n",
       "  <tbody>\n",
       "    <tr>\n",
       "      <th>1</th>\n",
       "      <td>0daytown-&gt;Games-&gt;</td>\n",
       "      <td>2015-04-25</td>\n",
       "    </tr>\n",
       "    <tr>\n",
       "      <th>2</th>\n",
       "      <td>0daytown-&gt;Software-&gt;MacOSX-&gt;</td>\n",
       "      <td>2015-04-25</td>\n",
       "    </tr>\n",
       "  </tbody>\n",
       "</table>\n",
       "</div>"
      ],
      "text/plain": [
       "                       Category  UploadTime\n",
       "1             0daytown->Games->  2015-04-25\n",
       "2  0daytown->Software->MacOSX->  2015-04-25"
      ]
     },
     "execution_count": 277,
     "metadata": {},
     "output_type": "execute_result"
    }
   ],
   "source": [
    "# print(df)\n",
    "# df.drop('Unnamed: 0',axis=1)\n",
    "df.iloc[[1,2],[0,1]]\n",
    "# df.drop('Unnamed: 0',axis=1,inplace=True)\n",
    "# df.iloc[0,0:]\n",
    "\n",
    "# df.reset_index()\n"
   ]
  },
  {
   "cell_type": "code",
   "execution_count": 251,
   "metadata": {
    "collapsed": false
   },
   "outputs": [
    {
     "data": {
      "text/plain": [
       "True"
      ]
     },
     "execution_count": 251,
     "metadata": {},
     "output_type": "execute_result"
    }
   ],
   "source": [
    "# indexSeries=df['PageLink']\n",
    "# indexSeries\n",
    "df['PageLink'][:]\n",
    "'p=170' in df['PageLink'][9]\n",
    "# df[df['PageLink']]\n",
    "# print(df.index)"
   ]
  },
  {
   "cell_type": "code",
   "execution_count": 353,
   "metadata": {
    "collapsed": false
   },
   "outputs": [
    {
     "data": {
      "text/html": [
       "<div>\n",
       "<style scoped>\n",
       "    .dataframe tbody tr th:only-of-type {\n",
       "        vertical-align: middle;\n",
       "    }\n",
       "\n",
       "    .dataframe tbody tr th {\n",
       "        vertical-align: top;\n",
       "    }\n",
       "\n",
       "    .dataframe thead th {\n",
       "        text-align: right;\n",
       "    }\n",
       "</style>\n",
       "<table border=\"1\" class=\"dataframe\">\n",
       "  <thead>\n",
       "    <tr style=\"text-align: right;\">\n",
       "      <th></th>\n",
       "      <th>Category</th>\n",
       "      <th>UploadTime</th>\n",
       "      <th>ArticalName</th>\n",
       "      <th>PageLink</th>\n",
       "      <th>BaiduLink</th>\n",
       "      <th>BaiduPwd</th>\n",
       "    </tr>\n",
       "    <tr>\n",
       "      <th>newindex</th>\n",
       "      <th></th>\n",
       "      <th></th>\n",
       "      <th></th>\n",
       "      <th></th>\n",
       "      <th></th>\n",
       "      <th></th>\n",
       "    </tr>\n",
       "  </thead>\n",
       "  <tbody>\n",
       "    <tr>\n",
       "      <th>17001</th>\n",
       "      <td>0daytown-&gt;Software-&gt;CAX/EDA-&gt;</td>\n",
       "      <td>2015-04-25</td>\n",
       "      <td>Delcam PowerSHAPE 2014 R2 SP4 + PS-Catalogues ...</td>\n",
       "      <td>http://www.0daytown.com/?p=17001</td>\n",
       "      <td>http://pan.baidu.com/s/1ntt6gT7;http://pan.bai...</td>\n",
       "      <td>tqfw;wq1t;7mb3</td>\n",
       "    </tr>\n",
       "    <tr>\n",
       "      <th>17002</th>\n",
       "      <td>0daytown-&gt;Games-&gt;</td>\n",
       "      <td>2015-04-25</td>\n",
       "      <td>The Book of Legends Steam Edition-ALiAS</td>\n",
       "      <td>http://www.0daytown.com/?p=17002</td>\n",
       "      <td>http://pan.baidu.com/s/1pJM8qON</td>\n",
       "      <td>NaN</td>\n",
       "    </tr>\n",
       "    <tr>\n",
       "      <th>17003</th>\n",
       "      <td>0daytown-&gt;Software-&gt;MacOSX-&gt;</td>\n",
       "      <td>2015-04-25</td>\n",
       "      <td>Tecplot 2013-2014 Suite Linux64 / MacOS64</td>\n",
       "      <td>http://www.0daytown.com/?p=17003</td>\n",
       "      <td>http://pan.baidu.com/s/1bndB3ZL</td>\n",
       "      <td>sy0e</td>\n",
       "    </tr>\n",
       "    <tr>\n",
       "      <th>17004</th>\n",
       "      <td>0daytown-&gt;Software-&gt;CAX/EDA-&gt;</td>\n",
       "      <td>2015-04-25</td>\n",
       "      <td>Altair HyperWorks Solvers 12.0.221 Win32/64 Li...</td>\n",
       "      <td>http://www.0daytown.com/?p=17004</td>\n",
       "      <td>http://pan.baidu.com/s/1kTgcZrx;http://pan.bai...</td>\n",
       "      <td>2hwz;nyqo</td>\n",
       "    </tr>\n",
       "    <tr>\n",
       "      <th>17005</th>\n",
       "      <td>0daytown-&gt;教程-&gt;3dsMax教程-&gt;</td>\n",
       "      <td>2015-04-25</td>\n",
       "      <td>Dixxl Tuxxs – Your First Day in 3ds Max</td>\n",
       "      <td>http://www.0daytown.com/?p=17005</td>\n",
       "      <td>http://pan.baidu.com/s/1c0xmnWc</td>\n",
       "      <td>fdms</td>\n",
       "    </tr>\n",
       "    <tr>\n",
       "      <th>17006</th>\n",
       "      <td>0daytown-&gt;素材-&gt;音色/Timbre-&gt;</td>\n",
       "      <td>2015-04-25</td>\n",
       "      <td>Cinesamplеs Voxos Epic Virtual Choirs KONTAKT</td>\n",
       "      <td>http://www.0daytown.com/?p=17006</td>\n",
       "      <td>http://pan.baidu.com/s/1bnnKPm3</td>\n",
       "      <td>f2d1</td>\n",
       "    </tr>\n",
       "    <tr>\n",
       "      <th>17007</th>\n",
       "      <td>0daytown-&gt;素材-&gt;音色/Timbre-&gt;</td>\n",
       "      <td>2015-04-25</td>\n",
       "      <td>Samplephonics Natalie Major Vocal Sessions WAV</td>\n",
       "      <td>http://www.0daytown.com/?p=17007</td>\n",
       "      <td>http://pan.baidu.com/s/1i31LKfN</td>\n",
       "      <td>kl6s</td>\n",
       "    </tr>\n",
       "    <tr>\n",
       "      <th>17008</th>\n",
       "      <td>0daytown-&gt;素材-&gt;音色/Timbre-&gt;</td>\n",
       "      <td>2015-04-25</td>\n",
       "      <td>FrozenPlain Phoenix KONTAKT</td>\n",
       "      <td>http://www.0daytown.com/?p=17008</td>\n",
       "      <td>http://pan.baidu.com/s/1i3rCvUd</td>\n",
       "      <td>xr67</td>\n",
       "    </tr>\n",
       "    <tr>\n",
       "      <th>17009</th>\n",
       "      <td>0daytown-&gt;Games-&gt;</td>\n",
       "      <td>2015-04-25</td>\n",
       "      <td>Bravada v1.017-TE</td>\n",
       "      <td>http://www.0daytown.com/?p=17009</td>\n",
       "      <td>http://pan.baidu.com/s/1ntoMyBR</td>\n",
       "      <td>NaN</td>\n",
       "    </tr>\n",
       "    <tr>\n",
       "      <th>17010</th>\n",
       "      <td>0daytown-&gt;Ebooks-&gt;</td>\n",
       "      <td>2015-04-25</td>\n",
       "      <td>Kandy – July 2014-P2P</td>\n",
       "      <td>http://www.0daytown.com/?p=17010</td>\n",
       "      <td>http://pan.baidu.com/s/1dD1nUKh</td>\n",
       "      <td>NaN</td>\n",
       "    </tr>\n",
       "  </tbody>\n",
       "</table>\n",
       "</div>"
      ],
      "text/plain": [
       "                               Category  UploadTime  \\\n",
       "newindex                                              \n",
       "17001     0daytown->Software->CAX/EDA->  2015-04-25   \n",
       "17002                 0daytown->Games->  2015-04-25   \n",
       "17003      0daytown->Software->MacOSX->  2015-04-25   \n",
       "17004     0daytown->Software->CAX/EDA->  2015-04-25   \n",
       "17005          0daytown->教程->3dsMax教程->  2015-04-25   \n",
       "17006         0daytown->素材->音色/Timbre->  2015-04-25   \n",
       "17007         0daytown->素材->音色/Timbre->  2015-04-25   \n",
       "17008         0daytown->素材->音色/Timbre->  2015-04-25   \n",
       "17009                 0daytown->Games->  2015-04-25   \n",
       "17010                0daytown->Ebooks->  2015-04-25   \n",
       "\n",
       "                                                ArticalName  \\\n",
       "newindex                                                      \n",
       "17001     Delcam PowerSHAPE 2014 R2 SP4 + PS-Catalogues ...   \n",
       "17002               The Book of Legends Steam Edition-ALiAS   \n",
       "17003             Tecplot 2013-2014 Suite Linux64 / MacOS64   \n",
       "17004     Altair HyperWorks Solvers 12.0.221 Win32/64 Li...   \n",
       "17005               Dixxl Tuxxs – Your First Day in 3ds Max   \n",
       "17006         Cinesamplеs Voxos Epic Virtual Choirs KONTAKT   \n",
       "17007        Samplephonics Natalie Major Vocal Sessions WAV   \n",
       "17008                           FrozenPlain Phoenix KONTAKT   \n",
       "17009                                     Bravada v1.017-TE   \n",
       "17010                                 Kandy – July 2014-P2P   \n",
       "\n",
       "                                  PageLink  \\\n",
       "newindex                                     \n",
       "17001     http://www.0daytown.com/?p=17001   \n",
       "17002     http://www.0daytown.com/?p=17002   \n",
       "17003     http://www.0daytown.com/?p=17003   \n",
       "17004     http://www.0daytown.com/?p=17004   \n",
       "17005     http://www.0daytown.com/?p=17005   \n",
       "17006     http://www.0daytown.com/?p=17006   \n",
       "17007     http://www.0daytown.com/?p=17007   \n",
       "17008     http://www.0daytown.com/?p=17008   \n",
       "17009     http://www.0daytown.com/?p=17009   \n",
       "17010     http://www.0daytown.com/?p=17010   \n",
       "\n",
       "                                                  BaiduLink        BaiduPwd  \n",
       "newindex                                                                     \n",
       "17001     http://pan.baidu.com/s/1ntt6gT7;http://pan.bai...  tqfw;wq1t;7mb3  \n",
       "17002                       http://pan.baidu.com/s/1pJM8qON             NaN  \n",
       "17003                       http://pan.baidu.com/s/1bndB3ZL            sy0e  \n",
       "17004     http://pan.baidu.com/s/1kTgcZrx;http://pan.bai...       2hwz;nyqo  \n",
       "17005                       http://pan.baidu.com/s/1c0xmnWc            fdms  \n",
       "17006                       http://pan.baidu.com/s/1bnnKPm3            f2d1  \n",
       "17007                       http://pan.baidu.com/s/1i31LKfN            kl6s  \n",
       "17008                       http://pan.baidu.com/s/1i3rCvUd            xr67  \n",
       "17009                       http://pan.baidu.com/s/1ntoMyBR             NaN  \n",
       "17010                       http://pan.baidu.com/s/1dD1nUKh             NaN  "
      ]
     },
     "execution_count": 353,
     "metadata": {},
     "output_type": "execute_result"
    }
   ],
   "source": [
    "df"
   ]
  },
  {
   "cell_type": "code",
   "execution_count": 356,
   "metadata": {
    "collapsed": false
   },
   "outputs": [
    {
     "data": {
      "text/plain": [
       "newindex\n",
       "17001    17001\n",
       "17002    17002\n",
       "17003    17003\n",
       "17004    17004\n",
       "17005    17005\n",
       "17006    17006\n",
       "17007    17007\n",
       "17008    17008\n",
       "17009    17009\n",
       "17010    17010\n",
       "Name: PageLink, dtype: object"
      ]
     },
     "execution_count": 356,
     "metadata": {},
     "output_type": "execute_result"
    }
   ],
   "source": [
    "df['PageLink'].apply(lambda x: x[-5:])"
   ]
  },
  {
   "cell_type": "code",
   "execution_count": 375,
   "metadata": {
    "collapsed": false
   },
   "outputs": [
    {
     "data": {
      "text/plain": [
       "Index(['17001', '17002', '17003', '17004', '17005', '17006', '17007', '17008',\n",
       "       '17009', '17010'],\n",
       "      dtype='object', name='')"
      ]
     },
     "execution_count": 375,
     "metadata": {},
     "output_type": "execute_result"
    }
   ],
   "source": [
    "# df['Category'].apply(lambda x: str(x).split)\n",
    "df.index.name=''\n",
    "df.index\n"
   ]
  },
  {
   "cell_type": "code",
   "execution_count": 314,
   "metadata": {
    "collapsed": false
   },
   "outputs": [
    {
     "data": {
      "text/html": [
       "<div>\n",
       "<style scoped>\n",
       "    .dataframe tbody tr th:only-of-type {\n",
       "        vertical-align: middle;\n",
       "    }\n",
       "\n",
       "    .dataframe tbody tr th {\n",
       "        vertical-align: top;\n",
       "    }\n",
       "\n",
       "    .dataframe thead th {\n",
       "        text-align: right;\n",
       "    }\n",
       "</style>\n",
       "<table border=\"1\" class=\"dataframe\">\n",
       "  <thead>\n",
       "    <tr style=\"text-align: right;\">\n",
       "      <th></th>\n",
       "      <th>Category</th>\n",
       "      <th>UploadTime</th>\n",
       "      <th>ArticalName</th>\n",
       "      <th>PageLink</th>\n",
       "      <th>BaiduLink</th>\n",
       "      <th>BaiduPwd</th>\n",
       "    </tr>\n",
       "    <tr>\n",
       "      <th>newindex</th>\n",
       "      <th></th>\n",
       "      <th></th>\n",
       "      <th></th>\n",
       "      <th></th>\n",
       "      <th></th>\n",
       "      <th></th>\n",
       "    </tr>\n",
       "  </thead>\n",
       "  <tbody>\n",
       "    <tr>\n",
       "      <th>17001</th>\n",
       "      <td>0daytown-&gt;Software-&gt;CAX/EDA-&gt;</td>\n",
       "      <td>2015-04-25</td>\n",
       "      <td>Delcam PowerSHAPE 2014 R2 SP4 + PS-Catalogues ...</td>\n",
       "      <td>http://www.0daytown.com/?p=17001</td>\n",
       "      <td>http://pan.baidu.com/s/1ntt6gT7;http://pan.bai...</td>\n",
       "      <td>tqfw;wq1t;7mb3</td>\n",
       "    </tr>\n",
       "  </tbody>\n",
       "</table>\n",
       "</div>"
      ],
      "text/plain": [
       "                               Category  UploadTime  \\\n",
       "newindex                                              \n",
       "17001     0daytown->Software->CAX/EDA->  2015-04-25   \n",
       "\n",
       "                                                ArticalName  \\\n",
       "newindex                                                      \n",
       "17001     Delcam PowerSHAPE 2014 R2 SP4 + PS-Catalogues ...   \n",
       "\n",
       "                                  PageLink  \\\n",
       "newindex                                     \n",
       "17001     http://www.0daytown.com/?p=17001   \n",
       "\n",
       "                                                  BaiduLink        BaiduPwd  \n",
       "newindex                                                                     \n",
       "17001     http://pan.baidu.com/s/1ntt6gT7;http://pan.bai...  tqfw;wq1t;7mb3  "
      ]
     },
     "execution_count": 314,
     "metadata": {},
     "output_type": "execute_result"
    }
   ],
   "source": [
    "# for string1 in df['PageLink'].tolist()\n",
    "indexlist=list(map(lambda x: x[-5:], df['PageLink'].tolist()))\n",
    "# df.set_index(indexlist)\n",
    "df['newindex']=indexlist\n",
    "# df.reset_index()\n",
    "df.set_index('newindex',append=False,inplace=True)\n",
    "# df.drop('newindex',axis=1)\n",
    "# df.drop(index='newindex',axis=1)\n",
    "# df.count()\n",
    "# df.drop('new',axis=1,inplace=True)\n",
    "# df.drop(['newindex'])\n",
    "# df[df['ArticalName']]\n",
    "# map(x in lambda x:x, df['ArticalName'].tolist)\n",
    "df[df['ArticalName'].str.contains('Delcam')]"
   ]
  },
  {
   "cell_type": "code",
   "execution_count": 315,
   "metadata": {
    "collapsed": false
   },
   "outputs": [
    {
     "data": {
      "text/html": [
       "<div>\n",
       "<style scoped>\n",
       "    .dataframe tbody tr th:only-of-type {\n",
       "        vertical-align: middle;\n",
       "    }\n",
       "\n",
       "    .dataframe tbody tr th {\n",
       "        vertical-align: top;\n",
       "    }\n",
       "\n",
       "    .dataframe thead th {\n",
       "        text-align: right;\n",
       "    }\n",
       "</style>\n",
       "<table border=\"1\" class=\"dataframe\">\n",
       "  <thead>\n",
       "    <tr style=\"text-align: right;\">\n",
       "      <th></th>\n",
       "      <th>Category</th>\n",
       "      <th>UploadTime</th>\n",
       "      <th>ArticalName</th>\n",
       "      <th>PageLink</th>\n",
       "      <th>BaiduLink</th>\n",
       "      <th>BaiduPwd</th>\n",
       "    </tr>\n",
       "    <tr>\n",
       "      <th>newindex</th>\n",
       "      <th></th>\n",
       "      <th></th>\n",
       "      <th></th>\n",
       "      <th></th>\n",
       "      <th></th>\n",
       "      <th></th>\n",
       "    </tr>\n",
       "  </thead>\n",
       "  <tbody>\n",
       "    <tr>\n",
       "      <th>17001</th>\n",
       "      <td>0daytown-&gt;Software-&gt;CAX/EDA-&gt;</td>\n",
       "      <td>2015-04-25</td>\n",
       "      <td>Delcam PowerSHAPE 2014 R2 SP4 + PS-Catalogues ...</td>\n",
       "      <td>http://www.0daytown.com/?p=17001</td>\n",
       "      <td>http://pan.baidu.com/s/1ntt6gT7;http://pan.bai...</td>\n",
       "      <td>tqfw;wq1t;7mb3</td>\n",
       "    </tr>\n",
       "    <tr>\n",
       "      <th>17002</th>\n",
       "      <td>0daytown-&gt;Games-&gt;</td>\n",
       "      <td>2015-04-25</td>\n",
       "      <td>The Book of Legends Steam Edition-ALiAS</td>\n",
       "      <td>http://www.0daytown.com/?p=17002</td>\n",
       "      <td>http://pan.baidu.com/s/1pJM8qON</td>\n",
       "      <td>NaN</td>\n",
       "    </tr>\n",
       "    <tr>\n",
       "      <th>17003</th>\n",
       "      <td>0daytown-&gt;Software-&gt;MacOSX-&gt;</td>\n",
       "      <td>2015-04-25</td>\n",
       "      <td>Tecplot 2013-2014 Suite Linux64 / MacOS64</td>\n",
       "      <td>http://www.0daytown.com/?p=17003</td>\n",
       "      <td>http://pan.baidu.com/s/1bndB3ZL</td>\n",
       "      <td>sy0e</td>\n",
       "    </tr>\n",
       "    <tr>\n",
       "      <th>17004</th>\n",
       "      <td>0daytown-&gt;Software-&gt;CAX/EDA-&gt;</td>\n",
       "      <td>2015-04-25</td>\n",
       "      <td>Altair HyperWorks Solvers 12.0.221 Win32/64 Li...</td>\n",
       "      <td>http://www.0daytown.com/?p=17004</td>\n",
       "      <td>http://pan.baidu.com/s/1kTgcZrx;http://pan.bai...</td>\n",
       "      <td>2hwz;nyqo</td>\n",
       "    </tr>\n",
       "    <tr>\n",
       "      <th>17005</th>\n",
       "      <td>0daytown-&gt;教程-&gt;3dsMax教程-&gt;</td>\n",
       "      <td>2015-04-25</td>\n",
       "      <td>Dixxl Tuxxs – Your First Day in 3ds Max</td>\n",
       "      <td>http://www.0daytown.com/?p=17005</td>\n",
       "      <td>http://pan.baidu.com/s/1c0xmnWc</td>\n",
       "      <td>fdms</td>\n",
       "    </tr>\n",
       "    <tr>\n",
       "      <th>17006</th>\n",
       "      <td>0daytown-&gt;素材-&gt;音色/Timbre-&gt;</td>\n",
       "      <td>2015-04-25</td>\n",
       "      <td>Cinesamplеs Voxos Epic Virtual Choirs KONTAKT</td>\n",
       "      <td>http://www.0daytown.com/?p=17006</td>\n",
       "      <td>http://pan.baidu.com/s/1bnnKPm3</td>\n",
       "      <td>f2d1</td>\n",
       "    </tr>\n",
       "    <tr>\n",
       "      <th>17007</th>\n",
       "      <td>0daytown-&gt;素材-&gt;音色/Timbre-&gt;</td>\n",
       "      <td>2015-04-25</td>\n",
       "      <td>Samplephonics Natalie Major Vocal Sessions WAV</td>\n",
       "      <td>http://www.0daytown.com/?p=17007</td>\n",
       "      <td>http://pan.baidu.com/s/1i31LKfN</td>\n",
       "      <td>kl6s</td>\n",
       "    </tr>\n",
       "    <tr>\n",
       "      <th>17008</th>\n",
       "      <td>0daytown-&gt;素材-&gt;音色/Timbre-&gt;</td>\n",
       "      <td>2015-04-25</td>\n",
       "      <td>FrozenPlain Phoenix KONTAKT</td>\n",
       "      <td>http://www.0daytown.com/?p=17008</td>\n",
       "      <td>http://pan.baidu.com/s/1i3rCvUd</td>\n",
       "      <td>xr67</td>\n",
       "    </tr>\n",
       "    <tr>\n",
       "      <th>17009</th>\n",
       "      <td>0daytown-&gt;Games-&gt;</td>\n",
       "      <td>2015-04-25</td>\n",
       "      <td>Bravada v1.017-TE</td>\n",
       "      <td>http://www.0daytown.com/?p=17009</td>\n",
       "      <td>http://pan.baidu.com/s/1ntoMyBR</td>\n",
       "      <td>NaN</td>\n",
       "    </tr>\n",
       "    <tr>\n",
       "      <th>17010</th>\n",
       "      <td>0daytown-&gt;Ebooks-&gt;</td>\n",
       "      <td>2015-04-25</td>\n",
       "      <td>Kandy – July 2014-P2P</td>\n",
       "      <td>http://www.0daytown.com/?p=17010</td>\n",
       "      <td>http://pan.baidu.com/s/1dD1nUKh</td>\n",
       "      <td>NaN</td>\n",
       "    </tr>\n",
       "  </tbody>\n",
       "</table>\n",
       "</div>"
      ],
      "text/plain": [
       "                               Category  UploadTime  \\\n",
       "newindex                                              \n",
       "17001     0daytown->Software->CAX/EDA->  2015-04-25   \n",
       "17002                 0daytown->Games->  2015-04-25   \n",
       "17003      0daytown->Software->MacOSX->  2015-04-25   \n",
       "17004     0daytown->Software->CAX/EDA->  2015-04-25   \n",
       "17005          0daytown->教程->3dsMax教程->  2015-04-25   \n",
       "17006         0daytown->素材->音色/Timbre->  2015-04-25   \n",
       "17007         0daytown->素材->音色/Timbre->  2015-04-25   \n",
       "17008         0daytown->素材->音色/Timbre->  2015-04-25   \n",
       "17009                 0daytown->Games->  2015-04-25   \n",
       "17010                0daytown->Ebooks->  2015-04-25   \n",
       "\n",
       "                                                ArticalName  \\\n",
       "newindex                                                      \n",
       "17001     Delcam PowerSHAPE 2014 R2 SP4 + PS-Catalogues ...   \n",
       "17002               The Book of Legends Steam Edition-ALiAS   \n",
       "17003             Tecplot 2013-2014 Suite Linux64 / MacOS64   \n",
       "17004     Altair HyperWorks Solvers 12.0.221 Win32/64 Li...   \n",
       "17005               Dixxl Tuxxs – Your First Day in 3ds Max   \n",
       "17006         Cinesamplеs Voxos Epic Virtual Choirs KONTAKT   \n",
       "17007        Samplephonics Natalie Major Vocal Sessions WAV   \n",
       "17008                           FrozenPlain Phoenix KONTAKT   \n",
       "17009                                     Bravada v1.017-TE   \n",
       "17010                                 Kandy – July 2014-P2P   \n",
       "\n",
       "                                  PageLink  \\\n",
       "newindex                                     \n",
       "17001     http://www.0daytown.com/?p=17001   \n",
       "17002     http://www.0daytown.com/?p=17002   \n",
       "17003     http://www.0daytown.com/?p=17003   \n",
       "17004     http://www.0daytown.com/?p=17004   \n",
       "17005     http://www.0daytown.com/?p=17005   \n",
       "17006     http://www.0daytown.com/?p=17006   \n",
       "17007     http://www.0daytown.com/?p=17007   \n",
       "17008     http://www.0daytown.com/?p=17008   \n",
       "17009     http://www.0daytown.com/?p=17009   \n",
       "17010     http://www.0daytown.com/?p=17010   \n",
       "\n",
       "                                                  BaiduLink        BaiduPwd  \n",
       "newindex                                                                     \n",
       "17001     http://pan.baidu.com/s/1ntt6gT7;http://pan.bai...  tqfw;wq1t;7mb3  \n",
       "17002                       http://pan.baidu.com/s/1pJM8qON             NaN  \n",
       "17003                       http://pan.baidu.com/s/1bndB3ZL            sy0e  \n",
       "17004     http://pan.baidu.com/s/1kTgcZrx;http://pan.bai...       2hwz;nyqo  \n",
       "17005                       http://pan.baidu.com/s/1c0xmnWc            fdms  \n",
       "17006                       http://pan.baidu.com/s/1bnnKPm3            f2d1  \n",
       "17007                       http://pan.baidu.com/s/1i31LKfN            kl6s  \n",
       "17008                       http://pan.baidu.com/s/1i3rCvUd            xr67  \n",
       "17009                       http://pan.baidu.com/s/1ntoMyBR             NaN  \n",
       "17010                       http://pan.baidu.com/s/1dD1nUKh             NaN  "
      ]
     },
     "execution_count": 315,
     "metadata": {},
     "output_type": "execute_result"
    }
   ],
   "source": [
    "df[df['UploadTime'].str.contains('2015')]"
   ]
  },
  {
   "cell_type": "code",
   "execution_count": 320,
   "metadata": {
    "collapsed": false
   },
   "outputs": [],
   "source": [
    "dfcat=df['Category'].str.split('->')"
   ]
  },
  {
   "cell_type": "code",
   "execution_count": 352,
   "metadata": {
    "collapsed": false
   },
   "outputs": [],
   "source": [
    "# \n",
    "# len(['0daytown', 'Software', 'CAX/EDA'])\n",
    "# dfcat.iloc[0]\n",
    "totalnewcolumns=max([len(x) for x in dfcat.tolist()])-1"
   ]
  },
  {
   "cell_type": "code",
   "execution_count": 377,
   "metadata": {
    "collapsed": true
   },
   "outputs": [],
   "source": [
    "x=np.linspace(0,5,11)"
   ]
  },
  {
   "cell_type": "code",
   "execution_count": 379,
   "metadata": {
    "collapsed": true
   },
   "outputs": [],
   "source": [
    "y=x**2"
   ]
  },
  {
   "cell_type": "code",
   "execution_count": 381,
   "metadata": {
    "collapsed": false
   },
   "outputs": [
    {
     "data": {
      "text/plain": [
       "array([0. , 0.5, 1. , 1.5, 2. , 2.5, 3. , 3.5, 4. , 4.5, 5. ])"
      ]
     },
     "execution_count": 381,
     "metadata": {},
     "output_type": "execute_result"
    }
   ],
   "source": [
    "x"
   ]
  },
  {
   "cell_type": "code",
   "execution_count": 383,
   "metadata": {
    "collapsed": false
   },
   "outputs": [
    {
     "data": {
      "text/plain": [
       "array([ 0.  ,  0.25,  1.  ,  2.25,  4.  ,  6.25,  9.  , 12.25, 16.  ,\n",
       "       20.25, 25.  ])"
      ]
     },
     "execution_count": 383,
     "metadata": {},
     "output_type": "execute_result"
    }
   ],
   "source": [
    "y"
   ]
  },
  {
   "cell_type": "code",
   "execution_count": 398,
   "metadata": {
    "collapsed": false
   },
   "outputs": [
    {
     "data": {
      "text/plain": [
       "Text(0.5,1,'Title')"
      ]
     },
     "execution_count": 398,
     "metadata": {},
     "output_type": "execute_result"
    },
    {
     "data": {
      "image/png": "[encoded data removed]",
      "text/plain": [
       "<Figure size 432x288 with 1 Axes>"
      ]
     },
     "metadata": {},
     "output_type": "display_data"
    }
   ],
   "source": [
    "import matplotlib.pyplot as plt\n",
    "%matplotlib inline\n",
    "plt.plot(x+1,x**2)\n",
    "plt.xlabel('X')\n",
    "plt.ylabel('y')\n",
    "plt.title('Title')"
   ]
  },
  {
   "cell_type": "code",
   "execution_count": 403,
   "metadata": {
    "collapsed": false
   },
   "outputs": [
    {
     "data": {
      "text/plain": [
       "[<matplotlib.lines.Line2D at 0x2ab4a9c5b00>]"
      ]
     },
     "execution_count": 403,
     "metadata": {},
     "output_type": "execute_result"
    },
    {
     "data": {
      "image/png": "[encoded data removed]",
      "text/plain": [
       "<Figure size 432x288 with 2 Axes>"
      ]
     },
     "metadata": {},
     "output_type": "display_data"
    }
   ],
   "source": [
    "plt.subplot(1,2,1)\n",
    "plt.plot(x,y,'r')\n",
    "\n",
    "plt.subplot(1,2,2)\n",
    "plt.plot(x,x**3,'b')"
   ]
  },
  {
   "cell_type": "code",
   "execution_count": null,
   "metadata": {
    "collapsed": true
   },
   "outputs": [],
   "source": []
  }
 ],
 "metadata": {
  "anaconda-cloud": {},
  "kernelspec": {
   "display_name": "Python [conda root]",
   "language": "python",
   "name": "conda-root-py"
  },
  "language_info": {
   "codemirror_mode": {
    "name": "ipython",
    "version": 3
   },
   "file_extension": ".py",
   "mimetype": "text/x-python",
   "name": "python",
   "nbconvert_exporter": "python",
   "pygments_lexer": "ipython3",
   "version": "3.5.6"
  }
 },
 "nbformat": 4,
 "nbformat_minor": 1
}

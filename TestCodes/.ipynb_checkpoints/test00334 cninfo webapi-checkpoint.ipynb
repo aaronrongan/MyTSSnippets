{
 "cells": [
  {
   "cell_type": "code",
   "execution_count": 7,
   "metadata": {
    "collapsed": false
   },
   "outputs": [],
   "source": [
    "# -*- coding: UTF-8 -*- \n",
    "# import httplib\n",
    "import urllib\n",
    "import time,json\n",
    "\n",
    "        "
   ]
  },
  {
   "cell_type": "code",
   "execution_count": 8,
   "metadata": {
    "collapsed": true
   },
   "outputs": [],
   "source": [
    "def gettoken(client_id,client_secret):\n",
    "    url='http://api.before.com/api-cloud-platform/oauth2/token' #api.before.com需要根据具体访问域名修改\n",
    "    post_data=\"grant_type=client_credentials&client_id=%s&client_secret=%s\"%(client_id,client_secret)\n",
    "    req = urllib.urlopen(url, post_data)\n",
    "    responsecontent = req.read()\n",
    "    responsedict=json.loads(responsecontent)\n",
    "    token=responsedict[\"access_token\"]\n",
    "    return token\n",
    "               "
   ]
  },
  {
   "cell_type": "code",
   "execution_count": 15,
   "metadata": {
    "collapsed": false
   },
   "outputs": [],
   "source": [
    "def apiget(scode,tokent):\n",
    "    url = \"http://apitest2.com/api/stock/p_stock2100?scode=%s&access_token=%s\" #apitest2.com需要根据具体访问域名修改\n",
    "    conn = httplib.HTTPConnection(\"apitest2.com\")\n",
    "    conn.request(method=\"GET\",url=url%(scode,tokent))\n",
    "    response = conn.getresponse()\n",
    "    rescontent= response.read()\n",
    "    responsedict=json.loads(rescontent)\n",
    "    resultcode=responsedict[\"resultcode\"]\n",
    "    print(responsedict[\"resultmsg\"],responsedict[\"resultcode\"])\n",
    "    if(responsedict[\"resultmsg\"]==\"success\" and len(responsedict[\"records\"])>=1):\n",
    "        print( responsedict[\"records\"] ) #接收到的具体数据内容\n",
    "    else:\n",
    "        print ('no data')\n",
    "    return resultcode\n",
    "\n",
    "                "
   ]
  },
  {
   "cell_type": "code",
   "execution_count": 23,
   "metadata": {
    "collapsed": false
   },
   "outputs": [],
   "source": [
    "def apipost(scode,tokent):\n",
    "#     url = \"http://apitest2.com/api/stock/p_stock2100\"  #apitest2.com需要根据具体访问域名修改\n",
    "    url = \"http://webapi.cninfo.com.cn/#/thematicStatistics?id=538\"  #apitest2.com需要根据具体访问域名修改\n",
    "    post_data=\"scode=%s&access_token=%s\"%(scode,tokent)\n",
    "    req = urllib.urlopen(url, post_data)\n",
    "    content = req.read()\n",
    "    responsedict=json.loads(content)\n",
    "    resultcode=responsedict[\"resultcode\"]    \n",
    "    print(responsedict[\"resultmsg\"],responsedict[\"resultcode\"])\n",
    "    if(responsedict[\"resultmsg\"]==\"success\" and len(responsedict[\"records\"])>=1):\n",
    "        print(responsedict[\"records\"])  #接收到的具体数据内容\n",
    "    else:\n",
    "        print('no data')\n",
    "    return resultcode\n",
    "                       \n",
    "\n",
    "                "
   ]
  },
  {
   "cell_type": "code",
   "execution_count": 20,
   "metadata": {
    "collapsed": false
   },
   "outputs": [
    {
     "ename": "AttributeError",
     "evalue": "module 'urllib' has no attribute 'urlopen'",
     "output_type": "error",
     "traceback": [
      "\u001b[0;31m---------------------------------------------------------------------------\u001b[0m",
      "\u001b[0;31mAttributeError\u001b[0m                            Traceback (most recent call last)",
      "\u001b[0;32m<ipython-input-20-f9c7ef1b54e7>\u001b[0m in \u001b[0;36m<module>\u001b[0;34m()\u001b[0m\n\u001b[1;32m      2\u001b[0m     \u001b[0mclient_id\u001b[0m\u001b[1;33m=\u001b[0m\u001b[1;34m\"13651829783\"\u001b[0m \u001b[1;31m#client_id,client_secret通过我的凭证获取\u001b[0m\u001b[1;33m\u001b[0m\u001b[0m\n\u001b[1;32m      3\u001b[0m     \u001b[0mclient_secret\u001b[0m\u001b[1;33m=\u001b[0m\u001b[1;34m\"afb9f0f0887b4a34a1b39780b5739883\"\u001b[0m\u001b[1;33m\u001b[0m\u001b[0m\n\u001b[0;32m----> 4\u001b[0;31m     \u001b[0mtoken\u001b[0m\u001b[1;33m=\u001b[0m\u001b[0mgettoken\u001b[0m\u001b[1;33m(\u001b[0m\u001b[0mclient_id\u001b[0m\u001b[1;33m,\u001b[0m\u001b[0mclient_secret\u001b[0m\u001b[1;33m)\u001b[0m\u001b[1;33m\u001b[0m\u001b[0m\n\u001b[0m\u001b[1;32m      5\u001b[0m     \u001b[1;32mfor\u001b[0m \u001b[0mi\u001b[0m \u001b[1;32min\u001b[0m \u001b[0mrange\u001b[0m\u001b[1;33m(\u001b[0m\u001b[1;36m0\u001b[0m\u001b[1;33m,\u001b[0m\u001b[1;36m2\u001b[0m\u001b[1;33m)\u001b[0m\u001b[1;33m:\u001b[0m \u001b[1;31m#注：3600为循环访问API的次数\u001b[0m\u001b[1;33m\u001b[0m\u001b[0m\n\u001b[1;32m      6\u001b[0m         \u001b[0mscode\u001b[0m\u001b[1;33m=\u001b[0m\u001b[0mstr\u001b[0m\u001b[1;33m(\u001b[0m\u001b[1;36m300000\u001b[0m\u001b[1;33m+\u001b[0m\u001b[0mi\u001b[0m\u001b[1;33m)\u001b[0m \u001b[1;31m#股票代码，根据自己需要传入\u001b[0m\u001b[1;33m\u001b[0m\u001b[0m\n",
      "\u001b[0;32m<ipython-input-8-ab50fb01b329>\u001b[0m in \u001b[0;36mgettoken\u001b[0;34m(client_id, client_secret)\u001b[0m\n\u001b[1;32m      2\u001b[0m    \u001b[0murl\u001b[0m\u001b[1;33m=\u001b[0m\u001b[1;34m'http://api.before.com/api-cloud-platform/oauth2/token'\u001b[0m \u001b[1;31m#api.before.com需要根据具体访问域名修改\u001b[0m\u001b[1;33m\u001b[0m\u001b[0m\n\u001b[1;32m      3\u001b[0m    \u001b[0mpost_data\u001b[0m\u001b[1;33m=\u001b[0m\u001b[1;34m\"grant_type=client_credentials&client_id=%s&client_secret=%s\"\u001b[0m\u001b[1;33m%\u001b[0m\u001b[1;33m(\u001b[0m\u001b[0mclient_id\u001b[0m\u001b[1;33m,\u001b[0m\u001b[0mclient_secret\u001b[0m\u001b[1;33m)\u001b[0m\u001b[1;33m\u001b[0m\u001b[0m\n\u001b[0;32m----> 4\u001b[0;31m    \u001b[0mreq\u001b[0m \u001b[1;33m=\u001b[0m \u001b[0murllib\u001b[0m\u001b[1;33m.\u001b[0m\u001b[0murlopen\u001b[0m\u001b[1;33m(\u001b[0m\u001b[0murl\u001b[0m\u001b[1;33m,\u001b[0m \u001b[0mpost_data\u001b[0m\u001b[1;33m)\u001b[0m\u001b[1;33m\u001b[0m\u001b[0m\n\u001b[0m\u001b[1;32m      5\u001b[0m    \u001b[0mresponsecontent\u001b[0m \u001b[1;33m=\u001b[0m \u001b[0mreq\u001b[0m\u001b[1;33m.\u001b[0m\u001b[0mread\u001b[0m\u001b[1;33m(\u001b[0m\u001b[1;33m)\u001b[0m\u001b[1;33m\u001b[0m\u001b[0m\n\u001b[1;32m      6\u001b[0m    \u001b[0mresponsedict\u001b[0m\u001b[1;33m=\u001b[0m\u001b[0mjson\u001b[0m\u001b[1;33m.\u001b[0m\u001b[0mloads\u001b[0m\u001b[1;33m(\u001b[0m\u001b[0mresponsecontent\u001b[0m\u001b[1;33m)\u001b[0m\u001b[1;33m\u001b[0m\u001b[0m\n",
      "\u001b[0;31mAttributeError\u001b[0m: module 'urllib' has no attribute 'urlopen'"
     ]
    }
   ],
   "source": [
    "if __name__==\"__main__\":\n",
    "    client_id=\"13651829783\" #client_id,client_secret通过我的凭证获取\n",
    "    client_secret=\"afb9f0f0887b4a34a1b39780b5739883\"\n",
    "    token=gettoken(client_id,client_secret)\n",
    "    for i in range(0,2): #注：3600为循环访问API的次数\n",
    "        scode=str(300000+i) #股票代码，根据自己需要传入\n",
    "        resultcode=apiget(scode,token)   #以http get方法获取数据\n",
    "        #resultcode=apipost(scode,token) #以http post方法获取数据\n",
    "        if resultcode==405: #token失效，重新获取\n",
    "            token=gettoken(client_id,client_secret)\n",
    "            apiget(scode,token)  #get请求\n",
    "            #apipost(scode,token)#post请求\n",
    "        time.sleep(1)"
   ]
  },
  {
   "cell_type": "code",
   "execution_count": null,
   "metadata": {
    "collapsed": true
   },
   "outputs": [],
   "source": []
  }
 ],
 "metadata": {
  "kernelspec": {
   "display_name": "Python [conda root]",
   "language": "python",
   "name": "conda-root-py"
  },
  "language_info": {
   "codemirror_mode": {
    "name": "ipython",
    "version": 3
   },
   "file_extension": ".py",
   "mimetype": "text/x-python",
   "name": "python",
   "nbconvert_exporter": "python",
   "pygments_lexer": "ipython3",
   "version": "3.5.6"
  }
 },
 "nbformat": 4,
 "nbformat_minor": 1
}

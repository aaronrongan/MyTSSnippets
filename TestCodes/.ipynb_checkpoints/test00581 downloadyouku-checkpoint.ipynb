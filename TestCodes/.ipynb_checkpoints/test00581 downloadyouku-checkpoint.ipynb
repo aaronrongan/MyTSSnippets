{
 "cells": [
  {
   "cell_type": "code",
   "execution_count": 3,
   "metadata": {},
   "outputs": [
    {
     "name": "stdout",
     "output_type": "stream",
     "text": [
      "开始下载叶问,时间：2020-02-17 11:58:09.636403\n",
      "电影下载结束,时间：2020-02-17 11:58:12.468773\n"
     ]
    }
   ],
   "source": [
    "import requests\n",
    "import datetime\n",
    "url = \"http://vwecam.tc.qq.com/1006_76728885644c4f369a55c33fc60896fc.f0.mp4?vkey=634908424E7CC4B0AC8B4512E9F52DC8958FEB892F59D98C6C243C25063107BA5F5BAF238AFB67189CE5FE839E1E3118677063B4E6DE1F5C&rf=mobile.qzone.qq.com\"\n",
    "# 视频的url地址\n",
    "html = requests.get(url)\n",
    "# content返回的的数据（注意，是二进制类型哦！）\n",
    "html = html.content\n",
    "start_down_time = datetime.datetime.now()\n",
    "print('开始下载叶问,时间：{}'.format(start_down_time))\n",
    "# 因为是二进制数据，所以必须要要采用wb的形式来写入\n",
    "with open(r'C:\\长安3.mp4', 'wb') as f:\n",
    "    f.write(html)\n",
    "end_time = datetime.datetime.now()\n",
    "print('电影下载结束,时间：{}'.format(end_time))"
   ]
  },
  {
   "cell_type": "code",
   "execution_count": null,
   "metadata": {
    "collapsed": true
   },
   "outputs": [],
   "source": [
    "# -*- coding: utf-8 -*-\"\"\"Created on Wed Mar 14 15:09:14 2018@author: Y\"\"\"  import requestsimport json  #m3u8的文件路径path = input(\"Enter m3u8 file path:\").replace('\\\\','/')print(path)file = open(path,'r')operation = input(\"是否要加上前缀？y/n\\n\").strip()pre_link = ''if operation == 'y':    pre_link = input(\"请输入前缀：\").strip()links = []for i in file:    if '#' not in i:        i = i.strip()        links.append(pre_link+i)file.close()l = len(links)print(\"总共有%d个片段...\"%l)length = len(str(len(links)))n = 0txt = \"\"for link in links:    n = n + 1    print(\"还剩%d个片段未下载...\"%(l-n))    if len(str(n)) < length:        name = '0'*(length-len(str(n))) + str(n) + \".ts\"    else:        name = str(n)+\".ts\"    txt = txt + \"file \\'\" + name + \"\\'\\n\"    jsonreq = json.dumps({'jsonrpc':'2.0', 'id':1,               'method':'aria2.addUri',               'params':[[link],{\"out\":name,\"split\":\"5\",\"max-connection-per-server\":\"16\",\"seed-ratio\":\"0\"}]})    c = requests.post('http://localhost:6800/jsonrpc', jsonreq)file = open(\"E:\\\\aria2data\\\\filelist.txt\",\"w\")file.write(txt)file.close()\n",
    "————————————————\n",
    "版权声明：本文为CSDN博主「XYYxyy55」的原创文章，遵循 CC 4.0 BY-SA 版权协议，转载请附上原文出处链接及本声明。\n",
    "原文链接：https://blog.csdn.net/XYYxyy55/article/details/80486989"
   ]
  }
 ],
 "metadata": {
  "kernelspec": {
   "display_name": "Python [conda root]",
   "language": "python",
   "name": "conda-root-py"
  },
  "language_info": {
   "codemirror_mode": {
    "name": "ipython",
    "version": 3
   },
   "file_extension": ".py",
   "mimetype": "text/x-python",
   "name": "python",
   "nbconvert_exporter": "python",
   "pygments_lexer": "ipython3",
   "version": "3.5.4"
  }
 },
 "nbformat": 4,
 "nbformat_minor": 2
}

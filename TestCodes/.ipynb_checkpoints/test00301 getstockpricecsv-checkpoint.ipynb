{
 "cells": [
  {
   "cell_type": "markdown",
   "metadata": {},
   "source": [
    "目的：\n",
    "从tushare下载股票价格的CSV文件，分别存为未复权和前复权文件，后期可以再加入财报数据。\n",
    "\n",
    "目的是有一个本地数据库，能通过excel直接读取，在excel中进行一些数据的分析，比如骑行客之前的分析国庆。\n",
    "长远看是能够为策略库做好准备，没有必要每次都要上网抓数据。\n",
    "\n",
    "代码是stocklist.csv，可能还会有将来其它的代码库，比如分析沪深300的、指数的。\n",
    "\n",
    "重要的一点是能够增量存取数据，能够识别数据中的开头、末尾分别是什么数据\n",
    "\n",
    "变量：\n",
    "stocklist的位置\n",
    "csv文件夹位置\n",
    "开始日期\n",
    "结束日期\n",
    "\n",
    "函数：\n",
    "*.解析code名称，转换为需要的格式，如000001.sz或者sh600001\n",
    "*.返回需要下载的代码清单 getcodelist\n",
    "*.从图share，返回dataframe\n",
    "    #获取未复权行情\n",
    "  pro = ts.pro_api()\n",
    "  df = pro.daily(ts_code='000001.SZ', start_date='20180701', end_date='20180718')\n",
    "  \n",
    "  #取000001的前复权行情\n",
    " df = ts.pro_bar(ts_code='000001.SZ', adj='qfq', start_date='20180101', end_date='20181011'\n",
    "\n",
    "\n",
    "要点：\n",
    "*.从tushare获取datafarme，这个函数最好做成一个通用接口，因为将来很可能要从不同途径获取数据\n",
    "*.dataframe保存为csv文件函数\n",
    "*.csv文件如何在前面插入行、如何在后面插入行\n"
   ]
  },
  {
   "cell_type": "code",
   "execution_count": 5,
   "metadata": {
    "collapsed": false
   },
   "outputs": [],
   "source": [
    "\n",
    "import pandas as pd\n",
    "import tushare as ts\n",
    "# import talib\n",
    "from matplotlib import pyplot as plt\n",
    "from datetime import datetime\n",
    "import matplotlib\n",
    "import csv\n",
    "import os\n",
    "\n",
    "#当前文件的路径\n",
    "pwd = os.getcwd()\n",
    "#当前文件的父路径\n",
    "father_path=os.path.abspath(os.path.dirname(pwd)+os.path.sep+\".\")\n",
    "\n",
    "stocklistwholepath=father_path + \"/DataRepository/db00021/stocklist1.csv\"\n",
    "\n",
    "csvfolderwholepath=''\n",
    "\n",
    "startdate='2019-1-5'\n",
    "enddate = datetime.today() #开始时间结束时间，选取最近一年的数据\n",
    "enddate = str(enddate)[0:10]\n",
    "\n",
    "token='f20927201ecc20e3cea9279abacfbb1d39a9624820d9b2f94613f722'\n",
    "global pro\n",
    "pro=ts.pro_api(token)\n"
   ]
  },
  {
   "cell_type": "code",
   "execution_count": 7,
   "metadata": {
    "collapsed": true
   },
   "outputs": [],
   "source": [
    "def ParseCode(CodeName):\n",
    "    #增加SH/SZ等后缀\n",
    "    ParsedCodeName=''\n",
    "    if CodeName[0]=='0' or CodeName[0]=='3':\n",
    "        ParsedCodeName=CodeName + '.SZ'\n",
    "    elif CodeName[0]=='6':\n",
    "        ParsedCodeName=CodeName + '.SH'\n",
    "        \n",
    "    return ParsedCodeName"
   ]
  },
  {
   "cell_type": "code",
   "execution_count": 16,
   "metadata": {
    "collapsed": true
   },
   "outputs": [],
   "source": [
    "def getcodelist():\n",
    "    \n",
    "    codelist=[]\n",
    "    with open(stocklistwholepath,newline='',encoding='utf-8-sig') as csv_file:\n",
    "        csv_reader = csv.DictReader(csv_file)\n",
    "        for row in csv_reader:\n",
    "            # print(row['code'],row['name'])\n",
    "            codelist.append(row['code'])\n",
    "    return codelist"
   ]
  },
  {
   "cell_type": "code",
   "execution_count": 18,
   "metadata": {
    "collapsed": true
   },
   "outputs": [],
   "source": [
    "def getstockdataframe(channel, code,startdate, enddate):\n",
    "    \n",
    "    #转换为sz或sh开头格式\n",
    "    codename=ParseCode(code)\n",
    "    \n",
    "    if channel=='tushare':\n",
    "#          df = pro.daily(ts_code='000001.SZ', start_date='20180701', end_date='20180718')\n",
    "        df = pro.daily(ts_code=codename, start_date=startdate, end_date=enddate)\n",
    "    \n",
    "        return df"
   ]
  },
  {
   "cell_type": "code",
   "execution_count": 19,
   "metadata": {
    "collapsed": true
   },
   "outputs": [],
   "source": [
    "def savecsv(df):\n",
    "    #判断文件是否存在，如何存在，则判断数据的前后日期，如果不存在，则创建新文件，进行读写\n",
    "    \n",
    "    return 0"
   ]
  },
  {
   "cell_type": "code",
   "execution_count": 23,
   "metadata": {
    "collapsed": false
   },
   "outputs": [
    {
     "name": "stdout",
     "output_type": "stream",
     "text": [
      "<bound method NDFrame.head of Empty DataFrame\n",
      "Columns: [ts_code, trade_date, open, high, low, close, pre_close, change, pct_chg, vol, amount]\n",
      "Index: []>\n",
      "<bound method NDFrame.head of Empty DataFrame\n",
      "Columns: [ts_code, trade_date, open, high, low, close, pre_close, change, pct_chg, vol, amount]\n",
      "Index: []>\n",
      "<bound method NDFrame.head of Empty DataFrame\n",
      "Columns: [ts_code, trade_date, open, high, low, close, pre_close, change, pct_chg, vol, amount]\n",
      "Index: []>\n"
     ]
    },
    {
     "ename": "UnboundLocalError",
     "evalue": "local variable 'ParsedCodeName' referenced before assignment",
     "output_type": "error",
     "traceback": [
      "\u001b[0;31m---------------------------------------------------------------------------\u001b[0m",
      "\u001b[0;31mUnboundLocalError\u001b[0m                         Traceback (most recent call last)",
      "\u001b[0;32m<ipython-input-23-1a63d94ced8f>\u001b[0m in \u001b[0;36m<module>\u001b[0;34m()\u001b[0m\n\u001b[1;32m      6\u001b[0m     \u001b[1;32mfor\u001b[0m \u001b[0mcode\u001b[0m \u001b[1;32min\u001b[0m \u001b[0mcodelist\u001b[0m\u001b[1;33m:\u001b[0m\u001b[1;33m\u001b[0m\u001b[0m\n\u001b[1;32m      7\u001b[0m \u001b[1;33m\u001b[0m\u001b[0m\n\u001b[0;32m----> 8\u001b[0;31m         \u001b[0mdf\u001b[0m\u001b[1;33m=\u001b[0m\u001b[0mgetstockdataframe\u001b[0m\u001b[1;33m(\u001b[0m\u001b[1;34m'tushare'\u001b[0m\u001b[1;33m,\u001b[0m \u001b[0mcode\u001b[0m\u001b[1;33m,\u001b[0m\u001b[0mstartdate\u001b[0m\u001b[1;33m,\u001b[0m\u001b[0menddate\u001b[0m\u001b[1;33m)\u001b[0m\u001b[1;33m\u001b[0m\u001b[0m\n\u001b[0m\u001b[1;32m      9\u001b[0m         \u001b[0mprint\u001b[0m\u001b[1;33m(\u001b[0m\u001b[0mdf\u001b[0m\u001b[1;33m.\u001b[0m\u001b[0mhead\u001b[0m\u001b[1;33m)\u001b[0m\u001b[1;33m\u001b[0m\u001b[0m\n\u001b[1;32m     10\u001b[0m         \u001b[0msavecsv\u001b[0m\u001b[1;33m(\u001b[0m\u001b[0mdf\u001b[0m\u001b[1;33m)\u001b[0m\u001b[1;33m\u001b[0m\u001b[0m\n",
      "\u001b[0;32m<ipython-input-18-522117cd00c2>\u001b[0m in \u001b[0;36mgetstockdataframe\u001b[0;34m(channel, code, startdate, enddate)\u001b[0m\n\u001b[1;32m      2\u001b[0m \u001b[1;33m\u001b[0m\u001b[0m\n\u001b[1;32m      3\u001b[0m     \u001b[1;31m#转换为sz或sh开头格式\u001b[0m\u001b[1;33m\u001b[0m\u001b[1;33m\u001b[0m\u001b[0m\n\u001b[0;32m----> 4\u001b[0;31m     \u001b[0mcodename\u001b[0m\u001b[1;33m=\u001b[0m\u001b[0mParseCode\u001b[0m\u001b[1;33m(\u001b[0m\u001b[0mcode\u001b[0m\u001b[1;33m)\u001b[0m\u001b[1;33m\u001b[0m\u001b[0m\n\u001b[0m\u001b[1;32m      5\u001b[0m \u001b[1;33m\u001b[0m\u001b[0m\n\u001b[1;32m      6\u001b[0m     \u001b[1;32mif\u001b[0m \u001b[0mchannel\u001b[0m\u001b[1;33m==\u001b[0m\u001b[1;34m'tushare'\u001b[0m\u001b[1;33m:\u001b[0m\u001b[1;33m\u001b[0m\u001b[0m\n",
      "\u001b[0;32m<ipython-input-7-e9da5164c94f>\u001b[0m in \u001b[0;36mParseCode\u001b[0;34m(CodeName)\u001b[0m\n\u001b[1;32m      6\u001b[0m         \u001b[0mParsedCodeName\u001b[0m\u001b[1;33m=\u001b[0m\u001b[0mCodeName\u001b[0m \u001b[1;33m+\u001b[0m \u001b[1;34m'.SH'\u001b[0m\u001b[1;33m\u001b[0m\u001b[0m\n\u001b[1;32m      7\u001b[0m \u001b[1;33m\u001b[0m\u001b[0m\n\u001b[0;32m----> 8\u001b[0;31m     \u001b[1;32mreturn\u001b[0m \u001b[0mParsedCodeName\u001b[0m\u001b[1;33m\u001b[0m\u001b[0m\n\u001b[0m",
      "\u001b[0;31mUnboundLocalError\u001b[0m: local variable 'ParsedCodeName' referenced before assignment"
     ]
    }
   ],
   "source": [
    "if __name__==\"__main__\":\n",
    "    codelist=getcodelist()\n",
    "    \n",
    "    codelist='000157'\n",
    "    \n",
    "    for code in codelist:\n",
    "        \n",
    "        df=getstockdataframe('tushare', code,startdate,enddate)\n",
    "        print(df.head)\n",
    "        savecsv(df)\n",
    "    "
   ]
  },
  {
   "cell_type": "code",
   "execution_count": 29,
   "metadata": {
    "collapsed": true
   },
   "outputs": [],
   "source": [
    "# df = ts.pro_bar(ts_code=CodeNameFull, api=None, adj='qfq', start_date=startdate, end_date=enddate)\n"
   ]
  },
  {
   "cell_type": "code",
   "execution_count": 34,
   "metadata": {
    "collapsed": true
   },
   "outputs": [],
   "source": [
    "#stockline = [datetime.strptime(d, '%Y%m%d').date() for d in df.trade_date]\n",
    "# plt.plot(stockline,df.close, '-', label = df.ts_code[0])\n",
    "#df.index = pd.to_datetime(df['trade_date'])\n",
    "\n",
    "# plt.figure(figsize=(20, 10),dpi=200)\n",
    "\n",
    "# print(df.head())"
   ]
  },
  {
   "cell_type": "code",
   "execution_count": 35,
   "metadata": {
    "collapsed": true
   },
   "outputs": [],
   "source": [
    "# df.sort_index(axis=0,ascending=True) \n",
    "\n",
    "# df.reindex(index=df.index[::-1])\n",
    "# df1.sort_values(by='low',ascending=False) \n",
    "# print(df['close'])\n",
    "# print(df['close'].rolling(5).mean())\n",
    "# print(df['close'].rolling(5).mean().shift(-4))\n"
   ]
  },
  {
   "cell_type": "code",
   "execution_count": 4,
   "metadata": {
    "collapsed": false
   },
   "outputs": [
    {
     "ename": "ImportError",
     "evalue": "cannot import name '__TA_FUNCTION_NAMES__'",
     "output_type": "error",
     "traceback": [
      "\u001b[0;31m---------------------------------------------------------------------------\u001b[0m",
      "\u001b[0;31mImportError\u001b[0m                               Traceback (most recent call last)",
      "\u001b[0;32m<ipython-input-4-935fe430caa4>\u001b[0m in \u001b[0;36m<module>\u001b[0;34m()\u001b[0m\n\u001b[1;32m      1\u001b[0m \u001b[1;32mimport\u001b[0m \u001b[0mnumpy\u001b[0m\u001b[1;33m\u001b[0m\u001b[0m\n\u001b[0;32m----> 2\u001b[0;31m \u001b[1;32mimport\u001b[0m \u001b[0mtalib\u001b[0m\u001b[1;33m\u001b[0m\u001b[0m\n\u001b[0m",
      "\u001b[0;32mC:\\Program Files\\Anaconda3\\lib\\site-packages\\talib\\__init__.py\u001b[0m in \u001b[0;36m<module>\u001b[0;34m()\u001b[0m\n\u001b[1;32m     41\u001b[0m         \u001b[1;32mreturn\u001b[0m \u001b[0mwrapper\u001b[0m\u001b[1;33m\u001b[0m\u001b[0m\n\u001b[1;32m     42\u001b[0m \u001b[1;33m\u001b[0m\u001b[0m\n\u001b[0;32m---> 43\u001b[0;31m from ._ta_lib import (\n\u001b[0m\u001b[1;32m     44\u001b[0m     \u001b[0m_ta_initialize\u001b[0m\u001b[1;33m,\u001b[0m \u001b[0m_ta_shutdown\u001b[0m\u001b[1;33m,\u001b[0m \u001b[0mMA_Type\u001b[0m\u001b[1;33m,\u001b[0m \u001b[0m__ta_version__\u001b[0m\u001b[1;33m,\u001b[0m\u001b[1;33m\u001b[0m\u001b[0m\n\u001b[1;32m     45\u001b[0m     \u001b[0m_ta_set_unstable_period\u001b[0m \u001b[1;32mas\u001b[0m \u001b[0mset_unstable_period\u001b[0m\u001b[1;33m,\u001b[0m\u001b[1;33m\u001b[0m\u001b[0m\n",
      "\u001b[0;31mImportError\u001b[0m: cannot import name '__TA_FUNCTION_NAMES__'"
     ]
    }
   ],
   "source": [
    "# import numpy\n",
    "# import talib"
   ]
  }
 ],
 "metadata": {
  "anaconda-cloud": {},
  "kernelspec": {
   "display_name": "Python [conda root]",
   "language": "python",
   "name": "conda-root-py"
  },
  "language_info": {
   "codemirror_mode": {
    "name": "ipython",
    "version": 3
   },
   "file_extension": ".py",
   "mimetype": "text/x-python",
   "name": "python",
   "nbconvert_exporter": "python",
   "pygments_lexer": "ipython3",
   "version": "3.5.2"
  }
 },
 "nbformat": 4,
 "nbformat_minor": 1
}

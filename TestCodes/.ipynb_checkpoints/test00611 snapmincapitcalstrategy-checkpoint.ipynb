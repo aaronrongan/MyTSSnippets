{
 "cells": [
  {
   "cell_type": "markdown",
   "metadata": {},
   "source": [
    "抓取中小盘最优市值策略\n",
    "\n",
    "目的\n",
    "抓取中小盘最小市值网页，获取实时持仓变动信息，发送给短信、邮件，及时调仓\n",
    "\n",
    "要点\n",
    " \n",
    "后续\n"
   ]
  },
  {
   "cell_type": "code",
   "execution_count": 1,
   "metadata": {
    "collapsed": true
   },
   "outputs": [],
   "source": [
    "\n",
    "import requests\n",
    "# import unittest\n",
    "from bs4 import BeautifulSoup\n",
    "\n",
    "import urllib3\n",
    "from selenium import webdriver\n",
    "import time\n",
    "\n",
    "from selenium import webdriver\n",
    "from selenium.webdriver.common.by import By\n",
    "from selenium.webdriver.support.ui import WebDriverWait\n",
    "from selenium.webdriver.support import expected_conditions as EC\n",
    "from selenium.webdriver.common.keys import Keys\n",
    "\n",
    "from selenium.webdriver.common.action_chains import ActionChains\n",
    "\n",
    "import socket\n",
    "\n",
    "import pandas as pd\n",
    "\n",
    "import lxml\n",
    "\n",
    "import urllib\n",
    "import random   #随机生成休眠时间\n",
    "import time\n",
    "\n",
    "from requests.adapters import HTTPAdapter\n",
    "\n",
    "import datetime\n",
    "\n",
    "from IPython.display import clear_output\n",
    "\n",
    "import smtplib\n",
    "from email.mime.text import MIMEText\n",
    "from email.header import Header\n",
    "\n",
    "from twilio.rest import Client\n",
    "import time"
   ]
  },
  {
   "cell_type": "code",
   "execution_count": 2,
   "metadata": {
    "collapsed": true
   },
   "outputs": [],
   "source": [
    "url='https://ycgr.fcsc.com/stock/strategy?sid=5526.R.167083532491360'\n"
   ]
  },
  {
   "cell_type": "code",
   "execution_count": null,
   "metadata": {
    "collapsed": true
   },
   "outputs": [],
   "source": [
    "from urllib import request\n",
    "from http import cookiejar\n",
    "\n",
    "# payloadHeader = {'user-agent':'Mozilla/5.0 (Windows NT 6.1; WOW64) AppleWebKit/537.36 (KHTML, like Gecko) Chrome/69.0.3497.100 Safari/537.36',\n",
    "#                  'referer': \"http://17fx.net/F2020/login.aspx\",\n",
    "#                  'content-type': 'application/json'\n",
    "#                  }\n",
    "\n",
    "payloadHeader = {'user-agent':'Mozilla/5.0 (Windows NT 6.1; WOW64) AppleWebKit/537.36 (KHTML, like Gecko) Chrome/69.0.3497.100 Safari/537.36'}\n",
    "\n",
    "postUrl = 'http://17fx.net/F2020/login.aspx'\n",
    "s = requests.Session()  # 为了保存登入信息\n",
    "postUrl_real='http://17fx.net/F2020/login.aspx?refurl=http%3a%2f%2f17fx.net%2fF2020%2fb_follow.aspx'\n",
    "# sCookie='xBBEH=CDG; %c2%84BBEH=%e6%ae%b7%e5%8b%87;'\n",
    "# headers1={\"User-Agent\":\"Mozilla/5.0 (Macintosh; Intel Mac OS X 10.13; rv:55.0) Gecko/20100101 Firefox/55.0\"}\n",
    "    \n",
    "PayloadData  = {'__VIEWSTATE':'/wEPDwUKMTUwNDM4MzczMGRkLv3EgSArofww68hGhWvnnwIFlZNQofmBAlogySz+N0w=',\n",
    "                '__VIEWSTATEGENERATOR':'CE0712C6',\n",
    "                '__EVENTVALIDATION':'/wEdAAT1DSey8VPTpFY1kJVjFeZozCVMJGnCxB7ZG7bkLlekEsa8wzphH9jstV6K9RvF+kh0OWarNtHZvueomBCnXS0azTqMPXaHMi0aCYHkaY10XO8UO3kP+Fu1mLaLDFdN/r0=',\n",
    "                 'txt_name_2020_byf': \"u457\",\n",
    "                 'txt_pwd_2020_byf': \"103889\",\n",
    "                'btn_login':'登 录'\n",
    "                }\n",
    "\n",
    "# r = s.post(postUrl, data=json.dumps(PayloadData), headers=payloadHeader)\n",
    "\n",
    "\n",
    "# #声明一个CookieJar对象实例来保存cookie\n",
    "# cookie = cookiejar.CookieJar()\n",
    "# #利用urllib.request库的HTTPCookieProcessor对象来创建cookie处理器,也就CookieHandler\n",
    "# handler=request.HTTPCookieProcessor(cookie)\n",
    "# #通过CookieHandler创建opener\n",
    "# opener = request.build_opener(handler)\n",
    "# # #此处的open方法打开网页\n",
    "# response = opener.open(postUrl)\n",
    "# #打印cookie信息\n",
    "# for item in cookie:\n",
    "#     print('Name = %s' % item.name)\n",
    "#     print('Value = %s' % item.value)\n",
    "\n",
    "# r = s.post(postUrl, data=PayloadData, headers=payloadHeader)\n",
    "\n",
    "# r = s.post(postUrl,\n",
    "           \n",
    "# r = s.post(postUrl, data=PayloadData, headers=payloadHeader)\n",
    "\n",
    "\n",
    "# response.cookies.get_dict())\n",
    "\n",
    "soup=BeautifulSoup(r.text,'lxml')\n",
    "soup"
   ]
  },
  {
   "cell_type": "code",
   "execution_count": null,
   "metadata": {
    "collapsed": true
   },
   "outputs": [],
   "source": [
    "import requests\n",
    "session = requests.Session()\n",
    "# print(session.cookies.get_dict())\n",
    "\n",
    "# response = session.get(url)\n",
    "# print(session.cookies.get_dict())\n",
    "\n",
    "r2=requests.get(url)\n",
    "\n",
    "r = requests.get(url,timeout=5,headers=headers1)\n",
    "r.close()\n",
    "r.text\n",
    "print(r.encoding)\n",
    "\n",
    "# soup=BeautifulSoup(r.text,'lxml')"
   ]
  }
 ],
 "metadata": {
  "kernelspec": {
   "display_name": "Python [conda root]",
   "language": "python",
   "name": "conda-root-py"
  },
  "language_info": {
   "codemirror_mode": {
    "name": "ipython",
    "version": 3
   },
   "file_extension": ".py",
   "mimetype": "text/x-python",
   "name": "python",
   "nbconvert_exporter": "python",
   "pygments_lexer": "ipython3",
   "version": "3.5.4"
  }
 },
 "nbformat": 4,
 "nbformat_minor": 2
}

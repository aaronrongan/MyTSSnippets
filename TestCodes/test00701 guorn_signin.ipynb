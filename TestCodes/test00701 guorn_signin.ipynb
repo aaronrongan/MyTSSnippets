{
 "cells": [
  {
   "cell_type": "code",
   "execution_count": 1,
   "metadata": {},
   "outputs": [],
   "source": [
    "#历史：\n",
    "# 2021-11-15：\n",
    "#   r = session.post('https://guorn.com/score/signup') 不成功,可能是对方关闭了这个接口\n",
    "\n",
    "\n",
    "# -*- coding: utf-8 -*-\n",
    "\n",
    "import requests\n",
    "from datetime import datetime\n",
    "import json"
   ]
  },
  {
   "cell_type": "code",
   "execution_count": 10,
   "metadata": {},
   "outputs": [],
   "source": [
    "\n",
    "GUORN_USERNAME = '18136078552'\n",
    "GUORN_PASSWORD = 'arong'\n",
    "base_headers = {'Host': 'guorn.com',\n",
    "                'Origin': 'https://guorn.com',\n",
    "                'Referer': 'https://guorn.com/',\n",
    "                'User-Agent': 'Mozilla/5.0 (Windows NT 10.0; Win64; x64) AppleWebKit/537.36 (KHTML, like Gecko) Chrome/58.0.3029.110 Safari/537.36'\n",
    "                }\n",
    "session = requests.Session()\n",
    "session.headers = base_headers\n",
    "# resp = session.get('https://guorn.com/')\n",
    "\n",
    "login_data = {\"account\":GUORN_USERNAME,\"passwd\":GUORN_PASSWORD,\"keep_login\":\"true\",\"code\":None,\"cloud_login\":None}\n",
    "\n",
    "# resp = session.post('https://guorn.com/user/login', params={\"account\": GUORN_USERNAME, \"passwd\": GUORN_PASSWORD, \"keep_login\": \"true\"})\n",
    "\n",
    "response = session.post('https://guorn.com/user/login',data=json.dumps(login_data))"
   ]
  },
  {
   "cell_type": "code",
   "execution_count": 11,
   "metadata": {},
   "outputs": [
    {
     "name": "stdout",
     "output_type": "stream",
     "text": [
      "<Response [200]>\n",
      "200\n",
      "{\"status\": \"ok\", \"data\": {\"username\": \"\\u963f\\u6995\", \"account\": \"18136078552\", \"uid\": 1414469}}\n"
     ]
    }
   ],
   "source": [
    "print(response)\n",
    "print(response.status_code)\n",
    "print(response.text)"
   ]
  },
  {
   "cell_type": "code",
   "execution_count": 12,
   "metadata": {},
   "outputs": [],
   "source": [
    "response = session.post('https://guorn.com/score/signup')\n"
   ]
  },
  {
   "cell_type": "code",
   "execution_count": 13,
   "metadata": {},
   "outputs": [
    {
     "name": "stdout",
     "output_type": "stream",
     "text": [
      "<Response [403]>\n"
     ]
    }
   ],
   "source": [
    "print(response)"
   ]
  },
  {
   "cell_type": "code",
   "execution_count": 3,
   "metadata": {},
   "outputs": [],
   "source": [
    "with open('./test00701 log.txt', 'a+') as f:\n",
    "    try:\n",
    "        response = session.post('https://guorn.com/score/signup')\n",
    "        response=session.post('https://guorn.com/user/login',data=json.dumps(login_data))\n",
    "        if response.json()['status'] == 'ok':\n",
    "            # print('今天签到成功。目前已经连续签到%s天。' % (response.json()['data']['week_count']))\n",
    "            f.write('今天签到成功')\n",
    "            #  f.write('今天签到成功。目前已经连续签到%s天, 时间为%s.\\n' % (response.json()['data']['week_count'], datetime.now()))\n",
    "        else:\n",
    "            print('今天已经签到过，无需再签到了！')\n",
    "            f.write('今天已经签到过，无须再签到了！本次验证时间为%s\\n' % datetime.now())\n",
    "    except Exception as e:\n",
    "        print('签到异常', e)"
   ]
  }
 ],
 "metadata": {
  "interpreter": {
   "hash": "73b28cf814fb2299e0dfc9107d6c8bc7ed40bee013bee82fc200b62a2c555602"
  },
  "kernelspec": {
   "display_name": "Python 3.7.7 64-bit",
   "language": "python",
   "name": "python3"
  },
  "language_info": {
   "codemirror_mode": {
    "name": "ipython",
    "version": 3
   },
   "file_extension": ".py",
   "mimetype": "text/x-python",
   "name": "python",
   "nbconvert_exporter": "python",
   "pygments_lexer": "ipython3",
   "version": "3.7.7"
  },
  "orig_nbformat": 4
 },
 "nbformat": 4,
 "nbformat_minor": 2
}

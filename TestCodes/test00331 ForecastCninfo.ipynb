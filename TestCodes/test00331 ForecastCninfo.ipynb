{
 "cells": [
  {
   "cell_type": "markdown",
   "metadata": {},
   "source": [
    "获取预报的网页\n",
    "http://webapi.cninfo.com.cn/#/myApi\n",
    "http://data.cnstock.com/gpsj/yjyg/yjyg.html \n"
   ]
  },
  {
   "cell_type": "code",
   "execution_count": 3,
   "metadata": {},
   "outputs": [],
   "source": [
    "# coding = utf-8\n",
    "\n",
    "import csv\n",
    "import math\n",
    "import os\n",
    "import time\n",
    "import requests\n",
    "import json\n",
    "import urllib\n",
    "\n",
    "# -*- coding: UTF-8 -*- \n",
    "# import httplib,urllib\n",
    "import time,json"
   ]
  },
  {
   "cell_type": "code",
   "execution_count": 4,
   "metadata": {},
   "outputs": [
    {
     "name": "stdout",
     "output_type": "stream",
     "text": [
      "{\"resultmsg\":\"无授权访问，请联系apidata@cninfo.com.cn\",\"resultcode\":413}\n",
      "\n"
     ]
    }
   ],
   "source": [
    "headers = {\"Accept\": \"*/*\",\n",
    "           \"Accept-Encoding\": \"gzip, deflate\",\n",
    "           \"Accept-Language\": \"zh-CN,zh;q=0.9\",\n",
    "           \"mcode\": \"MTU3NTk1Mzg4OQ==\",\n",
    "           \"Connection\": \"keep-alive\",\n",
    "           \"Content-Length\": \"0\",\n",
    "           \"Origin\": \"http://webapi.cninfo.com.cn\", \n",
    "           \"Host\":\"webapi.cninfo.com.cn\",\n",
    "           \"X-Requested-With\": \"XMLHttpRequest\", \n",
    "           \"Referer\": \"http://webapi.cninfo.com.cn/\",\n",
    "           \"User-Agent\": \"Mozilla/5.0 (Windows NT 10.0; Win64; x64) AppleWebKit/537.36 (KHTML, like Gecko) Chrome/77.0.3865.75 Safari/537.36\",\n",
    "          \"Cookie\": \"Cookie: UC-JSESSIONID=804074F69A2ED56D2AC52992CDE8EBA5; __qc_wId=521; pgv_pvid=9004228393; Hm_lvt_489bd07e99fbfc5f12cbb4145adb0a9b=1575979223; Hm_lpvt_489bd07e99fbfc5f12cbb4145adb0a9b=1575983165\"}\n",
    "   \n",
    "# realurl='http://webapi.cninfo.com.cn/#/thematicStatistics?id=538'\n",
    "# realurl='http://webapi.cninfo.com.cn/api/sysapi/p_sysapi1037?rdate=20191231'\n",
    "# r = requests.post(realurl, timeout=10, headers=headers)\n",
    "\n",
    "\n",
    "client_id,client_secret=\"100001\",\"c4c7de76a9364a37ba3885232345bddc\" #client_id,client_secret通过我的凭证获取\n",
    "\n",
    "\n",
    "url = 'http://webapi.cninfo.com.cn/api/sysapi/p_sysapi1037'\n",
    "query = {'rdate':'20191231'}\n",
    "# r = requests.get(realurl, timeout=10, headers=headers)\n",
    "r =requests.post(url,query,headers=headers)\n",
    "# print(r)\n",
    "print(r.text)\n",
    "# print(r.content)"
   ]
  },
  {
   "cell_type": "code",
   "execution_count": 23,
   "metadata": {},
   "outputs": [
    {
     "name": "stdout",
     "output_type": "stream",
     "text": [
      "{\"resultmsg\":\"未经授权的访问\",\"resultcode\":401}\n",
      "\n"
     ]
    }
   ],
   "source": [
    "print(r.text)"
   ]
  },
  {
   "cell_type": "code",
   "execution_count": null,
   "metadata": {
    "collapsed": true
   },
   "outputs": [],
   "source": []
  }
 ],
 "metadata": {
  "anaconda-cloud": {},
  "file_extension": ".py",
  "kernelspec": {
   "display_name": "Python [default]",
   "language": "python",
   "name": "python3"
  },
  "language_info": {
   "codemirror_mode": {
    "name": "ipython",
    "version": 3
   },
   "file_extension": ".py",
   "mimetype": "text/x-python",
   "name": "python",
   "nbconvert_exporter": "python",
   "pygments_lexer": "ipython3",
   "version": "3.5.4"
  },
  "mimetype": "text/x-python",
  "name": "python",
  "npconvert_exporter": "python",
  "pygments_lexer": "ipython3",
  "version": 3
 },
 "nbformat": 4,
 "nbformat_minor": 2
}
